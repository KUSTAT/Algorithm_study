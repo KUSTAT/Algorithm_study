{
 "cells": [
  {
   "cell_type": "markdown",
   "id": "a15833ee",
   "metadata": {},
   "source": [
    "# 스택"
   ]
  },
  {
   "cell_type": "code",
   "execution_count": 4,
   "id": "542c0940",
   "metadata": {},
   "outputs": [
    {
     "name": "stdout",
     "output_type": "stream",
     "text": [
      "[5, 2, 3, 1]\n",
      "[1, 3, 2, 5]\n"
     ]
    }
   ],
   "source": [
    "stack = []\n",
    "stack.append(5)\n",
    "stack.append(2)\n",
    "stack.append(3)\n",
    "stack.append(7)\n",
    "stack.pop()\n",
    "stack.append(1)\n",
    "stack.append(4)\n",
    "stack.pop()\n",
    "print(stack)\n",
    "print(stack[::-1])"
   ]
  },
  {
   "cell_type": "markdown",
   "id": "94d26b57",
   "metadata": {},
   "source": [
    "# 큐"
   ]
  },
  {
   "cell_type": "code",
   "execution_count": 5,
   "id": "cefdd453",
   "metadata": {},
   "outputs": [
    {
     "name": "stdout",
     "output_type": "stream",
     "text": [
      "deque([3, 7, 1, 4])\n",
      "deque([4, 1, 7, 3])\n"
     ]
    }
   ],
   "source": [
    "from collections import deque\n",
    "\n",
    "# queue 구현을 위해 deque 라이브러리 이용\n",
    "queue = deque()\n",
    "queue.append(5)\n",
    "queue.append(2)\n",
    "queue.append(3)\n",
    "queue.append(7)\n",
    "queue.popleft()\n",
    "queue.append(1)\n",
    "queue.append(4)\n",
    "queue.popleft()\n",
    "print(queue)\n",
    "queue.reverse()\n",
    "print(queue)"
   ]
  },
  {
   "cell_type": "code",
   "execution_count": 7,
   "id": "e9dc45dc",
   "metadata": {},
   "outputs": [
    {
     "name": "stdout",
     "output_type": "stream",
     "text": [
      "[4, 1, 7, 3]\n"
     ]
    }
   ],
   "source": [
    "ls = list(queue)   # queue를 list형태로 변경\n",
    "print(ls)"
   ]
  },
  {
   "cell_type": "markdown",
   "id": "d450e693",
   "metadata": {},
   "source": [
    "# 재귀함수"
   ]
  },
  {
   "cell_type": "code",
   "execution_count": null,
   "id": "245cb99d",
   "metadata": {},
   "outputs": [],
   "source": [
    "def recursive_function():\n",
    "    print('재귀 함수를 호출한다')\n",
    "    recursive_function()\n",
    "recursive_function()"
   ]
  },
  {
   "cell_type": "code",
   "execution_count": 8,
   "id": "24c4c200",
   "metadata": {},
   "outputs": [
    {
     "name": "stdout",
     "output_type": "stream",
     "text": [
      "1 번째 재귀 함수에서 2 번째 재귀 함수를 호출합니다.\n",
      "2 번째 재귀 함수에서 3 번째 재귀 함수를 호출합니다.\n",
      "3 번째 재귀 함수에서 4 번째 재귀 함수를 호출합니다.\n",
      "4 번째 재귀 함수에서 5 번째 재귀 함수를 호출합니다.\n",
      "5 번째 재귀 함수에서 6 번째 재귀 함수를 호출합니다.\n",
      "6 번째 재귀 함수에서 7 번째 재귀 함수를 호출합니다.\n",
      "7 번째 재귀 함수에서 8 번째 재귀 함수를 호출합니다.\n",
      "8 번째 재귀 함수에서 9 번째 재귀 함수를 호출합니다.\n",
      "9 번째 재귀 함수에서 10 번째 재귀 함수를 호출합니다.\n",
      "9 번째 재귀 함수를 종료합니다.\n",
      "8 번째 재귀 함수를 종료합니다.\n",
      "7 번째 재귀 함수를 종료합니다.\n",
      "6 번째 재귀 함수를 종료합니다.\n",
      "5 번째 재귀 함수를 종료합니다.\n",
      "4 번째 재귀 함수를 종료합니다.\n",
      "3 번째 재귀 함수를 종료합니다.\n",
      "2 번째 재귀 함수를 종료합니다.\n",
      "1 번째 재귀 함수를 종료합니다.\n"
     ]
    }
   ],
   "source": [
    "def recursive_function(i):\n",
    "    if i == 10:\n",
    "        return\n",
    "    print(i, '번째 재귀 함수에서', i+1,'번째 재귀 함수를 호출합니다.')\n",
    "    recursive_function(i+1)\n",
    "    print(i,'번째 재귀 함수를 종료합니다.')\n",
    "recursive_function(1)"
   ]
  },
  {
   "cell_type": "markdown",
   "id": "90064f7d",
   "metadata": {},
   "source": [
    "# 팩토리얼 예제"
   ]
  },
  {
   "cell_type": "code",
   "execution_count": 9,
   "id": "f6651e00",
   "metadata": {},
   "outputs": [
    {
     "name": "stdout",
     "output_type": "stream",
     "text": [
      "반복 : 120\n",
      "재귀 : 120\n"
     ]
    }
   ],
   "source": [
    "# 반복적으로 구현한 n!\n",
    "def factorial_iterative(n):\n",
    "    result = 1\n",
    "    for i in range(1,n+1):\n",
    "        result *= i\n",
    "    return result\n",
    "\n",
    "# 재귀적으로 구현한 n!\n",
    "def factorial_recursive(n):\n",
    "    if n <= 1:\n",
    "        return 1\n",
    "    # n! = n*(n-1)!을 구현\n",
    "    return n*factorial_recursive(n-1)\n",
    "\n",
    "print(f\"반복 : {factorial_iterative(5)}\")\n",
    "print(f\"재귀 : {factorial_recursive(5)}\")"
   ]
  },
  {
   "cell_type": "markdown",
   "id": "0990ae94",
   "metadata": {},
   "source": [
    "# 인접 행렬 방식"
   ]
  },
  {
   "cell_type": "code",
   "execution_count": 10,
   "id": "efd45876",
   "metadata": {},
   "outputs": [
    {
     "name": "stdout",
     "output_type": "stream",
     "text": [
      "[[0, 7, 5], [7, 0, 999999999], [5, 999999999, 0]]\n"
     ]
    }
   ],
   "source": [
    "INF = 999999999\n",
    "\n",
    "graph = [\n",
    "    [0,7,5],\n",
    "    [7,0,INF],\n",
    "    [5,INF,0]\n",
    "]\n",
    "\n",
    "print(graph)"
   ]
  },
  {
   "cell_type": "markdown",
   "id": "de1bdf5e",
   "metadata": {},
   "source": [
    "# 인접 리스트 방식"
   ]
  },
  {
   "cell_type": "code",
   "execution_count": 11,
   "id": "3393cf67",
   "metadata": {},
   "outputs": [
    {
     "name": "stdout",
     "output_type": "stream",
     "text": [
      "[[(1, 7), (2, 5)], [(0, 7)], [(0, 5)]]\n"
     ]
    }
   ],
   "source": [
    "graph = [[] for _ in range(3)]\n",
    "\n",
    "graph[0].append((1,7))\n",
    "graph[0].append((2,5))\n",
    "graph[1].append((0,7))\n",
    "graph[2].append((0,5))\n",
    "print(graph)"
   ]
  },
  {
   "cell_type": "markdown",
   "id": "95fce4a9",
   "metadata": {},
   "source": [
    "# DFS 예제"
   ]
  },
  {
   "cell_type": "code",
   "execution_count": 13,
   "id": "837a990a",
   "metadata": {},
   "outputs": [
    {
     "name": "stdout",
     "output_type": "stream",
     "text": [
      "1 2 7 6 8 3 4 5 "
     ]
    }
   ],
   "source": [
    "def dfs(graph, v, visited):\n",
    "    # 현재 노드를 방문처리\n",
    "    visited[v] = True\n",
    "    print(v, end=' ')\n",
    "    # 현재 노드와 연결된 다른 노드를 재귀적으로 방문\n",
    "    for i in graph[v]:\n",
    "        if not visited[i]:\n",
    "            dfs(graph,i,visited)\n",
    "            \n",
    "graph = [\n",
    "    [],\n",
    "    [2,3,8],\n",
    "    [1,7],\n",
    "    [1,4,5],\n",
    "    [3,5],\n",
    "    [3,4],\n",
    "    [7],\n",
    "    [2,6,8],\n",
    "    [1,7]\n",
    "]\n",
    "\n",
    "visited = [False]*9\n",
    "dfs(graph,1,visited)"
   ]
  },
  {
   "cell_type": "markdown",
   "id": "828ffb28",
   "metadata": {},
   "source": [
    "# BFS 예제"
   ]
  },
  {
   "cell_type": "code",
   "execution_count": 14,
   "id": "fc4e5b20",
   "metadata": {},
   "outputs": [
    {
     "name": "stdout",
     "output_type": "stream",
     "text": [
      "1 2 3 8 7 4 5 6 "
     ]
    }
   ],
   "source": [
    "from collections import deque\n",
    "\n",
    "def bfs(graph, start, visited):\n",
    "    queue = deque([start])\n",
    "    visited[start] = True\n",
    "    # 큐가 빌때까지 반복 : 인접한 노드를 우선적으로 다 보겠다\n",
    "    while queue:\n",
    "        v = queue.popleft()\n",
    "        print(v, end=' ')\n",
    "        \n",
    "        for i in graph[v]:\n",
    "            if not visited[i]:\n",
    "                queue.append(i)\n",
    "                visited[i] = True\n",
    "                \n",
    "graph = [\n",
    "    [],\n",
    "    [2,3,8],\n",
    "    [1,7],\n",
    "    [1,4,5],\n",
    "    [3,5],\n",
    "    [3,4],\n",
    "    [7],\n",
    "    [2,6,8],\n",
    "    [1,7]\n",
    "]\n",
    "visited = [False]*9\n",
    "bfs(graph,1,visited)"
   ]
  },
  {
   "cell_type": "markdown",
   "id": "5039476c",
   "metadata": {},
   "source": [
    "# 실전 문제"
   ]
  },
  {
   "cell_type": "markdown",
   "id": "50c373cc",
   "metadata": {},
   "source": [
    "## 음료수 얼려 먹기"
   ]
  },
  {
   "cell_type": "code",
   "execution_count": 28,
   "id": "8c14e1a5",
   "metadata": {},
   "outputs": [
    {
     "name": "stdout",
     "output_type": "stream",
     "text": [
      "2 4\n",
      "1111\n",
      "1001\n",
      "[[1, 1, 1, 1], [1, 0, 0, 1]]\n"
     ]
    },
    {
     "ename": "UnboundLocalError",
     "evalue": "local variable 'cnt' referenced before assignment",
     "output_type": "error",
     "traceback": [
      "\u001b[1;31m---------------------------------------------------------------------------\u001b[0m",
      "\u001b[1;31mUnboundLocalError\u001b[0m                         Traceback (most recent call last)",
      "Input \u001b[1;32mIn [28]\u001b[0m, in \u001b[0;36m<cell line: 32>\u001b[1;34m()\u001b[0m\n\u001b[0;32m     29\u001b[0m         \u001b[38;5;28;01mreturn\u001b[39;00m\n\u001b[0;32m     30\u001b[0m         dfs(graph, a,b, visited)\n\u001b[1;32m---> 32\u001b[0m \u001b[43mmy_dfs\u001b[49m\u001b[43m(\u001b[49m\u001b[43mgraph\u001b[49m\u001b[43m,\u001b[49m\u001b[38;5;241;43m0\u001b[39;49m\u001b[43m,\u001b[49m\u001b[38;5;241;43m0\u001b[39;49m\u001b[43m,\u001b[49m\u001b[43mvisited\u001b[49m\u001b[43m)\u001b[49m\n",
      "Input \u001b[1;32mIn [28]\u001b[0m, in \u001b[0;36mmy_dfs\u001b[1;34m(graph, a, b, visited)\u001b[0m\n\u001b[0;32m     17\u001b[0m         my_dfs(graph, a\u001b[38;5;241m+\u001b[39mi,b, visited)\n\u001b[0;32m     19\u001b[0m \u001b[38;5;28;01mif\u001b[39;00m a_old \u001b[38;5;241m==\u001b[39m a \u001b[38;5;129;01mand\u001b[39;00m b_old \u001b[38;5;241m==\u001b[39m b:\n\u001b[1;32m---> 20\u001b[0m     cnt \u001b[38;5;241m+\u001b[39m\u001b[38;5;241m=\u001b[39m \u001b[38;5;241m1\u001b[39m\n\u001b[0;32m     21\u001b[0m     \u001b[38;5;28;01mfor\u001b[39;00m i \u001b[38;5;129;01min\u001b[39;00m \u001b[38;5;28mrange\u001b[39m(N):\n\u001b[0;32m     22\u001b[0m         \u001b[38;5;28;01mfor\u001b[39;00m j \u001b[38;5;129;01min\u001b[39;00m \u001b[38;5;28mrange\u001b[39m(M):\n",
      "\u001b[1;31mUnboundLocalError\u001b[0m: local variable 'cnt' referenced before assignment"
     ]
    }
   ],
   "source": [
    "N, M = map(int, input().split())\n",
    "\n",
    "# 이중리스트 그래프\n",
    "graph = []\n",
    "for _ in range(N):\n",
    "    graph.append(list(map(int, input())))\n",
    "\n",
    "visited = [[False]*M]*N\n",
    "cnt = 0\n",
    "\n",
    "def my_dfs(graph, a,b, visited):\n",
    "    # 초기 시작점 방문처리\n",
    "    visited[a][b] = True\n",
    "    \n",
    "    a_old, b_old = a, b\n",
    "    for i in [-1, 1]:\n",
    "        # (y축) map 범위 내에 있으면서 방문하지 않은 경우 이동\n",
    "        if (b+i)<=M and (b+i)>=0 and graph[a][b+i] == 0 and not visited[a][b+i]:\n",
    "            my_dfs(graph, a,b+i, visited)\n",
    "        # (x축) map 범위 내에 있으면서 방문하지 않은 경우 이동\n",
    "        elif (a+i)<=N and (a+i)>=0 and graph[a+i][b] == 0 and not visited[a+i][b]:\n",
    "            my_dfs(graph, a+i,b, visited)\n",
    "    \n",
    "    # 이동이 더 이상 없는 경우\n",
    "    if a_old == a and b_old == b:\n",
    "        cnt += 1\n",
    "        # 새로 시작점을 찾아줌\n",
    "        for i in range(N):\n",
    "            for j in range(M):\n",
    "                if graph[i][j]==0 and not visited[i][j]:\n",
    "                    a,b = i,j\n",
    "                    break\n",
    "                break\n",
    "                \n",
    "    # 더 이상 시작점을 찾지 못하는 경우 종료\n",
    "    else:\n",
    "        print(cnt)\n",
    "        return\n",
    "        my_dfs(graph, a,b, visited)\n",
    "        \n",
    "my_dfs(graph,0,0,visited)"
   ]
  },
  {
   "cell_type": "code",
   "execution_count": 4,
   "id": "965d57c1",
   "metadata": {},
   "outputs": [
    {
     "name": "stdout",
     "output_type": "stream",
     "text": [
      "4 5\n",
      "00110\n",
      "00011\n",
      "11111\n",
      "00000\n",
      "3\n"
     ]
    }
   ],
   "source": [
    "# 답안\n",
    "N, M = map(int, input().split())\n",
    "graph = []\n",
    "for i in range(N):\n",
    "    graph.append(list(map(int, input())))\n",
    "\n",
    "def my_dfs(x,y):\n",
    "    if x<=-1 or x>=N or y<=-1 or y>=M:\n",
    "        return False\n",
    "    if graph[x][y] == 0:\n",
    "        graph[x][y]=1\n",
    "        my_dfs(x-1,y)\n",
    "        my_dfs(x,y-1)\n",
    "        my_dfs(x+1,y)\n",
    "        my_dfs(x,y+1)\n",
    "        return True\n",
    "    return False\n",
    "\n",
    "result = 0\n",
    "for i in range(N):\n",
    "    for j in range(M):\n",
    "        if my_dfs(i,j)==True:\n",
    "            result += 1\n",
    "print(result)"
   ]
  },
  {
   "cell_type": "markdown",
   "id": "c665a783",
   "metadata": {},
   "source": [
    "## 미로탈출"
   ]
  },
  {
   "cell_type": "code",
   "execution_count": 2,
   "id": "648c3be4",
   "metadata": {},
   "outputs": [
    {
     "name": "stdout",
     "output_type": "stream",
     "text": [
      "5 6\n",
      "101010\n",
      "111111\n",
      "000001\n",
      "111111\n",
      "111111\n",
      "{(0, 0): 1}\n",
      "{(0, 0): 1, (1, 0): 2}\n",
      "{(0, 0): 1, (1, 0): 2, (1, 1): 3}\n",
      "{(0, 0): 1, (1, 0): 2, (1, 1): 3, (1, 2): 4}\n",
      "{(0, 0): 1, (1, 0): 2, (1, 1): 3, (1, 2): 4, (1, 3): 5, (0, 2): 5}\n",
      "{(0, 0): 1, (1, 0): 2, (1, 1): 3, (1, 2): 4, (1, 3): 5, (0, 2): 5, (1, 4): 6}\n",
      "{(0, 0): 1, (1, 0): 2, (1, 1): 3, (1, 2): 4, (1, 3): 5, (0, 2): 5, (1, 4): 6}\n",
      "{(0, 0): 1, (1, 0): 2, (1, 1): 3, (1, 2): 4, (1, 3): 5, (0, 2): 5, (1, 4): 6, (1, 5): 7, (0, 4): 7}\n",
      "{(0, 0): 1, (1, 0): 2, (1, 1): 3, (1, 2): 4, (1, 3): 5, (0, 2): 5, (1, 4): 6, (1, 5): 7, (0, 4): 7, (2, 5): 8}\n",
      "{(0, 0): 1, (1, 0): 2, (1, 1): 3, (1, 2): 4, (1, 3): 5, (0, 2): 5, (1, 4): 6, (1, 5): 7, (0, 4): 7, (2, 5): 8}\n",
      "{(0, 0): 1, (1, 0): 2, (1, 1): 3, (1, 2): 4, (1, 3): 5, (0, 2): 5, (1, 4): 6, (1, 5): 7, (0, 4): 7, (2, 5): 8, (3, 5): 9}\n",
      "10\n"
     ]
    }
   ],
   "source": [
    "from collections import deque\n",
    "\n",
    "N, M = map(int, input().split())\n",
    "graph = []\n",
    "dist = dict()\n",
    "dx = [0,0,1,-1]\n",
    "dy = [-1,1,0,0]\n",
    "\n",
    "for _ in range(N):\n",
    "    graph.append(list(map(int, input())))\n",
    "    \n",
    "def my_bfs(graph):\n",
    "    queue = deque([(0,0)])\n",
    "    # 이동 횟수\n",
    "    dist[(0,0)] = 1\n",
    "    # 방문처리\n",
    "    graph[0][0] = 0\n",
    "    \n",
    "    while queue:\n",
    "        x,y = queue.popleft()\n",
    "        print(dist)\n",
    "        \n",
    "        for i in range(4):\n",
    "            nx = x + dx[i]\n",
    "            ny = y + dy[i]\n",
    "            \n",
    "            # map 밖에 있는 경우\n",
    "            if nx <= -1 or nx >= N or ny <= -1 or ny >= M:\n",
    "                continue\n",
    "            \n",
    "            if graph[nx][ny] == 1:\n",
    "                queue.append((nx,ny))\n",
    "                # 방문처리\n",
    "                graph[nx][ny]=0\n",
    "                # 모든 인접한 위치의 숫자크기 1 증가\n",
    "                dist[(nx,ny)] = dist[(x,y)] + 1\n",
    "                \n",
    "            # 종료조건\n",
    "            if nx == N-1 and ny == M-1:\n",
    "                return dist[(nx, ny)]\n",
    "        \n",
    "c = my_bfs(graph)\n",
    "print(c)"
   ]
  }
 ],
 "metadata": {
  "kernelspec": {
   "display_name": "Python 3 (ipykernel)",
   "language": "python",
   "name": "python3"
  },
  "language_info": {
   "codemirror_mode": {
    "name": "ipython",
    "version": 3
   },
   "file_extension": ".py",
   "mimetype": "text/x-python",
   "name": "python",
   "nbconvert_exporter": "python",
   "pygments_lexer": "ipython3",
   "version": "3.9.12"
  }
 },
 "nbformat": 4,
 "nbformat_minor": 5
}
