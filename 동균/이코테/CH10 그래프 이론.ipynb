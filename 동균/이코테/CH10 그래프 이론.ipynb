{
 "cells": [
  {
   "cell_type": "markdown",
   "id": "72880521",
   "metadata": {},
   "source": [
    "## 서로소 집합\n",
    "\n",
    "- 공통 원소가 없는 집합\n",
    "- 서로소 집합 자료구조\n",
    "    - 서로소 부분 집합들로 나누어진 원소들의 데이터를 처리하기 위한 자료구조\n",
    "    - union / find 2개의 연산으로 조작"
   ]
  },
  {
   "cell_type": "code",
   "execution_count": 1,
   "id": "4892d8dd",
   "metadata": {},
   "outputs": [
    {
     "name": "stdout",
     "output_type": "stream",
     "text": [
      "6 4\n",
      "1 4\n",
      "[0, 1, 2, 3, 1, 5, 6]\n",
      "2 3\n",
      "[0, 1, 2, 2, 1, 5, 6]\n",
      "2 4\n",
      "[0, 1, 1, 2, 1, 5, 6]\n",
      "5 6\n",
      "[0, 1, 1, 2, 1, 5, 5]\n",
      "각 원소가 속한 집합: 1 1 1 1 5 5 \n",
      "부모 테이블: 1 1 2 1 5 5 "
     ]
    }
   ],
   "source": [
    "# 서로소 집합 알고리즘 소스코드\n",
    "# find 연산 : 특정 원소가 속한 집합을 찾기\n",
    "def find_parent(parent, x):\n",
    "    # 루트 토드가 아니라면, 루트 노드를 찾을 때까지 재귀적으로 호출\n",
    "    if parent[x] != x:\n",
    "        return find_parent(parent, parent[x])\n",
    "    return x\n",
    "\n",
    "# union 연산 : 두 원소가 속한 집합을 합치기\n",
    "def union_parent(parent, a, b):\n",
    "    a = find_parent(parent, a)\n",
    "    b = find_parent(parent, b)\n",
    "    if a < b:\n",
    "        # b가 a를 가리키도록 한다.\n",
    "        parent[b] = a\n",
    "    else:\n",
    "        parent[a] = b\n",
    "        \n",
    "# 노드의 개수와 간선(union 연산)의 개수 입력받기\n",
    "v, e = map(int, input().split())\n",
    "parent = [0]*(v+1)   # 부모 테이블 초기화\n",
    "\n",
    "# v개의 트리 생성 (각자가 루트노드가 된다)\n",
    "for i in range(1, v+1):\n",
    "    parent[i] = i\n",
    "    \n",
    "# union 연산을 각자 수행\n",
    "for i in range(e):\n",
    "    a, b = map(int, input().split())\n",
    "    union_parent(parent, a, b)\n",
    "    print(parent)\n",
    "    \n",
    "# 각 원소가 속한 집합 출력\n",
    "print('각 원소가 속한 집합: ', end='')\n",
    "for i in range(1, v+1):\n",
    "    print(find_parent(parent, i), end=' ')\n",
    "    \n",
    "print()\n",
    "\n",
    "# 부모 테이블 내용 출력\n",
    "print('부모 테이블: ', end='')\n",
    "for i in range(1, v+1):\n",
    "    print(parent[i], end=' ')"
   ]
  },
  {
   "cell_type": "markdown",
   "id": "833295a0",
   "metadata": {},
   "source": [
    "- find 함수를 경로 압축 기법을 적용하여 시간 복잡도 개선 (O(v) -> O())\n",
    "    - 기존 find 함수 시간 복잡도 : 최악의 경우 $O(vM)$ (M개의 find 연산)\n",
    "    - 경로 압축 기법 시간 복잡도 : $O(v + M(1+log_{2-M/V}V))$"
   ]
  },
  {
   "cell_type": "code",
   "execution_count": 2,
   "id": "e555d5c5",
   "metadata": {},
   "outputs": [
    {
     "name": "stdout",
     "output_type": "stream",
     "text": [
      "6 4\n",
      "1 4\n",
      "2 3\n",
      "2 4\n",
      "5 6\n",
      "각 원소가 속한 집합 : 1 1 1 1 5 5 \n",
      "부모 테이블 :1 1 1 1 5 5 "
     ]
    }
   ],
   "source": [
    "def find_parent(parent, x):\n",
    "    if x != parent[x]:\n",
    "        parent[x] = find_parent(parent, parent[x])\n",
    "    return parent[x]\n",
    "\n",
    "def union_parent(parent, a, b):\n",
    "    a = find_parent(parent, a)\n",
    "    b = find_parent(parent, b)\n",
    "    if a < b:\n",
    "        parent[b] = a\n",
    "    else:\n",
    "        parent[a] = b\n",
    "        \n",
    "v, e = map(int, input().split())\n",
    "parent = [0]*(v+1)\n",
    "\n",
    "for i in range(1,v+1):\n",
    "    parent[i]=i\n",
    "    \n",
    "for i in range(e):\n",
    "    a, b = map(int, input().split())\n",
    "    union_parent(parent, a, b)\n",
    "    \n",
    "print('각 원소가 속한 집합 : ', end='')\n",
    "for i in range(1, v+1):\n",
    "    print(find_parent(parent, i), end=' ')\n",
    "    \n",
    "print()\n",
    "\n",
    "print('부모 테이블 :', end='')\n",
    "for i in range(1, v+1):\n",
    "    print(parent[i], end=' ')"
   ]
  },
  {
   "cell_type": "code",
   "execution_count": 1,
   "id": "d7ab550c",
   "metadata": {},
   "outputs": [
    {
     "name": "stdout",
     "output_type": "stream",
     "text": [
      "3 3\n",
      "1 2\n",
      "1 3\n",
      "2 3\n",
      "사이클이 발생하였습니다.\n"
     ]
    }
   ],
   "source": [
    "# 특정 원소가 속한 집합을 찾기\n",
    "def find_parent(parent, x):\n",
    "    if parent[x] != x:\n",
    "        parent[x] = find_parent(parent, parent[x])\n",
    "    return parent[x]\n",
    "\n",
    "def union_parent(parent, a, b):\n",
    "    a = find_parent(parent,a)\n",
    "    b = find_parent(parent,b)\n",
    "    if a<b:\n",
    "        parent[b]=a\n",
    "    else:\n",
    "        parent[a]=b\n",
    "        \n",
    "v,e = map(int, input().split())\n",
    "parent = [0]*(v+1)\n",
    "\n",
    "for i in range(1,v+1):\n",
    "    parent[i]=i\n",
    "    \n",
    "cycle = False # 사이클 발생 여부\n",
    "\n",
    "for i in range(e):\n",
    "    a,b = map(int, input().split())\n",
    "    # 사이클이 발생한 경우 종료\n",
    "    if find_parent(parent,a) == find_parent(parent,b):\n",
    "        cycle=True\n",
    "        break\n",
    "    else:\n",
    "        union_parent(parent,a,b)\n",
    "        \n",
    "    \n",
    "if cycle:\n",
    "    print('사이클이 발생하였습니다.')\n",
    "else:\n",
    "    print('사이클이 발생하지 않았습니다.')"
   ]
  },
  {
   "cell_type": "markdown",
   "id": "4902def2",
   "metadata": {},
   "source": [
    "## 크루스칼 알고리즘"
   ]
  },
  {
   "cell_type": "code",
   "execution_count": 4,
   "id": "c46bb0fb",
   "metadata": {},
   "outputs": [
    {
     "name": "stdout",
     "output_type": "stream",
     "text": [
      "7 9\n",
      "1 2 29\n",
      "1 5 75\n",
      "2 3 35\n",
      "2 6 34\n",
      "3 4 7\n",
      "4 6 23\n",
      "4 7 13\n",
      "5 6 53\n",
      "6 7 25\n",
      "159\n"
     ]
    }
   ],
   "source": [
    "def find_parent(parent, x):\n",
    "    if parent[x]!=x:\n",
    "        parent[x] = find_parent(parent, parent[x])\n",
    "    return parent[x]\n",
    "\n",
    "def union_parent(parent, a,b):\n",
    "    a = find_parent(parent,a)\n",
    "    b = find_parent(parent,b)\n",
    "    if a<b:\n",
    "        parent[b]=a\n",
    "    else:\n",
    "        parent[a]=b\n",
    "        \n",
    "v,e = map(int, input().split())\n",
    "parent = [0]*(v+1)\n",
    "\n",
    "# 모든 간선을 담을 리스트와 최종 비용을 담을 변수\n",
    "edges = []\n",
    "result = 0\n",
    "\n",
    "for i in range(1,v+1):\n",
    "    parent[i]=i\n",
    "\n",
    "for _ in range(e):\n",
    "    a, b, cost = map(int, input().split())\n",
    "    edges.append((cost,a,b))\n",
    "\n",
    "# 간선을 비용순으로 정렬\n",
    "edges.sort(key = lambda x: x[0])\n",
    "\n",
    "# 간선을 하나씩 확인\n",
    "for edge in edges:\n",
    "    cost, a, b = edge\n",
    "    # 사이클이 발생하지 않는 경우에만 집합에 포함\n",
    "    if find_parent(parent,a) != find_parent(parent,b):\n",
    "        union_parent(parent,a,b)\n",
    "        result += cost\n",
    "        \n",
    "print(result)"
   ]
  },
  {
   "cell_type": "markdown",
   "id": "59a27f51",
   "metadata": {},
   "source": [
    "## 위상정렬\n",
    "\n",
    "- 시간 복잡도 : $O(V+E)$"
   ]
  },
  {
   "cell_type": "code",
   "execution_count": 2,
   "id": "22adf944",
   "metadata": {},
   "outputs": [
    {
     "name": "stdout",
     "output_type": "stream",
     "text": [
      "7 8\n",
      "1 2\n",
      "1 5\n",
      "2 3\n",
      "2 6\n",
      "3 4\n",
      "4 7\n",
      "5 6\n",
      "6 4\n",
      "1 2 5 3 6 4 7 "
     ]
    }
   ],
   "source": [
    "from collections import deque\n",
    "\n",
    "v, e = map(int, input().split())\n",
    "indegree = [0]*(v+1)\n",
    "graph = [[] for i in range(v+1)]\n",
    "\n",
    "for _ in range(e):\n",
    "    a,b = map(int, input().split())\n",
    "    graph[a].append(b)\n",
    "    indegree[b] += 1\n",
    "    \n",
    "def topology_sort():\n",
    "    result = []\n",
    "    q = deque()\n",
    "    \n",
    "    for i in range(1, v+1):\n",
    "        if indegree[i] == 0:\n",
    "            q.append(i)\n",
    "            \n",
    "    while q:\n",
    "        now = q.popleft()\n",
    "        result.append(now)\n",
    "        for i in graph[now]:\n",
    "            indegree[i] -= 1\n",
    "            if indegree[i]==0:\n",
    "                q.append(i)\n",
    "                \n",
    "    for i in result:\n",
    "        print(i, end=' ')\n",
    "\n",
    "topology_sort()"
   ]
  },
  {
   "cell_type": "markdown",
   "id": "229edf16",
   "metadata": {},
   "source": [
    "### 커리큘럼"
   ]
  },
  {
   "cell_type": "code",
   "execution_count": 3,
   "id": "4231257e",
   "metadata": {},
   "outputs": [
    {
     "name": "stdout",
     "output_type": "stream",
     "text": [
      "5\n",
      "10 -1\n",
      "10 1 -1\n",
      "4 1 -1\n",
      "4 3 1 -1\n",
      "3 3 -1\n",
      "10\n",
      "20\n",
      "14\n",
      "18\n",
      "17\n"
     ]
    }
   ],
   "source": [
    "# 답안\n",
    "\n",
    "from collections import deque\n",
    "import copy\n",
    "\n",
    "v = int(input())\n",
    "indegree = [0]*(v+1)\n",
    "graph = [[] for _ in range(v+1)]\n",
    "time = [0]*(v+1)\n",
    "\n",
    "for i in range(1,v+1):\n",
    "    data = list(map(int, input().split()))\n",
    "    time [i] = data[0]\n",
    "    for x in data[1:-1]:\n",
    "        indegree[i] += 1\n",
    "        graph[x].append(i)\n",
    "        \n",
    "def topology_sort():\n",
    "    result = copy.deepcopy(time)   # 수행 결과를 담을 리스트\n",
    "    q = deque()\n",
    "    \n",
    "    for i in range(1,v+1):\n",
    "        if indegree[i] == 0:\n",
    "            q.append(i)\n",
    "            \n",
    "    while q:\n",
    "        now = q.popleft()\n",
    "        for i in graph[now]:\n",
    "            result[i] = max(result[i], result[now]+time[i])\n",
    "            indegree[i] -= 1\n",
    "            if indegree[i]==0:\n",
    "                q.append(i)\n",
    "                \n",
    "    for i in range(1,v+1):\n",
    "        print(result[i])\n",
    "        \n",
    "topology_sort()"
   ]
  },
  {
   "cell_type": "markdown",
   "id": "a8ae1bae",
   "metadata": {},
   "source": [
    "## 실전문제"
   ]
  },
  {
   "cell_type": "markdown",
   "id": "a40eec16",
   "metadata": {},
   "source": [
    "### 팀 결성"
   ]
  },
  {
   "cell_type": "code",
   "execution_count": 11,
   "id": "c73772cd",
   "metadata": {},
   "outputs": [
    {
     "name": "stdout",
     "output_type": "stream",
     "text": [
      "7 8\n",
      "0 1 3\n",
      "[0, 1, 2, 1, 4, 5, 6, 7]\n",
      "1 1 7\n",
      "NO\n",
      "[0, 1, 2, 1, 4, 5, 6, 7]\n",
      "0 7 6\n",
      "[0, 1, 2, 1, 4, 5, 6, 6]\n",
      "1 7 1\n",
      "NO\n",
      "[0, 1, 2, 1, 4, 5, 6, 6]\n",
      "0 3 7\n",
      "[0, 1, 2, 1, 4, 5, 1, 6]\n",
      "0 4 2\n",
      "[0, 1, 2, 1, 2, 5, 1, 6]\n",
      "0 1 1\n",
      "[0, 1, 2, 1, 2, 5, 1, 6]\n",
      "1 1 7\n",
      "YES\n",
      "[0, 1, 2, 1, 2, 5, 1, 1]\n"
     ]
    }
   ],
   "source": [
    "N, M = map(int, input().split())\n",
    "\n",
    "def find_parent(parent, x):\n",
    "    if parent[x] != x:\n",
    "        parent[x] = find_parent(parent, parent[x])\n",
    "    return parent[x]\n",
    "\n",
    "def union_parent(parent, a,b):\n",
    "    a = find_parent(parent,a)\n",
    "    b = find_parent(parent,b)\n",
    "    if a<b:\n",
    "        parent[b]=a\n",
    "    else:\n",
    "        parent[a]=b\n",
    "        \n",
    "parent = [0]*(N+1)\n",
    "\n",
    "        \n",
    "for i in range(1,N+1):\n",
    "    parent[i] = i\n",
    "\n",
    "for _ in range(M):\n",
    "    temp,a,b=map(int, input().split())\n",
    "    # 팀 합치기 연산\n",
    "    if temp==0:\n",
    "        union_parent(parent,a,b)\n",
    "    # 같은 팀 여부 확인\n",
    "    elif temp==1:\n",
    "        parent_a = find_parent(parent,a)\n",
    "        parent_b = find_parent(parent,b)\n",
    "        if parent_a == parent_b:\n",
    "            print('YES')\n",
    "        else:\n",
    "            print('NO')\n",
    "    print(parent)"
   ]
  },
  {
   "cell_type": "markdown",
   "id": "0aaf6da0",
   "metadata": {},
   "source": [
    "### 도시 분할 계획"
   ]
  },
  {
   "cell_type": "code",
   "execution_count": 20,
   "id": "c5f8bf84",
   "metadata": {},
   "outputs": [
    {
     "name": "stdout",
     "output_type": "stream",
     "text": [
      "7 12\n",
      "1 2 3\n",
      "1 3 2\n",
      "3 2 1\n",
      "2 5 2\n",
      "3 4 4\n",
      "7 3 6\n",
      "5 1 5\n",
      "1 6 2\n",
      "6 4 1\n",
      "6 5 3\n",
      "4 5 3\n",
      "6 7 4\n"
     ]
    }
   ],
   "source": [
    "def find_parent(parent,x):\n",
    "    if parent[x]!=x:\n",
    "        parent[x]=find_parent(parent,parent[x])\n",
    "    return parent[x]\n",
    "\n",
    "def union_parent(parent,a,b):\n",
    "    a = find_parent(parent,a)\n",
    "    b = find_parent(parent,b)\n",
    "    if a<b:\n",
    "        parent[b]=a\n",
    "    else:\n",
    "        parent[a]=b\n",
    "\n",
    "\n",
    "N,M = map(int, input().split())\n",
    "parent = [0]*(N+1)\n",
    "\n",
    "for i in range(1,N+1):\n",
    "    parent[i]=i\n",
    "\n",
    "# 모든 간선을 담을 리스트와 최종 비용을 담을 변수\n",
    "edges=[]\n",
    "result=0\n",
    "\n",
    "for _ in range(M):\n",
    "    A,B,C = map(int,input().split())\n",
    "    edges.append((C,A,B))\n",
    "    \n",
    "edges.sort(key=lambda x: x[0])\n",
    "last = 0\n",
    "\n",
    "for edge in edges:\n",
    "    cost,a,b = edge\n",
    "    if find_parent(parent,a) != find_parent(parent,b):\n",
    "        union_parent(parent,a,b)\n",
    "        result+=cost\n",
    "        last = cost\n",
    "\n",
    "print(result-last)"
   ]
  },
  {
   "cell_type": "markdown",
   "id": "99611bdb",
   "metadata": {},
   "source": [
    "## 숨바꼭질 (백준 - 1697)\n",
    "\n",
    "- DFS / BFS로 접근해야 한다. "
   ]
  },
  {
   "cell_type": "code",
   "execution_count": 35,
   "id": "d12fb706",
   "metadata": {},
   "outputs": [
    {
     "name": "stdout",
     "output_type": "stream",
     "text": [
      "5 17\n"
     ]
    }
   ],
   "source": [
    "N, K = map(int, input().split())"
   ]
  },
  {
   "cell_type": "code",
   "execution_count": 36,
   "id": "d9ea3097",
   "metadata": {},
   "outputs": [],
   "source": [
    "d = [0]*(2*K+1)  # 해당 위치까지 이동하는데 걸리 최소 시간\n",
    "result = 0"
   ]
  },
  {
   "cell_type": "code",
   "execution_count": 37,
   "id": "41c28753",
   "metadata": {},
   "outputs": [
    {
     "name": "stdout",
     "output_type": "stream",
     "text": [
      "4\n"
     ]
    }
   ],
   "source": [
    "for i in range(N+1,2*K+1):\n",
    "    # +1 연산\n",
    "    d[i] = d[i-1]+1\n",
    "    # *2 연산\n",
    "    if i%2==0 and i//2 >= N:\n",
    "        d[i] = min(d[i], d[i//2]+1)\n",
    "    if i%2==0:\n",
    "        if (i-2)//2 >= N:\n",
    "            d[i-1] = min(d[i-1], d[i//2]+2, d[(i-2)//2]+2)\n",
    "        elif (i-2)//2 < N:\n",
    "            d[i-1] = min(d[i-1], d[i//2]+2)\n",
    "    \n",
    "if N<K:\n",
    "    result = d[K]\n",
    "else:\n",
    "    result = N-K\n",
    "\n",
    "print(result)"
   ]
  },
  {
   "cell_type": "code",
   "execution_count": 2,
   "id": "1eade1ae",
   "metadata": {},
   "outputs": [
    {
     "name": "stdout",
     "output_type": "stream",
     "text": [
      "5 17\n",
      "4\n"
     ]
    }
   ],
   "source": [
    "# 답안\n",
    "from collections import deque\n",
    "\n",
    "def bfs(v):\n",
    "    # n에서 bfs 시작\n",
    "    q = deque([v])\n",
    "    while q:\n",
    "        v = q.popleft()\n",
    "        if v==k:\n",
    "            return array[v]\n",
    "        # 2를 곱해진 index와 가까운 곳 부터 탐색하므로 걸리는 시간이 항상 최소값이 나오게 된다.\n",
    "        for next_v in (v-1, v+1, 2*v):\n",
    "            if 0<=next_v<MAX and array[next_v]==0:\n",
    "                array[next_v] = array[v]+1\n",
    "                q.append(next_v)\n",
    "                \n",
    "MAX = 100001\n",
    "n,k = map(int, input().split())\n",
    "array = [0]*MAX\n",
    "print(bfs(n))"
   ]
  }
 ],
 "metadata": {
  "kernelspec": {
   "display_name": "Python 3 (ipykernel)",
   "language": "python",
   "name": "python3"
  },
  "language_info": {
   "codemirror_mode": {
    "name": "ipython",
    "version": 3
   },
   "file_extension": ".py",
   "mimetype": "text/x-python",
   "name": "python",
   "nbconvert_exporter": "python",
   "pygments_lexer": "ipython3",
   "version": "3.9.12"
  }
 },
 "nbformat": 4,
 "nbformat_minor": 5
}
