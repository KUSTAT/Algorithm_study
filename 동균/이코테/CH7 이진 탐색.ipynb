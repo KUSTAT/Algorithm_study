{
 "cells": [
  {
   "cell_type": "code",
   "execution_count": 1,
   "id": "4ccd92ae",
   "metadata": {},
   "outputs": [
    {
     "name": "stdout",
     "output_type": "stream",
     "text": [
      "생성할 원소의 개수를 입력한 다음 한 칸 띄고 찾을 문자열을 입력하세요.\n",
      "5 Dongbin\n",
      "앞서 적은 원소 개수만큼 문자열을 입력하세요. 구분은 띄어스기 한 칸으로 합니다.\n",
      "Hanul Jonggu Dongbin Taeil Sangwook\n",
      "3\n"
     ]
    }
   ],
   "source": [
    "# 순차탐색\n",
    "def sequential_search(n, target, array):\n",
    "    for i in range(n):\n",
    "        if array[i] == target:\n",
    "            return i+1   # 현재의 위치 반환 (현 위치 = index+1)\n",
    "        \n",
    "print('생성할 원소의 개수를 입력한 다음 한 칸 띄고 찾을 문자열을 입력하세요.')\n",
    "input_data = input().split()\n",
    "n = int(input_data[0])\n",
    "target = input_data[1]\n",
    "\n",
    "print('앞서 적은 원소 개수만큼 문자열을 입력하세요. 구분은 띄어스기 한 칸으로 합니다.')\n",
    "array = input().split()\n",
    "\n",
    "print(sequential_search(n,target,array))"
   ]
  },
  {
   "cell_type": "markdown",
   "id": "527ce584",
   "metadata": {},
   "source": [
    "## 이진탐색"
   ]
  },
  {
   "cell_type": "code",
   "execution_count": 2,
   "id": "ead0f567",
   "metadata": {},
   "outputs": [
    {
     "name": "stdout",
     "output_type": "stream",
     "text": [
      "10 7\n",
      "1 3 5 7 9 11 13 15 17 19\n",
      "4\n"
     ]
    }
   ],
   "source": [
    "# 재귀 함수 활용\n",
    "def binary_search(array, target, start, end):\n",
    "    if start>end:\n",
    "        return None\n",
    "    mid = (start+end)//2\n",
    "    if array[mid] == target:\n",
    "        return mid\n",
    "    \n",
    "    elif array[mid] > target:\n",
    "        return binary_search(array, target, start, mid-1)\n",
    "    else:\n",
    "        return binary_search(array, target, mid+1, end)\n",
    "    \n",
    "n, target = list(map(int, input().split()))\n",
    "array = list(map(int, input().split()))\n",
    "result = binary_search(array, target, 0, n-1)\n",
    "if result == None:\n",
    "    print('원소가 존재하지 않습니다.')\n",
    "else:\n",
    "    print(result + 1)"
   ]
  },
  {
   "cell_type": "code",
   "execution_count": 3,
   "id": "2151f82a",
   "metadata": {},
   "outputs": [],
   "source": [
    "# 반복문 활용\n",
    "def binary_search(array, target, start, end):\n",
    "    while start <= end:\n",
    "        mid = (start+end)//2\n",
    "        if array[mid] == target:\n",
    "            return mid\n",
    "        elif array[mid] > target:\n",
    "            end = mid - 1\n",
    "        else :\n",
    "            start = mid + 1\n",
    "            \n",
    "    return None"
   ]
  },
  {
   "cell_type": "code",
   "execution_count": 4,
   "id": "c459ae93",
   "metadata": {},
   "outputs": [
    {
     "name": "stdout",
     "output_type": "stream",
     "text": [
      "10 7\n",
      "1 3 5 6 9 11 13 15 17 19\n",
      "원소가 존재하지 않습니다.\n"
     ]
    }
   ],
   "source": [
    "n, target = list(map(int, input().split()))\n",
    "array = list(map(int, input().split()))\n",
    "result = binary_search(array, target, 0, n-1)\n",
    "if result == None:\n",
    "    print('원소가 존재하지 않습니다.')\n",
    "else:\n",
    "    print(result + 1)"
   ]
  },
  {
   "cell_type": "markdown",
   "id": "c7397f69",
   "metadata": {},
   "source": [
    "## 부품 찾기"
   ]
  },
  {
   "cell_type": "code",
   "execution_count": 21,
   "id": "21fadcfe",
   "metadata": {},
   "outputs": [
    {
     "name": "stdout",
     "output_type": "stream",
     "text": [
      "5\n",
      "8 3 7 9 2\n",
      "3\n",
      "5 7 9\n"
     ]
    }
   ],
   "source": [
    "N = int(input())\n",
    "lists = sorted(list(map(int, input().split())))\n",
    "M = int(input())\n",
    "buys = list(map(int, input().split()))\n",
    "\n",
    "\n",
    "def my_binary_search(array, target, start, end):\n",
    "    while start <= end:\n",
    "        mid = (start+end)//2\n",
    "        if array[mid] == target:\n",
    "            return True\n",
    "        elif array[mid] > target:\n",
    "            end = mid-1\n",
    "        else:\n",
    "            start = mid+1\n",
    "    return False"
   ]
  },
  {
   "cell_type": "code",
   "execution_count": 26,
   "id": "077a1596",
   "metadata": {},
   "outputs": [
    {
     "name": "stdout",
     "output_type": "stream",
     "text": [
      "no yes yes\n"
     ]
    }
   ],
   "source": [
    "result = list()\n",
    "for buy in buys:\n",
    "    if my_binary_search(lists, buy, 0, N-1) :\n",
    "        result.append('yes')\n",
    "    else:\n",
    "        result.append('no')\n",
    "        \n",
    "print(' '.join(result))"
   ]
  },
  {
   "cell_type": "markdown",
   "id": "5dfe6291",
   "metadata": {},
   "source": [
    "### 답안 1"
   ]
  },
  {
   "cell_type": "code",
   "execution_count": 27,
   "id": "82046fc0",
   "metadata": {},
   "outputs": [
    {
     "name": "stdout",
     "output_type": "stream",
     "text": [
      "5\n",
      "8 3 7 9 2\n",
      "3\n",
      "5 7 9\n",
      "no yes yes "
     ]
    }
   ],
   "source": [
    "def binary_search(array, target, start, end):\n",
    "    while start <= end:\n",
    "        mid = (start+end)//2\n",
    "        if array[mid] == target:\n",
    "            return mid\n",
    "        elif array[mid] > target:\n",
    "            end = mid - 1\n",
    "        else :\n",
    "            start = mid + 1\n",
    "    return None\n",
    "\n",
    "n = int(input())\n",
    "array = sorted(list(map(int, input().split())))\n",
    "m = int(input())\n",
    "x = list(map(int, input().split()))\n",
    "\n",
    "for i in x:\n",
    "    result = binary_search(array, i, 0, n-1)\n",
    "    if result != None:\n",
    "        print('yes', end=' ')\n",
    "    else:\n",
    "        print('no', end=' ')"
   ]
  },
  {
   "cell_type": "markdown",
   "id": "ba3d673a",
   "metadata": {},
   "source": [
    "### 답안 2"
   ]
  },
  {
   "cell_type": "code",
   "execution_count": 28,
   "id": "f79ea81c",
   "metadata": {},
   "outputs": [
    {
     "name": "stdout",
     "output_type": "stream",
     "text": [
      "5\n",
      "8 3 7 9 2\n",
      "3\n",
      "5 7 9\n",
      "no yes yes "
     ]
    }
   ],
   "source": [
    "n = int(input())\n",
    "array = [0]*100001\n",
    "\n",
    "for i in input().split():\n",
    "    array[int(i)] = 1\n",
    "    \n",
    "m = int(input())\n",
    "buys = list(map(int, input().split()))\n",
    "\n",
    "for buy in buys:\n",
    "    if array[buy] == 1:\n",
    "        print('yes', end=' ')\n",
    "    else:\n",
    "        print('no', end=' ')"
   ]
  },
  {
   "cell_type": "markdown",
   "id": "40bf1884",
   "metadata": {},
   "source": [
    "### 답안 3"
   ]
  },
  {
   "cell_type": "code",
   "execution_count": 29,
   "id": "1c699bae",
   "metadata": {},
   "outputs": [
    {
     "name": "stdout",
     "output_type": "stream",
     "text": [
      "5\n",
      "8 3 7 9 2\n",
      "3\n",
      "5 7 9\n",
      "no yes yes "
     ]
    }
   ],
   "source": [
    "n = int(input())\n",
    "array = set(map(int, input().split()))\n",
    "m = int(input())\n",
    "buys = list(map(int, input().split()))\n",
    "\n",
    "for buy in buys:\n",
    "    if buy in array:\n",
    "        print('yes', end=' ')\n",
    "    else:\n",
    "        print('no', end=' ')"
   ]
  },
  {
   "cell_type": "markdown",
   "id": "2107880c",
   "metadata": {},
   "source": [
    "## 떡볶이 떡 만들기"
   ]
  },
  {
   "cell_type": "code",
   "execution_count": 14,
   "id": "3930c409",
   "metadata": {},
   "outputs": [
    {
     "name": "stdout",
     "output_type": "stream",
     "text": [
      "4 6\n",
      "19 15 17 10\n",
      "6\n"
     ]
    }
   ],
   "source": [
    "N, M = map(int, input().split())\n",
    "array = list(map(int, input().split()))\n",
    "\n",
    "array_max = max(array)\n",
    "min_result = array_max*N\n",
    "\n",
    "# 0부터 가장 큰 값까지 하나씩 빼서 더해주는 연산\n",
    "for i in range(array_max):\n",
    "    result = 0\n",
    "    for j in array:\n",
    "        # array 내 원소가 빼려는 값보다 클때만 연산 수행\n",
    "        if j>i :\n",
    "            result += j-i\n",
    "    # 총 뺀 값이 최소 길이보다 작으면 가장 큰 길이로 대체\n",
    "    if result < M:\n",
    "        result = array_max*N\n",
    "    # 최소값 비교\n",
    "    min_result = min(min_result, result)\n",
    "\n",
    "print(min_result)"
   ]
  },
  {
   "cell_type": "code",
   "execution_count": 15,
   "id": "42e47e25",
   "metadata": {},
   "outputs": [
    {
     "name": "stdout",
     "output_type": "stream",
     "text": [
      "4 6\n",
      "19 15 10 17\n",
      "15\n"
     ]
    }
   ],
   "source": [
    "# 답안\n",
    "n, m = map(int, input().split())\n",
    "array = list(map(int, input().split()))\n",
    "result = 0\n",
    "end = max(array)\n",
    "start = 0\n",
    "\n",
    "while start<=end:\n",
    "    total = 0\n",
    "    mid = (start+end)//2\n",
    "    for x in array:\n",
    "        if x > mid:\n",
    "            total += x-mid\n",
    "    if total < m:\n",
    "        end = mid-1\n",
    "    else:\n",
    "        result = mid\n",
    "        start = mid+1\n",
    "print(result)"
   ]
  },
  {
   "cell_type": "code",
   "execution_count": 1,
   "id": "92764d81",
   "metadata": {},
   "outputs": [
    {
     "name": "stdout",
     "output_type": "stream",
     "text": [
      "4 6\n",
      "19 15 10 17\n"
     ]
    }
   ],
   "source": [
    "# 답안\n",
    "n, m = map(int, input().split())\n",
    "array = list(map(int, input().split()))\n",
    "result = 0\n",
    "end = max(array)\n",
    "start = 0"
   ]
  },
  {
   "cell_type": "code",
   "execution_count": 2,
   "id": "57b149a9",
   "metadata": {},
   "outputs": [
    {
     "name": "stdout",
     "output_type": "stream",
     "text": [
      "15\n"
     ]
    }
   ],
   "source": [
    "while start <= end:\n",
    "    total = 0\n",
    "    mid = (start+end)//2\n",
    "    for x in array:\n",
    "        if x > mid:\n",
    "            total += x-mid\n",
    "    if total < m:\n",
    "        end = mid - 1\n",
    "    else :\n",
    "        result = mid\n",
    "        start = mid + 1\n",
    "print(result)"
   ]
  },
  {
   "cell_type": "markdown",
   "id": "c54378f7",
   "metadata": {},
   "source": [
    "## 24444"
   ]
  },
  {
   "cell_type": "code",
   "execution_count": 1,
   "id": "2eb4ec1e",
   "metadata": {},
   "outputs": [
    {
     "name": "stdout",
     "output_type": "stream",
     "text": [
      "5 5 1\n",
      "1 4\n",
      "1 2\n",
      "2 3\n",
      "2 4\n",
      "3 4\n"
     ]
    }
   ],
   "source": [
    "from collections import deque\n",
    "import sys\n",
    "\n",
    "N,M,R = map(int, sys.stdin.readline().split())\n",
    "graph = [[] for _ in range(N+1)]\n",
    "for i in range(M):\n",
    "    a,b = map(int, sys.stdin.readline().split())\n",
    "    graph[a].append(b)\n",
    "    graph[b].append(a)\n",
    "    \n",
    "for i in range(1,N+1):\n",
    "    graph[i].sort()\n",
    "    \n",
    "visited = [0]*(N+1)\n",
    "\n",
    "def my_bfs(graph, R, visited):\n",
    "    queue = deque([R])\n",
    "    visited[R] = 1\n",
    "    cnt = 1\n",
    "    while queue:\n",
    "        v = queue.popleft()\n",
    "        \n",
    "        for i in graph[v]:\n",
    "            if visited[i] == 0:\n",
    "                queue.append(i)\n",
    "                cnt += 1\n",
    "                visited[i] = cnt\n",
    "    return visited\n",
    "\n",
    "result = my_bfs(graph, R, visited)\n",
    "result.pop(0)\n",
    "print(*result, sep='\\n')"
   ]
  },
  {
   "cell_type": "markdown",
   "id": "5f743ab8",
   "metadata": {},
   "source": [
    "## 1920"
   ]
  },
  {
   "cell_type": "code",
   "execution_count": 1,
   "id": "f693c9bc",
   "metadata": {},
   "outputs": [
    {
     "name": "stdout",
     "output_type": "stream",
     "text": [
      "5\n",
      "4 1 5 2 3\n",
      "5\n",
      "1 3 7 9 5\n"
     ]
    }
   ],
   "source": [
    "N = int(input())\n",
    "array = list(map(int, input().split()))\n",
    "M = int(input())\n",
    "target = list(map(int, input().split()))\n",
    "array.sort()"
   ]
  },
  {
   "cell_type": "code",
   "execution_count": 3,
   "id": "a23cae77",
   "metadata": {},
   "outputs": [],
   "source": [
    "def my_binary_search(array, target, start, end):\n",
    "    while start <= end:\n",
    "        result = 0\n",
    "        mid = (start+end)//2\n",
    "        if array[mid] == target:\n",
    "            result = 1\n",
    "            return result\n",
    "        elif array[mid] > target:\n",
    "            end = mid-1\n",
    "        else:\n",
    "            start = mid+1\n",
    "    result = 0\n",
    "    return result"
   ]
  },
  {
   "cell_type": "code",
   "execution_count": 9,
   "id": "ca45f640",
   "metadata": {},
   "outputs": [
    {
     "name": "stdout",
     "output_type": "stream",
     "text": [
      "1\n",
      "1\n",
      "0\n",
      "0\n",
      "1\n"
     ]
    }
   ],
   "source": [
    "for i in target:\n",
    "    result= my_binary_search(array,i,0,N-1)\n",
    "    print(result)"
   ]
  },
  {
   "cell_type": "markdown",
   "id": "9429318e",
   "metadata": {},
   "source": [
    "## 1654"
   ]
  },
  {
   "cell_type": "code",
   "execution_count": 1,
   "id": "14b538af",
   "metadata": {},
   "outputs": [
    {
     "name": "stdout",
     "output_type": "stream",
     "text": [
      "4 11\n",
      "802\n",
      "743\n",
      "457\n",
      "539\n"
     ]
    }
   ],
   "source": [
    "K, N = map(int,input().split())\n",
    "array = [int(input()) for _ in range(K)]\n",
    "\n",
    "result = 0\n",
    "# start=0 으로 시작하면 zero division error 뜸\n",
    "start = 1\n",
    "end = max(array)\n",
    "\n",
    "while start <= end:\n",
    "    total = 0\n",
    "    mid = (start+end)//2\n",
    "    for x in array:\n",
    "        total += x//mid\n",
    "    if total < N:\n",
    "        end = mid-1\n",
    "    else:\n",
    "        result = mid\n",
    "        start = mid+1\n",
    "        \n",
    "print(result)"
   ]
  },
  {
   "cell_type": "code",
   "execution_count": null,
   "id": "2fa65b34",
   "metadata": {},
   "outputs": [],
   "source": []
  }
 ],
 "metadata": {
  "kernelspec": {
   "display_name": "Python 3 (ipykernel)",
   "language": "python",
   "name": "python3"
  },
  "language_info": {
   "codemirror_mode": {
    "name": "ipython",
    "version": 3
   },
   "file_extension": ".py",
   "mimetype": "text/x-python",
   "name": "python",
   "nbconvert_exporter": "python",
   "pygments_lexer": "ipython3",
   "version": "3.9.12"
  }
 },
 "nbformat": 4,
 "nbformat_minor": 5
}
