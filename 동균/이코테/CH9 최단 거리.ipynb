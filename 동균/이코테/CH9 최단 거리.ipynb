{
 "cells": [
  {
   "cell_type": "markdown",
   "id": "59efdd9f",
   "metadata": {},
   "source": [
    "# heapq\n",
    "\n",
    "- Heap은 최대값, 최소값을 찾아내는 연산을 빠르게 하기 위해 고안\n",
    "- 완전 이진 트리를 기본 구조로 가진다.\n",
    "- 최소 힙(min heap) : 부모 노드가 자식 노드의 값보다 작다\n",
    "    - 이진 탐색 트리와의 차이점 : 부모 노드 기준 왼쪽 노드와 오른쪽 노드의 규칙이 없다\n",
    "    \n",
    "## Insert\n",
    "\n",
    "- 데이터 삽입은 왼쪽에서 오른쪽 순서로 완전 이진 트리를 구성\n",
    "- 입력된 데이터와 부모 노드의 값을 비교\n",
    "- 입력 데이터가 부모보다 작다면 데이터가 부모노드가 된다.\n",
    "\n",
    "## Delete\n",
    "\n",
    "- delete 순서\n",
    "    - 루트노드 삭제\n",
    "    - 트리의 말단에서 가장 오른쪽에 있는 노드를 루트로 승격\n",
    "    \n",
    "## heapq 모듈\n",
    "\n",
    "- 부모 노드의 인덱스 = 1\n",
    "    - 자식노드의 인덱스 :\n",
    "        - 부모노드 인덱스 = 자식 인덱스 // 2\n",
    "        - 왼쪽 자식 인덱스 = 부모 인덱스 * 2\n",
    "        - 오른쪽 자식 인덱스 = 부모 인덱스 * 2 + 1"
   ]
  },
  {
   "cell_type": "markdown",
   "id": "512710d5",
   "metadata": {},
   "source": [
    "### 데이터 추가"
   ]
  },
  {
   "cell_type": "code",
   "execution_count": 4,
   "id": "f10b452b",
   "metadata": {},
   "outputs": [
    {
     "name": "stdout",
     "output_type": "stream",
     "text": [
      "[14]\n",
      "[10, 14]\n",
      "[6, 14, 10]\n",
      "[6, 8, 10, 14]\n",
      "[6, 8, 10, 14, 12]\n",
      "[4, 8, 6, 14, 12, 10]\n"
     ]
    }
   ],
   "source": [
    "import heapq\n",
    "result=[]\n",
    "heapq.heappush(result,14)\n",
    "print(result)\n",
    "\n",
    "heapq.heappush(result,10)\n",
    "print(result)\n",
    "\n",
    "heapq.heappush(result,6)\n",
    "print(result)\n",
    "\n",
    "heapq.heappush(result,8)\n",
    "print(result)\n",
    "\n",
    "heapq.heappush(result,12)\n",
    "print(result)\n",
    "\n",
    "heapq.heappush(result,4)\n",
    "print(result)"
   ]
  },
  {
   "cell_type": "markdown",
   "id": "fd5956c1",
   "metadata": {},
   "source": [
    "### 데이터 삭제"
   ]
  },
  {
   "cell_type": "code",
   "execution_count": 5,
   "id": "0c8e38fb",
   "metadata": {},
   "outputs": [
    {
     "name": "stdout",
     "output_type": "stream",
     "text": [
      "[6, 8, 10, 14, 12]\n"
     ]
    }
   ],
   "source": [
    "heapq.heappop(result)\n",
    "print(result)"
   ]
  },
  {
   "cell_type": "markdown",
   "id": "d7d1ddf2",
   "metadata": {},
   "source": [
    "### 리스트 변환"
   ]
  },
  {
   "cell_type": "code",
   "execution_count": 6,
   "id": "cf6397ba",
   "metadata": {},
   "outputs": [
    {
     "name": "stdout",
     "output_type": "stream",
     "text": [
      "[4, 8, 6, 10, 12, 14]\n"
     ]
    }
   ],
   "source": [
    "_list = [14,10,6,8,12,4]\n",
    "heapq.heapify(_list)\n",
    "print(_list)"
   ]
  },
  {
   "cell_type": "markdown",
   "id": "901e821a",
   "metadata": {},
   "source": [
    "### 최대 힙 표현\n",
    "\n",
    "- reverse sign 이용해서 최소를 최대로 표현"
   ]
  },
  {
   "cell_type": "code",
   "execution_count": 10,
   "id": "3906225d",
   "metadata": {},
   "outputs": [
    {
     "data": {
      "text/plain": [
       "[14, 12, 6, 10, 8, 4]"
      ]
     },
     "execution_count": 10,
     "metadata": {},
     "output_type": "execute_result"
    }
   ],
   "source": [
    "reverse_sign = lambda x: -1*x\n",
    "max_heap = list(map(reverse_sign, _list))\n",
    "heapq.heapify(max_heap)\n",
    "max_heap = list(map(reverse_sign, max_heap))\n",
    "max_heap"
   ]
  },
  {
   "cell_type": "markdown",
   "id": "93736445",
   "metadata": {},
   "source": [
    "## (예시) 수상자 3명을 선정하려면?"
   ]
  },
  {
   "cell_type": "code",
   "execution_count": 11,
   "id": "5d06a0cf",
   "metadata": {},
   "outputs": [],
   "source": [
    "import heapq\n",
    "\n",
    "data = [\n",
    "    (12.23,'강보람'),\n",
    "    (12.31,'김지원'),\n",
    "    (11.98,'박시우'),\n",
    "    (11.99,'장준혁'),\n",
    "    (11.67,'차정웅'),\n",
    "    (12.02,'박중수'),\n",
    "    (11.57,'차동현'),\n",
    "    (12.04,'고미숙'),\n",
    "    (11.92,'한시우'),\n",
    "    (12.22,'이민석')\n",
    "]"
   ]
  },
  {
   "cell_type": "code",
   "execution_count": 12,
   "id": "1483dd84",
   "metadata": {},
   "outputs": [
    {
     "data": {
      "text/plain": [
       "[(12.23, '강보람'),\n",
       " (12.31, '김지원'),\n",
       " (11.98, '박시우'),\n",
       " (11.99, '장준혁'),\n",
       " (11.67, '차정웅'),\n",
       " (12.02, '박중수'),\n",
       " (11.57, '차동현'),\n",
       " (12.04, '고미숙'),\n",
       " (11.92, '한시우'),\n",
       " (12.22, '이민석')]"
      ]
     },
     "execution_count": 12,
     "metadata": {},
     "output_type": "execute_result"
    }
   ],
   "source": [
    "data"
   ]
  },
  {
   "cell_type": "code",
   "execution_count": 13,
   "id": "4191dfd1",
   "metadata": {},
   "outputs": [
    {
     "data": {
      "text/plain": [
       "[(11.57, '차동현'),\n",
       " (11.92, '한시우'),\n",
       " (11.67, '차정웅'),\n",
       " (11.98, '박시우'),\n",
       " (11.99, '장준혁'),\n",
       " (12.23, '강보람'),\n",
       " (12.02, '박중수'),\n",
       " (12.31, '김지원'),\n",
       " (12.04, '고미숙'),\n",
       " (12.22, '이민석')]"
      ]
     },
     "execution_count": 13,
     "metadata": {},
     "output_type": "execute_result"
    }
   ],
   "source": [
    "h=[]\n",
    "for score in data:\n",
    "    heapq.heappush(h,score)\n",
    "h"
   ]
  },
  {
   "cell_type": "code",
   "execution_count": 14,
   "id": "0f9cb860",
   "metadata": {
    "scrolled": true
   },
   "outputs": [
    {
     "name": "stdout",
     "output_type": "stream",
     "text": [
      "(11.57, '차동현')\n",
      "(11.67, '차정웅')\n",
      "(11.92, '한시우')\n"
     ]
    }
   ],
   "source": [
    "for i in range(3):\n",
    "    print(heapq.heappop(h))"
   ]
  },
  {
   "cell_type": "markdown",
   "id": "416cb0d0",
   "metadata": {},
   "source": [
    "- heap에서는 루트노드만 출력하므로 ranking 순으로 출력할 수 있다"
   ]
  },
  {
   "cell_type": "markdown",
   "id": "f1f8ee3e",
   "metadata": {},
   "source": [
    "### 우선 순위 큐\n",
    "\n",
    "- heapq에 튜플이 삽입될 경우엔, 튜플의 첫 번째 요소가 정렬의 기준이 된다.\n",
    "    - 첫 번째 요소는 우선순위 값, 두 번째 요소는 데이터"
   ]
  },
  {
   "cell_type": "code",
   "execution_count": 1,
   "id": "f1aba291",
   "metadata": {},
   "outputs": [
    {
     "name": "stdout",
     "output_type": "stream",
     "text": [
      "[(1, 10), (2, 10), (3, 10), (4, 10)]\n"
     ]
    }
   ],
   "source": [
    "import heapq\n",
    "\n",
    "q=[]\n",
    "heapq.heappush(q,(4,10))\n",
    "heapq.heappush(q,(1,10))\n",
    "heapq.heappush(q,(3,10))\n",
    "heapq.heappush(q,(2,10))\n",
    "print(q)"
   ]
  },
  {
   "cell_type": "code",
   "execution_count": 2,
   "id": "9e4fdb46",
   "metadata": {},
   "outputs": [
    {
     "name": "stdout",
     "output_type": "stream",
     "text": [
      "[(2, 10), (4, 10), (3, 10)]\n"
     ]
    }
   ],
   "source": [
    "heapq.heappop(q)\n",
    "print(q)"
   ]
  },
  {
   "cell_type": "markdown",
   "id": "8820600d",
   "metadata": {},
   "source": [
    "### 최대 힙 (백준 11279)"
   ]
  },
  {
   "cell_type": "code",
   "execution_count": 2,
   "id": "237521ee",
   "metadata": {},
   "outputs": [
    {
     "name": "stdout",
     "output_type": "stream",
     "text": [
      "13\n",
      "0\n",
      "result:  0\n",
      "1\n",
      "2\n",
      "0\n",
      "result:  2\n",
      "0\n",
      "result:  1\n",
      "3\n",
      "2\n",
      "1\n",
      "0\n",
      "result:  3\n",
      "0\n",
      "result:  2\n",
      "0\n",
      "result:  1\n",
      "0\n",
      "result:  0\n",
      "0\n",
      "result:  0\n"
     ]
    }
   ],
   "source": [
    "import heapq\n",
    "\n",
    "N = int(input())\n",
    "h=[]\n",
    "cand=list()\n",
    "reverse_sign = lambda x: -1*x\n",
    "\n",
    "for _ in range(N):\n",
    "    x=int(input())\n",
    "    if x==0:\n",
    "        if len(cand)==0:\n",
    "            print('result: ',0)\n",
    "        else:\n",
    "            max_ls = list(map(reverse_sign, cand))\n",
    "            heapq.heapify(max_ls)\n",
    "            cand = list(map(reverse_sign,max_ls))\n",
    "            result = cand.pop(0)\n",
    "            print('result: ',result)\n",
    "            \n",
    "    elif x>0:\n",
    "        cand.append(x)"
   ]
  },
  {
   "cell_type": "markdown",
   "id": "bd8b5c06",
   "metadata": {},
   "source": [
    "- 시간초과\n",
    "    - heapify 때문인듯 (시간복잡도가 O(n) 이므로)"
   ]
  },
  {
   "cell_type": "code",
   "execution_count": 7,
   "id": "15dd85ff",
   "metadata": {},
   "outputs": [
    {
     "name": "stdout",
     "output_type": "stream",
     "text": [
      "13\n",
      "0\n",
      "0\n",
      "1\n",
      "2\n",
      "0\n",
      "2\n",
      "0\n",
      "1\n",
      "3\n",
      "2\n",
      "1\n",
      "0\n",
      "3\n",
      "0\n",
      "2\n",
      "0\n",
      "1\n",
      "0\n",
      "0\n",
      "0\n",
      "0\n"
     ]
    }
   ],
   "source": [
    "import heapq\n",
    "\n",
    "N=int(input())\n",
    "heap=[]\n",
    "for _ in range(N):\n",
    "    t = int(input())\n",
    "    t = -t\n",
    "    if t == 0:\n",
    "        if len(heap)==0:\n",
    "            print(0)\n",
    "        else:\n",
    "            print(-heapq.heappop(heap))\n",
    "    else:\n",
    "        heapq.heappush(heap,t)"
   ]
  },
  {
   "cell_type": "markdown",
   "id": "e830efab",
   "metadata": {},
   "source": [
    "- heapify 없이 pop & push만으로 결과 출력"
   ]
  },
  {
   "cell_type": "markdown",
   "id": "56800b7f",
   "metadata": {},
   "source": [
    "### 최소 힙 (백준 1927)"
   ]
  },
  {
   "cell_type": "code",
   "execution_count": 8,
   "id": "973cd638",
   "metadata": {},
   "outputs": [
    {
     "name": "stdout",
     "output_type": "stream",
     "text": [
      "9\n",
      "0\n",
      "0\n",
      "12345678\n",
      "1\n",
      "2\n",
      "0\n",
      "1\n",
      "0\n",
      "2\n",
      "0\n",
      "12345678\n",
      "0\n",
      "0\n",
      "32\n"
     ]
    }
   ],
   "source": [
    "import heapq\n",
    "\n",
    "N = int(input())\n",
    "heap = []\n",
    "\n",
    "for _ in range(N):\n",
    "    t = int(input())\n",
    "    if t==0:\n",
    "        if len(heap)==0:\n",
    "            print(0)\n",
    "        else:\n",
    "            print(heapq.heappop(heap))\n",
    "    else:\n",
    "        heapq.heappush(heap,t)"
   ]
  },
  {
   "cell_type": "code",
   "execution_count": null,
   "id": "964a375d",
   "metadata": {},
   "outputs": [],
   "source": []
  },
  {
   "cell_type": "markdown",
   "id": "8f8588b5",
   "metadata": {},
   "source": [
    "## 다익스트라 알고리즘\n",
    "\n",
    "- 한 지점에서 다른 특정 지점까지의 최단 경로를 구해야 하는 경우 사용"
   ]
  },
  {
   "cell_type": "code",
   "execution_count": 1,
   "id": "1c6d5790",
   "metadata": {},
   "outputs": [
    {
     "name": "stdout",
     "output_type": "stream",
     "text": [
      "6 11\n",
      "1\n",
      "1 2 2\n",
      "1 3 5\n",
      "1 4 1\n",
      "2 3 3\n",
      "2 4 2\n",
      "3 2 3\n",
      "3 6 5\n",
      "4 3 3\n",
      "4 5 1\n",
      "5 3 1\n",
      "5 6 2\n",
      "0\n",
      "2\n",
      "3\n",
      "1\n",
      "2\n",
      "4\n"
     ]
    }
   ],
   "source": [
    "INF = int(1e9)\n",
    "\n",
    "# 노드의 개수 , 간선의 개수 입력받기\n",
    "N,M = map(int, input().split())\n",
    "start = int(input())\n",
    "graph = [[] for _ in range(N+1)]\n",
    "visited = [False]*(N+1)\n",
    "# 최단 거리 테이블 모두 무한으로 초기화\n",
    "distance = [INF]*(N+1)\n",
    "\n",
    "for _ in range(M):\n",
    "    # a노드에서 b노드로 가는 비용이 c이다 (방향성이 존재)\n",
    "    a, b, c = map(int, input().split())\n",
    "    graph[a].append((b,c))\n",
    "    \n",
    "# 방문하지 않은 노드 중에서 가장 최단 거리가 짧은 노드의 번호를 반환\n",
    "def get_smallest_node():\n",
    "    min_val = INF\n",
    "    index=0 # 가장 거리가 짧은 노드(인덱스)\n",
    "    for i in range(N+1):\n",
    "        if distance[i] < min_val and not visited[i]:\n",
    "            min_val = distance[i]  # min_val를 계속 update 시켜주면서 비교 (그리디)\n",
    "            index=i\n",
    "            \n",
    "    return index\n",
    "\n",
    "def dijkstra(start):\n",
    "    # 시작 노드에 대해서 초기화\n",
    "    distance[start] = 0\n",
    "    visited[start] = True\n",
    "    for j in graph[start]:\n",
    "        distance[j[0]] = j[1]\n",
    "    # 시작 노드를 제외한 전체 (n-1)개의 노드에 대해 반복\n",
    "    for i in range(N-1):\n",
    "        # 현재 최단 거리가 가장 짧은 노드를 꺼내서, 방문 처리\n",
    "        now = get_smallest_node()\n",
    "        visited[now] = True\n",
    "        # 현재 노드와 연결된 다른 노드를 확인\n",
    "        for j in graph[now]:\n",
    "            cost = distance[now] + j[1]\n",
    "            if cost<distance[j[0]]:\n",
    "                distance[j[0]] = cost\n",
    "                \n",
    "dijkstra(start)\n",
    "\n",
    "for i in range(1,N+1):\n",
    "    # 도달할 수 없는 경우, 무한이라고 출력\n",
    "    if distance[i] == INF:\n",
    "        print('INFINITY')\n",
    "        \n",
    "    else:\n",
    "        print(distance[i])\n",
    "        "
   ]
  },
  {
   "cell_type": "markdown",
   "id": "42737dd5",
   "metadata": {},
   "source": [
    "## heapq 를 이용한 최단 거리\n",
    "\n",
    "- get_smalles_node() 함수를 heapq를 이용해서 사용\n",
    "- 시간 복잡도 : O(E logV), E:간선 개수, V:노드 개수\n",
    "    - while문을 통해 실제로는 V개의 노드를 전부 보지 않는 것을 확인할 수 있다.\n",
    "    - 따라서 시간 복잡도는 O(ElogE) 이다."
   ]
  },
  {
   "cell_type": "code",
   "execution_count": 3,
   "id": "60d53952",
   "metadata": {},
   "outputs": [
    {
     "name": "stdout",
     "output_type": "stream",
     "text": [
      "6 11\n",
      "1\n",
      "1 2 2\n",
      "1 3 5\n",
      "1 4 1\n",
      "2 3 3\n",
      "2 4 2\n",
      "3 2 3\n",
      "3 6 5\n",
      "4 3 3\n",
      "4 5 1\n",
      "5 3 1\n",
      "5 6 2\n",
      "0\n",
      "2\n",
      "3\n",
      "1\n",
      "2\n",
      "4\n"
     ]
    }
   ],
   "source": [
    "import heapq\n",
    "INF = int(1e9)\n",
    "\n",
    "N, M = map(int, input().split())\n",
    "start = int(input())\n",
    "graph = [[] for _ in range(N+1)]\n",
    "distance = [INF]*(N+1)\n",
    "\n",
    "for _ in range(M):\n",
    "    a,b,c = map(int, input().split())\n",
    "    graph[a].append((b,c))\n",
    "    \n",
    "    \n",
    "def dijkstra(start):\n",
    "    q = []\n",
    "    # 시작 노드로 가기 위한 최단 경로는 0으로 설정하여, 큐에 삽입\n",
    "    heapq.heappush(q,(0,start))\n",
    "    distance[start] = 0\n",
    "    while q:\n",
    "        # 최단 거리가 가장 짧은 노드에 대한 정보 꺼내기\n",
    "        dist, now = heapq.heappop(q)\n",
    "        # 현재 노드가 이미 처리된 적이 있다면 무시\n",
    "        if distance[now] < dist:\n",
    "            continue\n",
    "            \n",
    "        # 현재 노드와 인접한 다른 노드들을 확인\n",
    "        for i in graph[now]:\n",
    "            cost = dist+i[1]\n",
    "            # 현재 노드를 거쳐서, 다른 노드로 이동하는 거리가 더 짧은 경우\n",
    "            if cost<distance[i[0]]:\n",
    "                distance[i[0]] = cost\n",
    "                heapq.heappush(q, (cost, i[0]))\n",
    "                \n",
    "dijkstra(start)\n",
    "\n",
    "for i in range(1,N+1):\n",
    "    if distance[i]==INF:\n",
    "        print('INFINITY')\n",
    "    else:\n",
    "        print(distance[i])"
   ]
  },
  {
   "cell_type": "markdown",
   "id": "1e6df456",
   "metadata": {},
   "source": [
    "## 플로이드 워셜 알고리즘\n",
    "\n",
    "- 모든 지점에서 다른 모든 지점까지의 최단 경로를 모두 구해야 하는 경우에 사용\n",
    "- 2차원 리스트에 '최단 거리' 정보를 저장하여 사용\n",
    "    - 모든 노드에 대하여 다른 모든 노드로 가는 최단 거리 정보를 담아야 하기 때문\n",
    "- 각 단계에서는 해당 노드를 거쳐 가는 경우를 고려한다\n",
    "- 현재 노드 제외 N-1 노드 중에서 서로 다른 노드 (A, B)쌍을 선택\n",
    "- 점화식\n",
    "$$D_{ab} = min(D_{ab}, D_{ak}+D_{kb})$$\n",
    "    - A에서 B로 가는 최소 비용과 A에서 K를 거쳐 B로 가는 비용을 비교"
   ]
  },
  {
   "cell_type": "code",
   "execution_count": 5,
   "id": "8d56f1ff",
   "metadata": {},
   "outputs": [
    {
     "name": "stdout",
     "output_type": "stream",
     "text": [
      "4\n",
      "7\n",
      "1 2 4\n",
      "1 4 6\n",
      "2 1 3\n",
      "2 3 7\n",
      "3 1 5\n",
      "3 4 4\n",
      "4 3 2\n",
      "0 4 8 6 \n",
      "3 0 7 9 \n",
      "5 9 0 4 \n",
      "7 11 2 0 \n"
     ]
    }
   ],
   "source": [
    "INF = int(1e9)\n",
    "\n",
    "N = int(input())\n",
    "M = int(input())\n",
    "# 2차원 리스트를 만들고, 모든 값을 무한으로 초기화\n",
    "graph = [[INF]*(N+1) for _ in range(N+1)]\n",
    "\n",
    "# 자기 자신에서 자기 자신으로 가는 비용은 0으로 초기화\n",
    "for a in range(1,N+1):\n",
    "    for b in range(1,N+1):\n",
    "        if a==b:\n",
    "            graph[a][b]=0\n",
    "            \n",
    "# 각 간선에 대한 정보를 입력받아, 그 값으로 초기화\n",
    "for _ in range(M):\n",
    "    # a에서 b로 가는 비용을 c로 설정\n",
    "    a,b,c = map(int, input().split())\n",
    "    graph[a][b]=c\n",
    "    \n",
    "for k in range(1,N+1):\n",
    "    for a in range(1,N+1):\n",
    "        for b in range(1,N+1):\n",
    "            # a==b 일 때는 min(0, graph[a][k]+graph[k][b])이므로 0을 min으로 출력\n",
    "            graph[a][b] = min(graph[a][b], graph[a][k]+graph[k][b])\n",
    "            \n",
    "            \n",
    "# 결과 출력\n",
    "for a in range(1,N+1):\n",
    "    for b in range(1, N+1):\n",
    "        if graph[a][b]==INF:\n",
    "            print('INFINITY')\n",
    "            \n",
    "        else:\n",
    "            print(graph[a][b], end=' ')\n",
    "    print()"
   ]
  },
  {
   "cell_type": "markdown",
   "id": "9343d6c6",
   "metadata": {},
   "source": [
    "## 실전문제"
   ]
  },
  {
   "cell_type": "markdown",
   "id": "eff511b1",
   "metadata": {},
   "source": [
    "### 미래 도시\n",
    "\n",
    "- 1~N 까지의 회사 존재\n",
    "- 특정 회사끼리는 도로를 통해 연결됨\n",
    "- A는 1번 회사에 위치해 있다\n",
    "- X번 회사에 방문할 예정\n",
    "- K번 회사에서 소개팅 예정\n",
    "    - 1 -> K -> X 회사\n",
    "- 연결된 회사는 양방향으로 이동이 가능\n",
    "- 최소 이동 시간을 구하라\n",
    "    - X회사에 만일 도달할 수 없다면 -1 출력"
   ]
  },
  {
   "cell_type": "code",
   "execution_count": 53,
   "id": "316e60f7",
   "metadata": {},
   "outputs": [
    {
     "name": "stdout",
     "output_type": "stream",
     "text": [
      "4 2\n",
      "1 3\n",
      "2 4\n",
      "3 4\n"
     ]
    }
   ],
   "source": [
    "# 다익스트라 알고리즘\n",
    "import heapq\n",
    "\n",
    "N, M = map(int, input().split())\n",
    "graph = [[] for _ in range(N+1)]\n",
    "\n",
    "for _ in range(M):\n",
    "    # a와 b가 양방향으로 이동이 가능하며 cost가 1로 전부 동일\n",
    "    a,b = map(int,input().split())\n",
    "    graph[a].append((b,1))\n",
    "    graph[b].append((a,1))\n",
    "\n",
    "X, K = map(int, input().split())"
   ]
  },
  {
   "cell_type": "code",
   "execution_count": 55,
   "id": "d24997b9",
   "metadata": {},
   "outputs": [
    {
     "name": "stdout",
     "output_type": "stream",
     "text": [
      "-1\n"
     ]
    }
   ],
   "source": [
    "INF = int(1e9)\n",
    "start = 1\n",
    "# X 제외한 최단거리 기록용 리스트 (1 -> K)\n",
    "distance_X = [INF]*(N+1)\n",
    "# X 포함한 최단거리 기록용 리스트 (K -> X)\n",
    "distance = [INF]*(N+1)\n",
    "\n",
    "def dijkstra(start,K,X):\n",
    "    # X회사를 제외하고 K에 도달할 최단 거리 계산\n",
    "    q_X = []\n",
    "    heapq.heappush(q_X, (0,start))\n",
    "    distance_X[start]=0\n",
    "    \n",
    "    # X노드의 경우 INF로 제외 (index 문제로 pop을 하지 않음)\n",
    "    graph_X = graph.copy()\n",
    "    graph_X[X] = INF\n",
    "    \n",
    "    # X 회사를 제외하고 다익스트라 알고리즘 수행\n",
    "    while q_X:\n",
    "        dist, now = heapq.heappop(q_X)\n",
    "        \n",
    "        # 최단거리가 아니면 무시\n",
    "        if distance_X[now] < dist:\n",
    "            continue\n",
    "        \n",
    "        # X회사를 제거했으므로 현재노드가 X이면 무시\n",
    "        if now == X:\n",
    "            continue\n",
    "        \n",
    "        # 최단거리 계산\n",
    "        for i in graph_X[now]:\n",
    "            cost = dist+i[1]\n",
    "            if cost<distance_X[i[0]]:\n",
    "                distance_X[i[0]] = cost\n",
    "                heapq.heappush(q_X, (cost, i[0]))\n",
    "    \n",
    "    # X 회사 포함, start = K 회사\n",
    "    q = []\n",
    "    heapq.heappush(q, (0,K))\n",
    "    distance[K]=0\n",
    "    while q:\n",
    "        dist,now = heapq.heappop(q)\n",
    "        if distance[now] < dist:\n",
    "            continue\n",
    "        \n",
    "        for i in graph[now]:\n",
    "            cost = dist+i[1]\n",
    "            if cost < distance[i[0]]:\n",
    "                distance[i[0]]=cost\n",
    "                heapq.heappush(q, (cost, i[0]))\n",
    "    \n",
    "    # 1에서 K로 가는 최단 거리 + K에서 X로 가는 최단 거리\n",
    "    result = distance_X[K] + distance[X]\n",
    "    return result\n",
    "\n",
    "result = dijkstra(1,K,X)\n",
    "# X 회사에 도달할 수 없는 경우 -1 출력\n",
    "if result >= INF:\n",
    "    print(-1)\n",
    "else:\n",
    "    print(result)"
   ]
  },
  {
   "cell_type": "code",
   "execution_count": 52,
   "id": "b19965a6",
   "metadata": {},
   "outputs": [
    {
     "name": "stdout",
     "output_type": "stream",
     "text": [
      "4 2\n",
      "1 3\n",
      "2 4\n",
      "3 4\n",
      "-1\n"
     ]
    }
   ],
   "source": [
    "#### 플로이드 워셜 알고리즘\n",
    "INF = int(1e9)\n",
    "N, M = map(int, input().split())\n",
    "graph = [[INF]*(N+1) for _ in range(N+1)]\n",
    "\n",
    "for a in range(1,N+1):\n",
    "    for b in range(1,N+1):\n",
    "        if a==b:\n",
    "            graph[a][b]=0\n",
    "\n",
    "for _ in range(M):\n",
    "    a,b = map(int, input().split())\n",
    "    graph[a][b]=1\n",
    "    graph[b][a]=1\n",
    "    \n",
    "X, K = map(int, input().split())\n",
    "    \n",
    "for k in range(1,N+1):    \n",
    "    for a in range(1,N+1):\n",
    "        for b in range(1,N+1):\n",
    "            graph[a][b] = min(graph[a][b], graph[a][k]+graph[k][b])\n",
    "        \n",
    "distance = graph[1][K] + graph[K][X]\n",
    "\n",
    "if distance >= INF:\n",
    "    print(-1)\n",
    "else:\n",
    "    print(distance)"
   ]
  },
  {
   "cell_type": "markdown",
   "id": "6887bf4f",
   "metadata": {},
   "source": [
    "### 전보\n",
    "\n",
    "- N개의 도시\n",
    "- 도시 C에서 보낸 메세지에서 받게 되는 도시의 개수?\n",
    "- 도시들이 모두 메세지를 받는 데까지 걸린 시간?"
   ]
  },
  {
   "cell_type": "code",
   "execution_count": 56,
   "id": "7152cc6a",
   "metadata": {},
   "outputs": [
    {
     "name": "stdout",
     "output_type": "stream",
     "text": [
      "3 2 1\n",
      "1 2 4\n",
      "1 3 2\n"
     ]
    }
   ],
   "source": [
    "import heapq\n",
    "\n",
    "INF = int(1e9)\n",
    "N, M, C = map(int, input().split())\n",
    "graph = [[] for _ in range(N+1)]\n",
    "distance = [INF]*(N+1)\n",
    "\n",
    "for _ in range(M):\n",
    "    x,y,z = map(int, input().split())\n",
    "    graph[x].append((y,z))"
   ]
  },
  {
   "cell_type": "code",
   "execution_count": 64,
   "id": "83b4bca4",
   "metadata": {},
   "outputs": [
    {
     "name": "stdout",
     "output_type": "stream",
     "text": [
      "[1000000000, 0, 4, 2]\n",
      "2 4\n"
     ]
    }
   ],
   "source": [
    "def dijkstra(start):\n",
    "    q = []\n",
    "    heapq.heappush(q, (0,start))\n",
    "    distance[start]=0\n",
    "    \n",
    "    while q:\n",
    "        dist, now = heapq.heappop(q)\n",
    "        \n",
    "        if distance[now]<dist:\n",
    "            continue\n",
    "        \n",
    "        for i in graph[now]:\n",
    "            cost = dist+i[1]\n",
    "            if cost<distance[i[0]]:\n",
    "                distance[i[0]]=cost\n",
    "                heapq.heappush(q, (cost,i[0]))\n",
    "                \n",
    "dijkstra(C)\n",
    "print(distance)\n",
    "# INF이 아닌 노드와 시작 노드 제외하고 도달할 수 있는 노드 개수, INF 제외 최대로 걸리는 시간\n",
    "result = [len(list(filter(lambda x: x!=INF and x!=0, distance))), max(list(filter(lambda x: x!=INF, distance)))]\n",
    "print(*result)"
   ]
  },
  {
   "cell_type": "code",
   "execution_count": 65,
   "id": "882f92bb",
   "metadata": {},
   "outputs": [
    {
     "name": "stdout",
     "output_type": "stream",
     "text": [
      "3 2 1\n",
      "1 2 4\n",
      "1 3 2\n",
      "2 4\n"
     ]
    }
   ],
   "source": [
    "# 답안\n",
    "import heapq\n",
    "\n",
    "INF = int(1e9)\n",
    "N, M, C = map(int, input().split())\n",
    "graph = [[] for _ in range(N+1)]\n",
    "distance = [INF]*(N+1)\n",
    "\n",
    "for _ in range(M):\n",
    "    x,y,z = map(int, input().split())\n",
    "    graph[x].append((y,z))\n",
    "    \n",
    "def dijkstra(start):\n",
    "    q = []\n",
    "    heapq.heappush(q, (0,start))\n",
    "    distance[start]=0\n",
    "    \n",
    "    while q:\n",
    "        dist, now = heapq.heappop(q)\n",
    "        if distance[now]< dist:\n",
    "            continue\n",
    "        for i in graph[now]:\n",
    "            cost = dist+i[1]\n",
    "            if cost<distance[i[0]]:\n",
    "                distance[i[0]]=cost\n",
    "                heapq.heappush(q, (cost,i[0]))\n",
    "                \n",
    "dijkstra(C)\n",
    "\n",
    "count=0\n",
    "max_distance=0\n",
    "for d in distance:\n",
    "    if d!= INF:\n",
    "        count += 1\n",
    "        max_distance = max(max_distance,d)\n",
    "        \n",
    "print(count-1, max_distance)"
   ]
  },
  {
   "cell_type": "markdown",
   "id": "05c3ec7e",
   "metadata": {},
   "source": [
    "## 빗물 (백준 14719)"
   ]
  },
  {
   "cell_type": "code",
   "execution_count": 81,
   "id": "5b8beda5",
   "metadata": {
    "scrolled": true
   },
   "outputs": [
    {
     "name": "stdout",
     "output_type": "stream",
     "text": [
      "4 8\n",
      "3 1 2 2 1 1 1 3\n"
     ]
    }
   ],
   "source": [
    "H, W = map(int, input().split())\n",
    "heights = list(map(int, input().split()))"
   ]
  },
  {
   "cell_type": "code",
   "execution_count": 84,
   "id": "178e5331",
   "metadata": {},
   "outputs": [
    {
     "data": {
      "text/plain": [
       "[3, 1, 2, 2, 1, 1, 1, 3]"
      ]
     },
     "execution_count": 84,
     "metadata": {},
     "output_type": "execute_result"
    }
   ],
   "source": [
    "heights"
   ]
  },
  {
   "cell_type": "code",
   "execution_count": 83,
   "id": "1ee45806",
   "metadata": {},
   "outputs": [
    {
     "name": "stdout",
     "output_type": "stream",
     "text": [
      "start: 0, end: 1, result: 0\n",
      "start: 0, end: 2, result: 0\n",
      "start: 0, end: 3, result: 0\n",
      "start: 3, end: 4, result: 1\n",
      "start: 3, end: 5, result: 1\n",
      "start: 3, end: 6, result: 1\n",
      "start: 3, end: 7, result: 1\n",
      "4\n"
     ]
    }
   ],
   "source": [
    "start = 0\n",
    "end = 1\n",
    "result = 0   # 빗물 count\n",
    "\n",
    "while True:\n",
    "    print(f'start: {start}, end: {end}, result: {result}')\n",
    "    if end == W-1:\n",
    "        min_height = min(heights[start], heights[end])\n",
    "        result += min_height * (end-start-1) - sum(heights[start+1:end])\n",
    "        break\n",
    "        \n",
    "    if (end+1<W) and (heights[start]-heights[end] <= 0 or heights[end]>heights[end+1]):\n",
    "        min_height = min(heights[start], heights[end])\n",
    "        result += min_height * (end-start-1) - sum(heights[start+1:end])\n",
    "        start = end\n",
    "    \n",
    "    end += 1\n",
    "\n",
    "print(result)\n",
    "# 반례 : [3,1,2,2,1,1,1,3]"
   ]
  },
  {
   "cell_type": "code",
   "execution_count": 42,
   "id": "05c510fe",
   "metadata": {},
   "outputs": [
    {
     "name": "stdout",
     "output_type": "stream",
     "text": [
      "5\n"
     ]
    }
   ],
   "source": [
    "# 답안\n",
    "result = 0\n",
    "for i in range(1,W-1):\n",
    "    left_max = max(heights[:i])\n",
    "    right_max = max(heights[i+1:])\n",
    "    \n",
    "    lower_one = min(left_max, right_max)\n",
    "    \n",
    "    if heights[i] < lower_one:\n",
    "        result += lower_one - heights[i]\n",
    "        \n",
    "print(result)"
   ]
  }
 ],
 "metadata": {
  "kernelspec": {
   "display_name": "Python 3 (ipykernel)",
   "language": "python",
   "name": "python3"
  },
  "language_info": {
   "codemirror_mode": {
    "name": "ipython",
    "version": 3
   },
   "file_extension": ".py",
   "mimetype": "text/x-python",
   "name": "python",
   "nbconvert_exporter": "python",
   "pygments_lexer": "ipython3",
   "version": "3.9.12"
  }
 },
 "nbformat": 4,
 "nbformat_minor": 5
}
