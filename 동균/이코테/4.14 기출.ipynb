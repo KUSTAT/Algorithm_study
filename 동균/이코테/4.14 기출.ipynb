{
 "cells": [
  {
   "cell_type": "markdown",
   "id": "009da439",
   "metadata": {},
   "source": [
    "# 기출문제"
   ]
  },
  {
   "cell_type": "markdown",
   "id": "3b3ecef6",
   "metadata": {},
   "source": [
    "## 럭키 스트레이트"
   ]
  },
  {
   "cell_type": "code",
   "execution_count": 27,
   "id": "36172026",
   "metadata": {},
   "outputs": [
    {
     "name": "stdout",
     "output_type": "stream",
     "text": [
      "7755\n"
     ]
    }
   ],
   "source": [
    "N = int(input())"
   ]
  },
  {
   "cell_type": "code",
   "execution_count": 28,
   "id": "05830eb8",
   "metadata": {},
   "outputs": [],
   "source": [
    "ls = list(str(N))"
   ]
  },
  {
   "cell_type": "code",
   "execution_count": 29,
   "id": "c4341c64",
   "metadata": {},
   "outputs": [
    {
     "name": "stdout",
     "output_type": "stream",
     "text": [
      "READY\n"
     ]
    }
   ],
   "source": [
    "start = 0\n",
    "end = len(ls)\n",
    "mid = (start+len(ls))//2\n",
    "\n",
    "front = sum(map(int, ls[start:mid]))\n",
    "back = sum(map(int, ls[mid:end]))\n",
    "\n",
    "if front == back:\n",
    "    print('LUCKY')\n",
    "else:\n",
    "    print('READY')"
   ]
  },
  {
   "cell_type": "code",
   "execution_count": 30,
   "id": "686dc86d",
   "metadata": {},
   "outputs": [
    {
     "name": "stdout",
     "output_type": "stream",
     "text": [
      "7755\n",
      "READY\n"
     ]
    }
   ],
   "source": [
    "# 답안\n",
    "n = input()\n",
    "length = len(n)\n",
    "summary = 0\n",
    "\n",
    "for i in range(length // 2):\n",
    "    summary += int(n[i])\n",
    "    \n",
    "for i in range(length // 2, length):\n",
    "    summary -= int(n[i])\n",
    "    \n",
    "if summary == 0:\n",
    "    print(\"LUCKY\")\n",
    "else:\n",
    "    print(\"READY\")"
   ]
  },
  {
   "cell_type": "markdown",
   "id": "5b57b9c9",
   "metadata": {},
   "source": [
    "## 문자열 재정렬"
   ]
  },
  {
   "cell_type": "code",
   "execution_count": 70,
   "id": "a90cada5",
   "metadata": {},
   "outputs": [
    {
     "name": "stdout",
     "output_type": "stream",
     "text": [
      "AJKDLSI412K4JSJ9D\n"
     ]
    }
   ],
   "source": [
    "S = input()"
   ]
  },
  {
   "cell_type": "code",
   "execution_count": 75,
   "id": "4997bbd2",
   "metadata": {},
   "outputs": [
    {
     "name": "stdout",
     "output_type": "stream",
     "text": [
      "ADDIJJJKKLSS20\n"
     ]
    }
   ],
   "source": [
    "cnt = 0\n",
    "result = list()\n",
    "for s in S:\n",
    "    if ord(s)<=57:\n",
    "        cnt += int(s)\n",
    "    else:\n",
    "        result.append(ord(s))\n",
    "\n",
    "result = list(map(chr, sorted(result)))\n",
    "# 숫자가 하나도 없을때는 추가하지 않음\n",
    "if cnt != 0:\n",
    "    result.append(str(cnt))\n",
    "print(''.join(result))"
   ]
  },
  {
   "cell_type": "code",
   "execution_count": 72,
   "id": "9f98c41f",
   "metadata": {},
   "outputs": [
    {
     "name": "stdout",
     "output_type": "stream",
     "text": [
      "K1KA5CB7\n",
      "ABCKK13\n"
     ]
    }
   ],
   "source": [
    "# 답안\n",
    "data = input()\n",
    "result = []\n",
    "value = 0\n",
    "\n",
    "for x in data:\n",
    "    if x.isalpha():\n",
    "        result.append(x)\n",
    "    else:\n",
    "        value += int(x)\n",
    "        \n",
    "result.sort()\n",
    "if value != 0:\n",
    "    result.append(str(value))\n",
    "print(''.join(result))"
   ]
  },
  {
   "cell_type": "markdown",
   "id": "f2824fce",
   "metadata": {},
   "source": [
    "## 문자열 압축"
   ]
  },
  {
   "cell_type": "code",
   "execution_count": 57,
   "id": "91cf0584",
   "metadata": {
    "scrolled": false
   },
   "outputs": [
    {
     "name": "stdout",
     "output_type": "stream",
     "text": [
      "abcabcdede\n"
     ]
    }
   ],
   "source": [
    "s = input()"
   ]
  },
  {
   "cell_type": "code",
   "execution_count": 56,
   "id": "5e07cb89",
   "metadata": {},
   "outputs": [
    {
     "ename": "KeyboardInterrupt",
     "evalue": "",
     "output_type": "error",
     "traceback": [
      "\u001b[1;31m---------------------------------------------------------------------------\u001b[0m",
      "\u001b[1;31mKeyboardInterrupt\u001b[0m                         Traceback (most recent call last)",
      "Input \u001b[1;32mIn [56]\u001b[0m, in \u001b[0;36m<cell line: 6>\u001b[1;34m()\u001b[0m\n\u001b[0;32m      6\u001b[0m \u001b[38;5;28;01mfor\u001b[39;00m i \u001b[38;5;129;01min\u001b[39;00m \u001b[38;5;28mrange\u001b[39m(\u001b[38;5;241m4\u001b[39m):\n\u001b[0;32m      7\u001b[0m     \u001b[38;5;28;01mwhile\u001b[39;00m start\u001b[38;5;241m<\u001b[39mN:    \n\u001b[1;32m----> 8\u001b[0m         \u001b[38;5;28;01mif\u001b[39;00m start\u001b[38;5;241m+\u001b[39mi\u001b[38;5;241m<\u001b[39m\u001b[38;5;241m=\u001b[39mN \u001b[38;5;129;01mand\u001b[39;00m s[start:\u001b[43mstart\u001b[49m\u001b[38;5;241;43m+\u001b[39;49m\u001b[43mi\u001b[49m] \u001b[38;5;241m==\u001b[39m s[start\u001b[38;5;241m+\u001b[39mi:start\u001b[38;5;241m+\u001b[39m(\u001b[38;5;241m2\u001b[39m\u001b[38;5;241m*\u001b[39mi)]:\n\u001b[0;32m      9\u001b[0m             cnt \u001b[38;5;241m+\u001b[39m\u001b[38;5;241m=\u001b[39m \u001b[38;5;241m1\u001b[39m\n\u001b[0;32m     10\u001b[0m             start \u001b[38;5;241m+\u001b[39m\u001b[38;5;241m=\u001b[39m i\n",
      "\u001b[1;31mKeyboardInterrupt\u001b[0m: "
     ]
    }
   ],
   "source": [
    "start = 0\n",
    "cnt = 1\n",
    "result=''\n",
    "min_len = 1000\n",
    "\n",
    "for i in range(1,len(s)//2+1):\n",
    "    while start<N:    \n",
    "        if start+i<=N and s[start:start+i] == s[start+i:start+(2*i)]:\n",
    "            cnt += 1\n",
    "            start += i\n",
    "        elif start+i<=N and s[start:start+i] != s[start+i:start+(2*i)]:\n",
    "            if cnt == 1:\n",
    "                result += s[start:start+i]\n",
    "            else:\n",
    "                result += str(cnt) + s[start:start+i]\n",
    "            start += i\n",
    "            cnt = 1\n",
    "    min_len = min(min_len, len(result))\n",
    "    print(result)\n",
    "\n",
    "print(min_len)"
   ]
  },
  {
   "cell_type": "code",
   "execution_count": 68,
   "id": "7e7decd4",
   "metadata": {
    "scrolled": true
   },
   "outputs": [
    {
     "name": "stdout",
     "output_type": "stream",
     "text": [
      "xababcdcdababcdcd\n"
     ]
    }
   ],
   "source": [
    "s = input()"
   ]
  },
  {
   "cell_type": "code",
   "execution_count": 69,
   "id": "2a0b257f",
   "metadata": {},
   "outputs": [
    {
     "name": "stdout",
     "output_type": "stream",
     "text": [
      "17\n"
     ]
    }
   ],
   "source": [
    "# 답안\n",
    "def solutions(s):\n",
    "    answer = len(s)\n",
    "    for step in range(1,len(s)//2+1):\n",
    "        compressed=''\n",
    "        prev = s[0:step]\n",
    "        count = 1\n",
    "        for j in range(step,len(s),step):\n",
    "            if prev == s[j:j+step]:\n",
    "                count += 1\n",
    "            else:\n",
    "                compressed += str(count) + prev if count >= 2 else prev\n",
    "                prev = s[j:j+step]\n",
    "                count = 1\n",
    "        compressed += str(count) + prev if count>=2 else prev\n",
    "        answer = min(answer, len(compressed))\n",
    "    return answer\n",
    "\n",
    "answer = solutions(s)\n",
    "print(answer)"
   ]
  },
  {
   "cell_type": "markdown",
   "id": "570927b0",
   "metadata": {},
   "source": [
    "# 기출문제"
   ]
  },
  {
   "cell_type": "markdown",
   "id": "7a2583f2",
   "metadata": {},
   "source": [
    "## 특정 거리의 도시 찾기"
   ]
  },
  {
   "cell_type": "code",
   "execution_count": 44,
   "id": "d22771d7",
   "metadata": {},
   "outputs": [
    {
     "name": "stdout",
     "output_type": "stream",
     "text": [
      "4 3 2 1\n",
      "1 2\n",
      "1 3\n",
      "1 4\n"
     ]
    }
   ],
   "source": [
    "from collections import deque\n",
    "\n",
    "N, M, K, X = map(int, input().split())\n",
    "graph = [[] for _ in range(N+1)]\n",
    "\n",
    "for _ in range(M):\n",
    "    A, B = map(int, input().split())\n",
    "    graph[A].append(B)\n",
    "    \n",
    "visited = [False]*(N+1)\n",
    "\n",
    "cnt = 0\n",
    "def my_bfs(graph, start, visited, K):\n",
    "    global cnt\n",
    "    # 방문한 도시를 저장할 리스트 생성\n",
    "    result = list()\n",
    "    \n",
    "    # BFS방법으로 시작\n",
    "    queue = deque([(start,0)])\n",
    "    visited[start] = True\n",
    "    \n",
    "    while queue:\n",
    "        # 인접한 도시하나하나 탐색\n",
    "        v, d = queue.popleft()\n",
    "        # 최단거리 K를 만족하면 result에 추가\n",
    "        if d==K:\n",
    "            result.append(v)\n",
    "        # while문 종료조건\n",
    "        elif d>K:\n",
    "            return result\n",
    "        # v와 인접한 도시 deque에 추가\n",
    "        for i in graph[v]:\n",
    "            if not visited[i]:\n",
    "                queue.append((i,d+1))\n",
    "                # 방문처리\n",
    "                visited[i] = True\n",
    "                \n",
    "    # 최단거리에 도착한 도시가 없을 때 -1 출력\n",
    "    if len(result)==0:\n",
    "        result = -1\n",
    "\n",
    "    return result\n",
    "\n",
    "result = my_bfs(graph, X, visited, K)\n",
    "\n",
    "if result != -1:\n",
    "    # 오름차순으록 정렬\n",
    "    result.sort()\n",
    "    print(*result, sep='\\n')\n",
    "else:\n",
    "    print(result)\n"
   ]
  },
  {
   "cell_type": "code",
   "execution_count": null,
   "id": "1450d7da",
   "metadata": {},
   "outputs": [],
   "source": [
    "# 답안\n",
    "from collections import deque\n",
    "\n",
    "n,m,k,x = map(int, input().split())\n",
    "graph = [[] for _ in range(n+1)]\n",
    "\n",
    "for _ in range(m):\n",
    "    a, b = map(int, input().split())\n",
    "    graph[a].append(b)\n",
    "    \n",
    "distance = [-1]*(n+1)\n",
    "distance[x] = 0\n",
    "\n",
    "q = deque([x])\n",
    "while q:\n",
    "    now = q.popleft()\n",
    "    for next_node in graph[now]:\n",
    "        if distance[next_node] == -1:\n",
    "            distance[next_node] = distance[now]+1\n",
    "            q.append(next_node)\n",
    "            \n",
    "check = False\n",
    "for i in range(1,n+1):\n",
    "    if distance[i] == k:\n",
    "        print(i)\n",
    "        check = True\n",
    "        \n",
    "if check == False:\n",
    "    print(-1)"
   ]
  },
  {
   "cell_type": "markdown",
   "id": "d5ed3345",
   "metadata": {},
   "source": [
    "## 연구소"
   ]
  },
  {
   "cell_type": "code",
   "execution_count": 7,
   "id": "f604a08b",
   "metadata": {},
   "outputs": [
    {
     "name": "stdout",
     "output_type": "stream",
     "text": [
      "7 7\n",
      "2 0 0 0 1 1 0\n",
      "0 0 1 0 1 2 0\n",
      "0 1 1 0 1 0 0\n",
      "0 1 0 0 0 0 0\n",
      "0 0 0 0 0 1 1\n",
      "0 1 0 0 0 0 0\n",
      "0 1 0 0 0 0 0\n"
     ]
    }
   ],
   "source": [
    "N, M = map(int, input().split())\n",
    "graph = []\n",
    "for i in range(M):\n",
    "    x = list(map(int, input().split()))\n",
    "    graph.append(x)"
   ]
  },
  {
   "cell_type": "code",
   "execution_count": 10,
   "id": "28a49bb7",
   "metadata": {},
   "outputs": [
    {
     "data": {
      "text/plain": [
       "[[2, 0, 0, 0, 1, 1, 0],\n",
       " [0, 0, 1, 0, 1, 2, 0],\n",
       " [0, 1, 1, 0, 1, 0, 0],\n",
       " [0, 1, 0, 0, 0, 0, 0],\n",
       " [0, 0, 0, 0, 0, 1, 1],\n",
       " [0, 1, 0, 0, 0, 0, 0],\n",
       " [0, 1, 0, 0, 0, 0, 0]]"
      ]
     },
     "execution_count": 10,
     "metadata": {},
     "output_type": "execute_result"
    }
   ],
   "source": [
    "graph"
   ]
  },
  {
   "cell_type": "code",
   "execution_count": 12,
   "id": "5a95d3ea",
   "metadata": {},
   "outputs": [
    {
     "name": "stdout",
     "output_type": "stream",
     "text": [
      "7 7\n",
      "2 0 0 0 1 1 0\n",
      "0 0 1 0 1 2 0\n",
      "0 1 1 0 1 0 0\n",
      "0 1 0 0 0 0 0\n",
      "0 0 0 0 0 1 1\n",
      "0 1 0 0 0 0 0\n",
      "0 1 0 0 0 0 0\n",
      "27\n"
     ]
    }
   ],
   "source": [
    "# 답안\n",
    "n,m = map(int, input().split())\n",
    "data = []\n",
    "temp = [[0]*m for _ in range(n)]\n",
    "\n",
    "for _ in range(n):\n",
    "    data.append(list(map(int, input().split())))\n",
    "    \n",
    "dx = [-1,0,1,0]\n",
    "dy = [0,1,0,-1]\n",
    "\n",
    "result = 0\n",
    "\n",
    "def virus(x,y):\n",
    "    for i in range(4):\n",
    "        nx = x+dx[i]\n",
    "        ny = y+dy[i]\n",
    "        \n",
    "        if nx>=0 and nx<n and ny>=0 and ny<m:\n",
    "            if temp[nx][ny]==0:\n",
    "                temp[nx][ny]=2\n",
    "                virus(nx,ny)\n",
    "                \n",
    "def get_score():\n",
    "    score = 0\n",
    "    for i in range(n):\n",
    "        for j in range(m):\n",
    "            if temp[i][j] == 0:\n",
    "                score += 1\n",
    "    return score\n",
    "\n",
    "def dfs(count):\n",
    "    global result\n",
    "    if count == 3:\n",
    "        for i in range(n):\n",
    "            for j in range(m):\n",
    "                temp[i][j] = data[i][j]\n",
    "                \n",
    "        for i in range(n):\n",
    "            for j in range(m):\n",
    "                if temp[i][j] == 2:\n",
    "                    virus(i,j)\n",
    "        result = max(result, get_score())\n",
    "        return result\n",
    "    \n",
    "    for i in range(n):\n",
    "        for j in range(m):\n",
    "            if data[i][j] == 0:\n",
    "                data[i][j]=1\n",
    "                count += 1\n",
    "                dfs(count)\n",
    "                data[i][j] = 0\n",
    "                count -= 1\n",
    "                \n",
    "dfs(0)\n",
    "print(result)"
   ]
  },
  {
   "cell_type": "markdown",
   "id": "3ad9791f",
   "metadata": {},
   "source": [
    "## 경쟁적 전염"
   ]
  },
  {
   "cell_type": "code",
   "execution_count": 31,
   "id": "205c2fa7",
   "metadata": {},
   "outputs": [
    {
     "name": "stdout",
     "output_type": "stream",
     "text": [
      "3 3\n",
      "1 0 2\n",
      "0 0 0\n",
      "3 0 0\n",
      "1 2 2\n"
     ]
    }
   ],
   "source": [
    "N, K = map(int, input().split())\n",
    "graph = []\n",
    "\n",
    "for _ in range(N):\n",
    "    graph.append(list(map(int, input().split())))\n",
    "    \n",
    "S, X, Y = map(int, input().split())"
   ]
  },
  {
   "cell_type": "code",
   "execution_count": 32,
   "id": "3aa36d60",
   "metadata": {},
   "outputs": [
    {
     "data": {
      "text/plain": [
       "[[1, 0, 2], [0, 0, 0], [3, 0, 0]]"
      ]
     },
     "execution_count": 32,
     "metadata": {},
     "output_type": "execute_result"
    }
   ],
   "source": [
    "graph"
   ]
  },
  {
   "cell_type": "code",
   "execution_count": 33,
   "id": "663e166c",
   "metadata": {},
   "outputs": [
    {
     "name": "stdout",
     "output_type": "stream",
     "text": [
      "0\n",
      "[[1, 1, 2], [1, 0, 2], [3, 3, 0]]\n"
     ]
    }
   ],
   "source": [
    "from collections import deque\n",
    "\n",
    "N, K = map(int, input().split())\n",
    "graph = []\n",
    "\n",
    "for _ in range(N):\n",
    "    graph.append(list(map(int, input().split())))\n",
    "    \n",
    "S, X, Y = map(int, input().split())\n",
    "\n",
    "dx = [1,-1,0,0]\n",
    "dy = [0,0,1,-1]\n",
    "queue = deque()\n",
    "# 방문처리용\n",
    "temp = [[0]*N for _ in range(N)]\n",
    "\n",
    "# S초 동안 진행\n",
    "for _ in range(S):\n",
    "    # k번째 바이러스가 graph내에 존재하는 경우 queue에 추가\n",
    "    for k in range(1,K+1):\n",
    "        for i in range(N):\n",
    "            for j in range(N):\n",
    "                if graph[i][j]==k and temp[i][j]==0:\n",
    "                    queue.append((i,j))\n",
    "                    temp[i][j] = 1     # 추가 후 방문처리\n",
    "                    \n",
    "        # 시작지점이 없어질때 까지 반복            \n",
    "        while queue:\n",
    "            x,y = queue.popleft()\n",
    "            for i in range(4):\n",
    "                nx = x+dx[i]\n",
    "                ny = y+dy[i]\n",
    "                # 범위내에 있는 경우\n",
    "                if nx>=0 and nx<N and ny>=0 and ny<N:\n",
    "                    if graph[nx][ny]==0 and temp[nx][ny]==0:\n",
    "                        graph[nx][ny]=k\n",
    "                        temp[nx][ny]=1\n",
    "                        \n",
    "print(graph[X-1][Y-1])\n"
   ]
  },
  {
   "cell_type": "code",
   "execution_count": 3,
   "id": "b5fd1f4b",
   "metadata": {},
   "outputs": [
    {
     "name": "stdout",
     "output_type": "stream",
     "text": [
      "3 3\n",
      "1 0 2\n",
      "0 0 0\n",
      "3 0 0\n",
      "1 2 2\n"
     ]
    }
   ],
   "source": [
    "# 답안\n",
    "from collections import deque\n",
    "n,k = map(int, input().split())\n",
    "\n",
    "graph=[]\n",
    "data=[]\n",
    "\n",
    "for i in range(n):\n",
    "    graph.append(list(map(int, input().split())))\n",
    "    for j in range(n):\n",
    "        if graph[i][j]!=0:\n",
    "            # (바이러스 종류, 시간, 위치 X, 위치 Y)\n",
    "            data.append((graph[i][j],0,i,j))\n",
    "            \n",
    "data.sort()\n",
    "q = deque(data)\n",
    "\n",
    "target_s, target_x, target_y = map(int, input().split())\n",
    "\n",
    "dx = [-1,0,1,0]\n",
    "dy = [0,1,0,-1]\n",
    "\n",
    "while q:\n",
    "    virus,s,x,y = q.popleft()\n",
    "    if s==target_s:\n",
    "        break\n",
    "        \n",
    "    for i in range(4):\n",
    "        nx = x+dx[i]\n",
    "        ny = y+dy[i]\n",
    "        \n",
    "        if nx>=0 and nx<n and ny>=0 and ny<n:\n",
    "            if graph[nx][ny]==0:\n",
    "                graph[nx][ny] = virus\n",
    "                q.append((virus,s+1,nx,ny))\n",
    "                \n",
    "print(graph[target_x-1][target_y-1])"
   ]
  },
  {
   "cell_type": "markdown",
   "id": "bb94e939",
   "metadata": {},
   "source": [
    "# 기출문제"
   ]
  },
  {
   "cell_type": "markdown",
   "id": "90c02086",
   "metadata": {},
   "source": [
    "## 정렬된 배열에서 특정 수의 개수 구하기"
   ]
  },
  {
   "cell_type": "code",
   "execution_count": 12,
   "id": "03861fb0",
   "metadata": {},
   "outputs": [
    {
     "name": "stdout",
     "output_type": "stream",
     "text": [
      "7 4\n",
      "1 1 2 2 2 2 3\n"
     ]
    }
   ],
   "source": [
    "N, x = map(int, input().split())\n",
    "data = list(map(int, input().split()))"
   ]
  },
  {
   "cell_type": "code",
   "execution_count": 13,
   "id": "f4dbb321",
   "metadata": {},
   "outputs": [
    {
     "name": "stdout",
     "output_type": "stream",
     "text": [
      "0 3 6\n",
      "4 5 6\n",
      "6 6 6\n",
      "-1\n"
     ]
    }
   ],
   "source": [
    "start = 0\n",
    "end = len(data) - 1\n",
    "cnt = 0\n",
    "\n",
    "while start <= end:\n",
    "    mid = (start+end)//2\n",
    "    # target과 같은 값이면 해당 원소 제거 후 end 위치를 왼쪽으로 한 칸 이동\n",
    "    if data[mid] == x:\n",
    "        cnt += 1\n",
    "        data.pop(mid)\n",
    "        end -= 1\n",
    "    elif data[mid] > x:\n",
    "        end = mid-1\n",
    "    else :\n",
    "        start = mid+1\n",
    "\n",
    "# target과 같은 값이 하나도 없는 경우 -1 출력\n",
    "if cnt == 0:\n",
    "    cnt = -1\n",
    "    \n",
    "print(cnt)"
   ]
  },
  {
   "cell_type": "code",
   "execution_count": 3,
   "id": "7796b1f1",
   "metadata": {},
   "outputs": [
    {
     "data": {
      "text/plain": [
       "[1, 2, 4]"
      ]
     },
     "execution_count": 3,
     "metadata": {},
     "output_type": "execute_result"
    }
   ],
   "source": [
    "# 답안1\n",
    "def count_by_value(array, x):\n",
    "    n = len(array)\n",
    "    \n",
    "    a = first(array, x, 0, n-1)\n",
    "    if a==None:\n",
    "        return 0\n",
    "    b = last(array,x,0,n-1)\n",
    "    \n",
    "    return b-a+1\n",
    "\n",
    "def first(array, target, start, end):\n",
    "    if start>end:\n",
    "        return none\n",
    "    mid = (start+end)//2\n",
    "    if (mid==0 or target>array[mid-1]) and array[mid] == target:\n",
    "        return mid\n",
    "    elif array[mid] >= target:\n",
    "        return first(array, target, start, mid-1)\n",
    "    else:\n",
    "        return first(arrat, target, mid+1, end)\n",
    "    \n",
    "def last(array, target, start, end):\n",
    "    if start>mid:\n",
    "        return None\n",
    "    mid = (start+end)//2\n",
    "    if (mid==n-1 or target<array[mid+1]) and array[mid] == target:\n",
    "        return mid\n",
    "    elif array[mid]>target:\n",
    "        return last(array, target, start, mid-1)\n",
    "    else:\n",
    "        return last(array, target, mid+1, end)\n",
    "    \n",
    "n, x = map(int, input().split())\n",
    "array = list(map(int, input().split()))\n",
    "count = count_by_value(array, x)\n",
    "if count ==0:\n",
    "    print(-1)\n",
    "else:\n",
    "    print(count)"
   ]
  },
  {
   "cell_type": "code",
   "execution_count": null,
   "id": "4f740650",
   "metadata": {},
   "outputs": [],
   "source": [
    "# 답안2\n",
    "from bisect import bisect_left, bisect_right\n",
    "\n",
    "def count_by_range(array, left_value, right_value):\n",
    "    right_index = bisect_right(array, right_value)\n",
    "    left_index = bisect_left(array, left_value)\n",
    "    return right_index - left_index\n",
    "\n",
    "n, x = map(int, input().split())\n",
    "array = list(map(int, input().split()))\n",
    "count = count_by_value(array, x,x)\n",
    "if count ==0:\n",
    "    print(-1)\n",
    "else:\n",
    "    print(count)"
   ]
  },
  {
   "cell_type": "markdown",
   "id": "22ec1ddc",
   "metadata": {},
   "source": [
    "## 고정점 찾기"
   ]
  },
  {
   "cell_type": "code",
   "execution_count": 20,
   "id": "98f51901",
   "metadata": {},
   "outputs": [
    {
     "name": "stdout",
     "output_type": "stream",
     "text": [
      "7\n",
      "-15 -4 3 8 9 13 15\n"
     ]
    }
   ],
   "source": [
    "N = int(input())\n",
    "array = list(map(int, input().split()))"
   ]
  },
  {
   "cell_type": "code",
   "execution_count": 22,
   "id": "18c7f713",
   "metadata": {},
   "outputs": [
    {
     "name": "stdout",
     "output_type": "stream",
     "text": [
      "-1\n"
     ]
    }
   ],
   "source": [
    "start = 0\n",
    "end = len(array)-1\n",
    "\n",
    "def my_binary_search(array, start, end):\n",
    "    result = -1\n",
    "    while start <= end:\n",
    "        mid = (start+end)//2\n",
    "        # 고정점과 인덱스가 같은 경우\n",
    "        if array[mid] == mid:\n",
    "            return mid\n",
    "        elif array[mid] > mid:\n",
    "            end -= 1\n",
    "        else :\n",
    "            start += 1\n",
    "    # 고정점이 없는 경우 -1 출력\n",
    "    return result\n",
    "            \n",
    "result = my_binary_search(array,start, end)\n",
    "print(result)"
   ]
  },
  {
   "cell_type": "code",
   "execution_count": 24,
   "id": "bddff112",
   "metadata": {},
   "outputs": [
    {
     "name": "stdout",
     "output_type": "stream",
     "text": [
      "7\n",
      "-15 -4 2 8 9 13 15\n"
     ]
    }
   ],
   "source": [
    "n = int(input())\n",
    "array = list(map(int, input().split()))"
   ]
  },
  {
   "cell_type": "code",
   "execution_count": 25,
   "id": "966a6da5",
   "metadata": {},
   "outputs": [
    {
     "name": "stdout",
     "output_type": "stream",
     "text": [
      "2\n"
     ]
    }
   ],
   "source": [
    "# 답안\n",
    "def binary_search(array, start, end):\n",
    "    if start>end:\n",
    "        return None\n",
    "    mid = (start+end)//2\n",
    "    if array[mid]==mid:\n",
    "        return mid\n",
    "    elif array[mid]>mid:\n",
    "        return binary_search(array,start,mid-1)\n",
    "    else:\n",
    "        return binary_search(array, mid+1, end)\n",
    "    \n",
    "    \n",
    "index = binary_search(array,0,n-1)\n",
    "if index==None:\n",
    "    print(-1)\n",
    "else:\n",
    "    print(index)"
   ]
  },
  {
   "cell_type": "markdown",
   "id": "695d211f",
   "metadata": {},
   "source": [
    "## 공유기 설치 (백준 - 2110)"
   ]
  },
  {
   "cell_type": "code",
   "execution_count": 1,
   "id": "d85487f8",
   "metadata": {},
   "outputs": [
    {
     "name": "stdout",
     "output_type": "stream",
     "text": [
      "5 3\n",
      "1\n",
      "2\n",
      "8\n",
      "4\n",
      "9\n"
     ]
    }
   ],
   "source": [
    "# 답안\n",
    "N, C = map(int, input().split())\n",
    "array = []\n",
    "for _ in range(N):\n",
    "    array.append(int(input()))\n",
    "array.sort()"
   ]
  },
  {
   "cell_type": "code",
   "execution_count": 6,
   "id": "c8e20642",
   "metadata": {},
   "outputs": [
    {
     "name": "stdout",
     "output_type": "stream",
     "text": [
      "3\n"
     ]
    }
   ],
   "source": [
    "start = 1\n",
    "end = array[-1] - array[0]\n",
    "result = 0\n",
    "\n",
    "while start<=end:\n",
    "    # gap을 이진탐색으로 찾아준다.\n",
    "    mid = (start+end)//2\n",
    "    value = array[0]\n",
    "    count = 1\n",
    "    for i in range(1,N):\n",
    "        if array[i] >= value + mid:\n",
    "            value = array[i]\n",
    "            count += 1\n",
    "    if count >= C:\n",
    "        start = mid+1\n",
    "        result = mid\n",
    "    else:\n",
    "        end = mid-1\n",
    "print(result)"
   ]
  },
  {
   "cell_type": "code",
   "execution_count": null,
   "id": "b70333f0",
   "metadata": {},
   "outputs": [],
   "source": []
  }
 ],
 "metadata": {
  "kernelspec": {
   "display_name": "Python 3 (ipykernel)",
   "language": "python",
   "name": "python3"
  },
  "language_info": {
   "codemirror_mode": {
    "name": "ipython",
    "version": 3
   },
   "file_extension": ".py",
   "mimetype": "text/x-python",
   "name": "python",
   "nbconvert_exporter": "python",
   "pygments_lexer": "ipython3",
   "version": "3.9.12"
  }
 },
 "nbformat": 4,
 "nbformat_minor": 5
}
