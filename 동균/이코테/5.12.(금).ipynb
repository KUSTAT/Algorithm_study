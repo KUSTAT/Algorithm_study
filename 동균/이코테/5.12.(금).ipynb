{
 "cells": [
  {
   "cell_type": "markdown",
   "id": "37af38f2",
   "metadata": {},
   "source": [
    "# 그리디 (5,6)"
   ]
  },
  {
   "cell_type": "markdown",
   "id": "cc4d109f",
   "metadata": {},
   "source": [
    "### 모험가 길드"
   ]
  },
  {
   "cell_type": "code",
   "execution_count": 5,
   "id": "6df12997",
   "metadata": {},
   "outputs": [
    {
     "name": "stdout",
     "output_type": "stream",
     "text": [
      "10\n",
      "2 3 1 4 2 2 3 4 1 2\n"
     ]
    }
   ],
   "source": [
    "N = int(input())\n",
    "array = list(map(int, input().split()))"
   ]
  },
  {
   "cell_type": "code",
   "execution_count": 6,
   "id": "a7093ebe",
   "metadata": {},
   "outputs": [
    {
     "data": {
      "text/plain": [
       "[2, 3, 1, 4, 2, 2, 3, 4, 1, 2]"
      ]
     },
     "execution_count": 6,
     "metadata": {},
     "output_type": "execute_result"
    }
   ],
   "source": [
    "array"
   ]
  },
  {
   "cell_type": "code",
   "execution_count": 7,
   "id": "1b306a92",
   "metadata": {},
   "outputs": [
    {
     "name": "stdout",
     "output_type": "stream",
     "text": [
      "5\n"
     ]
    }
   ],
   "source": [
    "max_a = 0\n",
    "temp = []\n",
    "cnt = 0\n",
    "array.sort(reverse=True)\n",
    "\n",
    "for i in array:\n",
    "    max_a = max(max_a, i)\n",
    "    temp.append(i)\n",
    "    if max_a == len(temp):\n",
    "        temp = []\n",
    "        cnt += 1\n",
    "        max_a = 0\n",
    "        \n",
    "print(cnt)"
   ]
  },
  {
   "cell_type": "code",
   "execution_count": 8,
   "id": "0eb7b2e6",
   "metadata": {},
   "outputs": [
    {
     "name": "stdout",
     "output_type": "stream",
     "text": [
      "10\n",
      "2 3 1 4 2 2 3 4 1 2\n",
      "5\n"
     ]
    }
   ],
   "source": [
    "# 답안\n",
    "n = int(input())\n",
    "data = list(map(int, input().split()))\n",
    "data.sort()\n",
    "\n",
    "result = 0 # 그룹 수\n",
    "count = 0 # 현재 그룹에 포함된 모험가의 수\n",
    "\n",
    "for i in data:\n",
    "    count += 1\n",
    "    if count >= i:\n",
    "        result += 1\n",
    "        count = 0\n",
    "        \n",
    "print(result)"
   ]
  },
  {
   "cell_type": "markdown",
   "id": "8270300d",
   "metadata": {},
   "source": [
    "## 곱하기 혹은 더하기"
   ]
  },
  {
   "cell_type": "code",
   "execution_count": 21,
   "id": "b8f9ea1c",
   "metadata": {},
   "outputs": [
    {
     "name": "stdout",
     "output_type": "stream",
     "text": [
      "012984\n"
     ]
    }
   ],
   "source": [
    "S = input()"
   ]
  },
  {
   "cell_type": "code",
   "execution_count": 22,
   "id": "c9e88db0",
   "metadata": {},
   "outputs": [
    {
     "name": "stdout",
     "output_type": "stream",
     "text": [
      "864\n"
     ]
    }
   ],
   "source": [
    "start = 1  # 포인터\n",
    "max_val = int(S[0])\n",
    "\n",
    "while start<len(S):\n",
    "    cur_val = int(S[start])\n",
    "    # + 연산과 * 연산 중 큰 값을 선택\n",
    "    max_val = max(max_val*cur_val, max_val+cur_val)\n",
    "    start += 1\n",
    "    \n",
    "print(max_val)"
   ]
  },
  {
   "cell_type": "code",
   "execution_count": null,
   "id": "13092e52",
   "metadata": {},
   "outputs": [],
   "source": [
    "# 답안\n",
    "data = input()\n",
    "\n",
    "result = int(data[0])\n",
    "for i in range(1, len(data)):\n",
    "    # 두 수 중에서 하나라도 '0' 혹은 '1'인 경우, 더히기 수행\n",
    "    num = int(data[i])\n",
    "    if num <= 1 or result <= 1:\n",
    "        result += num\n",
    "    else:\n",
    "        result *= num\n",
    "        \n",
    "print(result)"
   ]
  },
  {
   "cell_type": "markdown",
   "id": "18cd8564",
   "metadata": {},
   "source": [
    "# 구현 (10,11)"
   ]
  },
  {
   "cell_type": "markdown",
   "id": "7283092b",
   "metadata": {},
   "source": [
    "## 자물쇠와 열쇠"
   ]
  },
  {
   "cell_type": "code",
   "execution_count": 9,
   "id": "5380bba7",
   "metadata": {},
   "outputs": [
    {
     "name": "stdout",
     "output_type": "stream",
     "text": [
      "3 3\n",
      "0 0 0\n",
      "1 0 0\n",
      "0 1 1\n",
      "1 1 1\n",
      "1 1 0\n",
      "1 0 1\n"
     ]
    }
   ],
   "source": [
    "N, M = map(int, input().split())\n",
    "key = [list(map(int, input().split())) for _ in range(M)]\n",
    "lock = [list(map(int, input().split())) for _ in range(N)]"
   ]
  },
  {
   "cell_type": "code",
   "execution_count": 10,
   "id": "875f0f46",
   "metadata": {},
   "outputs": [
    {
     "data": {
      "text/plain": [
       "[[0, 0, 0], [1, 0, 0], [0, 1, 1]]"
      ]
     },
     "execution_count": 10,
     "metadata": {},
     "output_type": "execute_result"
    }
   ],
   "source": []
  },
  {
   "cell_type": "markdown",
   "id": "a8a5fa78",
   "metadata": {},
   "source": [
    "## 뱀"
   ]
  },
  {
   "cell_type": "code",
   "execution_count": 59,
   "id": "2ade4a8e",
   "metadata": {},
   "outputs": [
    {
     "name": "stdout",
     "output_type": "stream",
     "text": [
      "10\n",
      "5\n",
      "1 5\n",
      "1 3\n",
      "1 2\n",
      "1 6\n",
      "1 7\n",
      "4\n",
      "8 D\n",
      "10 D\n",
      "11 D\n",
      "13 L\n"
     ]
    }
   ],
   "source": [
    "n = int(input()) # 보드의 크기\n",
    "graph = [[0]*n for _ in range(n)]\n",
    "k = int(input()) # 사과의 개수\n",
    "for _ in range(k):\n",
    "    # 사과의 위치\n",
    "    a,b = map(int,input().split())\n",
    "    graph[a-1][b-1] = 1\n",
    "l = int(input()) # 뱀의 방향변환 횟수\n",
    "array = list()   # 방향전환 정보\n",
    "for _ in range(l):\n",
    "    h,c = input().split()\n",
    "    array.append((int(h),c))"
   ]
  },
  {
   "cell_type": "code",
   "execution_count": 60,
   "id": "d6662cff",
   "metadata": {},
   "outputs": [
    {
     "data": {
      "text/plain": [
       "[[0, 1, 1, 0, 1, 1, 1, 0, 0, 0],\n",
       " [0, 0, 0, 0, 0, 0, 0, 0, 0, 0],\n",
       " [0, 0, 0, 0, 0, 0, 0, 0, 0, 0],\n",
       " [0, 0, 0, 0, 0, 0, 0, 0, 0, 0],\n",
       " [0, 0, 0, 0, 0, 0, 0, 0, 0, 0],\n",
       " [0, 0, 0, 0, 0, 0, 0, 0, 0, 0],\n",
       " [0, 0, 0, 0, 0, 0, 0, 0, 0, 0],\n",
       " [0, 0, 0, 0, 0, 0, 0, 0, 0, 0],\n",
       " [0, 0, 0, 0, 0, 0, 0, 0, 0, 0],\n",
       " [0, 0, 0, 0, 0, 0, 0, 0, 0, 0]]"
      ]
     },
     "execution_count": 60,
     "metadata": {},
     "output_type": "execute_result"
    }
   ],
   "source": [
    "graph"
   ]
  },
  {
   "cell_type": "code",
   "execution_count": 61,
   "id": "d43cebac",
   "metadata": {},
   "outputs": [
    {
     "data": {
      "text/plain": [
       "[(8, 'D'), (10, 'D'), (11, 'D'), (13, 'L')]"
      ]
     },
     "execution_count": 61,
     "metadata": {},
     "output_type": "execute_result"
    }
   ],
   "source": [
    "array"
   ]
  },
  {
   "cell_type": "code",
   "execution_count": 62,
   "id": "6e7b39e4",
   "metadata": {},
   "outputs": [],
   "source": [
    "from collections import deque\n",
    "\n",
    "def solution(graph, array):\n",
    "    # 시작은 오른쪽 방향이면서 반시계방향으로 회전이동 좌표\n",
    "    dx = [0,-1,0,1]\n",
    "    dy = [1,0,-1,0]\n",
    "    \n",
    "    x,y = 0,0\n",
    "    temp = deque([(x,y)])   # 길이정보를 저장할 리스트\n",
    "    i = 0   # 방향\n",
    "    cnt = 0   # 몇 초가 지났는지 계산\n",
    "    for d,c in array:\n",
    "        \n",
    "        while cnt<=d:\n",
    "            cnt += 1\n",
    "            nx = x+dx[int(i%4)]\n",
    "            ny = y+dy[int(i%4)]\n",
    "            # 맵 밖으로 나간 경우\n",
    "            if nx<0 or nx>=n or ny<0 or ny>=n:\n",
    "                return cnt\n",
    "            # 뱀의 머리가 몸통과 마주친 경우\n",
    "            if (nx,ny) in temp:\n",
    "                return cnt\n",
    "            # 뱀이 지나간 위치정보 추가\n",
    "            temp.append((nx,ny))\n",
    "            \n",
    "            # 사과를 먹으면 위치정보를 추가만 하고 빼지않음\n",
    "            if graph[nx][ny]==1:\n",
    "                x,y=nx,ny\n",
    "            # 지나간 자리 빼줌\n",
    "            else:\n",
    "                temp.popleft()\n",
    "            x=nx\n",
    "            y=ny\n",
    "            # d초가 지난후 방향전환\n",
    "            if cnt==d:\n",
    "                # 왼쪽\n",
    "                if c=='L':\n",
    "                    i+=1\n",
    "                # 오른쪽\n",
    "                elif c=='D':\n",
    "                    i-=1\n",
    "                break\n",
    "    # 방향전환 이후 더 이동할 수 있는 칸이 존재할 때 (몸통과 부딪히거나 사과를 먹는 경우를 첫 for문 이후에도 설정해줘야 함) => 방법을 달리하자\n",
    "    if int(i%4)==0 or int(i%4)==2:\n",
    "        cnt += y\n",
    "    else:\n",
    "        cnt += x\n",
    "    return cnt+1"
   ]
  },
  {
   "cell_type": "code",
   "execution_count": 63,
   "id": "62d92a11",
   "metadata": {},
   "outputs": [
    {
     "name": "stdout",
     "output_type": "stream",
     "text": [
      "0 1\n",
      "0 2\n",
      "0 3\n",
      "0 4\n",
      "0 5\n",
      "0 6\n",
      "0 7\n",
      "0 8\n",
      "1 8\n",
      "2 8\n",
      "2 7\n",
      "1 7\n",
      "0 7\n",
      "13\n"
     ]
    }
   ],
   "source": [
    "result = solution(graph, array)\n",
    "print(result)"
   ]
  },
  {
   "cell_type": "code",
   "execution_count": null,
   "id": "c053d006",
   "metadata": {},
   "outputs": [],
   "source": [
    "# 답안\n",
    "\n",
    "n = int(input())\n",
    "k = int(input())\n",
    "data = [[0]*(n+1) for _ in range(n+1)] # 맵 정보\n",
    "info = [] # 방향 회전 정보\n",
    "\n",
    "for _ in range(k):\n",
    "    a,b = map(int, input().split())\n",
    "    data[a][b]=1\n",
    "    \n",
    "l = int(input())\n",
    "for _ in range(l):\n",
    "    x, c = input().split()\n",
    "    info.append((int(x),c))\n",
    "\n",
    "# 동,남,서,북\n",
    "dx = [0,-1,0,1]\n",
    "dy = [1,0,-1,0]\n",
    "\n",
    "def turn(direction, c):\n",
    "    if c=='L':\n",
    "        direction = (direction-1)%4\n",
    "    else:\n",
    "        direction = (direction+1)%4\n",
    "    return direction\n",
    "\n",
    "def simulate():\n",
    "    x,y=1,1\n",
    "    data[x][y]=2\n",
    "    direction=0\n",
    "    time=0\n",
    "    index=0\n",
    "    q=[(x,y)]\n",
    "    while True:\n",
    "        nx = x+dx[direction]\n",
    "        ny = y+dy[direction]\n",
    "        \n",
    "        if 1<=nx<=n and 1<=ny<=n and data[nx][ny]!=2:\n",
    "            if data[nx][ny]==0:\n",
    "                data[nx][ny]=2\n",
    "                q.append((nx,ny))\n",
    "                px,py = q.pop(0)\n",
    "                data[px][py]=0\n",
    "                \n",
    "            if data[nx][ny]==1:\n",
    "                data[nx][ny]=2\n",
    "                q.append((nx,ny))\n",
    "                \n",
    "        else:\n",
    "            time += 1\n",
    "            break\n",
    "        x,y = nx,ny\n",
    "        time += 1\n",
    "        if index<1 and time==info[index][0]:\n",
    "            direction = turn(direction, info[index][1])\n",
    "            index += 1\n",
    "    return time\n",
    "\n",
    "print(simulate())"
   ]
  },
  {
   "cell_type": "markdown",
   "id": "b8ec055e",
   "metadata": {},
   "source": [
    "## 괄호 변환"
   ]
  },
  {
   "cell_type": "code",
   "execution_count": 33,
   "id": "580eea94",
   "metadata": {
    "scrolled": true
   },
   "outputs": [
    {
     "name": "stdout",
     "output_type": "stream",
     "text": [
      "()))((()\n"
     ]
    }
   ],
   "source": [
    "p = input()"
   ]
  },
  {
   "cell_type": "code",
   "execution_count": 35,
   "id": "a9a4a97b",
   "metadata": {},
   "outputs": [],
   "source": [
    "def balanced_index(p):\n",
    "    cnt = 0\n",
    "    for i in range(len(p)):\n",
    "        if p[i]=='(':\n",
    "            cnt += 1\n",
    "        else:\n",
    "            cnt -= 1\n",
    "        if cnt == 0:\n",
    "            return i\n",
    "        \n",
    "def check_proper(p):\n",
    "    cnt = 0\n",
    "    for i in p:\n",
    "        if cnt < 0:\n",
    "            return False\n",
    "        cnt = cnt+1 if i=='(' else cnt - 1\n",
    "    return True\n",
    "\n",
    "def solution(p):\n",
    "    answer = ''\n",
    "    # 빈 문자열인 경우 빈문자열 반환\n",
    "    if p=='':\n",
    "        return answer\n",
    "    # 두 개의 균형잡인 괄호 문자열로 분리\n",
    "    index = balanced_index(p)\n",
    "    u = p[:index+1]\n",
    "    v = p[index+1:]\n",
    "    # u가 올바른 괄호 문자열인 경우\n",
    "    if check_proper(u):\n",
    "        answer = u+solution(v)\n",
    "    # u가 올바른 괄호 문자열이 아닌 경우\n",
    "    else:\n",
    "        answer = '('\n",
    "        answer += solution(v)\n",
    "        answer += ')'\n",
    "        u = list(u[1:-1])\n",
    "        for i in range(len(u)):\n",
    "            if u[i] == '(':\n",
    "                u[i] = ')'\n",
    "            else:\n",
    "                u[i] = '('\n",
    "        answer += ''.join(u)\n",
    "        \n",
    "    return answer"
   ]
  },
  {
   "cell_type": "code",
   "execution_count": 36,
   "id": "8706d739",
   "metadata": {},
   "outputs": [
    {
     "name": "stdout",
     "output_type": "stream",
     "text": [
      "()(())()\n"
     ]
    }
   ],
   "source": [
    "result = solution(p)\n",
    "print(result)"
   ]
  },
  {
   "cell_type": "markdown",
   "id": "4f22514a",
   "metadata": {},
   "source": [
    "## 위상정렬\n",
    "\n",
    "- 시간 복잡도 : $O(V+E)$"
   ]
  },
  {
   "cell_type": "code",
   "execution_count": 2,
   "id": "ba3bd46f",
   "metadata": {},
   "outputs": [
    {
     "name": "stdout",
     "output_type": "stream",
     "text": [
      "7 8\n",
      "1 2\n",
      "1 5\n",
      "2 3\n",
      "2 6\n",
      "3 4\n",
      "4 7\n",
      "5 6\n",
      "6 4\n",
      "1 2 5 3 6 4 7 "
     ]
    }
   ],
   "source": [
    "from collections import deque\n",
    "\n",
    "v, e = map(int, input().split())\n",
    "indegree = [0]*(v+1)\n",
    "graph = [[] for i in range(v+1)]\n",
    "\n",
    "for _ in range(e):\n",
    "    a,b = map(int, input().split())\n",
    "    graph[a].append(b)\n",
    "    indegree[b] += 1\n",
    "    \n",
    "def topology_sort():\n",
    "    result = []\n",
    "    q = deque()\n",
    "    \n",
    "    for i in range(1, v+1):\n",
    "        if indegree[i] == 0:\n",
    "            q.append(i)\n",
    "            \n",
    "    while q:\n",
    "        now = q.popleft()\n",
    "        result.append(now)\n",
    "        for i in graph[now]:\n",
    "            indegree[i] -= 1\n",
    "            if indegree[i]==0:\n",
    "                q.append(i)\n",
    "                \n",
    "    for i in result:\n",
    "        print(i, end=' ')\n",
    "\n",
    "topology_sort()"
   ]
  },
  {
   "cell_type": "markdown",
   "id": "25af2f9e",
   "metadata": {},
   "source": [
    "### 커리큘럼"
   ]
  },
  {
   "cell_type": "code",
   "execution_count": 3,
   "id": "a34624c8",
   "metadata": {},
   "outputs": [
    {
     "name": "stdout",
     "output_type": "stream",
     "text": [
      "5\n",
      "10 -1\n",
      "10 1 -1\n",
      "4 1 -1\n",
      "4 3 1 -1\n",
      "3 3 -1\n",
      "10\n",
      "20\n",
      "14\n",
      "18\n",
      "17\n"
     ]
    }
   ],
   "source": [
    "# 답안\n",
    "\n",
    "from collections import deque\n",
    "import copy\n",
    "\n",
    "v = int(input())\n",
    "indegree = [0]*(v+1)\n",
    "graph = [[] for _ in range(v+1)]\n",
    "time = [0]*(v+1)\n",
    "\n",
    "for i in range(1,v+1):\n",
    "    data = list(map(int, input().split()))\n",
    "    time [i] = data[0]\n",
    "    for x in data[1:-1]:\n",
    "        indegree[i] += 1\n",
    "        graph[x].append(i)\n",
    "        \n",
    "def topology_sort():\n",
    "    result = copy.deepcopy(time)   # 수행 결과를 담을 리스트\n",
    "    q = deque()\n",
    "    \n",
    "    for i in range(1,v+1):\n",
    "        if indegree[i] == 0:\n",
    "            q.append(i)\n",
    "            \n",
    "    while q:\n",
    "        now = q.popleft()\n",
    "        for i in graph[now]:\n",
    "            result[i] = max(result[i], result[now]+time[i])\n",
    "            indegree[i] -= 1\n",
    "            if indegree[i]==0:\n",
    "                q.append(i)\n",
    "                \n",
    "    for i in range(1,v+1):\n",
    "        print(result[i])\n",
    "        \n",
    "topology_sort()"
   ]
  },
  {
   "cell_type": "code",
   "execution_count": null,
   "id": "ee415e7a",
   "metadata": {},
   "outputs": [],
   "source": []
  }
 ],
 "metadata": {
  "kernelspec": {
   "display_name": "Python 3 (ipykernel)",
   "language": "python",
   "name": "python3"
  },
  "language_info": {
   "codemirror_mode": {
    "name": "ipython",
    "version": 3
   },
   "file_extension": ".py",
   "mimetype": "text/x-python",
   "name": "python",
   "nbconvert_exporter": "python",
   "pygments_lexer": "ipython3",
   "version": "3.9.12"
  }
 },
 "nbformat": 4,
 "nbformat_minor": 5
}
