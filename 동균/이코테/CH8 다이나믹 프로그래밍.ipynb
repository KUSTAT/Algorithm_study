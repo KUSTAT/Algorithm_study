{
 "cells": [
  {
   "cell_type": "code",
   "execution_count": 1,
   "id": "76273ee2",
   "metadata": {},
   "outputs": [
    {
     "name": "stdout",
     "output_type": "stream",
     "text": [
      "3\n"
     ]
    }
   ],
   "source": [
    "# 피보나치 함수\n",
    "def fibo(x):\n",
    "    if x == 1 or x == 2:\n",
    "        return 1\n",
    "    return fibo(x-1) + fibo(x-2)\n",
    "\n",
    "print(fibo(4))"
   ]
  },
  {
   "cell_type": "code",
   "execution_count": 2,
   "id": "14a9d8f0",
   "metadata": {},
   "outputs": [
    {
     "name": "stdout",
     "output_type": "stream",
     "text": [
      "218922995834555169026\n"
     ]
    }
   ],
   "source": [
    "d = [0]*100\n",
    "\n",
    "def fibo(x):\n",
    "    # 종료조건 (x=1 or x=2 이면 1값 반환)\n",
    "    if x==1 or x==2 :\n",
    "        return 1\n",
    "    # 이미 계산된 값이면 그대로 반환\n",
    "    if d[x] != 0:\n",
    "        return d[x]\n",
    "    # 아직 계산되지 않은 값이면 fibo함수 계산\n",
    "    d[x] = fibo(x-1)+fibo(x-2)\n",
    "    return d[x]\n",
    "\n",
    "print(fibo(99))"
   ]
  },
  {
   "cell_type": "code",
   "execution_count": 4,
   "id": "c655af0b",
   "metadata": {},
   "outputs": [
    {
     "name": "stdout",
     "output_type": "stream",
     "text": [
      "f(6) f(5) f(4) f(3) f(2) f(1) f(2) f(3) f(4) 8\n"
     ]
    }
   ],
   "source": [
    "d = [0]*100\n",
    "def fibo(x):\n",
    "    print('f('+str(x)+')', end=' ')\n",
    "    if x==1 or x==2:\n",
    "        return 1\n",
    "    if d[x]!=0:\n",
    "        return d[x]\n",
    "    d[x] = fibo(x-1)+fibo(x-2)\n",
    "    return d[x]\n",
    "print(fibo(6))"
   ]
  },
  {
   "cell_type": "code",
   "execution_count": 5,
   "id": "ac663db2",
   "metadata": {},
   "outputs": [
    {
     "name": "stdout",
     "output_type": "stream",
     "text": [
      "218922995834555169026\n"
     ]
    }
   ],
   "source": [
    "d = [0]*100\n",
    "d[1]=1\n",
    "d[2]=1\n",
    "n=99\n",
    "\n",
    "for i in range(3,n+1):\n",
    "    d[i] = d[i-1]+d[i-2]\n",
    "    \n",
    "print(d[n])"
   ]
  },
  {
   "cell_type": "code",
   "execution_count": 8,
   "id": "65d45dba",
   "metadata": {},
   "outputs": [
    {
     "data": {
      "text/plain": [
       "<function sys.setrecursionlimit(limit, /)>"
      ]
     },
     "execution_count": 8,
     "metadata": {},
     "output_type": "execute_result"
    }
   ],
   "source": [
    "import sys\n",
    "# 재귀함수 사용시 재귀 제한을 완화할 수 있다.\n",
    "sys.setrecursionlimit"
   ]
  },
  {
   "cell_type": "markdown",
   "id": "97a3dc15",
   "metadata": {},
   "source": [
    "# 실전문제"
   ]
  },
  {
   "cell_type": "markdown",
   "id": "16e9bb44",
   "metadata": {},
   "source": [
    "## 1로 만들기"
   ]
  },
  {
   "cell_type": "code",
   "execution_count": 11,
   "id": "99d627fa",
   "metadata": {},
   "outputs": [
    {
     "name": "stdout",
     "output_type": "stream",
     "text": [
      "26\n",
      "26\n",
      "13.0\n",
      "12.0\n",
      "4.0\n",
      "2.0\n",
      "1.0\n",
      "6\n"
     ]
    }
   ],
   "source": [
    "x = int(input())\n",
    "cnt = 0\n",
    "\n",
    "def my_fibo(x):\n",
    "    global cnt\n",
    "    # my_fibo 함수가 적용될 때마다 (연산이 수행될 때마다) cnt에 1을 더해준다.\n",
    "    cnt+=1\n",
    "    # 종료조건 (최종값이 1인 경우)\n",
    "    if x == 1:\n",
    "        return cnt\n",
    "    # 5로 나누어 떨어질 때\n",
    "    if x%5 == 0:\n",
    "        return my_fibo(x/5)\n",
    "    # 3로 나누어 떨어질 때\n",
    "    elif x%3 == 0:\n",
    "        return my_fibo(x/3)\n",
    "    # 2로 나누어 떨어질 때\n",
    "    elif x%2 == 0:\n",
    "        return my_fibo(x/2)\n",
    "    # 위 3 연산이 다 적용이 안 될때 1을 빼주는 연산 수행\n",
    "    else :\n",
    "        return my_fibo(x-1)\n",
    "    \n",
    "print(my_fibo(x))"
   ]
  },
  {
   "cell_type": "code",
   "execution_count": 12,
   "id": "76a5eb72",
   "metadata": {},
   "outputs": [
    {
     "name": "stdout",
     "output_type": "stream",
     "text": [
      "26\n",
      "3\n"
     ]
    }
   ],
   "source": [
    "# 답안\n",
    "x = int(input())\n",
    "# 연산 수행 횟수를 담을 리스트 생성\n",
    "d = [0]*30001\n",
    "\n",
    "for i in range(2, x+1):\n",
    "    d[i] = d[i-1]+1\n",
    "    if i%2 == 0:\n",
    "        d[i] = min(d[i], d[i//2]+1)\n",
    "    if i%3 == 0:\n",
    "        d[i] = min(d[i], d[i//3]+1)\n",
    "    if i%5 == 0:\n",
    "        d[i] = min(d[i], d[i//5]+1)\n",
    "print(d[x])"
   ]
  },
  {
   "cell_type": "markdown",
   "id": "583c51a3",
   "metadata": {},
   "source": [
    "## 개미전사"
   ]
  },
  {
   "cell_type": "code",
   "execution_count": 29,
   "id": "f463bf03",
   "metadata": {},
   "outputs": [
    {
     "name": "stdout",
     "output_type": "stream",
     "text": [
      "7\n",
      "1 3 1 5 9 6 10\n",
      "22\n"
     ]
    }
   ],
   "source": [
    "N = int(input())\n",
    "A = list(map(int, input().split()))\n",
    "\n",
    "d = [0]*N\n",
    "# 초기값 세팅\n",
    "d[0], d[1] = A[0], A[1]\n",
    "d[2] = A[0]+A[2]\n",
    "\n",
    "for i in range(3,N):\n",
    "    # 지금까지 수행된 값 중 최대값과 연산을 수행\n",
    "    max_d = max(d[:i-1])\n",
    "    d[i] = max_d + A[i]\n",
    "    \n",
    "result = max(d[N-2], d[N-1])\n",
    "print(result)"
   ]
  },
  {
   "cell_type": "code",
   "execution_count": 12,
   "id": "4827e5ea",
   "metadata": {},
   "outputs": [
    {
     "name": "stdout",
     "output_type": "stream",
     "text": [
      "7\n",
      "3 1 1 5 9 10 6\n",
      "19\n"
     ]
    }
   ],
   "source": [
    "n = int(input())\n",
    "array = list(map(int, input().split()))\n",
    "\n",
    "d = [0]*100\n",
    "d[0], d[1] = array[0], array[1]\n",
    "# 3번째 위치는 1번째 위치하고만 더해진다.\n",
    "d[2] = array[2] + d[0]\n",
    "result = 0\n",
    "\n",
    "\n",
    "for i in range(3, n):\n",
    "    # 식량을 털 위치와 2칸 이상 떨어진 지점 중 max값과 현재위치의 식량값을 더해줌\n",
    "    d[i] = max(d[i-2], d[i-3])+array[i]\n",
    "    # 가장 마지막과 두번째 값 중 큰 값을 결과값으로 지정\n",
    "    result = max(d[n-1], d[n-2])\n",
    "    \n",
    "print(result)"
   ]
  },
  {
   "cell_type": "code",
   "execution_count": 31,
   "id": "988b07fb",
   "metadata": {},
   "outputs": [
    {
     "name": "stdout",
     "output_type": "stream",
     "text": [
      "7\n",
      "1 3 1 5 9 6 10\n",
      "22\n"
     ]
    }
   ],
   "source": [
    "# 답안\n",
    "n = int(input())\n",
    "array = list(map(int, input().split()))\n",
    "\n",
    "d = [0]*100\n",
    "d[0] = array[0]\n",
    "d[1] = max(array[0], array[1])\n",
    "for i in range(2,n):\n",
    "    d[i] = max(d[i-1], d[i-2]+array[i])\n",
    "\n",
    "print(d[n-1])"
   ]
  },
  {
   "cell_type": "markdown",
   "id": "953306a2",
   "metadata": {},
   "source": [
    "## 바닥공사"
   ]
  },
  {
   "cell_type": "code",
   "execution_count": 13,
   "id": "bc5bcad8",
   "metadata": {},
   "outputs": [
    {
     "name": "stdout",
     "output_type": "stream",
     "text": [
      "3\n",
      "5\n"
     ]
    }
   ],
   "source": [
    "N = int(input())\n",
    "d = [0]*1001\n",
    "d[1] = 1\n",
    "d[2] = 3\n",
    "for i in range(3,N+1):\n",
    "    d[i] = (d[i-1]+d[i-2]*2)%796796\n",
    "\n",
    "print(d[N])"
   ]
  },
  {
   "cell_type": "markdown",
   "id": "ceddeff4",
   "metadata": {},
   "source": [
    "## 효율적인 화폐구성"
   ]
  },
  {
   "cell_type": "code",
   "execution_count": 30,
   "id": "283a5f96",
   "metadata": {
    "scrolled": true
   },
   "outputs": [
    {
     "name": "stdout",
     "output_type": "stream",
     "text": [
      "2 15\n",
      "2\n",
      "3\n"
     ]
    }
   ],
   "source": [
    "N, M = map(int, input().split())\n",
    "ls = [int(input()) for _ in range(N)]"
   ]
  },
  {
   "cell_type": "code",
   "execution_count": 31,
   "id": "cc2087fe",
   "metadata": {},
   "outputs": [
    {
     "name": "stdout",
     "output_type": "stream",
     "text": [
      "5\n"
     ]
    }
   ],
   "source": [
    "d = [10001]*(M+1)\n",
    "d[0]=0\n",
    "for i in range(N):\n",
    "    for j in range(ls[i],M+1):\n",
    "         if d[j-ls[i]] != 10001:\n",
    "                d[j] = min(d[j], d[j-array[i]]+1)\n",
    "            \n",
    "if d[M] == 10001:\n",
    "    print(-1)\n",
    "else:\n",
    "    print(d[M])"
   ]
  },
  {
   "cell_type": "markdown",
   "id": "ca2a5654",
   "metadata": {},
   "source": [
    "## 백준 10844"
   ]
  },
  {
   "cell_type": "code",
   "execution_count": 32,
   "id": "eb1ff36e",
   "metadata": {},
   "outputs": [
    {
     "name": "stdout",
     "output_type": "stream",
     "text": [
      "2\n"
     ]
    }
   ],
   "source": [
    "N = int(input())\n",
    "d = [[0]*10 for _ in range(N+1)]"
   ]
  },
  {
   "cell_type": "code",
   "execution_count": 35,
   "id": "a39c4809",
   "metadata": {},
   "outputs": [
    {
     "name": "stdout",
     "output_type": "stream",
     "text": [
      "17\n"
     ]
    }
   ],
   "source": [
    "d = [[0]*10 for _ in range(N+1)]\n",
    "for i in range(1,10):\n",
    "    d[1][i] = 1\n",
    "    \n",
    "for i in range(2,N+1):\n",
    "    for j in range(10):\n",
    "        if j==0:\n",
    "            d[i][j] = d[i-1][1]\n",
    "        elif j==9:\n",
    "            d[i][j] = d[i-1][8]\n",
    "        else:\n",
    "            d[i][j] = d[i-1][j-1]+d[i-1][j+1]\n",
    "            \n",
    "print(sum(d[N])%(10**9))"
   ]
  },
  {
   "cell_type": "markdown",
   "id": "0cfb5046",
   "metadata": {},
   "source": [
    "## 백준 11053"
   ]
  },
  {
   "cell_type": "code",
   "execution_count": 63,
   "id": "37ce4469",
   "metadata": {},
   "outputs": [
    {
     "name": "stdout",
     "output_type": "stream",
     "text": [
      "4\n",
      "10 30 20 30\n"
     ]
    }
   ],
   "source": [
    "N = int(input())\n",
    "A = list(map(int, input().split()))"
   ]
  },
  {
   "cell_type": "code",
   "execution_count": 61,
   "id": "ee942fdb",
   "metadata": {},
   "outputs": [
    {
     "name": "stdout",
     "output_type": "stream",
     "text": [
      "4\n"
     ]
    }
   ],
   "source": [
    "d = [0]*N\n",
    "\n",
    "for i in range(N):\n",
    "    for j in range(i):\n",
    "        if A[j]<A[i] and d[i]<d[j]:\n",
    "            d[i]=d[j]\n",
    "    d[i] += 1\n",
    "    \n",
    "print(max(d))"
   ]
  }
 ],
 "metadata": {
  "kernelspec": {
   "display_name": "Python 3 (ipykernel)",
   "language": "python",
   "name": "python3"
  },
  "language_info": {
   "codemirror_mode": {
    "name": "ipython",
    "version": 3
   },
   "file_extension": ".py",
   "mimetype": "text/x-python",
   "name": "python",
   "nbconvert_exporter": "python",
   "pygments_lexer": "ipython3",
   "version": "3.9.12"
  }
 },
 "nbformat": 4,
 "nbformat_minor": 5
}
