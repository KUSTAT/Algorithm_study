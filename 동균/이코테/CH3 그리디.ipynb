{
 "cells": [
  {
   "cell_type": "markdown",
   "id": "2281fbb1",
   "metadata": {},
   "source": [
    "# CH3 그리디"
   ]
  },
  {
   "cell_type": "code",
   "execution_count": 1,
   "id": "84c82252",
   "metadata": {},
   "outputs": [
    {
     "name": "stdout",
     "output_type": "stream",
     "text": [
      "1260\n",
      "6\n"
     ]
    }
   ],
   "source": [
    "N = int(input())\n",
    "cnt = 0\n",
    "ls = [500, 100, 50, 10]\n",
    "for num in ls:\n",
    "  cnt += (N//num)\n",
    "  N = N % num\n",
    "print(cnt)"
   ]
  },
  {
   "cell_type": "markdown",
   "id": "bb810631",
   "metadata": {},
   "source": [
    "## 실전문제"
   ]
  },
  {
   "cell_type": "markdown",
   "id": "3710d724",
   "metadata": {},
   "source": [
    "### 큰 수의 법칙"
   ]
  },
  {
   "cell_type": "code",
   "execution_count": 23,
   "id": "181ef5bb",
   "metadata": {},
   "outputs": [
    {
     "name": "stdout",
     "output_type": "stream",
     "text": [
      "5 8 3\n",
      "2 4 5 4 6\n",
      "46\n"
     ]
    }
   ],
   "source": [
    "N, M, K = map(int, input().split())\n",
    "num_ls = list(map(int, input().split()))\n",
    "m_num = max(num_ls)   # 배열의 가장 큰 값\n",
    "num_ls.remove(m_num)  # m_num을 제외\n",
    "new_m_num = max(num_ls)    # 배열에서 두 번째로 큰 값\n",
    "if m_num == new_m_num : result = M*m_num\n",
    "else :\n",
    "    # K+1 이 1세트로 연산이 적용된다\n",
    "    result = (M//(K+1))*(K*m_num + new_m_num) + (M%(K+1))*m_num\n",
    "print(result)"
   ]
  },
  {
   "cell_type": "markdown",
   "id": "580292ab",
   "metadata": {},
   "source": [
    "### 숫자 카드 게임"
   ]
  },
  {
   "cell_type": "code",
   "execution_count": 25,
   "id": "297925f5",
   "metadata": {},
   "outputs": [
    {
     "name": "stdout",
     "output_type": "stream",
     "text": [
      "2 4\n",
      "7 3 1 8\n",
      "3 3 3 4\n",
      "3\n"
     ]
    }
   ],
   "source": [
    "N, M = map(int, input().split())\n",
    "\n",
    "# 행별 min값을 포함할 list 생성\n",
    "ls = list()\n",
    "for _ in range(N):\n",
    "    # 행별로 원소 리스트화\n",
    "    x = list(map(int, input().split()))\n",
    "    ls.append(min(x))\n",
    "    \n",
    "# min 값들 중 max값 출력\n",
    "result = max(ls)\n",
    "print(result)"
   ]
  },
  {
   "cell_type": "code",
   "execution_count": null,
   "id": "0b12fc06",
   "metadata": {},
   "outputs": [],
   "source": [
    "# 답안\n",
    "N, M = map(int, input().split())\n",
    "\n",
    "result = 0\n",
    "for i in range(N):\n",
    "    data = list(map(int, input().split()))\n",
    "    min_value = min(data)\n",
    "    # min 값을 바로바로 비교해줌!!!!!!\n",
    "    result = max(result, min_value)\n",
    "\n",
    "print(result)"
   ]
  },
  {
   "cell_type": "markdown",
   "id": "b91c0df4",
   "metadata": {},
   "source": [
    "### 1이 될 때까지"
   ]
  },
  {
   "cell_type": "code",
   "execution_count": 30,
   "id": "0e3a8606",
   "metadata": {},
   "outputs": [
    {
     "name": "stdout",
     "output_type": "stream",
     "text": [
      "25 3\n",
      "6\n"
     ]
    }
   ],
   "source": [
    "N, K = map(int, input().split())\n",
    "cnt = 0\n",
    "while N>1:\n",
    "    # 배수가 아닐 경우\n",
    "    if N%K != 0:\n",
    "        N -= 1\n",
    "        cnt += 1\n",
    "    # 배수인 경우\n",
    "    else :\n",
    "        N /= K\n",
    "        cnt += 1\n",
    "print(cnt)"
   ]
  }
 ],
 "metadata": {
  "kernelspec": {
   "display_name": "Python 3 (ipykernel)",
   "language": "python",
   "name": "python3"
  },
  "language_info": {
   "codemirror_mode": {
    "name": "ipython",
    "version": 3
   },
   "file_extension": ".py",
   "mimetype": "text/x-python",
   "name": "python",
   "nbconvert_exporter": "python",
   "pygments_lexer": "ipython3",
   "version": "3.9.12"
  }
 },
 "nbformat": 4,
 "nbformat_minor": 5
}
