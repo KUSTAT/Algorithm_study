{
 "cells": [
  {
   "cell_type": "code",
   "execution_count": 1,
   "id": "289e4563",
   "metadata": {},
   "outputs": [
    {
     "name": "stdout",
     "output_type": "stream",
     "text": [
      "[0, 1, 2, 3, 5, 6, 7, 8, 4, 9]\n"
     ]
    }
   ],
   "source": [
    "# 방법1 : selection sort\n",
    "arr = [7,5,9,0,3,1,6,2,4,8]\n",
    "\n",
    "for i in range(len(arr)):\n",
    "    # i번째 원소 선택\n",
    "    min_idx = i\n",
    "    for j in range(i+1, len(arr)):\n",
    "        # i번째 원소 뒤에 있는 것들 중 가장 작은 것을 앞으로 보내 정렬\n",
    "        if arr[min_idx] > arr[j]:\n",
    "            min_idx = j\n",
    "        arr[i], arr[min_idx] = arr[min_idx], arr[i]\n",
    "print(arr)"
   ]
  },
  {
   "cell_type": "code",
   "execution_count": 2,
   "id": "d08561b6",
   "metadata": {},
   "outputs": [
    {
     "name": "stdout",
     "output_type": "stream",
     "text": [
      "[0, 1, 2, 3, 4, 5, 6, 7, 8, 9]\n"
     ]
    }
   ],
   "source": [
    "# 방법2 : insertion sort\n",
    "arr = [7,5,9,0,3,1,6,2,4,8]\n",
    "\n",
    "for i in range(1, len(arr)):\n",
    "    # i번째 원소를 기준으로, 자신의 왼쪽에 있는 원소와 크기를 비교해가며 정렬\n",
    "    for j in range(i, 0, -1):\n",
    "        if arr[j] < arr[j-1]:\n",
    "            arr[j], arr[j-1] = arr[j-1], arr[j]\n",
    "        else:\n",
    "            break\n",
    "            \n",
    "print(arr)"
   ]
  },
  {
   "cell_type": "code",
   "execution_count": 8,
   "id": "30f558b5",
   "metadata": {},
   "outputs": [
    {
     "name": "stdout",
     "output_type": "stream",
     "text": [
      "[0, 1, 2, 3, 4, 5, 6, 7, 8, 9]\n"
     ]
    }
   ],
   "source": [
    "# 방법3 : quick sort\n",
    "arr = [7,5,9,0,3,1,6,2,4,8]\n",
    "\n",
    "class sorting():\n",
    "    def quicksort(self, arr, start, end):\n",
    "        # 원소가 1개이거나 뒤집혔을 경우\n",
    "        if start >= end:\n",
    "            return\n",
    "        # 첫번째 원소를 피벗으로 설정\n",
    "        pivot = start\n",
    "        # 좌우 포인터 설정\n",
    "        left = start + 1\n",
    "        right = end\n",
    "        while left <= right:\n",
    "            # 왼쪽 포인터 : 피벗보다 큰 데이터 찾기\n",
    "            while left <= end and arr[left] <= arr[pivot]:\n",
    "                left += 1\n",
    "            # 오른쪽 포인터 : 피벗보다 작은 데이터 찾기\n",
    "            while right > start and arr[right] >= arr[pivot]:\n",
    "                right -= 1\n",
    "            # 좌우 포인터가 엇갈렸다면 작은 데이터와 피벗을 교체:\n",
    "            if left > right:\n",
    "                arr[right], arr[pivot] = arr[pivot], arr[right]\n",
    "            # 엇갈리지 않았다면 좌우 포인터 교체\n",
    "            else:\n",
    "                arr[left], arr[right] = arr[right], arr[left]\n",
    "        # 좌우 파티션별로 recursive하게 정렬 진행\n",
    "        self.quicksort(arr, start, right-1)\n",
    "        self.quicksort(arr, right+1, end)\n",
    "        \n",
    "sol = sorting()\n",
    "sol.quicksort(arr, 0, len(arr)-1)\n",
    "print(arr)"
   ]
  },
  {
   "cell_type": "code",
   "execution_count": 9,
   "id": "a57689de",
   "metadata": {},
   "outputs": [
    {
     "name": "stdout",
     "output_type": "stream",
     "text": [
      "0 1 2 3 4 5 6 7 8 9 "
     ]
    }
   ],
   "source": [
    "# 방법4 : count sort\n",
    "arr = [7,5,9,0,3,1,6,2,4,8]\n",
    "\n",
    "# 모든 범위를 포함하는 개수의 리스트 선언\n",
    "count = [0]*(max(arr) + 1) # count = [0]*(max(arr)-min(arr)+1)\n",
    "\n",
    "# 각 데이터에 해당하는 인덱스의 값 증가\n",
    "for i in range(len(arr)):\n",
    "    count[arr[i]] += 1\n",
    "# 리스트에 기록된 개수만큼 출력\n",
    "for i in range(len(count)):\n",
    "    for j in range(count[i]):\n",
    "        print(i, end = ' ') # print(i+min(arr), end = ' ')"
   ]
  },
  {
   "cell_type": "code",
   "execution_count": 16,
   "id": "b0fd43b5",
   "metadata": {},
   "outputs": [
    {
     "name": "stdout",
     "output_type": "stream",
     "text": [
      "[0, 1, 2, 3, 4, 5, 6, 7, 8, 9]\n",
      "[0, 1, 2, 3, 4, 5, 6, 7, 8, 9]\n",
      "[('c', 1), ('b', 2), ('a', 3)]\n"
     ]
    }
   ],
   "source": [
    "# 방법5 : 파이썬 기본 라이브러리 사용 (sorted, sort)\n",
    "arr = [7,5,9,0,3,1,6,2,4,8]\n",
    "\n",
    "# sorted 함수\n",
    "result = sorted(arr)\n",
    "print(result)\n",
    "\n",
    "# sort 함수\n",
    "arr.sort()\n",
    "print(arr)\n",
    "\n",
    "# key를 이용한 sorting\n",
    "arr = [('a',3), ('b',2), ('c',1)]\n",
    "arr.sort(key = lambda x: (x[1], x[0]))\n",
    "print(arr)"
   ]
  },
  {
   "cell_type": "code",
   "execution_count": 15,
   "id": "11c2c903",
   "metadata": {},
   "outputs": [
    {
     "name": "stdout",
     "output_type": "stream",
     "text": [
      "3\n",
      "15\n",
      "27\n",
      "12\n",
      "27 15 12\n"
     ]
    }
   ],
   "source": [
    "# 예제1 : 위에서 아래로\n",
    "class solution():\n",
    "    def updown(self, arr):\n",
    "        print(*sorted(arr, reverse=True))\n",
    "\n",
    "n = int(input())\n",
    "arr = [int(input()) for _ in range(n)]\n",
    "sol = solution()\n",
    "sol.updown(arr)"
   ]
  },
  {
   "cell_type": "code",
   "execution_count": 27,
   "id": "db18b4e3",
   "metadata": {},
   "outputs": [
    {
     "name": "stdout",
     "output_type": "stream",
     "text": [
      "2\n",
      "홍길동 95\n",
      "이순신 77\n",
      "이순신 홍길동\n"
     ]
    }
   ],
   "source": [
    "# 예제2 : 성적이 낮은 순서로 학생 출력하기\n",
    "class solution():\n",
    "    def name(self, arr):\n",
    "        arr.sort(key = lambda x: [x[1], x[0]])\n",
    "        result = [i[0] for i in arr]\n",
    "        print(*result)\n",
    "\n",
    "n = int(input())\n",
    "arr = [(input().split()) for _ in range(n)]\n",
    "sol = solution()\n",
    "sol.name(arr)"
   ]
  },
  {
   "cell_type": "code",
   "execution_count": 35,
   "id": "18720f0b",
   "metadata": {},
   "outputs": [
    {
     "name": "stdout",
     "output_type": "stream",
     "text": [
      "5 3\n",
      "1 2 5 4 3\n",
      "5 5 6 6 5\n",
      "26\n"
     ]
    }
   ],
   "source": [
    "# 예제3 : 두 배열의 원소 교체\n",
    "class solution():\n",
    "    def change(self, arr1, arr2, k):\n",
    "        # 오름차순 정렬\n",
    "        arr1.sort()\n",
    "        # 내림차순 정렬\n",
    "        arr2.sort(reverse = True)\n",
    "        for i in range(k):\n",
    "            # arr2가 더 큰 원소인 경우 >> 교체\n",
    "            if arr1[i] < arr2[i]:\n",
    "                arr1[i], arr2[i] = arr2[i], arr1[i]\n",
    "            # arr2가 더 작은 경우 >> 루프 탈출(교체 중단)\n",
    "            else:\n",
    "                break\n",
    "n, k = map(int, input().split())\n",
    "arr1 = list(map(int, input().split()))\n",
    "arr2 = list(map(int, input().split()))\n",
    "sol = solution()\n",
    "sol.change(arr1, arr2, k)\n",
    "print(sum(arr1))"
   ]
  }
 ],
 "metadata": {
  "kernelspec": {
   "display_name": "Python 3 (ipykernel)",
   "language": "python",
   "name": "python3"
  },
  "language_info": {
   "codemirror_mode": {
    "name": "ipython",
    "version": 3
   },
   "file_extension": ".py",
   "mimetype": "text/x-python",
   "name": "python",
   "nbconvert_exporter": "python",
   "pygments_lexer": "ipython3",
   "version": "3.9.7"
  }
 },
 "nbformat": 4,
 "nbformat_minor": 5
}
