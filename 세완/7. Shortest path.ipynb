{
 "cells": [
  {
   "cell_type": "markdown",
   "id": "f883112e",
   "metadata": {},
   "source": [
    "### 다익스트라 최단 경로 알고리즘\n",
    "\n",
    "- 여러개의 노드가 있을 때, 특정한 노드에서 출발하여 다른 노드로 가는 각각의 최단 경로를 구해주는 알고리즘  \n",
    "  \n",
    "- '음의 간선(cost)'이 없을 때 정상적으로 동작  \n",
    "        \n",
    "- 각 노드에 대한 현재까지의 최단거리 정보를 1차원 리스트에 저장하며 갱신 >> 그리디 알고리즘"
   ]
  },
  {
   "cell_type": "code",
   "execution_count": 4,
   "id": "280c8932",
   "metadata": {},
   "outputs": [
    {
     "name": "stdout",
     "output_type": "stream",
     "text": [
      "6 11\n",
      "1\n",
      "1 2 2\n",
      "1 3 5\n",
      "1 4 1\n",
      "2 3 3\n",
      "2 4 2\n",
      "3 2 3\n",
      "3 6 5\n",
      "4 3 3\n",
      "4 5 1\n",
      "5 3 1\n",
      "5 6 2\n"
     ]
    }
   ],
   "source": [
    "# input\n",
    "# 무한의 값으로 큰 수 설정\n",
    "INF = int(1e9)\n",
    "# node, edge 개수 입력 받기\n",
    "n, m = map(int, input().split())\n",
    "# 시작 노드 번호\n",
    "start = int(input())\n",
    "# 그래프 입력 받기\n",
    "graph = [[] for i in range(n+1)]\n",
    "for _ in range(m):\n",
    "    a, b, c = map(int, input().rstrip().split())\n",
    "    graph[a].append((b, c))\n",
    "# 방문 기록용\n",
    "visited = [False]*(n+1)\n",
    "# 거리 기록용\n",
    "distance = [INF]*(n+1)"
   ]
  },
  {
   "cell_type": "code",
   "execution_count": 2,
   "id": "a096f65b",
   "metadata": {},
   "outputs": [
    {
     "name": "stdout",
     "output_type": "stream",
     "text": [
      "0\n",
      "2\n",
      "3\n",
      "1\n",
      "2\n",
      "4\n"
     ]
    }
   ],
   "source": [
    "### 다익스트라 알고리즘 1\n",
    "# 방문하지 않은 노드 중에서 최단거리가 짧은 노드의 번호를 반환\n",
    "def sdist():\n",
    "    temp = INF\n",
    "    index = 0\n",
    "    for i in range(1, n+1):\n",
    "        if distance[i] < temp and not visited[i]:\n",
    "            temp = distance[i]\n",
    "            index = i\n",
    "    return index\n",
    "# 최단 경로 계산\n",
    "def spath(start):\n",
    "    # 시작 노드에 대해서 초기화\n",
    "    distance[start] = 0\n",
    "    visited[start] = True\n",
    "    # 시작 노드와 연결돠어 있는 노드의 거리 계산\n",
    "    for x in graph[start]:\n",
    "        distance[x[0]] = x[1]\n",
    "    # 시작 노드를 제외한 전체 n-2개의 노드에 대해서 반복(마지막 노드는 생략)\n",
    "    for _ in range(n-2):\n",
    "        # 현재까지 방문하지 않고 최단 거리를 가진 노드를 꺼내 방문처리\n",
    "        node = sdist()\n",
    "        visited[node] = True\n",
    "        # 현재 노드와 연결된 다른 노드를 확인\n",
    "        for j in graph[node]:\n",
    "            cost = distance[node] + j[1]\n",
    "            # 앞서 계산한 거리보다 짧은 경우만 업데이트\n",
    "            if cost < distance[j[0]]:\n",
    "                distance[j[0]] = cost\n",
    "\n",
    "# 다익스트라 알고리즘 수행\n",
    "spath(start)\n",
    "for i in range(1, n+1):\n",
    "    if distance[i] == INF:\n",
    "        print('INFINITY')\n",
    "    else:\n",
    "        print(distance[i])"
   ]
  },
  {
   "cell_type": "markdown",
   "id": "ccafabb0",
   "metadata": {},
   "source": [
    "- 방문하지 않았으면서 거리가 가장 짧은 노드를 선택하는 과정이 비효율적 >> heap 자료구조를 사용.  \n",
    "- 파이썬의 힙 라이브러리는 기본적으로 min priority queue를 사용. max priority queue가 필요한 경우엔 음수를 붙여 사용할 수도 있다."
   ]
  },
  {
   "cell_type": "code",
   "execution_count": 5,
   "id": "b418759e",
   "metadata": {},
   "outputs": [
    {
     "name": "stdout",
     "output_type": "stream",
     "text": [
      "0\n",
      "2\n",
      "3\n",
      "1\n",
      "2\n",
      "4\n"
     ]
    }
   ],
   "source": [
    "# 개선된 다익스트라 알고리즘 (heapq 사용)\n",
    "import heapq\n",
    "def spath(start):\n",
    "    q = []\n",
    "    # 시작 노드를 큐에 삽입하고 거리를 0으로 설정\n",
    "    heapq.heappush(q, (0, start))\n",
    "    distance[start] = 0\n",
    "    # 큐가 빌 때까지 반복\n",
    "    while q:\n",
    "        dist, node = heapq.heappop(q)\n",
    "        # 우선순위 큐에서 뽑아온 노드가 이미 업데이트가 된 경우(큐에서 뽑은 거리보다 distance에 저장된 값이 더 작은 경우) >> 무시\n",
    "        if distance[node] < dist:\n",
    "            continue\n",
    "        # 인접한 노드 탐색\n",
    "        for i in graph[node]:\n",
    "            cost = dist + i[1]\n",
    "            # 기존 거리보다 작으면 업데이트\n",
    "            if cost < distance[i[0]]:\n",
    "                distance[i[0]] = cost\n",
    "                heapq.heappush(q, (cost, i[0]))\n",
    "\n",
    "# 다익스트라 알고리즘 수행\n",
    "spath(start)\n",
    "for i in range(1, n+1):\n",
    "    if distance[i] == INF:\n",
    "        print('INFINITY')\n",
    "    else:\n",
    "        print(distance[i])"
   ]
  },
  {
   "cell_type": "markdown",
   "id": "ccf84709",
   "metadata": {},
   "source": [
    "### 플로이드 워셜 알고리즘  \n",
    "- 모든 지점에서 다른 모든 지점까지의 최단 경로를 모두 구해야 하는 경우  \n",
    "- 다이나믹 프로그래밍의 형태를 가짐  \n",
    "- 1번 노드가 있을 때, 1번 노드를 거쳐가는 즉 A노드-1번 노드-B노드로 가는 비용을 확인한 후에 최단 거리를 갱신한다.  \n",
    "- 이때 A노드와 B노드는 1번 노드를 제외한 n-1개의 노드에서 선택해야 하므로 ${}_{n-1}{\\rm P}_{2}$만큼의 경우의 수가 존재한다.  \n",
    "- 각각의 n개 노드에 대하여 ${}_{n-1}{\\rm P}_{2}$번을 반복하므로 전체 시간복잡도는 $O(n^3)$이라고 볼 수 있다.  \n",
    "- 점화식 : $D_{ab} = min(D_{ab}, D_{ak}+D_{kb})$"
   ]
  },
  {
   "cell_type": "code",
   "execution_count": 3,
   "id": "1b0f4324",
   "metadata": {},
   "outputs": [
    {
     "name": "stdout",
     "output_type": "stream",
     "text": [
      "4\n",
      "7\n",
      "1 2 4\n",
      "1 4 6\n",
      "2 1 3\n",
      "2 3 7\n",
      "3 1 5\n",
      "3 4 4\n",
      "4 3 2\n",
      "0 4 8 6 \n",
      "3 0 7 9 \n",
      "5 9 0 4 \n",
      "7 11 2 0 \n"
     ]
    }
   ],
   "source": [
    "### 플로이드 워셜 알고리즘 소스코드\n",
    "# 무한 설정\n",
    "INF = int(1e9)\n",
    "# 노드 개수, 간선 개수\n",
    "n = int(input())\n",
    "m = int(input())\n",
    "# 2차원 리스트를 만들고 모든 값을 무한으로 초기화\n",
    "graph = [[INF]*(n+1) for _ in range(n+1)]\n",
    "# 자기 자신에서 자기 자신으로 가는 비용은 0으로 초기화\n",
    "for i in range(1, n+1):\n",
    "    for j in range(1, n+1):\n",
    "        if i == j:\n",
    "            graph[i][j] = 0\n",
    "# 주어진 그래프 정보 받아오기\n",
    "for _ in range(m):\n",
    "    a, b, c = map(int, input().rstrip().split())\n",
    "    graph[a][b] = c\n",
    "# 점화식에 따라 플로이드 워셜 알고리즘 수행\n",
    "for i in range(1, n+1):\n",
    "    for j in range(1, n+1):\n",
    "        for k in range(1, n+1):\n",
    "            graph[j][k] = min(graph[j][k], graph[j][i] + graph[i][k])\n",
    "# 수행된 결과를 출력\n",
    "for a in range(1, n+1):\n",
    "    for b in range(1, n+1):\n",
    "        if graph[a][b] == INF:\n",
    "            print('INFINITY', end = ' ')\n",
    "        else:\n",
    "            print(graph[a][b], end = ' ')\n",
    "    print()"
   ]
  },
  {
   "cell_type": "code",
   "execution_count": 10,
   "id": "95e319e0",
   "metadata": {},
   "outputs": [
    {
     "name": "stdout",
     "output_type": "stream",
     "text": [
      "-1\n"
     ]
    }
   ],
   "source": [
    "# 실전문제 2 : 미래도시\n",
    "# 데이터 입력\n",
    "n, m = map(int, input().split())\n",
    "INF = int(1e9)\n",
    "graph = [[INF]*(n+1) for _ in range(n+1)]\n",
    "for i in range(1, n+1):\n",
    "    for j in range(1, n+1):\n",
    "        if i == j:\n",
    "            graph[i][j] = 0\n",
    "for _ in range(m):\n",
    "    a, b = map(int, input().split())\n",
    "    graph[a][b] = 1\n",
    "    graph[b][a] = 1\n",
    "target2, target1 = map(int, input().split())\n",
    "# 플로이드 워셜 알고리즘\n",
    "for i in range(1, n+1):\n",
    "    for a in range(1, n+1):\n",
    "        for b in range(1, n+1):\n",
    "            graph[a][b] = min(graph[a][b], graph[a][i]+graph[i][b])\n",
    "\n",
    "d1 = graph[1][target1]\n",
    "d2 = graph[target1][target2]\n",
    "if d1 == INF or d2 == INF:\n",
    "    print(-1)\n",
    "else:\n",
    "    print(d1+d2)"
   ]
  },
  {
   "cell_type": "code",
   "execution_count": 14,
   "id": "a4403854",
   "metadata": {},
   "outputs": [
    {
     "name": "stdout",
     "output_type": "stream",
     "text": [
      "2 4\n"
     ]
    }
   ],
   "source": [
    "# 실전 문제 2 : 전보\n",
    "# 데이터 입력\n",
    "n, m, c = map(int, input().split())\n",
    "INF = int(1e9)\n",
    "graph = [[] for _ in range(n+1)]\n",
    "for _ in range(m):\n",
    "    x, y, z = map(int, input().rstrip().split())\n",
    "    graph[x].append((y, z))\n",
    "    graph[y].append((x, z))\n",
    "distance = [INF]*(n+1)\n",
    "# 다익스트라 알고리즘(우선순위 큐 사용)\n",
    "import heapq\n",
    "distance[c] = 0\n",
    "q = []\n",
    "heapq.heappush(q, (0, c))\n",
    "while q:\n",
    "    dist, node = heapq.heappop(q)\n",
    "    if distance[node] < dist:\n",
    "        continue\n",
    "    for x in graph[node]:\n",
    "        temp = dist + x[1]\n",
    "        if distance[x[0]] > temp:\n",
    "            distance[x[0]] = temp\n",
    "            heapq.heappush(q, (temp, x[0]))\n",
    "cnt = 0\n",
    "time = 0\n",
    "for i in range(1, n+1):\n",
    "    if i == c:\n",
    "        continue\n",
    "    if i != INF:\n",
    "        cnt += 1\n",
    "        time = max(time, distance[i])\n",
    "print(cnt, time)"
   ]
  },
  {
   "cell_type": "code",
   "execution_count": 19,
   "id": "c3594a18",
   "metadata": {},
   "outputs": [
    {
     "name": "stdout",
     "output_type": "stream",
     "text": [
      "5 6\n",
      "1\n",
      "5 1 1\n",
      "1 2 2\n",
      "1 3 3\n",
      "2 3 4\n",
      "2 4 5\n",
      "3 4 6\n",
      "0\n",
      "2\n",
      "3\n",
      "7\n",
      "INF\n"
     ]
    }
   ],
   "source": [
    "# 백준 1753번 : 최단경로\n",
    "# 입력\n",
    "n, m = map(int, input().split())\n",
    "start = int(input())\n",
    "graph = [[] for _ in range(n+1)]\n",
    "for i in range(m):\n",
    "    a, b, c = map(int, input().rstrip().split())\n",
    "    graph[a].append((b, c))\n",
    "INF = int(1e9)\n",
    "distance = [INF]*(n+1)\n",
    "### 다익스트라 알고리즘\n",
    "import heapq\n",
    "q = []\n",
    "distance[start] = 0\n",
    "heapq.heappush(q, (0, start))\n",
    "while q:\n",
    "    dist, node = heapq.heappop(q)\n",
    "    if dist > distance[node]:\n",
    "        continue\n",
    "    for x in graph[node]:\n",
    "        temp = dist + x[1]\n",
    "        if temp < distance[x[0]]:\n",
    "            distance[x[0]] = temp\n",
    "            heapq.heappush(q, (temp, x[0]))\n",
    "# 정답 출력\n",
    "for i in range(1, n+1):\n",
    "    if distance[i] == INF:\n",
    "        print('INF')\n",
    "    else:\n",
    "        print(distance[i])"
   ]
  },
  {
   "cell_type": "code",
   "execution_count": 27,
   "id": "afd1c6a8",
   "metadata": {
    "scrolled": true
   },
   "outputs": [
    {
     "name": "stdout",
     "output_type": "stream",
     "text": [
      "5\n",
      "5\n",
      "1 2 3\n",
      "1 4 7\n",
      "2 3 1\n",
      "2 5 3\n",
      "4 2 1\n",
      "0 3 4 7 6\n",
      "0 0 1 0 3\n",
      "0 0 0 0 0\n",
      "0 1 2 0 4\n",
      "0 0 0 0 0\n"
     ]
    }
   ],
   "source": [
    "# 백준 11404번 : 플로이드\n",
    "# 입력\n",
    "n = int(input())\n",
    "m = int(input())\n",
    "INF = int(1e9)\n",
    "graph = [[INF]*(n+1) for _ in range(n+1)]\n",
    "for _ in range(m):\n",
    "    a, b, c = map(int, input().rstrip().split())\n",
    "    graph[a][b] = min(graph[a][b], c)\n",
    "for i in range(1, n+1):\n",
    "    for j in range(1, n+1):\n",
    "        if i == j:\n",
    "            graph[i][j] = 0\n",
    "# 플로이드 워셜 알고리즘\n",
    "for i in range(1, n+1):\n",
    "    for j in range(1, n+1):\n",
    "        for k in range(1, n+1):\n",
    "            graph[j][k] = min(graph[j][k], graph[j][i]+graph[i][k])\n",
    "# 출력\n",
    "for i in range(1, n+1):\n",
    "    for j in range(1, n+1):\n",
    "        if graph[i][j] == INF:\n",
    "            graph[i][j] = 0\n",
    "for i in range(1, n+1):\n",
    "    print(*graph[i][1:])"
   ]
  },
  {
   "cell_type": "code",
   "execution_count": 9,
   "id": "e23c322c",
   "metadata": {
    "scrolled": false
   },
   "outputs": [
    {
     "name": "stdout",
     "output_type": "stream",
     "text": [
      "4 1\n",
      "1 2 2\n",
      "2 3\n",
      "-1\n"
     ]
    }
   ],
   "source": [
    "# 백준 1504번 : 특정한 최단 경로\n",
    "n, m = map(int, input().split())\n",
    "graph = [[] for _ in range(n+1)]\n",
    "for i in range(m):\n",
    "    a, b, c = map(int, input().rstrip().split())\n",
    "    graph[a].append((b,c))\n",
    "    graph[b].append((a,c))\n",
    "v1, v2 = map(int, input().split())\n",
    "INF = int(1e9)\n",
    "import heapq\n",
    "def shortest_path(start):\n",
    "    distance = [INF]*(n+1)\n",
    "    distance[start] = 0\n",
    "    q = []\n",
    "    heapq.heappush(q, (0, start))\n",
    "    while q:\n",
    "        dist, node = heapq.heappop(q)\n",
    "        if dist > distance[node]:\n",
    "            continue\n",
    "        for x in graph[node]:\n",
    "            if dist+x[1] < distance[x[0]]:\n",
    "                distance[x[0]] = dist + x[1]\n",
    "                heapq.heappush(q, (distance[x[0]], x[0]))\n",
    "    return distance\n",
    "start_path = shortest_path(1)\n",
    "v1_path = shortest_path(v1)\n",
    "v2_path = shortest_path(v2)\n",
    "dist1 = start_path[v1]+v1_path[v2]+v2_path[n]\n",
    "dist2 = start_path[v2]+v2_path[v1]+v1_path[n]\n",
    "result = min(dist1, dist2)\n",
    "if result >= INF:\n",
    "    print(-1)\n",
    "else:\n",
    "    print(result)"
   ]
  },
  {
   "cell_type": "code",
   "execution_count": 47,
   "id": "85b0a1a0",
   "metadata": {},
   "outputs": [
    {
     "name": "stdout",
     "output_type": "stream",
     "text": [
      "1\n",
      "4 4 1\n",
      "1 3 4\n",
      "1 2 3\n",
      "2 4 4\n",
      "1 3 4\n",
      "3 4 3\n",
      "4\n",
      "4\n"
     ]
    }
   ],
   "source": [
    "# 백준 9370번 : 미확인 도착지\n",
    "import heapq\n",
    "def shortest_path(start, graph, distance, visited):\n",
    "    distance[start] = 0\n",
    "    q = []\n",
    "    heapq.heappush(q, (0, start))\n",
    "    while q:\n",
    "        dist, node = heapq.heappop(q)\n",
    "        if dist > distance[node]:\n",
    "            continue\n",
    "        for x in graph[node]:\n",
    "            # start부터 node까지의 거리 + node부터 x[0]까지의 거리\n",
    "            temp = dist + x[1]\n",
    "            if temp < distance[x[0]]:\n",
    "                # start부터 node까지 갈 때 (g-h)를 통과하거나 node부터 x[0]까지가 (g-h)인 경우 >> 방문 처리\n",
    "                if visited[node] == True or (node == g and x[0] == h) or (node == h and x[0] == g):\n",
    "                    visited[x[0]] = True\n",
    "                # 방문하지 않은 경우 >> 방문하지 않은 경우로 처리\n",
    "                elif visited[node] == False:\n",
    "                    visited[x[0]] = False\n",
    "                distance[x[0]] = temp\n",
    "                heapq.heappush(q, (temp, x[0]))\n",
    "            # 최단거리가 여러개가 있는 경우 >> 방문 처리\n",
    "            elif temp == distance[x[0]]:\n",
    "                if visited[node] == True or (node == g and x[0] == h) or (node == h and x[0] == g):\n",
    "                    visited[x[0]] = True\n",
    "    return distance, visited    \n",
    "\n",
    "num = int(input())\n",
    "INF = int(1e9)\n",
    "show = [[] for _ in range(num)]\n",
    "for i in range(num):\n",
    "    n, m, t = map(int, input().rstrip().split())\n",
    "    start, g, h = map(int, input().rstrip().split())\n",
    "    distance = [INF]*(n+1)\n",
    "    graph = [[] for _ in range(n+1)]\n",
    "    target = []\n",
    "    visited = [False]*(n+1)\n",
    "    for _ in range(m):\n",
    "        a, b, c = map(int, input().rstrip().split())\n",
    "        graph[a].append((b,c))\n",
    "        graph[b].append((a,c))\n",
    "    for _ in range(t):\n",
    "        target.append(int(input()))\n",
    "    result1, result2 = shortest_path(start, graph, distance, visited)\n",
    "    for j in range(t):\n",
    "        if result1[target[j]] >= INF or result2[target[j]] == False:\n",
    "            pass\n",
    "        else:\n",
    "            show[i].append(target[j])\n",
    "for i in range(num):\n",
    "    print(*sorted(show[i]))"
   ]
  }
 ],
 "metadata": {
  "kernelspec": {
   "display_name": "Python 3 (ipykernel)",
   "language": "python",
   "name": "python3"
  },
  "language_info": {
   "codemirror_mode": {
    "name": "ipython",
    "version": 3
   },
   "file_extension": ".py",
   "mimetype": "text/x-python",
   "name": "python",
   "nbconvert_exporter": "python",
   "pygments_lexer": "ipython3",
   "version": "3.9.12"
  }
 },
 "nbformat": 4,
 "nbformat_minor": 5
}
