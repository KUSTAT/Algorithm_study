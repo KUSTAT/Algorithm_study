{
 "cells": [
  {
   "cell_type": "code",
   "execution_count": 12,
   "id": "2f140681",
   "metadata": {},
   "outputs": [
    {
     "name": "stdout",
     "output_type": "stream",
     "text": [
      "123402\n",
      "LUCKY\n"
     ]
    }
   ],
   "source": [
    "# 구현1 : 럭키 스트레이트\n",
    "def lucky(n):\n",
    "    l = len(n)\n",
    "    arr = [int(n[i]) for i in range(l)]\n",
    "    half = l//2\n",
    "    if sum(arr[:half]) == sum(arr[half:]):\n",
    "        print('LUCKY')\n",
    "    else:\n",
    "        print('READY')\n",
    "\n",
    "n = input()\n",
    "lucky(n)"
   ]
  },
  {
   "cell_type": "code",
   "execution_count": 25,
   "id": "1b5c3b6b",
   "metadata": {},
   "outputs": [
    {
     "name": "stdout",
     "output_type": "stream",
     "text": [
      "k1ka5cb7\n",
      "abckk13\n"
     ]
    }
   ],
   "source": [
    "# 구현2 : 문자열 재정렬\n",
    "def sorting(n):\n",
    "    num = []\n",
    "    char = []\n",
    "    for i in range(len(n)):\n",
    "        if n[i] in ['0','1','2','3','4','5','6','7','8','9']:\n",
    "            num.append(int(n[i]))\n",
    "        else:\n",
    "            char.append(n[i])\n",
    "    char.sort()\n",
    "    for i in range(len(char)):\n",
    "        print(char[i], end = '')\n",
    "    print(sum(num))\n",
    "\n",
    "n = input()\n",
    "sorting(n)"
   ]
  },
  {
   "cell_type": "code",
   "execution_count": 8,
   "id": "d32958f9",
   "metadata": {},
   "outputs": [
    {
     "name": "stdout",
     "output_type": "stream",
     "text": [
      "ababcdcdababcdcd\n",
      "9\n"
     ]
    }
   ],
   "source": [
    "# 구현3 : 문자열 압축\n",
    "def solution(s):\n",
    "    # 문자열 길이\n",
    "    l = len(s)\n",
    "    # 1개단위로 잘랐을 경우 길이\n",
    "    answer = l\n",
    "    # 자르는 단위의 길이(1부터 l까지)\n",
    "    for i in range(1, l//2+1):\n",
    "        cnt = 0\n",
    "        check = 1\n",
    "        num = l//i\n",
    "        for j in range(num):\n",
    "            if s[j*i:(j+1)*i] == s[(j+1)*i:(j+2)*i]:\n",
    "                check += 1\n",
    "            else:\n",
    "                # 중복 문자가 없으면 >> 문자 길이만큼 더하기\n",
    "                if check == 1:\n",
    "                    cnt += i\n",
    "                # 중복 문자가 있으면 >> 문자길이 + 숫자 길이만큼 더하기\n",
    "                else:\n",
    "                    cnt += i+len(str(check))\n",
    "                    check = 1\n",
    "        # 남은 문자 더하기\n",
    "        cnt += len(s[num*i:])\n",
    "        # 가장 최소 길이를 가지는 값을 저장\n",
    "        answer = min(answer, cnt)\n",
    "    return answer\n",
    "\n",
    "s = input()\n",
    "result = solution(s)\n",
    "print(result)"
   ]
  },
  {
   "cell_type": "code",
   "execution_count": 44,
   "id": "9514b692",
   "metadata": {},
   "outputs": [
    {
     "name": "stdout",
     "output_type": "stream",
     "text": [
      "4 3 3 1\n",
      "1 2\n",
      "3 4\n",
      "2 3\n",
      "4\n"
     ]
    }
   ],
   "source": [
    "# DFS/BFS 1 : 특정 거리의 도시 찾기\n",
    "n, m, k, x = map(int, input().split())\n",
    "graph = [[] for _ in range(n+1)]\n",
    "for i in range(m):\n",
    "    a, b = map(int, input().rstrip().split())\n",
    "    graph[a].append(b)\n",
    "\n",
    "from collections import deque\n",
    "def bfs(n, m, k, x, graph):\n",
    "    queue = deque([])\n",
    "    visited = [0]*(n+1)\n",
    "    queue.append((x, 0))\n",
    "    visited[x] = 1\n",
    "    result = []\n",
    "    while queue:\n",
    "        temp = queue.popleft()\n",
    "        for i in graph[temp[0]]:\n",
    "            # 길이 이어져 있고 방문하지 않았다면\n",
    "            if visited[i] == 0:\n",
    "                visited[i] = 1\n",
    "                queue.append((i, temp[1]+1))\n",
    "                if temp[1]+1 == k:\n",
    "                    result.append(i)\n",
    "    result.sort()\n",
    "    if len(result) == 0:\n",
    "        print(-1)\n",
    "    else:\n",
    "        for i in range(len(result)):\n",
    "            print(result[i])\n",
    "\n",
    "bfs(n, m, k, x, graph)"
   ]
  },
  {
   "cell_type": "code",
   "execution_count": 100,
   "id": "b1930486",
   "metadata": {
    "scrolled": true
   },
   "outputs": [
    {
     "name": "stdout",
     "output_type": "stream",
     "text": [
      "9\n"
     ]
    }
   ],
   "source": [
    "# DFS/BFS 2 : 연구소\n",
    "n, m = map(int, input().split())\n",
    "graph = [list(map(int, input().split())) for _ in range(n)]\n",
    "\n",
    "from collections import deque\n",
    "def labo(n, m, graph):\n",
    "    # 감염 지역 확인 =1 : 감염\n",
    "    zone = [[0]*m for _ in range(n)]\n",
    "    # 방문 확인 =1 : 방문\n",
    "    visited = [[0]*m for _ in range(n)]\n",
    "    virus_idx = []\n",
    "    # 바이러스 위치 파악\n",
    "    for i in range(n):\n",
    "        for j in range(m):\n",
    "            # 바이러스\n",
    "            if graph[i][j] == 2:\n",
    "                virus_idx.append((i, j))\n",
    "                zone[i][j] = 1\n",
    "                visited[i][j] = 1\n",
    "            # 벽\n",
    "            elif graph[i][j] == 1:\n",
    "                zone[i][j] = 1\n",
    "                visited[i][j] = 1\n",
    "    queue = deque([])\n",
    "    # 초기 바이러스 위치 입력\n",
    "    for idx in virus_idx:\n",
    "        queue.append(idx)\n",
    "    while queue:\n",
    "        # bfs + 상하좌우 탐색\n",
    "        temp = queue.popleft()\n",
    "        r, c = temp[0], temp[1]\n",
    "        dr = [-1, 1, 0, 0]\n",
    "        dc = [0, 0, -1, 1]\n",
    "        for i in range(4):\n",
    "            new_r, new_c = r+dr[i], c+dc[i]\n",
    "            # 범위 내에 있고 방문하지 않았으면 >> 방문 + 감염 처리\n",
    "            if new_r in range(n) and new_c in range(m) and visited[new_r][new_c] == 0:\n",
    "                queue.append((new_r, new_c))\n",
    "                zone[new_r][new_c] = 1\n",
    "                visited[new_r][new_c] = 1\n",
    "    cnt = 0\n",
    "    for i in range(n):\n",
    "        for j in range(m):\n",
    "            if zone[i][j] == 0:\n",
    "                cnt += 1\n",
    "    return cnt    \n",
    "\n",
    "import itertools\n",
    "def solution(n, m, graph):\n",
    "    blank = []\n",
    "    # 빈칸 찾기\n",
    "    for i in range(n):\n",
    "        for j in range(m):\n",
    "            if graph[i][j] == 0:\n",
    "                blank.append((i, j))\n",
    "    wall = list(itertools.combinations(blank, 3))\n",
    "    result = 0\n",
    "    # 벽 설치 가능한 모든 조합의 수를 계산 후 안전지대 최대 크기 찾기\n",
    "    for i in range(len(wall)):\n",
    "        new_graph = [arr[:] for arr in graph]\n",
    "        for j in range(3):\n",
    "            new_graph[wall[i][j][0]][wall[i][j][1]] = 1\n",
    "        result = max(result, labo(n, m, new_graph))\n",
    "    print(result)\n",
    "\n",
    "solution(n, m, graph)"
   ]
  },
  {
   "cell_type": "code",
   "execution_count": 120,
   "id": "d7cc255f",
   "metadata": {},
   "outputs": [
    {
     "name": "stdout",
     "output_type": "stream",
     "text": [
      "3 3\n",
      "1 0 2\n",
      "0 0 0\n",
      "3 0 0\n",
      "2 3 2\n",
      "[(1, 0, 0, 0), (2, 0, 0, 2), (3, 0, 2, 0), (1, 1, 1, 0), (1, 1, 0, 1)]\n",
      "[(1, 0, 0, 0), (2, 0, 0, 2), (3, 0, 2, 0), (1, 1, 1, 0), (1, 1, 0, 1), (2, 1, 1, 2)]\n",
      "[(1, 0, 0, 0), (2, 0, 0, 2), (3, 0, 2, 0), (1, 1, 1, 0), (1, 1, 0, 1), (2, 1, 1, 2), (3, 1, 2, 1)]\n",
      "[(1, 0, 0, 0), (2, 0, 0, 2), (3, 0, 2, 0), (1, 1, 1, 0), (1, 1, 0, 1), (2, 1, 1, 2), (3, 1, 2, 1), (1, 2, 1, 1)]\n",
      "[(1, 0, 0, 0), (2, 0, 0, 2), (3, 0, 2, 0), (1, 1, 1, 0), (1, 1, 0, 1), (2, 1, 1, 2), (3, 1, 2, 1), (1, 2, 1, 1)]\n",
      "[(1, 0, 0, 0), (2, 0, 0, 2), (3, 0, 2, 0), (1, 1, 1, 0), (1, 1, 0, 1), (2, 1, 1, 2), (3, 1, 2, 1), (1, 2, 1, 1), (2, 2, 2, 2)]\n",
      "[(1, 0, 0, 0), (2, 0, 0, 2), (3, 0, 2, 0), (1, 1, 1, 0), (1, 1, 0, 1), (2, 1, 1, 2), (3, 1, 2, 1), (1, 2, 1, 1), (2, 2, 2, 2)]\n",
      "[(1, 0, 0, 0), (2, 0, 0, 2), (3, 0, 2, 0), (1, 1, 1, 0), (1, 1, 0, 1), (2, 1, 1, 2), (3, 1, 2, 1), (1, 2, 1, 1), (2, 2, 2, 2)]\n",
      "[(1, 0, 0, 0), (2, 0, 0, 2), (3, 0, 2, 0), (1, 1, 1, 0), (1, 1, 0, 1), (2, 1, 1, 2), (3, 1, 2, 1), (1, 2, 1, 1), (2, 2, 2, 2)]\n",
      "3\n"
     ]
    }
   ],
   "source": [
    "# DFS/BFS 3 : 경쟁적 전염\n",
    "n, k = map(int, input().split())\n",
    "graph = [list(map(int, input().rstrip().split())) for _ in range(n)]\n",
    "s, x, y = map(int, input().split())\n",
    "\n",
    "from collections import deque\n",
    "def contamination(n, k, graph, s, x, y):\n",
    "    queue = deque([])\n",
    "    start = []\n",
    "    for i in range(n):\n",
    "        for j in range(n):\n",
    "            if graph[i][j] != 0:\n",
    "                # 바이러스 번호 / 초 / row / col\n",
    "                start.append((graph[i][j], 0, i, j))\n",
    "    start.sort()\n",
    "    queue = deque(start)\n",
    "    # bfs 구현 >> 초반에 sorting 했으니까 자동으로 노드가 작은 순서대로 전염됨\n",
    "    while queue:\n",
    "        temp = queue.popleft()\n",
    "        cur, sec, r, c = temp[0], temp[1], temp[2], temp[3]\n",
    "        dr = [-1, 1, 0, 0]\n",
    "        dc = [0, 0, -1, 1]\n",
    "        # 상하좌우 탐색\n",
    "        for i in range(4):\n",
    "            new_r, new_c = r+dr[i], c+dc[i]\n",
    "            # 범위 안에 있고 감염되지 않았다면 >> temp에 해당하는 바이러스로 감염 & 시간 +1\n",
    "            if new_r in range(n) and new_c in range(n) and graph[new_r][new_c] == 0:\n",
    "                graph[new_r][new_c] = cur\n",
    "                start.append((cur, sec+1, new_r, new_c))\n",
    "                queue.append((cur, sec+1, new_r, new_c))\n",
    "    # x, y좌표 & 해당 시간초 기준 바이러스 감염 여부 파악\n",
    "    for i in range(len(start)):\n",
    "        temp = start[i]\n",
    "        cur, sec, r, c = temp[0], temp[1], temp[2], temp[3]\n",
    "        # 해당좌표에\n",
    "        if r == x-1 and c == y-1:\n",
    "            # 기준 시각 이전에 감염이 완료됨 >> 해당 바이러스 출력\n",
    "            if sec <= s:\n",
    "                print(cur)\n",
    "            # 이후에 감염됨 >> 0 출력\n",
    "            else:\n",
    "                print(0)\n",
    "\n",
    "contamination(n, k, graph, s, x, y)"
   ]
  },
  {
   "cell_type": "code",
   "execution_count": 131,
   "id": "e06726b2",
   "metadata": {},
   "outputs": [
    {
     "name": "stdout",
     "output_type": "stream",
     "text": [
      "4\n"
     ]
    }
   ],
   "source": [
    "# 이진탐색 1 : 정렬된 배열에서 특정 수의 개수 구하기 (잘못된 풀이 : O(n) 풀이)\n",
    "n, x = map(int, input().split())\n",
    "arr = list(map(int, input().split()))\n",
    "\n",
    "cnt = 0\n",
    "def search(left, right, n, x, arr):\n",
    "    global cnt\n",
    "    if left >= right:\n",
    "        return None\n",
    "    mid = (left+right)//2\n",
    "    if arr[mid] < x:\n",
    "        search(mid+1, right, n, x, arr)\n",
    "    elif arr[mid] > x:\n",
    "        search(left, mid, n, x, arr)\n",
    "    else:\n",
    "        cnt += 1\n",
    "        search(left, mid, n, x, arr)\n",
    "        search(mid+1, right, n, x, arr)\n",
    "\n",
    "search(0, n-1, n, x, arr)\n",
    "print(cnt)"
   ]
  },
  {
   "cell_type": "code",
   "execution_count": 8,
   "id": "8e62897d",
   "metadata": {},
   "outputs": [
    {
     "name": "stdout",
     "output_type": "stream",
     "text": [
      "4\n"
     ]
    }
   ],
   "source": [
    "# 이진탐색 1 : 정렬된 배열에서 특정 수의 개수 구하기\n",
    "def start_point(array, target, start, end):\n",
    "    if start > end:\n",
    "        return None\n",
    "    mid = (start + end)//2\n",
    "    # 타겟 숫자와 일치 + (가장 왼쪽에 위치 or 맨앞에 위치) >> 인덱스 반환\n",
    "    if array[mid] == target and (array[mid] > array[mid-1] or mid == 0):\n",
    "        return mid\n",
    "    # 타겟보다 작은 경우 >> 오른쪽 확인\n",
    "    elif array[mid] < target:\n",
    "        return start_point(array, target, mid+1, end)\n",
    "    # 타겟보다 크거나 같은 경우(타겟과 같지만 가장 왼쪽이 아닌 경우도 포함) >> 왼쪽 확인\n",
    "    else:\n",
    "        return start_point(array, target, start, mid-1)\n",
    "    \n",
    "def end_point(array, target, start, end):\n",
    "    if start > end:\n",
    "        return None\n",
    "    mid = (start + end)//2\n",
    "    # 타겟 숫자와 일치 + (가장 오른쪽에 위치 or 맨뒤에 위치) >> 인덱스 반환\n",
    "    if array[mid] == target and (array[mid] < array[mid+1] or mid == n-1):\n",
    "        return mid\n",
    "    # 타겟보다 큰 경우 >> 왼쪽 확인\n",
    "    elif array[mid] > target:\n",
    "        return end_point(array, target, start, mid-1)\n",
    "    # 타겟보다 작거나 같은 경우(타겟과 같지만 가장 오른쪽이 아닌 경우도 포함) >> 오른쪽 확인\n",
    "    else:\n",
    "        return end_point(array, target, mid+1, end)\n",
    "start = start_point(arr, x, 0, n-1)\n",
    "end = end_point(arr, x, 0, n-1)\n",
    "if start == None:\n",
    "    print(-1)\n",
    "else:\n",
    "    print(end-start+1)"
   ]
  },
  {
   "cell_type": "code",
   "execution_count": 28,
   "id": "3d9933f9",
   "metadata": {},
   "outputs": [
    {
     "name": "stdout",
     "output_type": "stream",
     "text": [
      "5\n",
      "-15 -6 1 3 7\n"
     ]
    },
    {
     "data": {
      "text/plain": [
       "3"
      ]
     },
     "execution_count": 28,
     "metadata": {},
     "output_type": "execute_result"
    }
   ],
   "source": [
    "# 이진탐색 2 : 고정점 찾기\n",
    "def fixed_point(start, end, arr):\n",
    "    mid = (start+end)//2\n",
    "    # stop 조건\n",
    "    if start > end:\n",
    "        return -1\n",
    "    # 고정점인 경우 리턴\n",
    "    if arr[mid] == mid:\n",
    "        return mid\n",
    "    # 현재 인덱스보다 원소의 값이 작은경우 >> 오른쪽 탐색\n",
    "    elif arr[mid] < mid:\n",
    "        return fixed_point(mid+1, end, arr)\n",
    "    # 현재 인덱스보다 원소의 값이 큰 경우 >> 왼쪽 탐색\n",
    "    else:\n",
    "        return fixed_point(start, mid-1, arr)\n",
    "\n",
    "n = int(input())\n",
    "arr = list(map(int, input().rstrip().split()))\n",
    "\n",
    "fixed_point(0, n-1, arr)"
   ]
  },
  {
   "cell_type": "code",
   "execution_count": 42,
   "id": "959181eb",
   "metadata": {},
   "outputs": [
    {
     "name": "stdout",
     "output_type": "stream",
     "text": [
      "3\n"
     ]
    }
   ],
   "source": [
    "# 이진탐색 3 : 공유기 설치\n",
    "# 입력\n",
    "n, c = map(int, input().split())\n",
    "arr = []\n",
    "for i in range(n):\n",
    "    arr.append(int(input().rstrip()))\n",
    "arr.sort()\n",
    "# 가능한 최대 거리 (초기 end로 지정)\n",
    "m = (arr[n-1]-arr[0])//(c-1)\n",
    "result = []\n",
    "def wifi(n, start, end, arr):\n",
    "    global result\n",
    "    # 탐색이 완료되면 중지\n",
    "    if start > end:\n",
    "        return None\n",
    "    mid = (start+end)//2\n",
    "    temp = 0\n",
    "    # 첫번째 집 카운트\n",
    "    cnt = 1\n",
    "    # 앞에서부터 기준(mid)이상 띄워서 설치할 수 있으면 카운트\n",
    "    for i in range(1, n):\n",
    "        if arr[i]-arr[temp] >= mid:\n",
    "            cnt += 1\n",
    "            temp = i\n",
    "    # 해당 거리를 유지하면서 설치가 가능하면 >> 결과에 저장 + 거리를 늘려서 탐색\n",
    "    if cnt >= c:\n",
    "        result.append(mid)\n",
    "        wifi(n, mid+1, end, arr)\n",
    "    # 해당 거리를 유지하면서 설치가 불가능하면 >> 거리를 줄여서 탐색\n",
    "    else:\n",
    "        wifi(n, start, mid-1, arr)\n",
    "\n",
    "wifi(n, 0, m, arr)\n",
    "print(max(result))"
   ]
  }
 ],
 "metadata": {
  "kernelspec": {
   "display_name": "Python 3 (ipykernel)",
   "language": "python",
   "name": "python3"
  },
  "language_info": {
   "codemirror_mode": {
    "name": "ipython",
    "version": 3
   },
   "file_extension": ".py",
   "mimetype": "text/x-python",
   "name": "python",
   "nbconvert_exporter": "python",
   "pygments_lexer": "ipython3",
   "version": "3.9.12"
  }
 },
 "nbformat": 4,
 "nbformat_minor": 5
}
