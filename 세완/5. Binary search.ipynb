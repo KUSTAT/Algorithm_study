{
 "cells": [
  {
   "cell_type": "code",
   "execution_count": 1,
   "id": "4edba413",
   "metadata": {},
   "outputs": [
    {
     "data": {
      "text/plain": [
       "2"
      ]
     },
     "execution_count": 1,
     "metadata": {},
     "output_type": "execute_result"
    }
   ],
   "source": [
    "# 이진 탐색1 : recursive하게 구현\n",
    "def binary_search_recursive(array, target, start, end):\n",
    "    if start >= end:\n",
    "        return None\n",
    "    mid = (start + end)//2\n",
    "    if array[mid] == target:\n",
    "        return mid\n",
    "    elif array[mid] > target:\n",
    "        return binary_search_recursive(array, target, start, mid-1)\n",
    "    else:\n",
    "        return binary_search_recursive(array, target, mid+1, end)\n",
    "\n",
    "binary_search_recursive([1,3,5,6,9,10], 5, 0, 5)"
   ]
  },
  {
   "cell_type": "code",
   "execution_count": 3,
   "id": "7571ca2a",
   "metadata": {},
   "outputs": [
    {
     "data": {
      "text/plain": [
       "2"
      ]
     },
     "execution_count": 3,
     "metadata": {},
     "output_type": "execute_result"
    }
   ],
   "source": [
    "# 이진 탐색1 : 반복문으로 구현\n",
    "def binary_search_loop(array, target):\n",
    "    start, end = 0, len(array)-1\n",
    "    while start <= end:\n",
    "        mid = (start+end)//2\n",
    "        if array[mid] == target:\n",
    "            return mid\n",
    "        elif array[mid] > target:\n",
    "            end = mid-1\n",
    "        else:\n",
    "            start = mid+1\n",
    "    return None\n",
    "\n",
    "binary_search_loop([1,3,5,6,9,10], 5)"
   ]
  },
  {
   "cell_type": "code",
   "execution_count": 9,
   "id": "616a1ef0",
   "metadata": {},
   "outputs": [
    {
     "name": "stdout",
     "output_type": "stream",
     "text": [
      "5\n",
      "8 3 7 9 2\n",
      "3\n",
      "5 7 9\n",
      "no yes yes "
     ]
    }
   ],
   "source": [
    "# 예제1 : 부품 찾기\n",
    "\n",
    "n = int(input())\n",
    "# 재고 데이터를 불러오고 정렬\n",
    "arr1 = sorted(list(map(int, input().split())))\n",
    "m = m = int(input())\n",
    "arr2 = list(map(int, input().split()))\n",
    "\n",
    "class solution():\n",
    "    def component_search(self, n, m, target, arr):\n",
    "        start, end = 0, len(arr)-1\n",
    "        # 시작 지점이 끝 지점을 넘어가면 루프 종료\n",
    "        while start <= end:\n",
    "            mid = (start+end)//2\n",
    "            # 가운데 지점과 일치하면 yes 리턴, 아니면 크기에 따라 좌우로 나눠 다시 탐색\n",
    "            if arr[mid] == target:\n",
    "                return 'yes'\n",
    "            elif mid > target:\n",
    "                end = mid-1\n",
    "            else:\n",
    "                start = mid+1\n",
    "        # 탐색 실패시 no 리턴\n",
    "        return 'no'\n",
    "    \n",
    "sol = solution()\n",
    "for i in range(m):\n",
    "    print(sol.component_search(n, m, arr2[i], arr1), end = ' ')"
   ]
  },
  {
   "cell_type": "code",
   "execution_count": 13,
   "id": "d2f6136e",
   "metadata": {},
   "outputs": [
    {
     "name": "stdout",
     "output_type": "stream",
     "text": [
      "4 6\n",
      "19 15 10 17\n",
      "15\n"
     ]
    }
   ],
   "source": [
    "# 예제2 : 떡볶이 떡 만들기\n",
    "\n",
    "n, m = map(int, input().split())\n",
    "arr = list(map(int, input().split()))\n",
    "\n",
    "class solution():\n",
    "    def ricecake_cut(self, n, m, arr):\n",
    "        # 자를수 있는 최소, 최대 범위\n",
    "        low = 0\n",
    "        high = max(arr)\n",
    "        # 절단기 높이를 업데이트\n",
    "        temp = 0\n",
    "        while low <= high:\n",
    "            cut = (low+high)//2\n",
    "            length = 0\n",
    "            # 절단기 높이보다 큰 떡들만 잘라서 나머지를 더해감\n",
    "            for x in arr:\n",
    "                if x > cut:\n",
    "                    length += x-cut\n",
    "            # 길이의 합이 m보다 작으면 cut을 왼쪽으로 옮겨 탐색(자르는 크기 줄이기)\n",
    "            if length < m:\n",
    "                high = cut-1\n",
    "            # 길이의 합이 m보다 크거나 같으면 cut을 오른쪽으로 옮겨 탐색(자르는 크기 늘리기)\n",
    "            else:\n",
    "                temp = cut\n",
    "                low = cut+1\n",
    "        return temp\n",
    "sol = solution()\n",
    "result = sol.ricecake_cut(n, m, arr)\n",
    "print(result)"
   ]
  },
  {
   "cell_type": "code",
   "execution_count": 18,
   "id": "c0e6feb7",
   "metadata": {},
   "outputs": [
    {
     "name": "stdout",
     "output_type": "stream",
     "text": [
      "5\n",
      "4 1 5 2 3\n",
      "5\n",
      "1 3 7 9 5\n",
      "1\n",
      "1\n",
      "0\n",
      "0\n",
      "1\n"
     ]
    }
   ],
   "source": [
    "# 백준 1920번 : 수 찾기\n",
    "n = int(input())\n",
    "arr1 = list(map(int, input().rstrip().split()))\n",
    "# 미리 정렬\n",
    "arr1.sort()\n",
    "m = int(input())\n",
    "arr2 = list(map(int, input().rstrip().split()))\n",
    "\n",
    "class solution():\n",
    "    # 기본적인 binary search 구현\n",
    "    def binary_search_loop(self, array, target):\n",
    "        start, end = 0, len(array)-1\n",
    "        while start <= end:\n",
    "            mid = (start+end)//2\n",
    "            if array[mid] == target:\n",
    "                return 1\n",
    "            elif array[mid] > target:\n",
    "                end = mid-1\n",
    "            else:\n",
    "                start = mid+1\n",
    "        return 0\n",
    "    # 앞서 만든 함수를 arr2의 각 원소마다 적용\n",
    "    def num_search(self, n, m, arr1, arr2):\n",
    "        for x in arr2:\n",
    "            result = self.binary_search_loop(arr1, x)\n",
    "            print(result)\n",
    "\n",
    "sol = solution()\n",
    "sol.num_search(n, m, arr1, arr2)"
   ]
  },
  {
   "cell_type": "code",
   "execution_count": 25,
   "id": "5f2b85a1",
   "metadata": {},
   "outputs": [
    {
     "name": "stdout",
     "output_type": "stream",
     "text": [
      "4 11\n",
      "802\n",
      "450\n",
      "537\n",
      "640\n",
      "200\n"
     ]
    }
   ],
   "source": [
    "# 백준 1654번 : 랜선 자르기\n",
    "k, n = map(int, input().split())\n",
    "arr = [int(input()) for i in range(k)]\n",
    "\n",
    "class solution():\n",
    "    def cable_cut(self, k, n, arr):\n",
    "        # 자르는 최소, 최대 범위 설정\n",
    "        low, high = 1, max(arr)\n",
    "        # 자르는 길이 업데이트 변수\n",
    "        temp = 0\n",
    "        while low <= high:\n",
    "            # 랜선 개수 업데이트 변수\n",
    "            cnt = 0\n",
    "            # 자르는 기준 설정\n",
    "            cut = (low+high)//2\n",
    "            # 잘라서 완성된 랜선 카운트\n",
    "            for x in arr:\n",
    "                cnt += x // cut\n",
    "            # n보다 개수가 적음 >> 왼쪽으로 이동하여 다시 탐색\n",
    "            if cnt < n:\n",
    "                high = cut-1\n",
    "            # n보다 개수가 많음 >> 해당 길이를 업데이트 하고 오른쪽으로 이동하여 다시 탐색\n",
    "            else:\n",
    "                temp = cut\n",
    "                low = cut+1\n",
    "        print(temp)\n",
    "sol = solution()\n",
    "sol.cable_cut(k, n, arr)"
   ]
  }
 ],
 "metadata": {
  "kernelspec": {
   "display_name": "Python 3 (ipykernel)",
   "language": "python",
   "name": "python3"
  },
  "language_info": {
   "codemirror_mode": {
    "name": "ipython",
    "version": 3
   },
   "file_extension": ".py",
   "mimetype": "text/x-python",
   "name": "python",
   "nbconvert_exporter": "python",
   "pygments_lexer": "ipython3",
   "version": "3.9.7"
  }
 },
 "nbformat": 4,
 "nbformat_minor": 5
}
