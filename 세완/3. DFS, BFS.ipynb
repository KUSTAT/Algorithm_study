{
 "cells": [
  {
   "cell_type": "code",
   "execution_count": 1,
   "id": "0b6dab07",
   "metadata": {},
   "outputs": [
    {
     "name": "stdout",
     "output_type": "stream",
     "text": [
      "3628800\n",
      "3628800\n"
     ]
    }
   ],
   "source": [
    "# 팩토리얼 예제 : 반복문으로 구현\n",
    "def factorial_iterative(n):\n",
    "    result = 1\n",
    "    for i in range(1, n+1):\n",
    "        result *= i\n",
    "    return result\n",
    "\n",
    "# 팩토리얼 예제 : 재귀적으로 구현\n",
    "def factorial_recursive(n):\n",
    "    if n <= 1:\n",
    "        return 1\n",
    "    else:\n",
    "        return n*factorial_recursive(n-1)\n",
    "\n",
    "print(factorial_iterative(10))\n",
    "print(factorial_recursive(10))"
   ]
  },
  {
   "cell_type": "code",
   "execution_count": 5,
   "id": "e31aef8d",
   "metadata": {},
   "outputs": [
    {
     "name": "stdout",
     "output_type": "stream",
     "text": [
      "[[0, 7, 5], [7, 0, 99999999], [5, 99999999, 0]]\n",
      "[[(1, 7), (2, 5)], [(0, 7)], [(0, 5)]]\n"
     ]
    }
   ],
   "source": [
    "# graph 표현 방식1 : 인접 행렬(adjacent matrix)\n",
    "inf = 99999999\n",
    "graph1 = [\n",
    "    [0, 7, 5],\n",
    "    [7, 0, inf],\n",
    "    [5, inf, 0]\n",
    "]\n",
    "print(graph1)\n",
    "\n",
    "# graph 표현 방식2 : 인접 리스트(adjacent list)\n",
    "graph2 = [[] for _ in range(3)]\n",
    "# 노드 0에 연결된 정보 저장\n",
    "graph2[0].append((1,7))\n",
    "graph2[0].append((2,5))\n",
    "# 노드1에 연결된 정보 저장\n",
    "graph2[1].append((0,7))\n",
    "# 노드2에 연결된 정보 저장\n",
    "graph2[2].append((0,5))\n",
    "print(graph2)"
   ]
  },
  {
   "cell_type": "code",
   "execution_count": 6,
   "id": "a38c0dd2",
   "metadata": {},
   "outputs": [
    {
     "name": "stdout",
     "output_type": "stream",
     "text": [
      "1 2 7 6 8 3 4 5 "
     ]
    }
   ],
   "source": [
    "# DFS 매서드 정의\n",
    "def dfs(graph, v, visited):\n",
    "    # 현재 노드를 방문 처리\n",
    "    visited[v] = True\n",
    "    print(v, end = ' ')\n",
    "    for i in graph[v]:\n",
    "        if not visited[i]:\n",
    "            dfs(graph, i, visited)\n",
    "    \n",
    "# 각 노드가 연결된 정보를 리스트 자료형으로 표현(2차원 리스트)\n",
    "graph = [\n",
    "    [],\n",
    "    [2,3,8],\n",
    "    [1,7],\n",
    "    [1,4,5],\n",
    "    [3,5],\n",
    "    [3,4],\n",
    "    [7],\n",
    "    [2,6,8],\n",
    "    [1,7]\n",
    "]\n",
    "\n",
    "visited = [False]*9\n",
    "dfs(graph, 1, visited)"
   ]
  },
  {
   "cell_type": "code",
   "execution_count": 7,
   "id": "113d63a4",
   "metadata": {},
   "outputs": [
    {
     "name": "stdout",
     "output_type": "stream",
     "text": [
      "1 2 3 8 7 4 5 6 "
     ]
    }
   ],
   "source": [
    "# BFS\n",
    "from collections import deque\n",
    "\n",
    "def bfs(graph, start, visited):\n",
    "    # 큐 자료구조 사용을 위해 deque 라이브러리 사용\n",
    "    queue = deque([start])\n",
    "    # 시작 노드를 방문처리\n",
    "    visited[start] = True\n",
    "    # 큐가 빌 때까지 반복\n",
    "    while queue:\n",
    "        # 큐에서 하나의 원소를 뽑아 출력\n",
    "        temp = queue.popleft()\n",
    "        print(temp, end = ' ')\n",
    "        # 해당 원소와 연결된, 아직 방문하지 않은 원소들을 큐에 삽입\n",
    "        for i in graph[temp]:\n",
    "            if not visited[i]:\n",
    "                queue.append(i)\n",
    "                visited[i] = True\n",
    "\n",
    "# 각 노드가 연결된 정보를 리스트 자료형으로 표현(2차원 리스트)\n",
    "graph = [\n",
    "    [],\n",
    "    [2,3,8],\n",
    "    [1,7],\n",
    "    [1,4,5],\n",
    "    [3,5],\n",
    "    [3,4],\n",
    "    [7],\n",
    "    [2,6,8],\n",
    "    [1,7]\n",
    "]\n",
    "\n",
    "visited = [False]*9\n",
    "bfs(graph, 1, visited)"
   ]
  },
  {
   "cell_type": "code",
   "execution_count": 2,
   "id": "43b90aaa",
   "metadata": {},
   "outputs": [
    {
     "name": "stdout",
     "output_type": "stream",
     "text": [
      "3 3\n",
      "0 0 1\n",
      "0 1 0\n",
      "1 0 1\n"
     ]
    },
    {
     "data": {
      "text/plain": [
       "3"
      ]
     },
     "execution_count": 2,
     "metadata": {},
     "output_type": "execute_result"
    }
   ],
   "source": [
    "# 예제1 : 음료수 얼려 먹기\n",
    "class solution():\n",
    "    # DFS를 사용하여 이웃하는 빈칸 찾기\n",
    "    def dfs(self, x : int, y : int):\n",
    "        # 범위를 벗어나면 실패처리\n",
    "        if x < 0 or x > n-1 or y < 0 or y > m-1:\n",
    "            return False\n",
    "        # 만약 구멍이 뚫려있다면 탐색 시작\n",
    "        if arr[x][y] == 0:\n",
    "            # 방문한 좌표의 구멍은 막기\n",
    "            arr[x][y] = 1\n",
    "            # 순차적으로 recursive하게 탐색 (상하좌우)\n",
    "            self.dfs(x-1, y)\n",
    "            self.dfs(x+1, y)\n",
    "            self.dfs(x, y-1)\n",
    "            self.dfs(x, y+1)\n",
    "            # 탐색 성공\n",
    "            return True\n",
    "        return False\n",
    "    \n",
    "    # 모든 좌표를 시작점으로 하여 각각 dfs 적용\n",
    "    def iced(self, n : int, m : int, arr) -> int:\n",
    "        cnt = 0\n",
    "        for i in range(n):\n",
    "            for j in range(m):\n",
    "                if self.dfs(i, j) == True:\n",
    "                    cnt += 1\n",
    "        return cnt\n",
    "\n",
    "# 예시\n",
    "n, m = map(int, input().split())\n",
    "arr = [list(map(int, input().split())) for i in range(n)]\n",
    "sol = solution()\n",
    "sol.iced(n, m, arr)"
   ]
  },
  {
   "cell_type": "code",
   "execution_count": 40,
   "id": "388b0054",
   "metadata": {},
   "outputs": [
    {
     "name": "stdout",
     "output_type": "stream",
     "text": [
      "3 3\n",
      "1 1 0\n",
      "0 1 0\n",
      "0 1 1\n",
      "5\n"
     ]
    }
   ],
   "source": [
    "# 예제2 : 미로 탈출\n",
    "from collections import deque\n",
    "class solution():\n",
    "    def bfs(self, graph, n : int, m : int):\n",
    "        # 상하좌우 이동\n",
    "        dx = [-1, 1, 0, 0]\n",
    "        dy = [0, 0, -1, 1]\n",
    "        # 시작 노드 위치\n",
    "        x, y = 0, 0\n",
    "        # 시작 노드 큐에 집어넣기\n",
    "        x_queue = deque()\n",
    "        y_queue = deque()\n",
    "        x_queue.append(x)\n",
    "        y_queue.append(y)\n",
    "        # 시작 포인트(이동 횟수 = 0)\n",
    "        graph[x][y] = 1\n",
    "        # queue가 빌 때까지\n",
    "        while x_queue:\n",
    "            # 맨 앞에 있는 좌표 pop\n",
    "            x = x_queue.popleft()\n",
    "            y = y_queue.popleft()\n",
    "            for i in range(4):\n",
    "                new_x = x + dx[i]\n",
    "                new_y = y + dy[i]\n",
    "                # 범위 안에 있고 방문 가능하면\n",
    "                if new_x in range(n) and new_y in range(m) and graph[new_x][new_y] == 1:\n",
    "                    # 방문 처리(이동 횟수 + 1)\n",
    "                    graph[new_x][new_y] = graph[x][y] + 1\n",
    "                    # queue에 추가\n",
    "                    x_queue.append(new_x)\n",
    "                    y_queue.append(new_y)\n",
    "        # 최종 이동 횟수 출력\n",
    "        print(graph[n-1][m-1])\n",
    "\n",
    "# 예시\n",
    "n, m = map(int, input().split())\n",
    "graph = [list(map(int, input().split())) for _ in range(n)]\n",
    "sol = solution()\n",
    "sol.bfs(graph, n, m)"
   ]
  },
  {
   "cell_type": "code",
   "execution_count": 24,
   "id": "0df4a7ca",
   "metadata": {
    "scrolled": true
   },
   "outputs": [
    {
     "name": "stdout",
     "output_type": "stream",
     "text": [
      "5 5 1\n",
      "1 2\n",
      "1 4\n",
      "2 3\n",
      "2 4\n",
      "3 4\n",
      "1\n",
      "2\n",
      "3\n",
      "4\n",
      "0\n"
     ]
    }
   ],
   "source": [
    "# 백준 24479번 (DFS 구현 - using stack)\n",
    "n, m, r = map(int, input().split())\n",
    "graph = [[] for _ in range(n+1)]\n",
    "for i in range(m):\n",
    "    a,b = map(int, input().split())\n",
    "    graph[a].append(b)\n",
    "    graph[b].append(a)\n",
    "for i in range(n+1):\n",
    "    graph[i].sort()\n",
    "\n",
    "cnt = 0\n",
    "stack = []\n",
    "result = [0]*(n+1)\n",
    "visited = [0]*(n+1)\n",
    "\n",
    "def dfs_stack(graph, start):\n",
    "    # 방문 순서 기록\n",
    "#     global cnt\n",
    "    cnt = 1\n",
    "    temp = start\n",
    "    # 출발점 스택과 결과에 포함\n",
    "    stack.append(start)\n",
    "    result[start] = cnt\n",
    "    # 출발점 방문처리\n",
    "    visited[start] = 1\n",
    "    # 스택이 빌 때까지 루프\n",
    "    while stack:\n",
    "        # 스택의 마지막을 기준으로 지정 (가장 최근에 쌓인 것부터 처리해야 하므로)\n",
    "        temp = stack[-1]\n",
    "        # 이웃한 노드 중에 가지 못하는 노드의 개수\n",
    "        fail = 0\n",
    "        for x in graph[temp]: # 이웃한 노드 중에서,\n",
    "            # 이미 방문해서 못가는 경우 >> 방문 실패 카운트 추가\n",
    "            if visited[x] == 1:\n",
    "                fail += 1\n",
    "            else: # 방문할 수 있는 경우\n",
    "                # 스택에 추가 + 방문처리 + 방문 순서 기록 >> 루프 탈출\n",
    "                stack.append(x)\n",
    "                visited[x] = 1\n",
    "                cnt += 1\n",
    "                result[x] = cnt\n",
    "                break\n",
    "            # 모든 인접 노드로 전혀 갈 수 없는 경우\n",
    "            if fail == len(graph[temp]):\n",
    "                # 스텍에서 삭제\n",
    "                stack.pop()\n",
    "    return result\n",
    "                \n",
    "# 예시\n",
    "result = dfs_stack(graph, r)\n",
    "for i in range(1, n+1):\n",
    "    print(result[i])              "
   ]
  },
  {
   "cell_type": "code",
   "execution_count": 6,
   "id": "a26923cc",
   "metadata": {},
   "outputs": [
    {
     "name": "stdout",
     "output_type": "stream",
     "text": [
      "5 5 1\n",
      "1 2\n",
      "1 4\n",
      "2 3\n",
      "2 4\n",
      "3 4\n",
      "1\n",
      "2\n",
      "3\n",
      "4\n",
      "0\n"
     ]
    }
   ],
   "source": [
    "# 백준 24479번 (DFS 구현 - recursive method)\n",
    "import sys\n",
    "input = sys.stdin.readline\n",
    "sys.setrecursionlimit(10**9)\n",
    "\n",
    "n, m, r = map(int, input().split())\n",
    "graph = [[] for _ in range(n+1)]\n",
    "for i in range(m):\n",
    "    a,b = map(int, input().split())\n",
    "    graph[a].append(b)\n",
    "    graph[b].append(a)\n",
    "for i in range(n+1):\n",
    "    graph[i].sort()\n",
    "visited = [0]*(n+1)\n",
    "result = [0]*(n+1)\n",
    "cnt = 0\n",
    "\n",
    "def dfs_recursive(graph, start):\n",
    "    global cnt\n",
    "    # 방문 기록 남기기\n",
    "    visited[start] = 1\n",
    "    # 방문 순서 기록\n",
    "    cnt += 1\n",
    "    result[start] = cnt\n",
    "    for x in graph[start]:\n",
    "        # (오름차순 정렬은 이미 됨)아직 방문하지 않았으면\n",
    "        if visited[x] == 0:\n",
    "            dfs_recursive(graph, x)\n",
    "    return result\n",
    "\n",
    "# 예시\n",
    "result = dfs_recursive(graph, r)\n",
    "for i in range(1, n+1):\n",
    "    print(result[i])"
   ]
  },
  {
   "cell_type": "code",
   "execution_count": 22,
   "id": "cd99ebf5",
   "metadata": {
    "scrolled": true
   },
   "outputs": [
    {
     "name": "stdout",
     "output_type": "stream",
     "text": [
      "5 5 1\n",
      "1 2\n",
      "1 4\n",
      "2 3\n",
      "2 4\n",
      "3 4\n",
      "1\n",
      "2\n",
      "4\n",
      "3\n",
      "0\n"
     ]
    }
   ],
   "source": [
    "# 백준 24444번 (BFS 구현)\n",
    "import sys\n",
    "n, m, r = map(int, input().split())\n",
    "graph = [[] for _ in range(n+1)]\n",
    "for i in range(m):\n",
    "    a,b = map(int, sys.stdin.readline().split())\n",
    "    graph[a].append(b)\n",
    "    graph[b].append(a)\n",
    "for i in range(n+1):\n",
    "    graph[i].sort()\n",
    "\n",
    "from collections import deque\n",
    "\n",
    "def bfs(n, m, graph, start):\n",
    "    queue = deque([start])\n",
    "    # 방문 순서 카운트\n",
    "    cnt = 0\n",
    "    # 방문 기록 리스트\n",
    "    visited = [False]*(n+1)\n",
    "    # 시작지점 방문 처리\n",
    "    visited[start] = True\n",
    "    result = [0]*(n+1)\n",
    "    # 큐가 빌 때까지 반복\n",
    "    while queue:\n",
    "        # 큐에서 하나 뽑고 >> 카운트 추가 + 결과 저장\n",
    "        temp = queue.popleft()\n",
    "        cnt += 1\n",
    "        result[temp] = cnt\n",
    "        # temp와 인접 노드 >> 방문하지 않았다면 큐에 저장(오름차순)\n",
    "        for x in graph[temp]:\n",
    "            if not visited[x]:\n",
    "                queue.append(x)\n",
    "                visited[x] = True\n",
    "    return result\n",
    "\n",
    "result = bfs(n, m, graph, r)\n",
    "for i in range(1, n+1):\n",
    "    print(result[i])"
   ]
  }
 ],
 "metadata": {
  "kernelspec": {
   "display_name": "Python 3 (ipykernel)",
   "language": "python",
   "name": "python3"
  },
  "language_info": {
   "codemirror_mode": {
    "name": "ipython",
    "version": 3
   },
   "file_extension": ".py",
   "mimetype": "text/x-python",
   "name": "python",
   "nbconvert_exporter": "python",
   "pygments_lexer": "ipython3",
   "version": "3.9.7"
  }
 },
 "nbformat": 4,
 "nbformat_minor": 5
}
