{
 "cells": [
  {
   "cell_type": "code",
   "execution_count": 22,
   "id": "9c488378",
   "metadata": {},
   "outputs": [
    {
     "name": "stdout",
     "output_type": "stream",
     "text": [
      "3 3\n",
      "0\n"
     ]
    }
   ],
   "source": [
    "# 백준 1697번 : 숨바꼭질\n",
    "from collections import deque\n",
    "n, k = map(int, input().split())\n",
    "q = deque([])\n",
    "visited = [False]*(100001)\n",
    "q.append((n, 0))\n",
    "while True:\n",
    "    temp, time = q.popleft()\n",
    "    # 이동 후의 결과가 target인 경우 >> time + 1\n",
    "    if temp+1 == k or temp-1 == k or 2*temp == k:\n",
    "        print(time+1)\n",
    "        break\n",
    "    # 이동 전의 결과가 target인 경우 >> time\n",
    "    elif temp == k:\n",
    "        print(time)\n",
    "        break\n",
    "    # bfs 구현 부분\n",
    "    for i in [temp-1, temp+1, 2*temp]:\n",
    "        if 0 <= i <= 100000 and not visited[i]:\n",
    "            q.append((i, time+1))\n",
    "            visited[i] = True"
   ]
  }
 ],
 "metadata": {
  "kernelspec": {
   "display_name": "Python 3 (ipykernel)",
   "language": "python",
   "name": "python3"
  },
  "language_info": {
   "codemirror_mode": {
    "name": "ipython",
    "version": 3
   },
   "file_extension": ".py",
   "mimetype": "text/x-python",
   "name": "python",
   "nbconvert_exporter": "python",
   "pygments_lexer": "ipython3",
   "version": "3.9.7"
  }
 },
 "nbformat": 4,
 "nbformat_minor": 5
}
