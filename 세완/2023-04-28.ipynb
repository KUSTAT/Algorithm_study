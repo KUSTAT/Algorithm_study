{
 "cells": [
  {
   "cell_type": "code",
   "execution_count": 11,
   "id": "76bdc852",
   "metadata": {},
   "outputs": [
    {
     "name": "stdout",
     "output_type": "stream",
     "text": [
      "4 8\n",
      "3 1 2 3 4 1 1 2\n",
      "5\n"
     ]
    }
   ],
   "source": [
    "# 백준 14719번 : 빗물 (구현)\n",
    "# 데이터 입력\n",
    "h, w = map(int, input().split())\n",
    "arr = list(map(int, input().split()))\n",
    "# 구현\n",
    "def rain(h, w, arr):\n",
    "    # 최대 높이\n",
    "    m = max(arr)\n",
    "    # 빗물 카운트\n",
    "    cnt = 0\n",
    "    # 층별로 1층부터 최대 높이 벽까지 카운트\n",
    "    for i in range(1, m+1):\n",
    "        # 좌우측 벽\n",
    "        left = 0\n",
    "        right = 2\n",
    "        # 우측 벽이 width 안에 있을 때까지 반복\n",
    "        while right < w:\n",
    "            # 좌측 벽이 i층보다 작으면 좌우측 벽 한칸씩 이동\n",
    "            if arr[left] < i:\n",
    "                left += 1\n",
    "                right += 1\n",
    "            # 좌우측 벽 사이의 공간이 i층보다 클 경우(물이 찰수 없음) >> 좌우측 한칸씩 이동\n",
    "            elif arr[left+1] >= i:\n",
    "                left += 1\n",
    "                right += 1\n",
    "            # 우측 벽이 i층보다 작은 경우 >> 우측 한칸 이동\n",
    "            elif arr[right] < i:\n",
    "                right += 1\n",
    "            # 좌우측 벽이 i층보다 크고, 가운데 물이 찰 수 있는 경우 >> 카운트\n",
    "            else:\n",
    "                cnt += right-left-1\n",
    "                left = right\n",
    "                right = left + 2\n",
    "    print(cnt)\n",
    "# 정답\n",
    "rain(h, w, arr)"
   ]
  }
 ],
 "metadata": {
  "kernelspec": {
   "display_name": "Python 3 (ipykernel)",
   "language": "python",
   "name": "python3"
  },
  "language_info": {
   "codemirror_mode": {
    "name": "ipython",
    "version": 3
   },
   "file_extension": ".py",
   "mimetype": "text/x-python",
   "name": "python",
   "nbconvert_exporter": "python",
   "pygments_lexer": "ipython3",
   "version": "3.9.12"
  }
 },
 "nbformat": 4,
 "nbformat_minor": 5
}
