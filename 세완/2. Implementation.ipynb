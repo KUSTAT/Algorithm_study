{
 "cells": [
  {
   "cell_type": "code",
   "execution_count": 10,
   "id": "8fa8ada1",
   "metadata": {},
   "outputs": [],
   "source": [
    "# 예제 4-1. 상하좌우\n",
    "class solution1():\n",
    "    def travel(self, n : int, arr : list[str]) -> int:\n",
    "        x, y = 1, 1\n",
    "        new_x, new_y = 1, 1\n",
    "        for i in range(len(arr)):\n",
    "            # 상하좌우 이동\n",
    "            if arr[i] == 'L':\n",
    "                new_x -= 1\n",
    "            elif arr[i] == 'R':\n",
    "                new_x += 1\n",
    "            elif arr[i] == 'U':\n",
    "                new_y -= 1\n",
    "            else:\n",
    "                new_y += 1\n",
    "            # 이동한 자리가 공간을 이탈하지 않았으면 그대로 이동\n",
    "            if new_x in range(1,n) and new_y in range(1,n):\n",
    "                x, y = new_x, new_y\n",
    "            # 공간을 이탈했으면 다시 원위치\n",
    "            else:\n",
    "                new_x, new_y = x, y\n",
    "        print(y, x)"
   ]
  },
  {
   "cell_type": "code",
   "execution_count": 11,
   "id": "ccbf89bf",
   "metadata": {},
   "outputs": [
    {
     "name": "stdout",
     "output_type": "stream",
     "text": [
      "5\n",
      "R R R U D D\n",
      "3 4\n"
     ]
    }
   ],
   "source": [
    "# 예시 출력\n",
    "n = int(input())\n",
    "arr = list(input().split())\n",
    "i1 = solution1()\n",
    "i1.travel(n, arr)"
   ]
  },
  {
   "cell_type": "code",
   "execution_count": 12,
   "id": "08e0f71c",
   "metadata": {},
   "outputs": [],
   "source": [
    "# 예제 4-2. 시각\n",
    "class solution2():\n",
    "    def time(self, n : int) -> int:\n",
    "        # 시각에 3이 있는 케이스\n",
    "        arr = [3, 13, 23]\n",
    "        cnt = 0\n",
    "        for i in range(n+1):\n",
    "            # 시각에 3이 있는 경우 : 60x60가지의 경우의 수\n",
    "            if i in arr:\n",
    "                cnt += 60*60\n",
    "            # 시각에 3이 없는 경우 : 60x60가지의 전체 경우의 수 - 3을 제외한 45x45가지의 경우의 수\n",
    "            else:\n",
    "                cnt += 60*60 - 45*45\n",
    "        print(cnt)"
   ]
  },
  {
   "cell_type": "code",
   "execution_count": 18,
   "id": "5c8410e3",
   "metadata": {},
   "outputs": [
    {
     "name": "stdout",
     "output_type": "stream",
     "text": [
      "5\n",
      "11475\n"
     ]
    }
   ],
   "source": [
    "# 예시 출력\n",
    "n = int(input())\n",
    "i2 = solution2()\n",
    "i2.time(n)"
   ]
  },
  {
   "cell_type": "code",
   "execution_count": 28,
   "id": "24c963fb",
   "metadata": {},
   "outputs": [],
   "source": [
    "# 예제 4-3. 왕실의 나이트\n",
    "class solution3_1():\n",
    "    def knight(self, p : str) -> int:\n",
    "        alpha = ['a','b','c','d','e','f','g','h']\n",
    "        num = [1,2,3,4,5,6,7,8]\n",
    "        # 현재 좌표\n",
    "        h, v = alpha.index(p[0])+1, int(p[1])\n",
    "        # 이동 가능한 경우의 수\n",
    "        move = [(-2, -1), (-2, 1), (2, -1), (2, 1), (-1, -2), (1, -2), (-1, 2), (1, 2)]\n",
    "        cnt = 0\n",
    "        for i in move:\n",
    "            # 이동했을 때 정원 안에 있으면 카운트\n",
    "            if h+i[0] in num and v+i[1] in num:\n",
    "                cnt += 1\n",
    "        print(cnt)"
   ]
  },
  {
   "cell_type": "code",
   "execution_count": 56,
   "id": "db7c8183",
   "metadata": {},
   "outputs": [
    {
     "name": "stdout",
     "output_type": "stream",
     "text": [
      "a1\n",
      "2\n"
     ]
    }
   ],
   "source": [
    "# 예시 출력\n",
    "n = input()\n",
    "i3 = solution3_1()\n",
    "i3.knight(n)"
   ]
  },
  {
   "cell_type": "code",
   "execution_count": 45,
   "id": "d93bdf8b",
   "metadata": {},
   "outputs": [],
   "source": [
    "# 다른 풀이?\n",
    "class solution3_2():\n",
    "    def knight(self, p : str) -> int:\n",
    "        alpha = ['a','b','c','d','e','f','g','h']\n",
    "        num = [1,2,3,4,5,6,7,8]\n",
    "        # 현재 좌표\n",
    "        h, v = alpha.index(p[0])+1, int(p[1])\n",
    "        left, right, up, down = h-1, 8-h, v-1, 8-v\n",
    "        arr1 = (left, right)\n",
    "        arr2 = (up, down)\n",
    "        cnt = 0\n",
    "        # 상하좌우 공간 확보 여부\n",
    "        for i in arr1:\n",
    "            cnt += (i >= 2)*((up >= 1) + (down >= 1))\n",
    "        for j in arr2:\n",
    "            cnt += (j >= 2)*((left >= 1) + (right >= 1))\n",
    "        print(cnt)"
   ]
  },
  {
   "cell_type": "code",
   "execution_count": 55,
   "id": "83940b79",
   "metadata": {},
   "outputs": [
    {
     "name": "stdout",
     "output_type": "stream",
     "text": [
      "a1\n",
      "2\n"
     ]
    }
   ],
   "source": [
    "# 예시 출력\n",
    "n = input()\n",
    "i3 = solution3_2()\n",
    "i3.knight(n)"
   ]
  },
  {
   "cell_type": "code",
   "execution_count": 18,
   "id": "7ddcd6b2",
   "metadata": {},
   "outputs": [],
   "source": [
    "# 예제 4-4. 게임 개발\n",
    "class solution4():\n",
    "    def game(self, n: int, m : int, state : list[int], arr) -> int:\n",
    "        # 행, 열, 방향\n",
    "        r, c, d = state[0], state[1], state[2]\n",
    "        # 임시 행/열\n",
    "        new_r, new_c = r, c\n",
    "        # 방문 기록용 2중 리스트\n",
    "        visit = [[0]*m for _ in range(n)]\n",
    "        # 북/동/남/서\n",
    "        move = [(-1, 0), (0, 1), (1, 0), (0, -1)]\n",
    "        # 방문 횟수 카운트\n",
    "        cnt = 0\n",
    "        # 이동 실패 횟수 카운트\n",
    "        fail = 0\n",
    "        stop = 0\n",
    "        while stop == 0:\n",
    "            # 방향 회전(이동하지 못하면 방향만 회전)\n",
    "            d = (d+3) % 4\n",
    "            # 임시 이동 좌표\n",
    "            new_r += move[d][0]\n",
    "            new_c += move[d][1]\n",
    "            # 이동한 좌표가 육지이고 가보지 않았다면 이동\n",
    "            if arr[new_r][new_c] == 0 and visit[new_r][new_c] == 0:\n",
    "                r, c = new_r, new_c\n",
    "                visit[r][c] = 1\n",
    "                cnt += 1\n",
    "                fail = 0\n",
    "            # 그렇지 않다면 실패 + 1\n",
    "            else:\n",
    "                new_r, new_c = r, c\n",
    "                fail += 1\n",
    "            # 네 방향 다 갈 곳이 없는 경우(fail = 4) 후진\n",
    "            if fail == 4:\n",
    "                new_r -= move[d][0]\n",
    "                new_c -= move[d][1]\n",
    "                # 육지라면 계속 진행\n",
    "                if arr[new_r][new_c] == 0:\n",
    "                    r, c = new_r, new_c\n",
    "                    fail = 0\n",
    "                # 바다라면 stop\n",
    "                else:\n",
    "                    new_r, new_c = r, c\n",
    "                    stop = 1\n",
    "        print(cnt)        "
   ]
  },
  {
   "cell_type": "code",
   "execution_count": 19,
   "id": "9aa7a335",
   "metadata": {},
   "outputs": [
    {
     "name": "stdout",
     "output_type": "stream",
     "text": [
      "4 4\n",
      "1 1 0\n",
      "1 1 1 1\n",
      "1 0 0 1\n",
      "1 1 0 1\n",
      "1 1 1 1\n",
      "3\n"
     ]
    }
   ],
   "source": [
    "# 예시 출력\n",
    "n, m = map(int, input().split())\n",
    "state = list(map(int, input().split()))\n",
    "arr = [list(map(int, input().split())) for _ in range(n)]\n",
    "i4 = solution4()\n",
    "i4.game(n, m, state, arr)"
   ]
  }
 ],
 "metadata": {
  "kernelspec": {
   "display_name": "Python 3 (ipykernel)",
   "language": "python",
   "name": "python3"
  },
  "language_info": {
   "codemirror_mode": {
    "name": "ipython",
    "version": 3
   },
   "file_extension": ".py",
   "mimetype": "text/x-python",
   "name": "python",
   "nbconvert_exporter": "python",
   "pygments_lexer": "ipython3",
   "version": "3.9.12"
  }
 },
 "nbformat": 4,
 "nbformat_minor": 5
}
