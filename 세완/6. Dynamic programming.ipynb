{
 "cells": [
  {
   "cell_type": "code",
   "execution_count": 5,
   "id": "45958cd2",
   "metadata": {},
   "outputs": [
    {
     "name": "stdout",
     "output_type": "stream",
     "text": [
      "3\n"
     ]
    }
   ],
   "source": [
    "# 피보나치 함수 소스코드 >> n이 커지면 계산 비효율적\n",
    "def fibo(x):\n",
    "    if x == 1 or x == 2:\n",
    "            return 1\n",
    "    return fibo(x-1) + fibo(x-2)\n",
    "\n",
    "print(fibo(4))"
   ]
  },
  {
   "cell_type": "code",
   "execution_count": 3,
   "id": "a2ab2e19",
   "metadata": {},
   "outputs": [
    {
     "name": "stdout",
     "output_type": "stream",
     "text": [
      "218922995834555169026\n"
     ]
    }
   ],
   "source": [
    "# 피보나치 함수 소스코드 with memoization (Top down)\n",
    "d = [0]*100\n",
    "def fibo(x):\n",
    "    # 초기 두개의 값은 1\n",
    "    if x == 1 or x == 2:\n",
    "        return 1\n",
    "    # 이미 계산 되었으면 저장된 값 사용\n",
    "    if d[x] != 0:\n",
    "        return d[x]\n",
    "    # 계산된적이 없으면 recursive하게 계산\n",
    "    d[x] = fibo(x-1) + fibo(x-2)\n",
    "    return d[x]\n",
    "\n",
    "print(fibo(99))"
   ]
  },
  {
   "cell_type": "code",
   "execution_count": 6,
   "id": "ede02b73",
   "metadata": {},
   "outputs": [
    {
     "name": "stdout",
     "output_type": "stream",
     "text": [
      "218922995834555169026\n"
     ]
    }
   ],
   "source": [
    "# 피보나치 함수 소스코드 with DP table (Bottom up)\n",
    "d = [0]*100\n",
    "d[1] = 1\n",
    "d[2] = 1\n",
    "n = 99\n",
    "for i in range(3, n+1):\n",
    "    d[i] = d[i-1] + d[i-2]\n",
    "print(d[n])"
   ]
  },
  {
   "cell_type": "code",
   "execution_count": 5,
   "id": "e3293af3",
   "metadata": {},
   "outputs": [
    {
     "name": "stdout",
     "output_type": "stream",
     "text": [
      "3\n"
     ]
    }
   ],
   "source": [
    "# 예제1 : 1로 만들기 (점화식 : a_{n} = min(a_{n-1}, a_{n//2}, a_{n//3}, a_{n//5}) + 1)\n",
    "def make_one(x):\n",
    "    # DP table 생성\n",
    "    arr = [0]*(x+1)\n",
    "    # bottom up 방식 >> 작은 수부터 최적값을 찾아간다 \n",
    "    for i in range(2, x+1):\n",
    "        # 2로 나눠질 때\n",
    "        if i/2 == i//2:\n",
    "            temp = arr[i//2] + 1\n",
    "        # 3으로 나눠질 때\n",
    "        if i/3 == i//3:\n",
    "            temp = min(arr[i//3], temp-1) + 1\n",
    "        # 5로 나눠질 때\n",
    "        if i/5 == i//5:\n",
    "            temp = min(arr[i//5], temp-1) + 1\n",
    "        # 1 빼주기\n",
    "        temp = min(arr[i-1], temp-1) + 1\n",
    "        # arr에 해당 최적값 저장\n",
    "        arr[i] = temp\n",
    "    # 결과 출력\n",
    "    print(arr[x])\n",
    "\n",
    "make_one(26)"
   ]
  },
  {
   "cell_type": "code",
   "execution_count": 2,
   "id": "ffe3794b",
   "metadata": {},
   "outputs": [
    {
     "name": "stdout",
     "output_type": "stream",
     "text": [
      "4\n",
      "1 3 1 5\n",
      "8\n"
     ]
    }
   ],
   "source": [
    "# 예제2 : 개미 전사 (A_{n} : n번째 창고까지의 최적값, a_{n} : n번째 창고에 저장된 식량 개수)\n",
    "# 점화식 : A_{n} = max(A_{n-2} + a_n, A_{n-1})\n",
    "def food_maximizer(n, arr):\n",
    "    # DP table\n",
    "    temp = [0]*(n+1)\n",
    "    # 초기값(A_1)\n",
    "    temp[1] = arr[1]\n",
    "    # bottom up 방식으로 구현\n",
    "    for i in range(2, n+1):\n",
    "        temp[i] = max(temp[i-2]+arr[i-1], temp[i-1])\n",
    "    print(temp[n])\n",
    "\n",
    "# 출력\n",
    "n = int(input())\n",
    "arr = list(map(int, input().split()))\n",
    "food_maximizer(n, arr)"
   ]
  },
  {
   "cell_type": "code",
   "execution_count": 14,
   "id": "1979ea68",
   "metadata": {},
   "outputs": [
    {
     "name": "stdout",
     "output_type": "stream",
     "text": [
      "5\n"
     ]
    }
   ],
   "source": [
    "# 예제3 : 바닥 공사 (a_{n} = n번째 가로칸까지 바닥을 채우는 경우의 수)\n",
    "# 점화식 : a_{n} = a_{n-1} + 2*a_{n-2}\n",
    "def flooring(n):\n",
    "    # DP table\n",
    "    arr = [1]*(n+1)\n",
    "    # 초기값\n",
    "    arr[1] = 1\n",
    "    # bottom up 방식으로 구현\n",
    "    for i in range(2, n+1):\n",
    "        arr[i] = (arr[i-1] + 2*arr[i-2]) % 796796\n",
    "    print(arr[n])\n",
    "\n",
    "flooring(3)"
   ]
  },
  {
   "cell_type": "code",
   "execution_count": 35,
   "id": "1185891c",
   "metadata": {},
   "outputs": [
    {
     "name": "stdout",
     "output_type": "stream",
     "text": [
      "5\n"
     ]
    }
   ],
   "source": [
    "# 예제4 : 효율적인 화폐 구성\n",
    "def coin(n, m, arr):\n",
    "    result = [-1]*(m+1)\n",
    "    result[0] = 0\n",
    "    # bottom up 방식으로 구현\n",
    "    for i in range(1, m+1):\n",
    "        # 임의의 큰 수 설정\n",
    "        temp = m+1\n",
    "        for k in arr:\n",
    "            # index가 음수일 때 >> 무시\n",
    "            if i-k < 0:\n",
    "                continue\n",
    "            # i-k원을 만드는 방법이 존재하는 경우\n",
    "            if result[i-k] != -1:\n",
    "                temp = min(temp, result[i-k]+1)\n",
    "        # i원을 만들 수 없는 경우 >> -1\n",
    "        if temp == m+1:\n",
    "            result[i] = -1\n",
    "        # i원을 만들 수 있는 경우 >> 최소 개수 저장\n",
    "        else:\n",
    "            result[i] = temp\n",
    "    print(result[m])\n",
    "# 출력\n",
    "coin(2, 15, [2,3])"
   ]
  },
  {
   "cell_type": "code",
   "execution_count": 21,
   "id": "cadd8b74",
   "metadata": {},
   "outputs": [
    {
     "name": "stdout",
     "output_type": "stream",
     "text": [
      "2\n",
      "17\n"
     ]
    }
   ],
   "source": [
    "# 백준 10844번 : 쉬운 계단 수\n",
    "# a_{n} : 마지막 숫자가 a이고 길이가 n인 계단 수의 개수\n",
    "# 점화식 : a_{n} = (a-1)_{n-1} + (a+1)_{n-1} (a = 1,2,...8) / a_{n} = a_{n-1} (a = 0,9)\n",
    "def number(n):\n",
    "    arr = [[0]*10 for _ in range(101)]\n",
    "    # n = 1 (초기값)\n",
    "    for i in range(1, 10):\n",
    "        arr[1][i] = 1\n",
    "    # bottom up 방식으로 구현\n",
    "    for i in range(2, n+1):\n",
    "        for j in range(10):\n",
    "            # 0하고 9만 점화식 다르게 계산\n",
    "            if j == 0:\n",
    "                arr[i][j] = (arr[i-1][j+1])%1000000000\n",
    "            elif j == 9:\n",
    "                arr[i][j] = arr[i-1][j-1]%1000000000\n",
    "            else:\n",
    "                arr[i][j] = (arr[i-1][j-1] + arr[i-1][j+1])%1000000000\n",
    "    print(sum(arr[n])%1000000000)\n",
    "\n",
    "n = int(input())\n",
    "number(n)"
   ]
  },
  {
   "cell_type": "code",
   "execution_count": 49,
   "id": "1ab92aa3",
   "metadata": {
    "scrolled": true
   },
   "outputs": [
    {
     "name": "stdout",
     "output_type": "stream",
     "text": [
      "20\n",
      "322 831 212 232 545 698 260 265 324 215 701 75 156 605 851 993 425 887 691 593\n",
      "8\n"
     ]
    }
   ],
   "source": [
    "# 백준 11053번 : 가장 긴 증가하는 부분 수열\n",
    "# 현재 수보다 작은 수 중에서 DP table의 값이 가장 큰 수 뒤에 쌓아올린다는 느낌\n",
    "def longest_increasing(n, arr):\n",
    "    arr = [0] + arr\n",
    "    temp = [0]*(n+1)\n",
    "    temp[1] = 1\n",
    "    for i in range(2, n+1):\n",
    "        for j in range(i):\n",
    "            if arr[i] > arr[j]:\n",
    "                temp[i] = max(temp[j]+1, temp[i])\n",
    "    print(max(temp))\n",
    "\n",
    "n = int(input())\n",
    "arr = list(map(int, input().rstrip().split()))\n",
    "longest_increasing(n, arr)"
   ]
  }
 ],
 "metadata": {
  "kernelspec": {
   "display_name": "Python 3 (ipykernel)",
   "language": "python",
   "name": "python3"
  },
  "language_info": {
   "codemirror_mode": {
    "name": "ipython",
    "version": 3
   },
   "file_extension": ".py",
   "mimetype": "text/x-python",
   "name": "python",
   "nbconvert_exporter": "python",
   "pygments_lexer": "ipython3",
   "version": "3.9.7"
  }
 },
 "nbformat": 4,
 "nbformat_minor": 5
}
