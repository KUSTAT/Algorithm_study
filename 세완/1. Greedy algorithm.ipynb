{
 "cells": [
  {
   "cell_type": "code",
   "execution_count": 25,
   "id": "b3adc723",
   "metadata": {},
   "outputs": [],
   "source": [
    "# 예제 3-1. 거스름돈\n",
    "class solution3_1():\n",
    "    # target : 거스름돈 금액, coins : 보유한 동전의 단위 / output : 거슬러 줄 수 있는 최소의 동전 개수\n",
    "    def change(self, target : int, coins : list[int]) -> int:\n",
    "        # 큰 금액부터 낼 수 있도록 내림차순으로 정리\n",
    "        coins.sort(reverse=True)\n",
    "        # 코인 갯수 0개 시작\n",
    "        count = 0\n",
    "        for i in coins:\n",
    "            # 해당 동전으로 거슬러 줄 수 있는 개수만큼 카운트\n",
    "            count += target//i\n",
    "            # 잔액 업데이트\n",
    "            target %= i\n",
    "            \n",
    "        print(count)"
   ]
  },
  {
   "cell_type": "code",
   "execution_count": 27,
   "id": "12ce1c2a",
   "metadata": {},
   "outputs": [
    {
     "name": "stdout",
     "output_type": "stream",
     "text": [
      "1260\n",
      "10 50 100 500\n",
      "6\n"
     ]
    }
   ],
   "source": [
    "# 예시 출력\n",
    "target = int(input())\n",
    "coins = list(map(int, input().split()))\n",
    "g1 = solution3_1()\n",
    "g1.change(target, coins)"
   ]
  },
  {
   "cell_type": "code",
   "execution_count": 20,
   "id": "f85ee6c4",
   "metadata": {},
   "outputs": [],
   "source": [
    "# 예제 3-2. 큰 수의 법칙\n",
    "class solution3_2():\n",
    "    # n : 배열의 크기, m : 숫자가 더해지는 횟수, k : 연속해서 더할 수 있는 최대 횟수, arr : 배열\n",
    "    def large_num(self, n : int, m : int, k : int, arr : list[int]) -> int:\n",
    "        # 큰 수부터 더하기 위해 배열 내림차순 정리\n",
    "        arr.sort(reverse = True)\n",
    "        # 0부터 더하기 시작\n",
    "        num = 0\n",
    "        # 가장 큰 수 k번, 그 다음 큰 수 1번을 반복하여 더한다.\n",
    "        num += m//(k+1)*(k*arr[0] + arr[1])\n",
    "        num += m%(k+1)*arr[0]\n",
    "            \n",
    "        print(num)         "
   ]
  },
  {
   "cell_type": "code",
   "execution_count": 21,
   "id": "8bd7d1e2",
   "metadata": {},
   "outputs": [
    {
     "name": "stdout",
     "output_type": "stream",
     "text": [
      "5 8 3\n",
      "2 4 5 4 6\n",
      "46\n"
     ]
    }
   ],
   "source": [
    "# 예시 출력\n",
    "n, m, k = map(int, input().split())\n",
    "arr = list(map(int, input().split()))\n",
    "g2 = solution3_2()\n",
    "g2.large_num(n, m, k, arr)"
   ]
  },
  {
   "cell_type": "code",
   "execution_count": 22,
   "id": "a239264d",
   "metadata": {},
   "outputs": [],
   "source": [
    "# 예제 3-3. 숫자 카드 게임\n",
    "class solution3_3():\n",
    "    # n : nrow, m : ncol, arr : 이중 리스트로 이루어진 숫자 카드\n",
    "    def card_game(self, n : int, m : int, arr) -> int:\n",
    "        result = 0\n",
    "        for i in range(n):\n",
    "            # 행에서 가장 작은 카드를 찾고\n",
    "            temp = min(arr[i])\n",
    "            # 행별 가장 작은 카드끼리 비교하여 가장 큰 카드 찾기\n",
    "            result = max(result, temp)\n",
    "        print(result)"
   ]
  },
  {
   "cell_type": "code",
   "execution_count": 23,
   "id": "fe1f784e",
   "metadata": {},
   "outputs": [
    {
     "name": "stdout",
     "output_type": "stream",
     "text": [
      "3 3\n",
      "3 1 2\n",
      "4 1 4\n",
      "2 2 2\n",
      "2\n"
     ]
    }
   ],
   "source": [
    "# 예시 출력\n",
    "n, m = map(int, input().split())\n",
    "arr = [list(map(int, input().split())) for _ in range(n)]\n",
    "g3 = solution3_3()\n",
    "g3.card_game(n, m, arr)"
   ]
  },
  {
   "cell_type": "code",
   "execution_count": 7,
   "id": "56b30177",
   "metadata": {},
   "outputs": [],
   "source": [
    "# 예제 3-4. 1이 될 때까지\n",
    "class solution3_4():\n",
    "    def until_one(self, n : int, k : int) -> int:\n",
    "        # 수행 횟수\n",
    "        cnt = 0\n",
    "        # n이 1이 될 때까지\n",
    "        while n != 1:\n",
    "            # k로 나누어 떨어지면 나누고\n",
    "            if n % k == 0:\n",
    "                cnt += 1\n",
    "                n /= k\n",
    "            # 그렇지 않으면 나머지만큼 반복해서 1씩 빼기\n",
    "            else:\n",
    "                remainder = n % k\n",
    "                cnt += remainder\n",
    "                n -= remainder\n",
    "        print(cnt)"
   ]
  },
  {
   "cell_type": "code",
   "execution_count": 8,
   "id": "483147a5",
   "metadata": {},
   "outputs": [
    {
     "name": "stdout",
     "output_type": "stream",
     "text": [
      "25 5\n",
      "2\n"
     ]
    }
   ],
   "source": [
    "# 예시 출력\n",
    "n, k = map(int, input().split())\n",
    "g4 = solution3_4()\n",
    "g4.until_one(n, k)"
   ]
  },
  {
   "cell_type": "code",
   "execution_count": 3,
   "id": "e6b2cdc8",
   "metadata": {},
   "outputs": [
    {
     "name": "stdout",
     "output_type": "stream",
     "text": [
      "10 4200\n",
      "1\n",
      "5\n",
      "10\n",
      "50\n",
      "100\n",
      "500\n",
      "1000\n",
      "5000\n",
      "10000\n",
      "50000\n",
      "6\n"
     ]
    }
   ],
   "source": [
    "# 백준 11047번\n",
    "class solution():\n",
    "    def coins(self, n : int, k : int, arr = list[int]) -> int:\n",
    "        # 동전 개수 카운트\n",
    "        cnt = 0\n",
    "        # 남은 금액\n",
    "        remainder = k\n",
    "        # 단위가 큰 화폐부터 거슬러주기\n",
    "        for i in range(n):\n",
    "            temp = remainder // arr[n-1-i]\n",
    "            cnt += temp\n",
    "            remainder -= arr[n-1-i]*temp\n",
    "        print(cnt)\n",
    "\n",
    "sol = solution()\n",
    "n, k = map(int, input().split())\n",
    "arr = list(int(input()) for _ in range(n))\n",
    "sol.coins(n, k, arr)"
   ]
  },
  {
   "cell_type": "code",
   "execution_count": 13,
   "id": "8d42b21a",
   "metadata": {},
   "outputs": [
    {
     "name": "stdout",
     "output_type": "stream",
     "text": [
      "5\n",
      "3 1 4 3 2\n",
      "32\n"
     ]
    }
   ],
   "source": [
    "# 백준 11399번\n",
    "class solution():\n",
    "    def atm(self, n : int, arr : list[int]) -> int:\n",
    "        # 오름차순 정렬\n",
    "        arr.sort()\n",
    "        result = 0\n",
    "        # 소요 시간이 적은 순서대로 cumulative sum 계산\n",
    "        for i in range(n):\n",
    "            result += sum(arr[:i+1])\n",
    "        print(result)\n",
    "\n",
    "n = int(input())\n",
    "arr = list(map(int, input().rstrip().split()))\n",
    "sol = solution()\n",
    "sol.atm(n, arr)"
   ]
  },
  {
   "cell_type": "code",
   "execution_count": 41,
   "id": "5a23bbf4",
   "metadata": {},
   "outputs": [
    {
     "name": "stdout",
     "output_type": "stream",
     "text": [
      "55-40+50\n",
      "-35\n"
     ]
    }
   ],
   "source": [
    "# 백준 1541번\n",
    "class solution():\n",
    "    # 더하기 묶음 계산하는 함수\n",
    "    def summation(self, arr : str) -> int:\n",
    "        num_idx = 0\n",
    "        result = 0\n",
    "        for i in range(len(arr)):\n",
    "            if arr[i] == '+':\n",
    "                result += int(arr[num_idx:i])\n",
    "                num_idx = i+1\n",
    "        result += int(arr[num_idx:])\n",
    "        return result\n",
    "    # 최솟값을 만드는 함수\n",
    "    def bracket(self, arr : str) -> int:\n",
    "        idx = []\n",
    "        # '-'가 있는 인덱스 찾기\n",
    "        for i in range(len(arr)):\n",
    "            if arr[i] == '-':\n",
    "                idx.append(i)\n",
    "        # '-'가 없으면 그냥 더해서 출력\n",
    "        if len(idx) == 0:\n",
    "            print(self.summation(arr))\n",
    "        # '-'가 있으면 빼기를 기준으로 그룹으로 묶어서 계산\n",
    "        else:\n",
    "            # 처음 등장하는 더하기 묶음 (결과에 더해주기)\n",
    "            result = self.summation(arr[:idx[0]])\n",
    "            # 이후의 빼기 묶음들 (묶음들끼리 각각 더한다음에 결과에서 빼주기)\n",
    "            for j in range(1, len(idx)):\n",
    "                temp = self.summation(arr[idx[j-1]+1:idx[j]])\n",
    "                result -= temp\n",
    "            # 마지막 묶음 (결과에서 빼주기)\n",
    "            result -= self.summation(arr[idx[len(idx)-1]+1:])\n",
    "            print(result)\n",
    "        \n",
    "arr = input()\n",
    "sol = solution()\n",
    "sol.bracket(arr)"
   ]
  },
  {
   "cell_type": "code",
   "execution_count": 64,
   "id": "efd73834",
   "metadata": {},
   "outputs": [
    {
     "name": "stdout",
     "output_type": "stream",
     "text": [
      "11\n",
      "1 4\n",
      "3 5\n",
      "0 6\n",
      "5 7\n",
      "3 8\n",
      "5 9\n",
      "6 10\n",
      "8 11\n",
      "8 12\n",
      "2 13\n",
      "12 14\n",
      "4\n"
     ]
    }
   ],
   "source": [
    "# 백준 1931번\n",
    "class solution():\n",
    "    def conference(self, n : int, arr) -> int:\n",
    "        t = 0\n",
    "        idx = 0\n",
    "        cnt = 0\n",
    "        # 끝나는 시간을 기준으로 오름차순 정렬\n",
    "        arr.sort(key = lambda x: (x[1], x[0]))\n",
    "        # 끝나는 시간을 기준으로 가장 빠른 경우를 선택\n",
    "        for i in range(len(arr)):\n",
    "            # 이전에 선택된 경우의 끝나는 시각 <= 시작 시간인 경우만 선택\n",
    "            if arr[i][0] >= t:\n",
    "                idx = i\n",
    "                t = arr[i][1]\n",
    "                cnt += 1\n",
    "            else:\n",
    "                pass\n",
    "        print(cnt)        \n",
    "\n",
    "n = int(input())\n",
    "arr = [list(map(int, input().rstrip().split())) for _ in range(n)]\n",
    "\n",
    "sol = solution()\n",
    "sol.conference(n, arr)"
   ]
  },
  {
   "cell_type": "code",
   "execution_count": 69,
   "id": "fd1c6ac0",
   "metadata": {},
   "outputs": [
    {
     "name": "stdout",
     "output_type": "stream",
     "text": [
      "4\n",
      "2 3 1\n",
      "5 2 4 1\n",
      "18\n"
     ]
    }
   ],
   "source": [
    "# 백준 13305번\n",
    "class solution():\n",
    "    def gas_station(self, n : int, dist : list[int], price : list[int]) -> int:\n",
    "        result = 0\n",
    "        idx = 0\n",
    "        while idx < n-1 :\n",
    "            for i in range(1, n-idx):\n",
    "                # 다음 주유소보다 현재 주유소가 더 싼 경우 >> 지나침\n",
    "                if price[idx] < price[idx+i] and idx+i != n-1:\n",
    "                    pass\n",
    "                # 더 싼 주유소가 나오거나 끝에 도착했을 경우 >> 그만큼만 주유\n",
    "                else:\n",
    "                    result += price[idx]*sum(dist[idx:idx+i])\n",
    "                    idx += i\n",
    "                    break\n",
    "        print(result)       \n",
    "        \n",
    "n = int(input())\n",
    "distance = list(map(int, input().split()))\n",
    "price = list(map(int, input().split()))\n",
    "sol = solution()\n",
    "sol.gas_station(n, distance, price)"
   ]
  },
  {
   "cell_type": "code",
   "execution_count": null,
   "id": "036b1b86",
   "metadata": {},
   "outputs": [],
   "source": []
  },
  {
   "cell_type": "code",
   "execution_count": null,
   "id": "ff4e2fc7",
   "metadata": {},
   "outputs": [],
   "source": []
  },
  {
   "cell_type": "code",
   "execution_count": null,
   "id": "97e30ea7",
   "metadata": {},
   "outputs": [],
   "source": []
  },
  {
   "cell_type": "code",
   "execution_count": null,
   "id": "22f0de9b",
   "metadata": {},
   "outputs": [],
   "source": []
  },
  {
   "cell_type": "code",
   "execution_count": null,
   "id": "f36c75f5",
   "metadata": {},
   "outputs": [],
   "source": []
  },
  {
   "cell_type": "code",
   "execution_count": null,
   "id": "2daab443",
   "metadata": {},
   "outputs": [],
   "source": []
  },
  {
   "cell_type": "code",
   "execution_count": null,
   "id": "a308c171",
   "metadata": {},
   "outputs": [],
   "source": []
  },
  {
   "cell_type": "code",
   "execution_count": null,
   "id": "219f463b",
   "metadata": {},
   "outputs": [],
   "source": []
  },
  {
   "cell_type": "code",
   "execution_count": null,
   "id": "cdbe69fc",
   "metadata": {},
   "outputs": [],
   "source": []
  },
  {
   "cell_type": "code",
   "execution_count": null,
   "id": "d9960b3b",
   "metadata": {},
   "outputs": [],
   "source": []
  },
  {
   "cell_type": "code",
   "execution_count": null,
   "id": "175008d1",
   "metadata": {},
   "outputs": [],
   "source": []
  }
 ],
 "metadata": {
  "kernelspec": {
   "display_name": "Python 3 (ipykernel)",
   "language": "python",
   "name": "python3"
  },
  "language_info": {
   "codemirror_mode": {
    "name": "ipython",
    "version": 3
   },
   "file_extension": ".py",
   "mimetype": "text/x-python",
   "name": "python",
   "nbconvert_exporter": "python",
   "pygments_lexer": "ipython3",
   "version": "3.9.12"
  }
 },
 "nbformat": 4,
 "nbformat_minor": 5
}
