{
 "cells": [
  {
   "cell_type": "markdown",
   "id": "203d9ecf",
   "metadata": {},
   "source": [
    "### 서로소 집합 알고리즘"
   ]
  },
  {
   "cell_type": "markdown",
   "id": "6fa6c9d1",
   "metadata": {},
   "source": [
    "1. union 연산\n",
    "- 각각의 원소에 대해 루트 노드를 찾은 뒤, 더 큰 루트 노드가 더 작은 루트 노드를 가리키도록 한다.  \n",
    "- union 연산을 효과적으로 수행하기 위해서는 각 원소의 \"부모 테이블\"을 가지고 있어야 한다.    \n",
    "\n",
    "- 해당 부모 테이블로부터 계속 거슬러 올라가면서 루트 노드를 찾는다.  "
   ]
  },
  {
   "cell_type": "markdown",
   "id": "1a719924",
   "metadata": {},
   "source": [
    "1) Find 함수가 비효율적으로 동작하는 경우 (recursive하게 계속 부모 테이블을 탐색해야 하므로)"
   ]
  },
  {
   "cell_type": "code",
   "execution_count": 1,
   "id": "89a8ac92",
   "metadata": {},
   "outputs": [
    {
     "name": "stdout",
     "output_type": "stream",
     "text": [
      "6 4\n",
      "1 3\n",
      "2 4\n",
      "2 3\n",
      "5 6\n",
      "각 원소가 속한 집합: 1 1 1 1 5 5 \n",
      "부모 테이블 :1 1 1 2 5 5 "
     ]
    }
   ],
   "source": [
    "### 기본적인 서로소 집합 알고리즘 소스코드\n",
    "# 특정 원소의 루트 노드 찾기(= 특정 원소가 속한 집합 찾기)\n",
    "def find_parents(parent, x):\n",
    "    # 루트 노드가 자기 자신이 아니면 재귀적으로 거슬러 올라가며 탐색\n",
    "    if parent[x] != x:\n",
    "        return find_parents(parent, parent[x])\n",
    "    return x\n",
    "# 두 원소가 속한 집합을 합치기\n",
    "def union(parent, a, b):\n",
    "    a = find_parents(parent, a)\n",
    "    b = find_parents(parent, b)\n",
    "    if a < b:\n",
    "        parent[b] = a\n",
    "    else:\n",
    "        parent[a] = b\n",
    "\n",
    "# 데이터 입력\n",
    "v, e = map(int, input().split())\n",
    "parent = [0]*(v+1)\n",
    "# 부모 노드를 자기 자신으로 초기화\n",
    "for i in range(1, v+1):\n",
    "    parent[i] = i\n",
    "# union 연산을 수행\n",
    "for i in range(e):\n",
    "    a, b = map(int, input().rstrip().split())\n",
    "    union(parent, a, b)\n",
    "\n",
    "# 각 원소가 속한 집합 출력\n",
    "print('각 원소가 속한 집합: ', end = '')\n",
    "for i in range(1, v+1):\n",
    "    print(find_parents(parent, i), end = ' ')\n",
    "print()\n",
    "# 부모 테이블 출력\n",
    "print('부모 테이블 :', end = '')\n",
    "for i in range(1, v+1):\n",
    "    print(parent[i], end =' ')"
   ]
  },
  {
   "cell_type": "markdown",
   "id": "52df7854",
   "metadata": {},
   "source": [
    "2) 경로 압축을 통해 부모 테이블을 계속해서 업데이트"
   ]
  },
  {
   "cell_type": "code",
   "execution_count": 15,
   "id": "a9571238",
   "metadata": {},
   "outputs": [
    {
     "name": "stdout",
     "output_type": "stream",
     "text": [
      "6 4\n",
      "1 4\n",
      "2 3\n",
      "2 4\n",
      "5 6\n",
      "각 원소가 속한 집합: 1 1 1 1 5 5 \n",
      "부모 테이블 :1 1 1 1 5 5 "
     ]
    }
   ],
   "source": [
    "### 기본적인 서로소 집합 알고리즘 소스코드\n",
    "# 특정 원소의 루트 노드 찾기(= 특정 원소가 속한 집합 찾기)\n",
    "def find_parents(parent, x):\n",
    "    # 루트 노드가 자기 자신이 아니면 재귀적으로 거슬러 올라가며 탐색\n",
    "    if parent[x] != x:\n",
    "        ### 경로 압축 ###\n",
    "        parent[x] = find_parents(parent, parent[x])\n",
    "    return parent[x]\n",
    "# 두 원소가 속한 집합을 합치기\n",
    "def union(parent, a, b):\n",
    "    a = find_parents(parent, a)\n",
    "    b = find_parents(parent, b)\n",
    "    if a < b:\n",
    "        parent[b] = a\n",
    "    else:\n",
    "        parent[a] = b\n",
    "\n",
    "# 데이터 입력\n",
    "v, e = map(int, input().split())\n",
    "parent = [0]*(v+1)\n",
    "# 부모 노드를 자기 자신으로 초기화\n",
    "for i in range(1, v+1):\n",
    "    parent[i] = i\n",
    "# union 연산을 수행\n",
    "for i in range(e):\n",
    "    a, b = map(int, input().rstrip().split())\n",
    "    union(parent, a, b)\n",
    "\n",
    "# 각 원소가 속한 집합 출력\n",
    "print('각 원소가 속한 집합: ', end = '')\n",
    "for i in range(1, v+1):\n",
    "    print(find_parents(parent, i), end = ' ')\n",
    "print()\n",
    "# 부모 테이블 출력\n",
    "print('부모 테이블 :', end = '')\n",
    "for i in range(1, v+1):\n",
    "    print(parent[i], end =' ')"
   ]
  },
  {
   "cell_type": "markdown",
   "id": "6a1af983",
   "metadata": {},
   "source": [
    "3) 서로소 집합을 활용한 사이클 판별 : union 연산 과정에서 만약 두 노드의 루트노드가 같다면 싸이클이 발생한 것이라는 사실을 활용. 각 edge의 두 노드에 대하여 루트노드 확인 >> 같으면 사이클 발생, 다르면 union연산 실행."
   ]
  },
  {
   "cell_type": "code",
   "execution_count": 20,
   "id": "31ec34cd",
   "metadata": {},
   "outputs": [
    {
     "name": "stdout",
     "output_type": "stream",
     "text": [
      "3 3\n",
      "1 2\n",
      "1 3\n",
      "2 3\n",
      "사이클이 발생했습니다.\n"
     ]
    }
   ],
   "source": [
    "### 서로소 집합을 활용한 사이클 판별 소스코드\n",
    "# 특정 원소의 루트 노드 찾기(= 특정 원소가 속한 집합 찾기)\n",
    "def find_parents(parent, x):\n",
    "    # 루트 노드가 자기 자신이 아니면 재귀적으로 거슬러 올라가며 탐색\n",
    "    if parent[x] != x:\n",
    "        ### 경로 압축 ###\n",
    "        parent[x] = find_parents(parent, parent[x])\n",
    "    return parent[x]\n",
    "# 두 원소가 속한 집합을 합치기\n",
    "def union(parent, a, b):\n",
    "    a = find_parents(parent, a)\n",
    "    b = find_parents(parent, b)\n",
    "    if a < b:\n",
    "        parent[b] = a\n",
    "    else:\n",
    "        parent[a] = b\n",
    "\n",
    "# 데이터 입력\n",
    "v, e = map(int, input().split())\n",
    "parent = [0]*(v+1)\n",
    "# 부모 노드를 자기 자신으로 초기화\n",
    "for i in range(1, v+1):\n",
    "    parent[i] = i\n",
    "# 각 edge에 대하여 사이클 판별\n",
    "cycle = False\n",
    "for i in range(e):\n",
    "    a, b = map(int, input().rstrip().split())\n",
    "    if find_parents(parent, a) == find_parents(parent, b):\n",
    "        cycle = True\n",
    "        break\n",
    "    else:\n",
    "        union(parent, a, b)\n",
    "if cycle:\n",
    "    print('사이클이 발생했습니다.')\n",
    "else:\n",
    "    print('사이클이 발생하지 않았습니다.')"
   ]
  },
  {
   "cell_type": "code",
   "execution_count": 2,
   "id": "30dd8f25",
   "metadata": {},
   "outputs": [
    {
     "name": "stdout",
     "output_type": "stream",
     "text": [
      "7 8\n",
      "0 1 3\n",
      "1 1 7\n",
      "NO\n",
      "0 7 6\n",
      "1 7 1\n",
      "NO\n",
      "0 3 7\n",
      "0 4 2\n",
      "0 1 1\n",
      "1 1 1\n",
      "YES\n"
     ]
    }
   ],
   "source": [
    "### 실전문제 2 : 팀 결성\n",
    "# 루트 노드 확인\n",
    "def find_parents(parent, x):\n",
    "    if parent[x] != x:\n",
    "        parent[x] = find_parents(parent, parent[x])\n",
    "    return parent[x]\n",
    "# union 연산\n",
    "def union(parent, a, b):\n",
    "    a = find_parents(parent, a)\n",
    "    b = find_parents(parent, b)\n",
    "    if a < b:\n",
    "        parent[b] = a\n",
    "    else:\n",
    "        parent[a] = b\n",
    "# 데이터 입력\n",
    "n, m = map(int, input().split())\n",
    "parent = [0]*(n+1)\n",
    "for i in range(1, n+1):\n",
    "    parent[i] = i\n",
    "for _ in range(m):\n",
    "    x, a, b = map(int, input().rstrip().split())\n",
    "    if x == 0:\n",
    "        union(parent, a, b)\n",
    "    else:\n",
    "        if find_parents(parent, a) == find_parents(parent, b):\n",
    "            print('YES')\n",
    "        else:\n",
    "            print('NO')"
   ]
  },
  {
   "cell_type": "markdown",
   "id": "5a9f92e7",
   "metadata": {},
   "source": [
    "### 크루스칼 알고리즘"
   ]
  },
  {
   "cell_type": "markdown",
   "id": "31dfd950",
   "metadata": {},
   "source": [
    "- Minimum spanning tree를 찾는 알고리즘.  \n",
    "- 과정\n",
    "1. edge를 비용에 따라 오름차순으로 정렬.\n",
    "2. 최소 비용인 edge부터 순차적으로 선택하여 사이클을 발생 시키는지 확인. 사이클이 발생하지 않는 경우만 포함.\n",
    "3. 모든 edge에 대하여 반복 수행."
   ]
  },
  {
   "cell_type": "code",
   "execution_count": 17,
   "id": "77392f1f",
   "metadata": {},
   "outputs": [
    {
     "name": "stdout",
     "output_type": "stream",
     "text": [
      "7 9\n",
      "1 2 29\n",
      "1 5 75\n",
      "2 3 35\n",
      "2 6 34\n",
      "3 4 7\n",
      "4 6 23\n",
      "4 7 13\n",
      "5 6 53\n",
      "6 7 25\n",
      "159\n"
     ]
    }
   ],
   "source": [
    "### 크루스칼 알고리즘 소스코드\n",
    "# 루트노드 찾기\n",
    "def find_parents(parent, x):\n",
    "    if parent[x] != x:\n",
    "        parent[x] = find_parents(parent, parent[x])\n",
    "    return parent[x]\n",
    "# 합치기\n",
    "def union(parent, a, b):\n",
    "    a = find_parents(parent, a)\n",
    "    b = find_parents(parent, b)\n",
    "    if a < b:\n",
    "        parent[b] = a\n",
    "    else:\n",
    "        parent[a] = b\n",
    "# 입력\n",
    "n, m = map(int, input().rstrip().split())\n",
    "parent = [0]*(n+1)\n",
    "edges = []\n",
    "result = 0\n",
    "for i in range(1, n+1):\n",
    "    parent[i] = i\n",
    "# edge 입력\n",
    "for i in range(m):\n",
    "    a, b, cost = map(int, input().rstrip().split())\n",
    "    edges.append((cost, a, b))\n",
    "edges.sort()\n",
    "# 사이클 판별하며 edge 선택\n",
    "for i in range(m):\n",
    "    cost, a, b = edges[i]\n",
    "    # 사이클이 안 생기면 edge 선택\n",
    "    if find_parents(parent, a) != find_parents(parent, b):\n",
    "        union(parent, a, b)\n",
    "        result += cost\n",
    "print(result)"
   ]
  },
  {
   "cell_type": "code",
   "execution_count": 2,
   "id": "baa77266",
   "metadata": {},
   "outputs": [
    {
     "name": "stdout",
     "output_type": "stream",
     "text": [
      "7 12\n",
      "1 2 3\n",
      "1 3 2\n",
      "3 2 1\n",
      "2 5 2\n",
      "3 4 4\n",
      "7 3 6\n",
      "5 1 5\n",
      "1 6 2\n",
      "6 4 1\n",
      "6 5 3\n",
      "4 5 3\n",
      "6 7 4\n",
      "8\n"
     ]
    }
   ],
   "source": [
    "### 실전문제3 : 도시 분할 계획\n",
    "import heapq\n",
    "def find_parent(parent, x):\n",
    "    if parent[x] != x:\n",
    "        parent[x] = find_parent(parent, parent[x])\n",
    "    return parent[x]\n",
    "def union(parent, a, b):\n",
    "    a = find_parent(parent, a)\n",
    "    b = find_parent(parent, b)\n",
    "    if a < b:\n",
    "        parent[b] = a\n",
    "    else:\n",
    "        parent[a] = b\n",
    "# 입력\n",
    "n, m = map(int, input().split())\n",
    "parent = [0]*(n+1)\n",
    "for i in range(1, n+1):\n",
    "    parent[i] = i\n",
    "edge = []\n",
    "result = 0\n",
    "for i in range(m):\n",
    "    a, b, cost = map(int, input().rstrip().split())\n",
    "    edge.append((cost, a, b))\n",
    "heapq.heapify(edge)\n",
    "# minimum spanning tree 만들기\n",
    "while edge:\n",
    "    cost, a, b = heapq.heappop(edge)\n",
    "    if find_parent(parent, a) != find_parent(parent, b):\n",
    "        union(parent, a, b)\n",
    "        result += cost\n",
    "        max_cost = cost\n",
    "# 최대 비용을 가진 edge하나 제거\n",
    "print(result-max_cost)"
   ]
  }
 ],
 "metadata": {
  "kernelspec": {
   "display_name": "Python 3 (ipykernel)",
   "language": "python",
   "name": "python3"
  },
  "language_info": {
   "codemirror_mode": {
    "name": "ipython",
    "version": 3
   },
   "file_extension": ".py",
   "mimetype": "text/x-python",
   "name": "python",
   "nbconvert_exporter": "python",
   "pygments_lexer": "ipython3",
   "version": "3.9.12"
  }
 },
 "nbformat": 4,
 "nbformat_minor": 5
}
