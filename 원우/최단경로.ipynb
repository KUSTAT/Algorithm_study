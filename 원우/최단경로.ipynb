{
  "nbformat": 4,
  "nbformat_minor": 0,
  "metadata": {
    "colab": {
      "provenance": []
    },
    "kernelspec": {
      "name": "python3",
      "display_name": "Python 3"
    },
    "language_info": {
      "name": "python"
    }
  },
  "cells": [
    {
      "cell_type": "markdown",
      "source": [
        "## 이코테 p. 259 미래도시"
      ],
      "metadata": {
        "id": "YJdaSxzoRVxG"
      }
    },
    {
      "cell_type": "code",
      "source": [
        "INF = int(1e9) #무한을 의미하는값 10억 설정\n",
        "\n",
        "# 노드의 개수 및 간선 개수 입력 받기\n",
        "n, m = map(int, input().split())\n",
        "\n",
        "# 2차원 리스트를 만들고, 모든 값을 무한으로 초기화\n",
        "graph = [[INF] * (n+1) for _ in range(n+1)]\n",
        "\n",
        "# 자기 자신에서 자기자신으로 가는 비용은 0으로 초기화\n",
        "for a in range(1, n+1):\n",
        "    for b in range(1, n+1):\n",
        "        if a == b:\n",
        "            graph[a][b] = 0\n",
        "\n",
        "# 각 간선에 대한 정보를 입력받아, 그 값으로 초기화\n",
        "for _ in range(m):\n",
        "    # A와 B가 서로에게 가는 비용은 1이라고 설정\n",
        "    a, b = map(int, input().split())\n",
        "    graph[a][b] = 1\n",
        "    graph[b][a] = 1\n",
        "\n",
        "# 거처 갈 노드 K와 최종 목적지 노드 X를 입력받기\n",
        "x, k = map(int, input().split())\n",
        "\n",
        "# 점화식에 따라 플로이드 워셜 알고리즘을 수행\n",
        "for k in range(1, n+1):\n",
        "    for a in range(1, n+1):\n",
        "        for b in range(1, n+1):\n",
        "            graph[a][b] = min(graph[a][b], graph[a][k] + graph[k][b])\n",
        "\n",
        "# 수행된 결과를 출력\n",
        "distance = graph[1][k] + graph[k][x]\n",
        "\n",
        "# 도달할 수 없는 경우, -1을 출력\n",
        "if distance >= INF:\n",
        "    print(\"-1\")\n",
        "# 도달할 수 있다면, 최단거리를 출력\n",
        "else:\n",
        "    print(distance)"
      ],
      "metadata": {
        "colab": {
          "base_uri": "https://localhost:8080/"
        },
        "id": "AW2EKscFh6-7",
        "outputId": "c2e80d8d-fd33-41b8-f04d-91004e482c3e"
      },
      "execution_count": null,
      "outputs": [
        {
          "output_type": "stream",
          "name": "stdout",
          "text": [
            "5 7\n",
            "1 2\n",
            "1 3\n",
            "1 4\n",
            "2 4\n",
            "3 4\n",
            "3 5\n",
            "4 5\n",
            "4 5\n",
            "3\n"
          ]
        }
      ]
    },
    {
      "cell_type": "markdown",
      "source": [
        "## 이코테 p.262 전보"
      ],
      "metadata": {
        "id": "gYgx5T9PJzxm"
      }
    },
    {
      "cell_type": "code",
      "execution_count": null,
      "metadata": {
        "colab": {
          "base_uri": "https://localhost:8080/"
        },
        "id": "NbBxQSxk5JLi",
        "outputId": "5a47f4c6-ecf5-46b4-890e-e54f6ee6debb"
      },
      "outputs": [
        {
          "output_type": "stream",
          "name": "stdout",
          "text": [
            "3 2 1\n",
            "1 2 4\n",
            "1 3 2\n",
            "2 4\n"
          ]
        }
      ],
      "source": [
        "import heapq\n",
        "# import sys\n",
        "# input = sys.stdin.realine\n",
        "INF = int(1e9) #무한을 의미하는 값 설정\n",
        "\n",
        "# 노드의 개수 n, 간선의 개수 m, 시작 지점 start\n",
        "n, m, start = map(int, input().split())\n",
        "# 각 노드에 연결 되어 있는 노드에 대한 정보를 담는 리스트 만들기\n",
        "graph = [[] for i in range(n+1)]\n",
        "# 최단거리 테이블 만들기, 모두 무한대로 초기화 해놓기\n",
        "distance = [INF]*(n+1)\n",
        "\n",
        "# 모든 간선 정보 입력 받기\n",
        "for _ in range(m):\n",
        "    x, y, z = map(int, input().split())\n",
        "    # x번 노드에서 y번 노드로 가는 비용이 z라는 의미로 graph에 저장\n",
        "    graph[x].append((y,z))\n",
        "\n",
        "def dijkstra(start):\n",
        "    q = []\n",
        "    # 시작노드로 가기 위한 최단 경로는 0으로 설정하여 큐에 삽입\n",
        "    heapq.heappush(q, (0,start))\n",
        "    distance[start] = 0\n",
        "    \n",
        "    # 큐가 비어있지 않다면 while문 실행\n",
        "    while q:\n",
        "        # 가장 최단 거리가 짧은 노드에 대한 정보를 꺼내기\n",
        "        dist, now = heapq.heappop(q)\n",
        "        # 현재 노드가 이미 처리된 적이 있는 노드라면 무시\n",
        "        if distance[now] < dist:\n",
        "            continue\n",
        "        # 현재 노드와 연결된 다른 인접한 노드들을 확인\n",
        "        for i in graph[now]:\n",
        "            # cost는 현재 노드를 거쳐서 다른 노드로 이동하는 거리\n",
        "            cost = dist + i[1]\n",
        "            # 현재 노드를 거쳐서, 다른 노드로 이동하는 거리가 더 짧은 경우 최단거리 테이블 업데이트 후\n",
        "            # 힙 자료 구조에 i[0]로 가는 최단거리가 cost라고 넣어두기\n",
        "            if cost < distance[i[0]]:\n",
        "                distance[i[0]] = cost\n",
        "                heapq.heappush(q, (cost, i[0]))\n",
        "\n",
        "# 다익스트라 알고리즘을 수행\n",
        "dijkstra(start)\n",
        "\n",
        "# 도달할 수 있는 노드의 개수\n",
        "count = 0\n",
        "# 도달할 수 있는 노드 중에서 가장 멀리 있는 노드와의 최단거리\n",
        "max_distance = 0\n",
        "\n",
        "# distance 리스트에서 INF이 아닌 것의 개수 세서 count로 업데이트\n",
        "# INF가 아닌 것 중에 가장 큰 거리 찾기\n",
        "for d in distance:\n",
        "    # 도달할 수 있는 노드인 경우\n",
        "    if d != INF:\n",
        "        count += 1\n",
        "        max_distance = max(max_distance, d)\n",
        "\n",
        "# INF가 아닌 것 중에 시작노드는 제외해야 메시지를 받게 되는 도시의 총 개수를 구할 수 있음\n",
        "print(count-1, max_distance)"
      ]
    },
    {
      "cell_type": "markdown",
      "source": [
        "## 백준 14719번 빗물"
      ],
      "metadata": {
        "id": "klt5h3ZVp4WA"
      }
    },
    {
      "cell_type": "code",
      "source": [
        "H, W = map(int,input().split())\n",
        "\n",
        "block_ = list(map(int, input().split()))\n",
        "\n",
        "# 총 빗물양 저장 변수\n",
        "total = 0\n",
        "multiple = 1\n",
        "\n",
        "for i in range(W-1):\n",
        "    if block_[i] != 0:\n",
        "        temp = block_[i]\n",
        "        \n",
        "        if block_[i] < block_[i+1]:\n",
        "            total += (block_[i+1] - block_[i])*multiple\n",
        "            multiple = 1\n",
        "\n",
        "        elif block_[i] == block_[i+1]:\n",
        "            multiple += 1\n",
        "\n",
        "print(total)"
      ],
      "metadata": {
        "colab": {
          "base_uri": "https://localhost:8080/"
        },
        "id": "iwStaw5ksRIW",
        "outputId": "396df0e1-ae77-4b90-9b4b-10dc1ad3a98a"
      },
      "execution_count": null,
      "outputs": [
        {
          "output_type": "stream",
          "name": "stdout",
          "text": [
            "3 5\n",
            "0 0 0 2 0\n",
            "6\n"
          ]
        }
      ]
    }
  ]
}