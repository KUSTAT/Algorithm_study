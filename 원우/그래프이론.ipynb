{
  "nbformat": 4,
  "nbformat_minor": 0,
  "metadata": {
    "colab": {
      "provenance": []
    },
    "kernelspec": {
      "name": "python3",
      "display_name": "Python 3"
    },
    "language_info": {
      "name": "python"
    }
  },
  "cells": [
    {
      "cell_type": "markdown",
      "source": [
        "## 팀결성"
      ],
      "metadata": {
        "id": "WOF9khOOvswM"
      }
    },
    {
      "cell_type": "code",
      "execution_count": 1,
      "metadata": {
        "colab": {
          "base_uri": "https://localhost:8080/"
        },
        "id": "pL44A144vm4v",
        "outputId": "4f4df54d-ebae-42b6-f77d-ee2549ba1bde"
      },
      "outputs": [
        {
          "output_type": "stream",
          "name": "stdout",
          "text": [
            "7 8\n",
            "0 1 3\n",
            "1 1 7\n",
            "NO\n",
            "0 7 6\n",
            "1 7 1\n",
            "NO\n",
            "0 3 7\n",
            "0 4 2\n",
            "0 1 1\n",
            "1 1 1\n",
            "YES\n"
          ]
        }
      ],
      "source": [
        "# a번 학생의 있는 팀 찾기\n",
        "def find_team(a):\n",
        "  # 루트 노드가 아니면, 루트 노드를 찾을 때까지 재귀적으로 호출\n",
        "  if team[a] != a:\n",
        "    team[a] = find_team(team[a])\n",
        "  return team[a]\n",
        "\n",
        "# a와 b의 팀 합치기\n",
        "def union_team(a, b):\n",
        "  a = find_team(a)\n",
        "  b = find_team(b)\n",
        "  if a > b:\n",
        "    team[a] = b\n",
        "  else:\n",
        "    team[b] = a\n",
        "\n",
        "n, m = map(int, input().split())\n",
        "\n",
        "team = [0] * (n + 1)\n",
        "# 처음에는 서로 다른 팀으로 구분되어 총 N + 1개 팀이 존재한다.\n",
        "for i in range(n + 1):\n",
        "  team[i] = i\n",
        "\n",
        "for _ in range(m):\n",
        "  op, a, b = map(int, input().split())\n",
        "  \n",
        "  # '팀 합치기' 연산\n",
        "  if op == 0:\n",
        "    union_team(a, b)\n",
        "  # '같은 팀 여부 확인' 연산\n",
        "  elif op == 1:\n",
        "    if find_team(a) == find_team(b):\n",
        "      print(\"YES\")\n",
        "    else:\n",
        "      print(\"NO\")\n"
      ]
    },
    {
      "cell_type": "code",
      "source": [
        "# 도시 분할 계획\n",
        "def find_parent(parent, x):\n",
        "# 부모 노드를 찾는 함수\n",
        "    if parent[x] != x:\n",
        "        parent[x] = find_parent(parent, parent[x])\n",
        "    return parent[x]\n",
        "\n",
        "def union_parent(parent, a, b):\n",
        "# 두 노드의 부모 노드를 합치는 함수\n",
        "    a = find_parent(parent, a)\n",
        "    b = find_parent(parent, b)\n",
        "    if a < b:\n",
        "        parent[b] = a\n",
        "    else:\n",
        "        parent[a] = b\n",
        "\n",
        "N, M = map(int, input().split()) # N: 집의 개수, M: 길의 개수\n",
        "\n",
        "parent = [0] * (N + 1)\n",
        "\n",
        "# 부모 테이블 초기화\n",
        "for i in range(1, N + 1):\n",
        "    parent[i] = i\n",
        "\n",
        "edges = [] # 간선 정보 리스트\n",
        "result = 0 # 최종 결과값\n",
        "\n",
        "# 간선 정보 입력\n",
        "for _ in range(M):\n",
        "    A, B, C = map(int, input().split()) # A, B: 집, C: 유지비용\n",
        "    edges.append((C, A, B))\n",
        "\n",
        "edges.sort() # 유지 비용 순으로 정렬\n",
        "\n",
        "#유지 비용이 가장 큰 경로 없애서 마을 분리\n",
        "last = 0 # 가장 큰 유지 비용 저장 변수\n",
        "\n",
        "for edge in edges:\n",
        "    C, A, B = edge\n",
        "    # 사이클이 발생하지 않으면 합치기\n",
        "    if find_parent(parent, A) != find_parent(parent, B):\n",
        "        union_parent(parent, A, B)\n",
        "        result += C\n",
        "        last = C\n",
        "\n",
        "# 최종 결과에서 가장 큰 유지 비용을 뺀 값 출력\n",
        "print(result - last)"
      ],
      "metadata": {
        "colab": {
          "base_uri": "https://localhost:8080/"
        },
        "id": "yH7RK9OPyEkD",
        "outputId": "44aafb42-8f69-45e8-ee8d-5dab89280612"
      },
      "execution_count": 4,
      "outputs": [
        {
          "output_type": "stream",
          "name": "stdout",
          "text": [
            "7 12\n",
            "1 2 3\n",
            "1 3 2\n",
            "3 2 1\n",
            "2 5 2\n",
            "3 4 4\n",
            "7 3 6\n",
            "5 1 5\n",
            "1 6 2\n",
            "6 4 1\n",
            "6 5 3\n",
            "4 5 3\n",
            "6 7 4\n",
            "8\n"
          ]
        }
      ]
    }
  ]
}