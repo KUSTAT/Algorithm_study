{
  "nbformat": 4,
  "nbformat_minor": 0,
  "metadata": {
    "colab": {
      "provenance": []
    },
    "kernelspec": {
      "name": "python3",
      "display_name": "Python 3"
    },
    "language_info": {
      "name": "python"
    }
  },
  "cells": [
    {
      "cell_type": "markdown",
      "source": [
        "## 이코테-위상정렬, 커리큘럼"
      ],
      "metadata": {
        "id": "kRXFFS5JE3SX"
      }
    },
    {
      "cell_type": "code",
      "execution_count": 1,
      "metadata": {
        "colab": {
          "base_uri": "https://localhost:8080/"
        },
        "id": "zlw0NrEmD9Fv",
        "outputId": "c605c59e-3dbf-4c7f-bd4e-3c2eba4a1c50"
      },
      "outputs": [
        {
          "output_type": "stream",
          "name": "stdout",
          "text": [
            "5\n",
            "10 -1\n",
            "10 1 -1\n",
            "4 1 -1\n",
            "4 3 1 -1\n",
            "3 3 -1\n",
            "10\n",
            "20\n",
            "14\n",
            "18\n",
            "17\n"
          ]
        }
      ],
      "source": [
        "from collections import deque\n",
        "import copy\n",
        "\n",
        "# 노드의 개수 입력받기\n",
        "v = int(input())\n",
        "# 모든 노드에 대한 진입차수는 0으로 초기화\n",
        "indegree = [0] * (v + 1)\n",
        "# 각 노드에 연결된 간선 정보를 담기 위한 연결 리스트(그래프) 초기화\n",
        "graph = [[] for i in range(v + 1)]\n",
        "# 각 강의 시간을 0으로 초기화\n",
        "time = [0] * (v + 1)\n",
        "\n",
        "# 방향 그래프의 모든 간선 정보를 입력받기\n",
        "for i in range(1, v + 1):\n",
        "    data = list(map(int, input().split()))\n",
        "    time[i] = data[0] # 첫 번째 수는 시간 정보를 담고 있음\n",
        "    for x in data[1:-1]:\n",
        "        # i번째 강의의 진입 차수 추가\n",
        "        indegree[i] += 1\n",
        "        graph[x].append(i)\n",
        "\n",
        "# 위상 정렬 함수\n",
        "def topology_sort():\n",
        "    result = copy.deepcopy(time) # 알고리즘 수행 결과를 담을 리스트\n",
        "    q = deque() # 큐 기능을 위한 deque 라이브러리 사용\n",
        "\n",
        "    # 처음 시작할 때는 진입차수가 0인 노드를 큐에 삽입\n",
        "    for i in range(1, v + 1):\n",
        "        if indegree[i] == 0:\n",
        "            q.append(i)\n",
        "\n",
        "    # 큐가 빌 때까지 반복\n",
        "    while q:\n",
        "        # 큐에서 원소 꺼내기\n",
        "        now = q.popleft()\n",
        "        # 해당 원소와 연결된 노드들의 진입차수에서 1 빼기\n",
        "        for i in graph[now]:\n",
        "            # 꺼낸 노드의 최소 수강 시간과 연결된 노드의 기본 수강 시간을 더한 뒤,\n",
        "            # 해당 값이, 연결된 노드의 최소 수강 시간보다 크다면 해당 값으로 업데이트합니다.\n",
        "            result[i] = max(result[i], result[now] + time[i])\n",
        "            indegree[i] -= 1\n",
        "            # 새롭게 진입차수가 0이 되는 노드를 큐에 삽입\n",
        "            if indegree[i] == 0:\n",
        "                q.append(i)\n",
        "\n",
        "    # 위상 정렬을 수행한 결과 출력\n",
        "    for i in range(1, v + 1):\n",
        "        print(result[i])\n",
        "\n",
        "topology_sort()"
      ]
    },
    {
      "cell_type": "markdown",
      "source": [
        "## 이코테 볼링공 고르기 p.315"
      ],
      "metadata": {
        "id": "46pmBHbdFI8x"
      }
    },
    {
      "cell_type": "code",
      "source": [
        "# n이 볼링공 개수, m이 최대무게\n",
        "n, m = map(int, input().split())\n",
        "data = list(map(int, input().split()))\n",
        "\n",
        "# 1부터 10까지 무게를 담을 수 있는 리스트 \n",
        "array = [0]*11\n",
        "\n",
        "for x in data:\n",
        "    # 각 무게에 해당하는 볼링공의 개수 카운트\n",
        "    array[x] += 1\n",
        "\n",
        "result = 0\n",
        "\n",
        "# 1부터 m까지의 각 무게에 대하여 처리\n",
        "for i in range(1, m+1):\n",
        "    n -= array[i] #무게가 i 인 볼링공의 개수(A가 선택할 수 있는 개수) 제외\n",
        "    result += array[i]*n #B가 선택하는 경우의 수와 곱하기\n",
        "\n",
        "print(result)"
      ],
      "metadata": {
        "colab": {
          "base_uri": "https://localhost:8080/"
        },
        "id": "KD7jAb91Hvm5",
        "outputId": "960bd652-7bc9-43ad-d1d0-491f9dbb461e"
      },
      "execution_count": 3,
      "outputs": [
        {
          "output_type": "stream",
          "name": "stdout",
          "text": [
            "8 5\n",
            "1 5 4 3 2 4 5 2\n",
            "25\n"
          ]
        }
      ]
    }
  ]
}