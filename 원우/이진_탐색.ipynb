{
  "nbformat": 4,
  "nbformat_minor": 0,
  "metadata": {
    "colab": {
      "provenance": []
    },
    "kernelspec": {
      "name": "python3",
      "display_name": "Python 3"
    },
    "language_info": {
      "name": "python"
    }
  },
  "cells": [
    {
      "cell_type": "markdown",
      "source": [
        "## 이코테 p.197 부품찾기"
      ],
      "metadata": {
        "id": "CExG8iDM_aHa"
      }
    },
    {
      "cell_type": "code",
      "execution_count": null,
      "metadata": {
        "colab": {
          "base_uri": "https://localhost:8080/"
        },
        "id": "Mv4YQjwh_YOX",
        "outputId": "68ab17ae-fc8c-4376-e2ce-7e309464f896"
      },
      "outputs": [
        {
          "output_type": "stream",
          "name": "stdout",
          "text": [
            "5\n",
            "8 3 7 9 2\n",
            "3\n",
            "5 7 9\n",
            "[2, 3, 7, 8, 9]\n",
            "no yes yes "
          ]
        }
      ],
      "source": [
        "# 가게에 있는 물품 입력받기\n",
        "N = int(input())\n",
        "market = list(map(int, input().split()))\n",
        "\n",
        "# 손님이 문의한 물품 입력받기\n",
        "M = int(input())\n",
        "customer = list(map(int, input().split()))\n",
        "\n",
        "# 책에서 사용한 이진탐색 알고리즘\n",
        "def binary_search(array, target, start, end):\n",
        "  while start <= end:\n",
        "    mid = (start + end) // 2\n",
        "    # 찾은 경우 중간점 인덱스 반환\n",
        "    if array[mid] == target:\n",
        "      return mid\n",
        "    # 중간점의 값보다 찾고자 하는 값이 적은 경우 왼쪽 확인\n",
        "    elif array[mid] > target:\n",
        "      end = mid - 1\n",
        "    # 중간점의 값보다 찾고자 하는 값이 큰 경우 오른족 확인\n",
        "    else:\n",
        "      start = mid + 1\n",
        "  return None\n",
        "\n",
        "# 가게에 있는 물품을 이진탐색하기 전에 순서대로 정렬\n",
        "market.sort()\n",
        "print(market)\n",
        "\n",
        "\n",
        "# 손님이 확인 요청한 부품 M개 차례차례 확인\n",
        "for i in range(M) :\n",
        "  # 이진 탐색 수행해서 부품이 매장에 있는지 확인\n",
        "  result = binary_search(market, customer[i], 0, N-1)\n",
        "  \n",
        "  # 이진 탐색 결과 탐색이 안된 경우 \"no\" 출력\n",
        "  if result == None:\n",
        "    print(\"no\", end=\" \")\n",
        "  # 이진 탐색 결과 위치가 확인 된 경우 \"yes\" 출력\n",
        "  else:\n",
        "    print(\"yes\", end=\" \")\n",
        " "
      ]
    },
    {
      "cell_type": "markdown",
      "source": [
        "## 이코테 p.201 떡볶이 떡 만들기"
      ],
      "metadata": {
        "id": "EbyEQiQUUm6L"
      }
    },
    {
      "cell_type": "code",
      "source": [
        "# 떡의 개수 N, 요청한 떡의 길이 M 입력받기\n",
        "N, M = map(int, input().split())\n",
        "\n",
        "# 떡 길이 N개 입력 받기\n",
        "len_rc = list(map(int,input().split()))\n",
        "\n",
        "# 이진 탐색 알고리즘\n",
        "def rice_cake_binary_search(array, target, start, end):\n",
        "  # 적어도 M만큼의 떡을 집에 가져가기 위한 높이를 구하는 문제로 떡이 딱 떨어지지 않아도 값을 반환해야 하므로 값을 저장하는 변수를 만듬\n",
        "  result = 0\n",
        "  while start <= end:\n",
        "    # 잘랐을 때 떡 길이를 저장할 변수\n",
        "    total =0\n",
        "    \n",
        "    # 잘라볼 높이\n",
        "    mid = (start + end) // 2\n",
        "    \n",
        "    # 잘랐을 때 얻는 떡길이 total 계산\n",
        "    for i in array :\n",
        "      if i > mid:\n",
        "        total += i-mid\n",
        "    \n",
        "    # 떡의 양이 부족한 경우 왼쪽 확인(더 많이 얻어야 함)\n",
        "    if total < target:\n",
        "      end = mid - 1\n",
        "    \n",
        "    # 떡의 양이 너무 많을 경우 오른쪽 확인\n",
        "    else:\n",
        "      # 혹시 지금 찾은 높이 값이 최적값일수도 있기 때문에 값 저장\n",
        "      result = mid\n",
        "      start = mid + 1\n",
        "\n",
        "  return result\n",
        "\n",
        "############# 질문 파이썬 max() 함수의 시간복잡도는 어떻게 되는지?\n",
        "answer=rice_cake_binary_search(len_rc, M, 0, max(len_rc))\n",
        "\n",
        "print(answer)"
      ],
      "metadata": {
        "colab": {
          "base_uri": "https://localhost:8080/"
        },
        "id": "gCtyfuYRUt8X",
        "outputId": "2b62d050-c853-4af3-9afe-2aebbef8b1e8"
      },
      "execution_count": null,
      "outputs": [
        {
          "output_type": "stream",
          "name": "stdout",
          "text": [
            "4 6\n",
            "19 15 10 17\n",
            "15\n"
          ]
        }
      ]
    },
    {
      "cell_type": "markdown",
      "source": [
        "## 백준 1920번 수찾기"
      ],
      "metadata": {
        "id": "4rfx9ZddQyar"
      }
    },
    {
      "cell_type": "code",
      "source": [
        "# 가게에 있는 물품 입력받기\n",
        "N = int(input())\n",
        "market = list(map(int, input().split()))\n",
        "\n",
        "# 손님이 문의한 물품 입력받기\n",
        "M = int(input())\n",
        "customer = list(map(int, input().split()))\n",
        "\n",
        "# 책에서 사용한 이진탐색 알고리즘\n",
        "def binary_search(array, target, start, end):\n",
        "  while start <= end:\n",
        "    mid = (start + end) // 2\n",
        "    # 찾은 경우 중간점 인덱스 반환\n",
        "    if array[mid] == target:\n",
        "      return 1\n",
        "    # 중간점의 값보다 찾고자 하는 값이 적은 경우 왼쪽 확인\n",
        "    elif array[mid] > target:\n",
        "      end = mid - 1\n",
        "    # 중간점의 값보다 찾고자 하는 값이 큰 경우 오른족 확인\n",
        "    else:\n",
        "      start = mid + 1\n",
        "  return 0\n",
        "\n",
        "# 가게에 있는 물품을 이진탐색하기 전에 순서대로 정렬\n",
        "market.sort()\n",
        "\n",
        "\n",
        "# 손님이 확인 요청한 부품 M개 차례차례 확인\n",
        "for i in range(M) :\n",
        "  # 이진 탐색 수행해서 부품이 매장에 있는지 확인\n",
        "  result = binary_search(market, customer[i], 0, N-1)\n",
        "  print(result)"
      ],
      "metadata": {
        "colab": {
          "base_uri": "https://localhost:8080/"
        },
        "id": "aH6QyW8FQ2yx",
        "outputId": "abb5275e-9547-4c6d-a283-e792da5fe81f"
      },
      "execution_count": null,
      "outputs": [
        {
          "output_type": "stream",
          "name": "stdout",
          "text": [
            "5\n",
            "4 1 5 2 3\n",
            "5\n",
            "1 3 7 9 5\n",
            "1\n",
            "1\n",
            "0\n",
            "0\n",
            "1\n"
          ]
        }
      ]
    },
    {
      "cell_type": "markdown",
      "source": [
        "## 백준 1654 랜선자르기, 틀렸음"
      ],
      "metadata": {
        "id": "rIsWQFvmRnsC"
      }
    },
    {
      "cell_type": "code",
      "source": [
        "# 이미 가지고 있는 랜선 개수 K, 필요한 랜선의 개수 N 입력받기\n",
        "K, N = map(int, input().split())\n",
        "\n",
        "# 가지고 있는 랜선의 길이 K개 입력 받기\n",
        "len_ = [int(input()) for i in range(K)]\n",
        "# 이진 탐색 알고리즘\n",
        "\n",
        "def lan_binary_search(array, N, start, end):\n",
        "  # 잘랐을 때 랜선의 총 길이를 저장해야함\n",
        "  result = 0\n",
        "  # 답으로 낱개 랜선 길이도 저장\n",
        "  answer = 0\n",
        "\n",
        "  while start <= end:\n",
        "    # 잘랐을 때 랜선의 개수를 저장할 변수\n",
        "    count =  0\n",
        "\n",
        "    # 잘라볼 높이\n",
        "    mid = (start + end) // 2\n",
        "\n",
        "    # 잘랐을 때 얻는 랜선 길이 total 계산, 얻어지는 랜선의 개수 계산\n",
        "    total = 0\n",
        "    for i in array :\n",
        "      if i > mid :\n",
        "        total += mid*(i//mid)\n",
        "        count += i//mid\n",
        "\n",
        "    # 랜선의 개수가 부족한 경우 mid가 작아져야 하므로 왼쪽확인\n",
        "    if count < N:\n",
        "      end = mid - 1\n",
        "    \n",
        "    # 랜선의 길이가 이전에 확인했던 길이보다 길어진 경우 저장 후 오른쪽 확인(이렇게 하면 안될 것 같은데~~~~~ 젠장~~~~~~~~~~~~~)\n",
        "    elif result < total:\n",
        "      result = total\n",
        "      answer = int(total/count)\n",
        "      start = mid + 1  \n",
        "\n",
        "    # 그렇지 않을 경우 왼쪽 확인\n",
        "    else:\n",
        "      end = mid - 14\n",
        "  \n",
        "  return answer\n",
        "\n",
        "answer=lan_binary_search(len_, N, 0, max(len_))\n",
        "\n",
        "print(answer)"
      ],
      "metadata": {
        "colab": {
          "base_uri": "https://localhost:8080/"
        },
        "id": "-0vrNXfXSCMd",
        "outputId": "bba08c4b-c851-4e49-e036-324940ec0f30"
      },
      "execution_count": null,
      "outputs": [
        {
          "output_type": "stream",
          "name": "stdout",
          "text": [
            "4 11\n",
            "802\n",
            "743\n",
            "457\n",
            "539\n",
            "200\n"
          ]
        }
      ]
    }
  ]
}