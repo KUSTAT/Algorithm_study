{
  "nbformat": 4,
  "nbformat_minor": 0,
  "metadata": {
    "colab": {
      "provenance": []
    },
    "kernelspec": {
      "name": "python3",
      "display_name": "Python 3"
    },
    "language_info": {
      "name": "python"
    }
  },
  "cells": [
    {
      "cell_type": "markdown",
      "source": [
        "## 백준 24444번 알고리즘 수업 - 너비 우선 탐색 1"
      ],
      "metadata": {
        "id": "5v0hLGTIfF-r"
      }
    },
    {
      "cell_type": "code",
      "execution_count": 1,
      "metadata": {
        "colab": {
          "base_uri": "https://localhost:8080/",
          "height": 251
        },
        "id": "WjKSxjXne5iD",
        "outputId": "fd8d00b3-3ff5-4c4b-9847-a3f24ccbacca"
      },
      "outputs": [
        {
          "output_type": "error",
          "ename": "ValueError",
          "evalue": "ignored",
          "traceback": [
            "\u001b[0;31m---------------------------------------------------------------------------\u001b[0m",
            "\u001b[0;31mValueError\u001b[0m                                Traceback (most recent call last)",
            "\u001b[0;32m<ipython-input-1-b679719b6528>\u001b[0m in \u001b[0;36m<cell line: 6>\u001b[0;34m()\u001b[0m\n\u001b[1;32m      4\u001b[0m \u001b[0;34m\u001b[0m\u001b[0m\n\u001b[1;32m      5\u001b[0m \u001b[0;31m# 정점의 수 N, 간선의 수 M, 시작 정점 R 입력 받기\u001b[0m\u001b[0;34m\u001b[0m\u001b[0;34m\u001b[0m\u001b[0m\n\u001b[0;32m----> 6\u001b[0;31m \u001b[0mN\u001b[0m\u001b[0;34m,\u001b[0m \u001b[0mM\u001b[0m\u001b[0;34m,\u001b[0m \u001b[0mR\u001b[0m \u001b[0;34m=\u001b[0m \u001b[0mmap\u001b[0m\u001b[0;34m(\u001b[0m\u001b[0mint\u001b[0m\u001b[0;34m,\u001b[0m \u001b[0msys\u001b[0m\u001b[0;34m.\u001b[0m\u001b[0mstdin\u001b[0m\u001b[0;34m.\u001b[0m\u001b[0mreadline\u001b[0m\u001b[0;34m(\u001b[0m\u001b[0;34m)\u001b[0m\u001b[0;34m.\u001b[0m\u001b[0msplit\u001b[0m\u001b[0;34m(\u001b[0m\u001b[0;34m)\u001b[0m\u001b[0;34m)\u001b[0m\u001b[0;34m\u001b[0m\u001b[0;34m\u001b[0m\u001b[0m\n\u001b[0m\u001b[1;32m      7\u001b[0m \u001b[0;34m\u001b[0m\u001b[0m\n\u001b[1;32m      8\u001b[0m \u001b[0;31m# 그래프의 연결 정보를 표시할 N+1행의 빈리스트 만들기(인덱스가 0인 행은 비워둠)\u001b[0m\u001b[0;34m\u001b[0m\u001b[0;34m\u001b[0m\u001b[0m\n",
            "\u001b[0;31mValueError\u001b[0m: not enough values to unpack (expected 3, got 0)"
          ]
        }
      ],
      "source": [
        "# queue 사용을 위해 deque 라이브러리import\n",
        "from collections import deque\n",
        "import sys\n",
        "\n",
        "# 정점의 수 N, 간선의 수 M, 시작 정점 R 입력 받기\n",
        "N, M, R = map(int, sys.stdin.readline().split())\n",
        "\n",
        "# 그래프의 연결 정보를 표시할 N+1행의 빈리스트 만들기(인덱스가 0인 행은 비워둠)\n",
        "graph = [[] for i in range(N + 1)]\n",
        "\n",
        "# 방문 기록용 리스트 만들기\n",
        "visited = [0] * (N + 1)\n",
        "\n",
        "# 방문 순서를 visit에 넣어주기 위해 변수지정\n",
        "count = 1\n",
        "\n",
        "# M개의 간선 정보로 그래프 만들기\n",
        "for i in range(M):\n",
        "  x, y = map(int, input().split())\n",
        "  # 그래프의 x 정점에 y 정점이 연결된 것 정보입력\n",
        "  graph[x].append(y)\n",
        "  # 그래프의 y 정점에 x 정점이 연결된 것 정보입력\n",
        "  graph[y].append(x)\n",
        "\n",
        "# 그래프 안의 각 원소에 인접한 행들을 오름차순으로 정렬\n",
        "for i in range(1, N+1):  \n",
        "  graph[i].sort()\n",
        "\n",
        "# 너비 우선탐색 시작\n",
        "    \n",
        "# queue를 생성후 시작 정점 R을 큐에 넣어두기\n",
        "queue = deque([R])\n",
        "    \n",
        "# 시작 정점 R을 방문처리\n",
        "visited[R] = 1\n",
        "    \n",
        "# q안에 원소가 있으면 계속 while문 돌림\n",
        "while queue:\n",
        "  # 큐에서 하나의 원소를 뽑아서 출력(선입선출이라서 먼저넣은 원소부터 튀어나옴)\n",
        "  v = queue.popleft()\n",
        "\n",
        "  # 뽑힌 노드에 인접한 노드 for문으로 숫자가 작은 순서대로 모두 방문(너비 우선 탐색~~~~~~~)\n",
        "  for i in graph[v]:\n",
        "    # 방문하지 않은 노드 선택\n",
        "    if visited[i] == 0:\n",
        "      # 카운트를 올린 뒤\n",
        "      count += 1\n",
        "      # 방문순서 기록\n",
        "      visited[i] = count\n",
        "      # 큐에다가 숫자가 작은 순서대로 집어넣기\n",
        "      queue.append(i)\n",
        "\n",
        "for v in visited[1:]:\n",
        "    print(v)"
      ]
    }
  ]
}