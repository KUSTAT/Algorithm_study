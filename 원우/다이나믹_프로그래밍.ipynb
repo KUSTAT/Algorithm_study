{
  "nbformat": 4,
  "nbformat_minor": 0,
  "metadata": {
    "colab": {
      "provenance": []
    },
    "kernelspec": {
      "name": "python3",
      "display_name": "Python 3"
    },
    "language_info": {
      "name": "python"
    }
  },
  "cells": [
    {
      "cell_type": "markdown",
      "source": [
        "# p.217 1로 만들기"
      ],
      "metadata": {
        "id": "OHpRcxtz0K6G"
      }
    },
    {
      "cell_type": "code",
      "execution_count": null,
      "metadata": {
        "colab": {
          "base_uri": "https://localhost:8080/"
        },
        "id": "P04PfgtW0HnZ",
        "outputId": "e17586e8-ae2d-4642-eeb3-fafd0c93f9c0"
      },
      "outputs": [
        {
          "output_type": "stream",
          "name": "stdout",
          "text": [
            "26\n",
            "3\n"
          ]
        }
      ],
      "source": [
        "# X를 입력받기\n",
        "X=int(input())\n",
        "\n",
        "# 연산 횟수 결과를 저장하기 위한 0으로 된 DP테이블 생성\n",
        "d = [0]*30001\n",
        "\n",
        "# 보텀업으로 다이나믹 프로그래밍 코딩\n",
        "for i in range(2, X+1):\n",
        "    # 현재의 수에서 1을 빼는 경우\n",
        "    d[i] = d[i-1]+1\n",
        "    # 현재의 수가 2로 나누어 떨어짐\n",
        "    if i % 2 == 0:\n",
        "        # 마지막에 연산횟수를 한 번 더 추가해줘야하므로 1더해짐\n",
        "        d[i] = min(d[i],d[i//2]+1)\n",
        "    # 현재의 수가 3으로 나누어 떨어짐\n",
        "    if i % 3 == 0:\n",
        "        d[i] = min(d[i],d[i//3]+1)\n",
        "    # 현재의 수가 5로 나누어 떨어짐\n",
        "    if i % 5 == 0:\n",
        "        d[i] = min(d[i],d[i//5]+1)\n",
        "\n",
        "# 출력\n",
        "print(d[X])"
      ]
    },
    {
      "cell_type": "markdown",
      "source": [
        "## p.220 개미 전사"
      ],
      "metadata": {
        "id": "ApD9S_ze5bsA"
      }
    },
    {
      "cell_type": "code",
      "source": [
        "N = int(input())\n",
        "arr_ = list(map(int, input().split()))\n",
        "\n",
        "# 결과를 저장하기 위한 0으로 된 DP테이블 생성(앞에서 부터 차례차례 결과를 누적해서 저장)\n",
        "d = [0]*N\n",
        "\n",
        "# 바텀업으로 다이나믹 프로그래밍 짜기\n",
        "\n",
        "# 초기값 저장\n",
        "d[0] = arr_[0]\n",
        "\n",
        "# 첫번째 식량창고와 두번째 식량 창고 중 더 식량많은 곳을 털어먹음\n",
        "d[1] = max(arr_[0], arr_[1])\n",
        "\n",
        "# 세번째 식량창고부터 선택할 때는 두번째 식량창고가 양옆의 식량창고를 합친거 보다 많이 받아먹는지 확인\n",
        "# 더 많이 받아먹는 옵션을 d에 계속 누적해서 저장(점화식 형태로)\n",
        "for i in range(2, N):\n",
        "    d[i] = max(d[i-1], d[i-2]+arr_[i])\n",
        "\n",
        "# 출력\n",
        "print(d[N-1])"
      ],
      "metadata": {
        "colab": {
          "base_uri": "https://localhost:8080/"
        },
        "id": "lV_jZSqb5YXr",
        "outputId": "028ffe99-ca43-4f48-c38d-bbf1d02d5a92"
      },
      "execution_count": null,
      "outputs": [
        {
          "output_type": "stream",
          "name": "stdout",
          "text": [
            "4\n",
            "1 3 1 5\n",
            "8\n"
          ]
        }
      ]
    },
    {
      "cell_type": "markdown",
      "source": [
        "## p.223 바닥 공사"
      ],
      "metadata": {
        "id": "jYdW492coxXU"
      }
    },
    {
      "cell_type": "code",
      "source": [
        "N =int(input())\n",
        "\n",
        "# 결과를 저장하기 위한 0으로 된 DP테이블 생성\n",
        "d = [0]*N\n",
        "\n",
        "# 바텀업으로 다이나믹 프로그래밍 짜기\n",
        "\n",
        "# 초기값 저장(2*1 밖에 경우의 수가 없음)\n",
        "d[0] = 1\n",
        "\n",
        "# 두번째 값 저장\n",
        "d[1] = 3\n",
        "\n",
        "# 세번째 값부터 점화식을 세울 수 있음\n",
        "# 결과값이 엄청 커질수 있어서 나머지를 출력하도록 권고, 값을 계산할 때마다 796796으로 나눈 나머지만 취하도록 하면 됨\n",
        "for i in range(2, N):\n",
        "    # (i-1)개 까지 덮개로 채워져 있으면 1가지 경우(2*1로 채우는 경우)만 생김\n",
        "    # (i-2)개 까지 덮개로 채워져 있으면 1*2를 두개 넣는 경우, 2*2를 넣는 경우가 추가됨(2*1을 넣는 케이스는 (i-1)개까지 채워진 케이스에서 고려됨)\n",
        "    d[i] = (d[i-1]*1 + d[i-2]*2)%796796\n",
        "\n",
        "# N번째 값 출력\n",
        "print(d[N-1])"
      ],
      "metadata": {
        "colab": {
          "base_uri": "https://localhost:8080/"
        },
        "id": "wEgUuFlIo0HG",
        "outputId": "7b0b2db8-b331-4dc4-d129-582899900ada"
      },
      "execution_count": null,
      "outputs": [
        {
          "output_type": "stream",
          "name": "stdout",
          "text": [
            "3\n",
            "5\n"
          ]
        }
      ]
    },
    {
      "cell_type": "markdown",
      "source": [
        "## p.226 효율적인 화폐구성"
      ],
      "metadata": {
        "id": "g5MF8oUmsVNa"
      }
    },
    {
      "cell_type": "code",
      "source": [
        "# 입력 받기\n",
        "# N가지 종류의 화폐, 가치의 합이 M원이 되도록 해야함\n",
        "N, M = map(int, input().split())\n",
        "array = [int(input()) for i in range(N)]\n",
        "\n",
        "# 결과를 저장하기 위한 99999으로 된 DP테이블 생성(99999은 특정금액으로 만들수 있는 화폐구성이 가능하지 않다는 의미)\n",
        "d = [99999]*(M+1)\n",
        "\n",
        "# 바텀업으로 다이나믹 프로그래밍 짜기\n",
        "\n",
        "# 0원은 화폐가 없어도 만들수 있음\n",
        "d[0]=0\n",
        "\n",
        "# array에서 화폐단위가 작은 순서대로 차례대로 확인\n",
        "for i in range(N):\n",
        "    # 꺼낸 화폐단위를 token 변수에 지정\n",
        "    token = array[i]\n",
        "    # d를 가장작은 화폐단위의 인덱스에서 M번째 인덱스까지 for문으로 돌림\n",
        "    for j in range(token, M+1):\n",
        "        # d[j-token]은 j에서 token 만큼 뺀 값을 만드는 방법이 존재하는 경우\n",
        "        if d[j-token] != 99999:\n",
        "            # j에서 token 뺀 값을 만드는 동전개수에 1을 더한 것과 현재 저장된 동전 개수에 1을 더한 것 중 작은 것을 사용\n",
        "            d[j] = min(d[j], d[j-token]+1)\n",
        "\n",
        "# 결과 출력\n",
        "if d[M] == 99999:\n",
        "    print(-1)\n",
        "else:\n",
        "    print(d[M])"
      ],
      "metadata": {
        "colab": {
          "base_uri": "https://localhost:8080/"
        },
        "id": "mvRim2Grsbva",
        "outputId": "aa5de087-d5dd-4515-b686-17ffc6c73c7d"
      },
      "execution_count": null,
      "outputs": [
        {
          "output_type": "stream",
          "name": "stdout",
          "text": [
            "2 15\n",
            "2\n",
            "3\n",
            "5\n"
          ]
        }
      ]
    },
    {
      "cell_type": "markdown",
      "source": [
        "## 쉬운계단 수\n",
        "\n",
        "다이나믹 프로그래밍의 DP테이블을 2차원으로 해도됨"
      ],
      "metadata": {
        "id": "S6HbVR2mgliy"
      }
    },
    {
      "cell_type": "code",
      "source": [
        "N = int(input())\n",
        "\n",
        "# 길이가 N인 계단 수를 저장하는 DP테이블 생성\n",
        "# 끝자리 수 별로 정렬함(끝자리수가 0일때 1열, 1일때 2열,..)\n",
        "d = [[0]*10 for _ in range(N+1)]\n",
        "\n",
        "# 초깃값 설정\n",
        "# 0으로 시작하는 수는 계단수가 아님\n",
        "d[1][0] = 0\n",
        "# 1~9에는 계단수 1을 할당\n",
        "for i in range(1,10):\n",
        "    d[1][i] = 1\n",
        "\n",
        "# 점화식 세워서 덧셈~~~~\n",
        "# 2자리 수 부터 N자리 수까지 for문 돌리기~~~\n",
        "for j in range(2, N+1) :\n",
        "    # 0~9까지 자리수에 대해 for문\n",
        "    for i in range(10) :\n",
        "        # 마지막 자리수가 9면 뒤에 10이 못옴\n",
        "        if i==9 :\n",
        "            d[j][i] = d[j-1][i-1]\n",
        "        # 마지막 자리수가 0이면 뒤에 -1이 못옴    \n",
        "        elif i==0 :\n",
        "            d[j][i] = d[j-1][i+1]\n",
        "        # 나머지 일반적인 케이스 뒤에 1 크거나 1 작은 수가 옴\n",
        "        else :\n",
        "            d[j][i] = (d[j-1][i-1] + d[j-1][i+1])\n",
        "            \n",
        "# 끝자리 수별 계단 수 개수를 다 더해준 뒤 출력 (문제 조건 때문에 나머지 출력!!!)\n",
        "print(sum(d[N])%1000000000)"
      ],
      "metadata": {
        "colab": {
          "base_uri": "https://localhost:8080/"
        },
        "id": "_Yof3GKHgoeO",
        "outputId": "470b5b01-37a6-4741-af5d-ce5d4fcb51c9"
      },
      "execution_count": null,
      "outputs": [
        {
          "output_type": "stream",
          "name": "stdout",
          "text": [
            "10\n",
            "2986\n"
          ]
        }
      ]
    },
    {
      "cell_type": "markdown",
      "source": [
        "## 가장 긴 증가하는 부분 수열"
      ],
      "metadata": {
        "id": "IkPb_1OF4J5P"
      }
    },
    {
      "cell_type": "markdown",
      "source": [
        "왜 틀렸는지 질문..."
      ],
      "metadata": {
        "id": "vo4qvYpKbIRJ"
      }
    },
    {
      "cell_type": "code",
      "source": [
        "N = int(input())\n",
        "seq_ = list(map(int, input().split()))\n",
        "\n",
        "# 부분 수열의 길이를 저장하는 DP 테이블 만들기\n",
        "d = [1]*N\n",
        "\n",
        "# 부분수열을 첫글자의 인덱스가 0번째일때 ~ N-2번째일때까지 탐색\n",
        "for i in range(0,N-1):\n",
        "    # 부분 수열의 첫글자를 temp로 둠\n",
        "    temp = seq_[i]\n",
        "    # 부분 수열의 뒷자리를 하나씩 검색해봄\n",
        "    for j in range(i+1,N):\n",
        "        # 부분 수열의 뒷자리가 첫글짜 보다 크면\n",
        "        if temp < seq_[j] :\n",
        "            # temp를 그다음 큰 수로 변경하고\n",
        "            temp = seq_[j]\n",
        "            # 수열의 길이에 1을 더해줌\n",
        "            d[i] += 1\n",
        "\n",
        "print(max(d))"
      ],
      "metadata": {
        "colab": {
          "base_uri": "https://localhost:8080/"
        },
        "id": "pNIgB-hi6SNQ",
        "outputId": "e7e8e816-1bc6-48f2-bb51-c6697e7043b7"
      },
      "execution_count": null,
      "outputs": [
        {
          "output_type": "stream",
          "name": "stdout",
          "text": [
            "6\n",
            "10 20 10 30 20 50\n",
            "4\n"
          ]
        }
      ]
    },
    {
      "cell_type": "markdown",
      "source": [
        "맞는 풀이"
      ],
      "metadata": {
        "id": "3dfHgT92bPsb"
      }
    },
    {
      "cell_type": "code",
      "source": [
        "N = int(input())\n",
        "seq_ = list(map(int, input().split()))\n",
        "\n",
        "# DP 테이블 만들기\n",
        "d = [1]*N\n",
        "\n",
        "for i in range(1, N):  # 1에서 시작하도록 인덱싱\n",
        "    for j in range(i):  # 이전 원소들을 탐색하도록함\n",
        "        # 이전원소들이 현재원소보다 작을 때\n",
        "        if seq_[j] < seq_[i]:\n",
        "            d[i] = max(d[i], d[j] + 1)  # 현재 d[i]와 이전원소에서 1을 더한 d[j]+1을 비교\n",
        "        else:\n",
        "            pass\n",
        "\n",
        "print(max(d))"
      ],
      "metadata": {
        "colab": {
          "base_uri": "https://localhost:8080/"
        },
        "id": "_WDWa4l2bHpE",
        "outputId": "f908593a-6800-431c-fc2f-c0f3ea739733"
      },
      "execution_count": null,
      "outputs": [
        {
          "output_type": "stream",
          "name": "stdout",
          "text": [
            "6\n",
            "10 20 10 30 20 50\n",
            "4\n"
          ]
        }
      ]
    }
  ]
}