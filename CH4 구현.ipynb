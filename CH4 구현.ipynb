{
 "cells": [
  {
   "cell_type": "markdown",
   "id": "2d514b44",
   "metadata": {},
   "source": [
    "# 예제 문제"
   ]
  },
  {
   "cell_type": "markdown",
   "id": "449a31b3",
   "metadata": {},
   "source": [
    "## 1. 상하좌우"
   ]
  },
  {
   "cell_type": "code",
   "execution_count": 3,
   "id": "efeefc07",
   "metadata": {},
   "outputs": [
    {
     "name": "stdout",
     "output_type": "stream",
     "text": [
      "5\n",
      "R R R U D D\n",
      "3 4\n"
     ]
    }
   ],
   "source": [
    "# 내 답안\n",
    "import sys\n",
    "N = int(input())\n",
    "\n",
    "plan = list(map(str, input().split()))     # 계획표\n",
    "x, y = 1, 1    # 시작지점\n",
    "for n in range(len(plan)):    # 계획표의 길이만큼 움직여줌\n",
    "    if plan[n] == 'L' :       # 'L' 인 경우\n",
    "        if y==1 : pass        # y=1이면 공간 밖으로 나가므로 무시\n",
    "        else : y -= 1         # 그 외의 경우 y = y-1\n",
    "    if plan[n] == 'R' :\n",
    "        if y == N : pass\n",
    "        else : y += 1\n",
    "    if plan[n] == 'U' :\n",
    "        if x == 1 : pass\n",
    "        else : x -= 1\n",
    "    if plan[n] == 'D' :\n",
    "        if x == N : pass\n",
    "        else : x += 1\n",
    "print(x, y)"
   ]
  },
  {
   "cell_type": "code",
   "execution_count": 6,
   "id": "fc1e67dc",
   "metadata": {},
   "outputs": [
    {
     "name": "stdout",
     "output_type": "stream",
     "text": [
      "5\n",
      "R R R U D D\n",
      "3 4\n"
     ]
    }
   ],
   "source": [
    "# 답지\n",
    "n =int(input())\n",
    "x, y = 1, 1\n",
    "plans = input().split()\n",
    "\n",
    "# L,R,U,D 에 따른 이동 방향\n",
    "dx = [0,0,-1,1]\n",
    "dy = [-1,1,0,0]\n",
    "move_types = ['L','R','U','D']\n",
    "\n",
    "# 이동 계획을 하나씩 확인\n",
    "for plan in plans:\n",
    "    # 이동 후 좌표 구하기\n",
    "    for i in range(len(move_types)):\n",
    "        if plan == move_types[i]:\n",
    "            nx = x + dx[i]\n",
    "            ny = y + dy[i]\n",
    "        # 공간을 벗어나는 경우 무시\n",
    "    if nx < 1 or ny < 1 or nx > n or ny > n:\n",
    "        continue\n",
    "        # 이동 수행\n",
    "    x,y = nx,ny\n",
    "print(x,y)"
   ]
  },
  {
   "cell_type": "markdown",
   "id": "808a0a39",
   "metadata": {},
   "source": [
    "## 2. 시각"
   ]
  },
  {
   "cell_type": "code",
   "execution_count": 35,
   "id": "75b37a2d",
   "metadata": {},
   "outputs": [
    {
     "name": "stdout",
     "output_type": "stream",
     "text": [
      "5\n",
      "11475\n"
     ]
    }
   ],
   "source": [
    "H = int(input())\n",
    "cnt = 0\n",
    "\n",
    "# 0시 부터 H시 까지 탐색\n",
    "for i in range(H+1):\n",
    "    for j in range(60):\n",
    "        for k in range(60):\n",
    "            # 3이 해당 시간에 1번이라도 포함되면 count 증가\n",
    "            if '3' in str(i)+str(j)+str(k):\n",
    "                cnt += 1\n",
    "print(cnt)"
   ]
  },
  {
   "cell_type": "markdown",
   "id": "49f6c8c6",
   "metadata": {},
   "source": [
    "# 실전 문제"
   ]
  },
  {
   "cell_type": "markdown",
   "id": "9b734edb",
   "metadata": {},
   "source": [
    "## 1. 왕실의 나이트"
   ]
  },
  {
   "cell_type": "code",
   "execution_count": 54,
   "id": "0e96089f",
   "metadata": {},
   "outputs": [
    {
     "name": "stdout",
     "output_type": "stream",
     "text": [
      "a1\n",
      "2\n"
     ]
    }
   ],
   "source": [
    "import sys\n",
    "loc = input()\n",
    "# 좌표 실수화\n",
    "x = ord(loc[0]) - 96\n",
    "y = int(loc[1])\n",
    "# 나올 수 있는 최대 경우의 수\n",
    "cnt = 8\n",
    "# 각 경우의 수를 따져준다.\n",
    "if (y==1 or y==8):\n",
    "    if (x==1 or x==8) : cnt -= 6\n",
    "    elif (x==2 or x==7) : cnt -= 5\n",
    "    else : cnt -= 4\n",
    "elif (y==2 or y==7):\n",
    "    if (x==1 or x==8): cnt -= 5\n",
    "    elif (x==2 or x==7) : cnt -=4\n",
    "    else : cnt -= 2\n",
    "else :\n",
    "    if (x==1 or x==8): cnt -= 4\n",
    "    elif (x==2 or x==7) : cnt-= 2\n",
    "\n",
    "print(cnt)"
   ]
  },
  {
   "cell_type": "code",
   "execution_count": 58,
   "id": "cee59908",
   "metadata": {},
   "outputs": [
    {
     "name": "stdout",
     "output_type": "stream",
     "text": [
      "a1\n",
      "2\n"
     ]
    }
   ],
   "source": [
    "# 답안\n",
    "input_data = input()\n",
    "row = int(input_data[1])\n",
    "col = ord(input_data[0])-96\n",
    "\n",
    "# 나이트가 이동할 수 있는 8가지 방향\n",
    "steps = [(-2, -1), (-1,-2), (1,-2), (2,-1), (2,1), (1,2), (-1,2), (-2,1)]\n",
    "\n",
    "result = 0\n",
    "for step in steps:\n",
    "    next_row = row + step[0]\n",
    "    next_col = col + step[1]\n",
    "    if next_row >=1 and next_row <= 8 and next_col>=1 and next_col<=8:\n",
    "        result += 1\n",
    "print(result)"
   ]
  },
  {
   "cell_type": "markdown",
   "id": "18cccdfd",
   "metadata": {},
   "source": [
    "## 2. 게임 개발"
   ]
  },
  {
   "cell_type": "code",
   "execution_count": 7,
   "id": "84642a69",
   "metadata": {},
   "outputs": [
    {
     "name": "stdout",
     "output_type": "stream",
     "text": [
      "4 4\n",
      "1 1 0\n",
      "1 1 1 1\n",
      "1 0 0 1\n",
      "1 1 0 1\n",
      "1 1 1 1\n",
      "3\n"
     ]
    }
   ],
   "source": [
    "N, M = map(int, input().split())\n",
    "A, B, d = map(int, input().split())\n",
    "\n",
    "maps = [list(map(int, input().split())) for _ in range(N)]\n",
    "# maps 이외의 지역은 전부 바다 = 1 로 처리\n",
    "maps.insert(0, [1 for _ in range(M)])\n",
    "maps.append([1 for _ in range(M)])\n",
    "for i in range(N+2):\n",
    "    maps[i].insert(0,1)\n",
    "    maps[i].append(1)\n",
    "\n",
    "# maps 의 크기가 늘어났으므로 A,B값 조정\n",
    "A += 1\n",
    "B += 1\n",
    "cnt = 0\n",
    "# 방향에 따른 이동 방향 순서 dict화\n",
    "dir_book = {0:[(-1,0),(0,1),(-1,0),(0,-1)],\n",
    "            1:[(0,1),(-1,0),(0,-1),(-1,0)],\n",
    "            2:[(-1,0),(0,-1),(-1,0),(0,1)],\n",
    "            3:[(0,-1),(-1,0),(0,1),(-1,0)]}\n",
    "# 방향에 대응하는 이동 방향 dict화\n",
    "my_book = {(0,1):0, (1,0):1,(0,-1):2,(-1,0):3}\n",
    "# 더이상 이동이 없을때 while문 stop\n",
    "move = True\n",
    "while move:\n",
    "    # 동,서,남,북에 육지가 없을 경우를 대비해 A_old, B_old 생성\n",
    "    A_old = A; B_old = B\n",
    "    \n",
    "    for i in range(4):\n",
    "        # (1)번 알고리즘 : 왼쪽방향으로 회전\n",
    "        direction = dir_book[d][i]\n",
    "        # (2)번 알고리즘 : 육지인 경우 이동\n",
    "        if maps[A+direction[0]][B+direction[1]] == 0:\n",
    "            cnt += 1\n",
    "            # 한 번 왔다간 육지인 경우 2로 변경\n",
    "            maps[A+direction[0]][B+direction[1]] = 2\n",
    "            A += direction[0]\n",
    "            B += direction[1]\n",
    "            # 이동 후 바라보는 방향(동서남북) 변경\n",
    "            d = my_book[(direction[0], direction[1])]\n",
    "        \n",
    "        # 바다인 경우 pass\n",
    "        elif maps[A+direction[0]][B+direction[1]] == 1:\n",
    "            pass\n",
    "    \n",
    "    # (3)번 알고리즘\n",
    "    if A_old == A and B_old == B:\n",
    "        # 바라보는 방향으로 이동할 direction 설정\n",
    "        for k, v in my_book.items():\n",
    "            if v == d : direction = k\n",
    "        # 바라보는 방향을 유지한채 뒤쪽 방향으로 이동\n",
    "        if maps[A-direction[0]][B-direction[1]] == 2 :\n",
    "            cnt += 1\n",
    "            A -= direction[0]\n",
    "            B -= direction[1]\n",
    "        # 뒤쪽 방향이 바다인 경우 while문 out\n",
    "        else :\n",
    "            move = False\n",
    "print(cnt)"
   ]
  }
 ],
 "metadata": {
  "kernelspec": {
   "display_name": "Python 3 (ipykernel)",
   "language": "python",
   "name": "python3"
  },
  "language_info": {
   "codemirror_mode": {
    "name": "ipython",
    "version": 3
   },
   "file_extension": ".py",
   "mimetype": "text/x-python",
   "name": "python",
   "nbconvert_exporter": "python",
   "pygments_lexer": "ipython3",
   "version": "3.9.12"
  }
 },
 "nbformat": 4,
 "nbformat_minor": 5
}
