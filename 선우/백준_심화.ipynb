{
 "cells": [
  {
   "cell_type": "markdown",
   "id": "b134e585",
   "metadata": {},
   "source": [
    "#### 25083 새싹"
   ]
  },
  {
   "cell_type": "code",
   "execution_count": 1,
   "id": "4fde608b",
   "metadata": {},
   "outputs": [
    {
     "name": "stdout",
     "output_type": "stream",
     "text": [
      "         ,r'\"7\n",
      "r`-_   ,'  ,/\n",
      " \\. \". L_r'\n",
      "   `~\\/\n",
      "      |\n",
      "      |\n"
     ]
    }
   ],
   "source": [
    "print('         ,r\\'\\\"7')\n",
    "print('r`-_   ,\\'  ,/')\n",
    "print(' \\\\. \\\". L_r\\'')\n",
    "print('   `~\\\\/')\n",
    "print('      |')\n",
    "print('      |')"
   ]
  },
  {
   "cell_type": "markdown",
   "id": "33a2df32",
   "metadata": {},
   "source": [
    "#### 3003. 킹, 퀸, 룩 , 비숍, 나이트, 폰"
   ]
  },
  {
   "cell_type": "code",
   "execution_count": 6,
   "id": "23534997",
   "metadata": {},
   "outputs": [
    {
     "name": "stdout",
     "output_type": "stream",
     "text": [
      "2 1 2 1 2 1\n",
      "-1 0 0 1 0 7\n"
     ]
    }
   ],
   "source": [
    "chess=list(map(int, input().split()))\n",
    "baseline=[1,1,2,2,2,8]\n",
    "output=[]\n",
    "for i in range(len(chess)):\n",
    "    element=baseline[i]-chess[i]\n",
    "    output.append(element)\n",
    "print(*output)"
   ]
  },
  {
   "cell_type": "markdown",
   "id": "126e47e3",
   "metadata": {},
   "source": [
    "#### 2444. 별 찍기-7"
   ]
  },
  {
   "cell_type": "code",
   "execution_count": 8,
   "id": "7ccd9c47",
   "metadata": {},
   "outputs": [
    {
     "name": "stdout",
     "output_type": "stream",
     "text": [
      "5\n",
      "    *\n",
      "   ***\n",
      "  *****\n",
      " *******\n",
      "*********\n",
      " *******\n",
      "  *****\n",
      "   ***\n",
      "    *\n"
     ]
    }
   ],
   "source": [
    "N=int(input())\n",
    "for i in range(1,N+1):\n",
    "  print(\" \"*(N-i)+\"*\"*((2*i)-1))\n",
    "for j in reversed(range(1,N)):\n",
    "  print(\" \"*(N-j)+\"*\"*((2*j)-1))\n",
    "  "
   ]
  },
  {
   "cell_type": "markdown",
   "id": "07929415",
   "metadata": {},
   "source": [
    "#### 10812. 바구니 순서 바꾸기"
   ]
  },
  {
   "cell_type": "code",
   "execution_count": 9,
   "id": "5a78582a",
   "metadata": {},
   "outputs": [
    {
     "name": "stdout",
     "output_type": "stream",
     "text": [
      "10 5\n",
      "1 6 4\n",
      "3 9 8\n",
      "2 10 5\n",
      "1 3 3\n",
      "2 6 2\n",
      "1 4 6 2 3 7 10 5 8 9\n"
     ]
    }
   ],
   "source": [
    "N,M=map(int, input().split())\n",
    "base_array=list(range(1,N+1))\n",
    "arr = [list(map(int, input().split())) for _ in range(M)]\n",
    "for s in range(M):\n",
    "  #switch할 index 뽑기\n",
    "  i,j,k = arr[s][0], arr[s][1], arr[s][2]\n",
    "  temp1=base_array[i-1:k-1]\n",
    "  temp2=base_array[k-1:j]\n",
    "  base_array[i-1:i+j-k] = temp2 #갯수 j-k+1개가 나와야해서 (i-1)+(j-k+2)로 계산\n",
    "  base_array[i+j-k : j] =temp1\n",
    "\n",
    "print(*base_array)\n",
    "  \n"
   ]
  },
  {
   "cell_type": "markdown",
   "id": "e702bfdc",
   "metadata": {},
   "source": [
    "#### 위에껀 넘 헷갈리게 짠거 같아서 다시 "
   ]
  },
  {
   "cell_type": "code",
   "execution_count": 10,
   "id": "da90c13e",
   "metadata": {},
   "outputs": [
    {
     "name": "stdout",
     "output_type": "stream",
     "text": [
      "10 5\n",
      "1 6 4\n",
      "3 9 8\n",
      "2 10 5\n",
      "1 3 3\n",
      "2 6 2\n",
      "1 4 6 2 3 7 10 5 8 9\n"
     ]
    }
   ],
   "source": [
    "N, M = map(int, input().split())\n",
    "basket = []\n",
    "for i in range(N):\n",
    "    basket.append(i+1)  # N = [1, 2, 3, ... N]\n",
    "for _ in range(M):\n",
    "    i, j, k = map(int, input().split())\n",
    "    basket[i-1:j] = basket[k-1:j] + basket[i-1:k-1] #이렇게 하면 쉬운데...힝\n",
    "\n",
    "print(*basket)"
   ]
  },
  {
   "cell_type": "markdown",
   "id": "f5fba0b7",
   "metadata": {},
   "source": [
    "#### 10988. 팰린드롬인지 확인하기"
   ]
  },
  {
   "cell_type": "code",
   "execution_count": 11,
   "id": "eb134f77",
   "metadata": {},
   "outputs": [
    {
     "name": "stdout",
     "output_type": "stream",
     "text": [
      "level\n",
      "1\n"
     ]
    }
   ],
   "source": [
    "str=input()\n",
    "mid=(len(str)//2)\n",
    "#홀수 짝수냐에 따라 팰린 드롬 구분 달라짐\n",
    "if (len(str)%2==0 and str[:mid] == str[mid:][::-1]): # 짝수\n",
    "  output=1\n",
    "elif(len(str)%2==1 and str[:mid] == str[mid+1:][::-1] ):  #홀수\n",
    "  output=1\n",
    "else: output=0\n",
    "\n",
    "print(output)"
   ]
  },
  {
   "cell_type": "code",
   "execution_count": 12,
   "id": "f07b966a",
   "metadata": {},
   "outputs": [
    {
     "name": "stdout",
     "output_type": "stream",
     "text": [
      "noon\n",
      "1\n"
     ]
    }
   ],
   "source": [
    "W = input()\n",
    "if W == W[::-1]:\n",
    "    print(1)\n",
    "else:\n",
    "    print(0)"
   ]
  },
  {
   "cell_type": "code",
   "execution_count": 1,
   "id": "09e66279",
   "metadata": {},
   "outputs": [
    {
     "name": "stdout",
     "output_type": "stream",
     "text": [
      "5\n",
      "5 50 50 70 80 100\n",
      "7 100 95 90 80 70 60 50\n",
      "3 70 90 80\n",
      "3 70 90 81\n",
      "9 100 99 98 97 96 95 94 93 91\n",
      "40.000%\n",
      "57.143%\n",
      "33.333%\n",
      "66.667%\n",
      "55.556%\n"
     ]
    }
   ],
   "source": [
    "C=int(input())\n",
    "arr=[list(map(int, input().split())) for _ in range(C)]\n",
    "for i in range(C):\n",
    "  avg=sum(arr[i][1:])/arr[i][0]\n",
    "  n=len([\"1\" for j in arr[i][1:] if j>avg])\n",
    "  print(str(\"{0:.3f}\".format(n/arr[i][0] *100)+\"%\"))\n",
    "  "
   ]
  },
  {
   "cell_type": "markdown",
   "id": "0367fe29",
   "metadata": {},
   "source": [
    "#### 2941. 크로아티아 알파벳 - replace 함수 이용 나중에 한번더 풀기"
   ]
  },
  {
   "cell_type": "code",
   "execution_count": 1,
   "id": "a2e989f5",
   "metadata": {},
   "outputs": [
    {
     "name": "stdout",
     "output_type": "stream",
     "text": [
      "ljes=njak\n",
      "6\n"
     ]
    }
   ],
   "source": [
    "alphabet=['c=','c-','dz=','d-','lj','nj','s=','z=']\n",
    "word=input()\n",
    "cnt=0\n",
    "\n",
    "for i in alphabet:\n",
    "  word=word.replace(i,'*')\n",
    "print(len(word))\n",
    "    \n",
    "      "
   ]
  },
  {
   "cell_type": "markdown",
   "id": "66a87c8d",
   "metadata": {},
   "source": [
    "#### 1157. 단어공부"
   ]
  },
  {
   "cell_type": "code",
   "execution_count": 6,
   "id": "49bac3d6",
   "metadata": {},
   "outputs": [
    {
     "name": "stdout",
     "output_type": "stream",
     "text": [
      "zZa\n",
      "Z\n"
     ]
    }
   ],
   "source": [
    "#import sys\n",
    "from collections import Counter\n",
    "\n",
    "word=input().upper()\n",
    "word_count=Counter(word).most_common(2)\n",
    "if(len(word)==1):\n",
    "  print(word)\n",
    "  \n",
    "elif(word_count[0][1] == word_count[1][1]):\n",
    "  print('?')\n",
    "else: print(word_count[0][0])\n",
    "\n",
    "\n",
    "  \n",
    "\n"
   ]
  },
  {
   "cell_type": "code",
   "execution_count": 7,
   "id": "98529134",
   "metadata": {},
   "outputs": [
    {
     "name": "stdout",
     "output_type": "stream",
     "text": [
      "Mississipi\n",
      "?\n"
     ]
    }
   ],
   "source": [
    "str=input().lower()\n",
    "alpha=list(set(str))\n",
    "count_list=[]\n",
    "for i, element in enumerate(alpha):\n",
    "  count_list.append(str.count(element))\n",
    "  \n",
    "if (count_list.count(max(count_list))>=2):\n",
    "  print('?')\n",
    "else: \n",
    "  print(alpha[count_list.index(max(count_list))].upper())"
   ]
  },
  {
   "cell_type": "markdown",
   "id": "c9acf84f",
   "metadata": {},
   "source": [
    "#### 1316. 그룹 단어 체커"
   ]
  },
  {
   "cell_type": "code",
   "execution_count": 1,
   "id": "e99713a8",
   "metadata": {},
   "outputs": [
    {
     "name": "stdout",
     "output_type": "stream",
     "text": [
      "4\n",
      "aba\n",
      "abab\n",
      "abcabc\n",
      "a\n",
      "1\n"
     ]
    }
   ],
   "source": [
    "N=int(input())\n",
    "cnt=N\n",
    "for i in range(N):\n",
    "  word=input()\n",
    "  for j in range(len(word)-1):\n",
    "    if word[j] == word[j+1]:\n",
    "      pass\n",
    "    elif word[j] in word[j+1:]:\n",
    "      cnt-=1\n",
    "      break\n",
    "print(cnt)\n",
    "      "
   ]
  },
  {
   "cell_type": "markdown",
   "id": "4c2b21f2",
   "metadata": {},
   "source": [
    "#### 25209. 너의 평점은"
   ]
  },
  {
   "cell_type": "code",
   "execution_count": null,
   "id": "6da7dce5",
   "metadata": {},
   "outputs": [],
   "source": [
    "\n",
    "dict={'A+' : 4.5 ,'A0': 4.0, 'B+':3.5,'B0':3.0,'C+':2.5,'C0':2.0,'D+':1.5,'D0':1.0,'F':0.0}\n",
    "n=0 #학점 수\n",
    "total_score=0 #전공 평점\n",
    "\n",
    "for i in range(20):\n",
    "  a,b,c=input().split()\n",
    "  if (c=='P'):\n",
    "    pass\n",
    "  else:\n",
    "    total_score+=float(b) * dict[c]\n",
    "    n+=float(b)\n",
    "  \n",
    "print(total_score/n)\n",
    "    "
   ]
  },
  {
   "cell_type": "code",
   "execution_count": null,
   "id": "ea1d8087",
   "metadata": {},
   "outputs": [],
   "source": []
  }
 ],
 "metadata": {
  "kernelspec": {
   "display_name": "Python 3 (ipykernel)",
   "language": "python",
   "name": "python3"
  },
  "language_info": {
   "codemirror_mode": {
    "name": "ipython",
    "version": 3
   },
   "file_extension": ".py",
   "mimetype": "text/x-python",
   "name": "python",
   "nbconvert_exporter": "python",
   "pygments_lexer": "ipython3",
   "version": "3.9.12"
  }
 },
 "nbformat": 4,
 "nbformat_minor": 5
}
