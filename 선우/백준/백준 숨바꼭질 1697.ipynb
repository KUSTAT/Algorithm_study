{
 "cells": [
  {
   "cell_type": "markdown",
   "id": "c059e301",
   "metadata": {},
   "source": [
    "### 백준 1697"
   ]
  },
  {
   "cell_type": "code",
   "execution_count": 1,
   "id": "5ba29849",
   "metadata": {},
   "outputs": [
    {
     "name": "stdout",
     "output_type": "stream",
     "text": [
      "5 17\n",
      "4\n"
     ]
    }
   ],
   "source": [
    "from collections import deque\n",
    "N,K = map(int, input().rstrip().split())\n",
    "visited = [False]* 1000001\n",
    "\n",
    "def bfs(N):\n",
    "    queue = deque()\n",
    "    queue.append(N)\n",
    "    visited[N] = 0\n",
    " \n",
    "    \n",
    "    while queue:\n",
    "        temp = queue.popleft()\n",
    "        option = [temp-1,temp+1,temp*2]\n",
    "        if temp == K : return visited[K] \n",
    "        \n",
    "        for var in option:\n",
    "            if 0<=var<=100000 and visited[var]==False: #앞의 조건 안 걸어줘서! index error!\n",
    "                queue.append(var)\n",
    "                visited[var] = visited[temp]+1\n",
    "        \n",
    "        \n",
    "print(bfs(N))"
   ]
  },
  {
   "cell_type": "code",
   "execution_count": null,
   "id": "27b9ad17",
   "metadata": {},
   "outputs": [],
   "source": []
  }
 ],
 "metadata": {
  "kernelspec": {
   "display_name": "Python 3 (ipykernel)",
   "language": "python",
   "name": "python3"
  },
  "language_info": {
   "codemirror_mode": {
    "name": "ipython",
    "version": 3
   },
   "file_extension": ".py",
   "mimetype": "text/x-python",
   "name": "python",
   "nbconvert_exporter": "python",
   "pygments_lexer": "ipython3",
   "version": "3.9.12"
  }
 },
 "nbformat": 4,
 "nbformat_minor": 5
}
