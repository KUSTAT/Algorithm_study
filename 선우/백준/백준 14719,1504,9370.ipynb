{
 "cells": [
  {
   "cell_type": "markdown",
   "id": "0054c846",
   "metadata": {},
   "source": [
    "### 백준 14719"
   ]
  },
  {
   "cell_type": "code",
   "execution_count": 15,
   "id": "1d996c8b",
   "metadata": {},
   "outputs": [
    {
     "name": "stdout",
     "output_type": "stream",
     "text": [
      "4 4\n",
      "3 0 1 4\n",
      "5\n"
     ]
    }
   ],
   "source": [
    "#왼쪽 오른쪽 탐색해서 더 낮은 블록까지 빗물이 고이도록 함\n",
    "H,W =map(int, input().split())\n",
    "graph = list(map(int, input().split()))\n",
    "water = 0\n",
    "for i in range(1, len(graph)-1):\n",
    "    left_max = max(graph[:i])\n",
    "    right_max = max(graph[i+1:])\n",
    "    \n",
    "    min_left_right = min(left_max,right_max )\n",
    "    if graph[i]<=min_left_right:\n",
    "        water += min_left_right - graph[i]\n",
    "        graph[i] = min_left_right\n",
    "print(water)    "
   ]
  },
  {
   "cell_type": "markdown",
   "id": "74205c8e",
   "metadata": {},
   "source": [
    "### 백준 1504"
   ]
  },
  {
   "cell_type": "code",
   "execution_count": 28,
   "id": "1ceff42e",
   "metadata": {},
   "outputs": [
    {
     "name": "stdout",
     "output_type": "stream",
     "text": [
      "4 6\n",
      "1 2 3\n",
      "2 3 3\n",
      "3 4 1\n",
      "1 3 5\n",
      "2 4 5\n",
      "1 4 4\n",
      "2 3\n",
      "7\n"
     ]
    }
   ],
   "source": [
    "### 다익스트라\n",
    "import heapq\n",
    "import sys\n",
    "#input = sys.stdin,readline\n",
    "#아니면 \n",
    "#input().rsrip().split()\n",
    "\n",
    "INF = int(1e9)\n",
    "\n",
    "N , E =map(int, input().rstrip().split())\n",
    "#start = 1\n",
    "graph = [[] for i in range(N+1)]\n",
    "\n",
    "\n",
    "for _ in range(E):\n",
    "    a,b,c = map(int, input().split())\n",
    "    graph[a].append((b,c))\n",
    "    graph[b].append((a,c))\n",
    "\n",
    "v1, v2 = map(int, input().split())\n",
    "def dijkstra(start):\n",
    "    distance = [INF] * (N+1)\n",
    "    q=[]\n",
    "    heapq.heappush(q,(0,start))\n",
    "    distance[start]=0\n",
    "    while q:\n",
    "        dist, now = heapq.heappop(q)\n",
    "        if distance[now]<dist:\n",
    "            continue\n",
    "        for i in graph[now]:\n",
    "            cost = dist+i[1]\n",
    "            if cost<distance[i[0]]:\n",
    "                distance[i[0]] = cost\n",
    "                heapq.heappush(q,(cost, i[0]))\n",
    "                \n",
    "    return distance\n",
    "\n",
    "\n",
    "one_di = dijkstra(1)\n",
    "v1_di = dijkstra(v1)\n",
    "v2_di = dijkstra(v2)\n",
    "length = min(one_di[v1] + v1_di[v2] + v2_di[N], one_di[v2] + v2_di[v1] + v1_di[N])\n",
    "\n",
    "if length<INF: print(length)\n",
    "else: print(-1)"
   ]
  },
  {
   "cell_type": "markdown",
   "id": "b07968c7",
   "metadata": {},
   "source": [
    "### 백준 9370"
   ]
  },
  {
   "cell_type": "code",
   "execution_count": 3,
   "id": "86c4309d",
   "metadata": {},
   "outputs": [],
   "source": [
    "import heapq\n",
    "INF = int(1e9)\n",
    "def dijkstra(start):\n",
    "    global n\n",
    "    distance = [INF]*(n+1)\n",
    "    q=[]\n",
    "    heapq.heappush(q,(0,start))\n",
    "    distance[start]=0\n",
    "    while q:\n",
    "        dist, now = heapq.heappop(q)\n",
    "        if distance[now]<dist:\n",
    "            continue\n",
    "        for i in graph[now]:\n",
    "            cost = dist+i[1]\n",
    "            if cost<distance[i[0]]:\n",
    "                distance[i[0]] =cost\n",
    "                heapq.heappush(q,(cost, i[0]))\n",
    "    \n",
    "    return distance\n",
    "            \n",
    "    "
   ]
  },
  {
   "cell_type": "code",
   "execution_count": 20,
   "id": "11a408d1",
   "metadata": {
    "scrolled": true
   },
   "outputs": [
    {
     "name": "stdout",
     "output_type": "stream",
     "text": [
      "2\n",
      "5 4 2\n",
      "1 2 3\n",
      "1 2 6\n",
      "2 3 2\n",
      "3 4 4\n",
      "3 5 3\n",
      "5\n",
      "4\n",
      "6 9 2\n",
      "2 3 1\n",
      "1 2 1\n",
      "1 3 3\n",
      "2 4 4\n",
      "2 5 5\n",
      "3 4 3\n",
      "3 6 2\n",
      "4 5 4\n",
      "4 6 3\n",
      "5 6 7\n",
      "5\n",
      "6\n",
      "4 5\n",
      "6\n"
     ]
    }
   ],
   "source": [
    "import heapq\n",
    "T = int(input())\n",
    "result =[[] for _ in range(T)]\n",
    "\n",
    "for k in range(T):\n",
    "    n,m,t = map(int, input().rstrip().split())\n",
    "    s,g,h = map(int, input().rstrip().split()) # s:출발지, g,h 사이 지나야하는 엣지\n",
    "    graph = [[] for i in range(n+1)]\n",
    "    for _ in range(m):\n",
    "        a,b,c = map(int, input().rstrip().split())\n",
    "        graph[a].append((b,c))\n",
    "        graph[b].append((a,c))\n",
    "    T_list = []\n",
    "    for _ in range(t): T_list.append(int(input()))\n",
    "    \n",
    "    middle_g = INF\n",
    "    middle_h = INF\n",
    "    first = dijkstra(s)\n",
    "    \n",
    "    #middle edge 계산\n",
    "    for i in graph[g]:\n",
    "        if i[0]==h: middle_g = i[1]\n",
    "    for j in graph[h]:\n",
    "        if j[0]==g: middle_h = j[1]\n",
    "    \n",
    "    last_g = dijkstra(g)\n",
    "    last_h = dijkstra(h)\n",
    "    \n",
    "    \n",
    "    for var in T_list: \n",
    "        if min(first[g]+middle_g + last_h[var] ,first[h]+middle_h+last_g[var]) == first[var]:\n",
    "            result[k].append(var)\n",
    "    result[k].sort()\n",
    "\n",
    "    \n",
    "for i in range(T):\n",
    "    print(*result[i])\n",
    "\n",
    "   \n",
    "    \n",
    "    "
   ]
  },
  {
   "cell_type": "code",
   "execution_count": null,
   "id": "fbf4668e",
   "metadata": {},
   "outputs": [],
   "source": []
  }
 ],
 "metadata": {
  "kernelspec": {
   "display_name": "Python 3 (ipykernel)",
   "language": "python",
   "name": "python3"
  },
  "language_info": {
   "codemirror_mode": {
    "name": "ipython",
    "version": 3
   },
   "file_extension": ".py",
   "mimetype": "text/x-python",
   "name": "python",
   "nbconvert_exporter": "python",
   "pygments_lexer": "ipython3",
   "version": "3.9.12"
  }
 },
 "nbformat": 4,
 "nbformat_minor": 5
}
