{
 "cells": [
  {
   "cell_type": "code",
   "execution_count": 15,
   "id": "1d996c8b",
   "metadata": {},
   "outputs": [
    {
     "name": "stdout",
     "output_type": "stream",
     "text": [
      "4 4\n",
      "3 0 1 4\n",
      "5\n"
     ]
    }
   ],
   "source": [
    "#왼쪽 오른쪽 탐색해서 더 낮은 블록까지 빗물이 고이도록 함\n",
    "H,W =map(int, input().split())\n",
    "graph = list(map(int, input().split()))\n",
    "water = 0\n",
    "for i in range(1, len(graph)-1):\n",
    "    left_max = max(graph[:i])\n",
    "    right_max = max(graph[i+1:])\n",
    "    \n",
    "    min_left_right = min(left_max,right_max )\n",
    "    if graph[i]<=min_left_right:\n",
    "        water += min_left_right - graph[i]\n",
    "        graph[i] = min_left_right\n",
    "print(water)    "
   ]
  },
  {
   "cell_type": "code",
   "execution_count": null,
   "id": "213002d7",
   "metadata": {},
   "outputs": [],
   "source": []
  }
 ],
 "metadata": {
  "kernelspec": {
   "display_name": "Python 3 (ipykernel)",
   "language": "python",
   "name": "python3"
  },
  "language_info": {
   "codemirror_mode": {
    "name": "ipython",
    "version": 3
   },
   "file_extension": ".py",
   "mimetype": "text/x-python",
   "name": "python",
   "nbconvert_exporter": "python",
   "pygments_lexer": "ipython3",
   "version": "3.9.12"
  }
 },
 "nbformat": 4,
 "nbformat_minor": 5
}
