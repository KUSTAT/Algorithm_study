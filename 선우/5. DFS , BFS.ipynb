{
 "cells": [
  {
   "cell_type": "markdown",
   "id": "0bb73ee5",
   "metadata": {},
   "source": [
    "#### 재귀함수\n",
    "- 함수가 계속 호출했을 때, 가장 마지막에 호출한 함수가 먼저 수행을 끝내야 그 앞의 함수 호출 종료"
   ]
  },
  {
   "cell_type": "code",
   "execution_count": 1,
   "id": "5e121b13",
   "metadata": {},
   "outputs": [],
   "source": [
    "def recursive_function(i):\n",
    "    if i==3:\n",
    "        return\n",
    "    print(i)\n",
    "    recursive_function(i+1)\n",
    "    print(i+1)"
   ]
  },
  {
   "cell_type": "code",
   "execution_count": 2,
   "id": "d42deeb3",
   "metadata": {},
   "outputs": [
    {
     "name": "stdout",
     "output_type": "stream",
     "text": [
      "1\n",
      "2\n",
      "3\n",
      "2\n"
     ]
    }
   ],
   "source": [
    "recursive_function(1)"
   ]
  },
  {
   "cell_type": "markdown",
   "id": "4ce2c884",
   "metadata": {},
   "source": [
    "#### 팩토리얼 예제"
   ]
  },
  {
   "cell_type": "code",
   "execution_count": 7,
   "id": "cd92516c",
   "metadata": {},
   "outputs": [],
   "source": [
    "def factorial_iterative(n):\n",
    "    result=1\n",
    "    # 1부터 n 까지의 수를 차례 대로 곱하기\n",
    "    for i in range(1, n+1):\n",
    "        result*=i\n",
    "    return result"
   ]
  },
  {
   "cell_type": "code",
   "execution_count": 8,
   "id": "76138ca2",
   "metadata": {},
   "outputs": [],
   "source": [
    "# 재귀적으로 구현한 n!\n",
    "def factorial_recursive(n):\n",
    "    if n<=1:\n",
    "        return 1\n",
    "    return n*factorial_recursive(n-1)"
   ]
  },
  {
   "cell_type": "code",
   "execution_count": 9,
   "id": "76c143d1",
   "metadata": {},
   "outputs": [
    {
     "name": "stdout",
     "output_type": "stream",
     "text": [
      "반복적으로 구현:  120\n",
      "재귀적으로 구현:  120\n"
     ]
    }
   ],
   "source": [
    "print('반복적으로 구현: ',factorial_iterative(5))\n",
    "print('재귀적으로 구현: ',factorial_recursive(5))"
   ]
  },
  {
   "cell_type": "markdown",
   "id": "7205df20",
   "metadata": {},
   "source": [
    "#### 인접 행렬 방식 예제"
   ]
  },
  {
   "cell_type": "code",
   "execution_count": 13,
   "id": "9d470d79",
   "metadata": {},
   "outputs": [
    {
     "name": "stdout",
     "output_type": "stream",
     "text": [
      "[[0, 7, 5], [7, 0, 999999999], [5, 999999999, 0]]\n"
     ]
    }
   ],
   "source": [
    "INF = 999999999\n",
    "\n",
    "#2차원 리스트를 이용해 인접 행렬 표현\n",
    "\n",
    "graph = [\n",
    "    [0,7,5],\n",
    "    [7,0,INF],\n",
    "    [5,INF,0]\n",
    "]\n",
    "print(graph)"
   ]
  },
  {
   "cell_type": "code",
   "execution_count": 14,
   "id": "c793c6ff",
   "metadata": {},
   "outputs": [
    {
     "name": "stdout",
     "output_type": "stream",
     "text": [
      "[[(1, 7), (2, 5)], [(0, 7)], [(0, 5)]]\n"
     ]
    }
   ],
   "source": [
    "#### 인접 리스트 방식 예제\n",
    "graph = [[] for _ in range(3)]\n",
    "\n",
    "# 노드 0 에 연결된 노드 정보 저장\n",
    "graph[0].append((1,7))\n",
    "graph[0].append((2,5))\n",
    "\n",
    "graph[1].append((0,7))\n",
    "\n",
    "graph[2].append((0,5))\n",
    "\n",
    "print(graph)"
   ]
  },
  {
   "cell_type": "markdown",
   "id": "99c207a6",
   "metadata": {},
   "source": [
    "#### DFS 예제\n",
    "#### DFS는 스택을 이용하는 알고리즘이기 때문에 실제 구현은 재귀함수를 이용했을때 매우 간결하게 구현 가능"
   ]
  },
  {
   "cell_type": "code",
   "execution_count": 1,
   "id": "de76a7c5",
   "metadata": {},
   "outputs": [],
   "source": [
    "def dfs(graph, v, visited):\n",
    "    #현재 노드를 방문 처리\n",
    "    visited[v]=True\n",
    "    print(v, end=' ')\n",
    "    # 현재 노드와 연결된 다른 노드를 재귀적으로 방문\n",
    "    for i in graph[v]:\n",
    "        if not visited[i]:\n",
    "            dfs(graph, i, visited)"
   ]
  },
  {
   "cell_type": "code",
   "execution_count": 2,
   "id": "71d8660e",
   "metadata": {},
   "outputs": [],
   "source": [
    "# 각 노드가 연결된 정보를 리스트 자료형으로 표현(2차원 리스트)\n",
    "graph =[\n",
    "    [],\n",
    "    [2,3,8],\n",
    "    [1,7],\n",
    "    [1,4,5],\n",
    "    [3,5],\n",
    "    [3,4],\n",
    "    [7],\n",
    "    [2,6,8],\n",
    "    [1,7]\n",
    "]"
   ]
  },
  {
   "cell_type": "code",
   "execution_count": 3,
   "id": "d4c007e1",
   "metadata": {},
   "outputs": [],
   "source": [
    "#각 노드가 방문된 정보를 리스트 자료형으로 표현(1차원 리스트)\n",
    "visited=[False] * 9"
   ]
  },
  {
   "cell_type": "code",
   "execution_count": 4,
   "id": "ba81d1e3",
   "metadata": {},
   "outputs": [
    {
     "name": "stdout",
     "output_type": "stream",
     "text": [
      "1 2 7 6 8 3 4 5 "
     ]
    }
   ],
   "source": [
    "dfs(graph,1,visited)"
   ]
  },
  {
   "cell_type": "markdown",
   "id": "b75d9d20",
   "metadata": {},
   "source": [
    "#### BFS"
   ]
  },
  {
   "cell_type": "markdown",
   "id": "9f858f39",
   "metadata": {},
   "source": [
    "#### BFS 예제"
   ]
  },
  {
   "cell_type": "code",
   "execution_count": 1,
   "id": "765d7b0c",
   "metadata": {},
   "outputs": [],
   "source": [
    "from collections import deque\n",
    "\n",
    "#BFS 메서드 정의\n",
    "def bfs(graph, start, visited):\n",
    "    #큐(queue) 구현을 위해 deque 라이브러리 사용\n",
    "    queue=deque([start])\n",
    "    #현재 노드를 방문 처리\n",
    "    visited[start]=True\n",
    "    #큐가 빌 때까지 반복\n",
    "    while queue:\n",
    "        #큐에서 하나의 원소를 뽑아 출력\n",
    "        v=queue.popleft()\n",
    "        print(v, end=' ')\n",
    "        #해당 원소와 연결된, 아직 방문하지 않은 원소들을 큐에 삽입\n",
    "        for i in graph[v]:\n",
    "            if not visited[i]:\n",
    "                queue.append(i)\n",
    "                visited[i]=True"
   ]
  },
  {
   "cell_type": "code",
   "execution_count": 4,
   "id": "414679e8",
   "metadata": {},
   "outputs": [
    {
     "name": "stdout",
     "output_type": "stream",
     "text": [
      "1 2 3 8 7 4 5 6 "
     ]
    }
   ],
   "source": [
    "bfs(graph,1,visited)"
   ]
  },
  {
   "cell_type": "markdown",
   "id": "e7b6c538",
   "metadata": {},
   "source": [
    "### 실전 문제 3: 음료수 얼려 먹기\n",
    "- N:세로 길이, M: 가로 길이\n",
    "- 한번에 만들 수 있는 아이스크림 개수 구하기"
   ]
  },
  {
   "cell_type": "markdown",
   "id": "29220b85",
   "metadata": {},
   "source": [
    "### dfs 이용"
   ]
  },
  {
   "cell_type": "code",
   "execution_count": 10,
   "id": "1d3a5619",
   "metadata": {},
   "outputs": [
    {
     "name": "stdout",
     "output_type": "stream",
     "text": [
      "15 14\n",
      "00000111100000\n",
      "11111101111110\n",
      "11011101101110\n",
      "11011101100000\n",
      "11011111111111\n",
      "11011111111100\n",
      "11000000011111\n",
      "01111111111111\n",
      "00000000011111\n",
      "01111111111000\n",
      "00011111111000\n",
      "00000001111000\n",
      "11111111110011\n",
      "11100011111111\n",
      "11100011111111\n",
      "8\n"
     ]
    }
   ],
   "source": [
    "n,m=map(int, input().split())\n",
    "graph=[list(map(int, input())) for _  in range(n)]\n",
    "def dfs(x,y):\n",
    "    #graph 안에 있는 것만 가능\n",
    "  if (x>=0 and x<n and y>=0 and y<m):\n",
    "        if graph[x][y]==0:\n",
    "            graph[x][y]=1\n",
    "            #상하 좌우로 노드 방문\n",
    "            dfs(x-1,y)\n",
    "            dfs(x,y-1)\n",
    "            dfs(x+1,y)\n",
    "            dfs(x,y+1)\n",
    "            return True\n",
    "  return False\n",
    "cnt=0\n",
    "for i in range(n):\n",
    "    for j in range(m):\n",
    "        if dfs(i,j)==True:\n",
    "            cnt+=1\n",
    "print(cnt)\n",
    "\n",
    "        "
   ]
  },
  {
   "cell_type": "markdown",
   "id": "982386c6",
   "metadata": {},
   "source": [
    "### bfs 이용"
   ]
  },
  {
   "cell_type": "code",
   "execution_count": 5,
   "id": "abf4558a",
   "metadata": {},
   "outputs": [
    {
     "name": "stdout",
     "output_type": "stream",
     "text": [
      "4 5\n",
      "00110\n",
      "00011\n",
      "11111\n",
      "00000\n",
      "3\n"
     ]
    }
   ],
   "source": [
    "from collections import deque\n",
    "\n",
    "n,m = map(int, input().split())\n",
    "graph=[list(map(int, input())) for _  in range(n)]\n",
    "\n",
    "#상하좌우\n",
    "dx=[-1,1,0,0]\n",
    "dy=[0,0,-1,1]\n",
    "\n",
    "def bfs(x,y):\n",
    "    queue = deque()\n",
    "    queue.append((x,y))\n",
    "    \n",
    "    if graph[x][y]==1:\n",
    "        return False\n",
    "    \n",
    "    #현재 위치를 기준으로 bfs 탐색\n",
    "    while queue:\n",
    "        x,y = queue.popleft()\n",
    "        \n",
    "        #현재 위치 값 0에서 1로 변경\n",
    "        graph[x][y]=1\n",
    "        #상하좌우 탐색\n",
    "        for i in range(4):\n",
    "            nx=x+dx[i]\n",
    "            ny=y+dy[i]\n",
    "            if (nx>=0 and nx<n and ny>=0 and ny<m):\n",
    "                if graph[nx][ny]==0:\n",
    "                    queue.append((nx,ny))\n",
    "    \n",
    "    return True\n",
    "\n",
    "cnt=0\n",
    "for i in range(n):\n",
    "    for j in range(m):\n",
    "        if bfs(i,j)==True:\n",
    "            cnt+=1\n",
    "print(cnt)\n",
    "\n",
    "            \n",
    "        \n",
    "        \n"
   ]
  },
  {
   "cell_type": "markdown",
   "id": "b9860e0a",
   "metadata": {},
   "source": [
    "### 실전문제 4. 미로 탈출(bfs이용)"
   ]
  },
  {
   "cell_type": "code",
   "execution_count": 11,
   "id": "4802c68e",
   "metadata": {},
   "outputs": [
    {
     "name": "stdout",
     "output_type": "stream",
     "text": [
      "5 6\n",
      "101010\n",
      "111111\n",
      "000001\n",
      "111111\n",
      "111111\n",
      "10\n"
     ]
    },
    {
     "data": {
      "text/plain": [
       "10"
      ]
     },
     "execution_count": 11,
     "metadata": {},
     "output_type": "execute_result"
    }
   ],
   "source": [
    "from collections import deque\n",
    "n,m=map(int, input().split())\n",
    "graph=[list(map(int, input())) for _  in range(n)]\n",
    "\n",
    "#상하좌우\n",
    "dx=[-1,1,0,0]\n",
    "dy=[0,0,-1,1]\n",
    "def bfs(x,y):\n",
    "  queue=deque()\n",
    "  queue.append((x,y))\n",
    "  while queue:\n",
    "    x,y=queue.popleft()\n",
    "    \n",
    "    for i in range(4):\n",
    "      nx=x+dx[i]\n",
    "      ny=y+dy[i]\n",
    "      if (nx>=0 and nx<n and ny>=0 and ny<m):\n",
    "        if graph[nx][ny]==1:\n",
    "          graph[nx][ny]=graph[x][y]+1\n",
    "          queue.append((nx,ny))\n",
    "        else: continue\n",
    "  return graph[n-1][m-1]\n",
    "print(bfs(0,0))\n",
    "      \n",
    "  \n",
    "\n",
    "\n",
    "\n",
    "bfs(0,0)"
   ]
  },
  {
   "cell_type": "code",
   "execution_count": null,
   "id": "c05d6b9b",
   "metadata": {},
   "outputs": [],
   "source": []
  }
 ],
 "metadata": {
  "kernelspec": {
   "display_name": "Python 3 (ipykernel)",
   "language": "python",
   "name": "python3"
  },
  "language_info": {
   "codemirror_mode": {
    "name": "ipython",
    "version": 3
   },
   "file_extension": ".py",
   "mimetype": "text/x-python",
   "name": "python",
   "nbconvert_exporter": "python",
   "pygments_lexer": "ipython3",
   "version": "3.9.12"
  }
 },
 "nbformat": 4,
 "nbformat_minor": 5
}
