{
 "cells": [
  {
   "cell_type": "markdown",
   "id": "ec9ef69d",
   "metadata": {},
   "source": [
    "### 피보나치 함수 소스 코드\n",
    "- 재귀함수 이용 : 시간적 cost가 너무 큼\n",
    "- 다이나믹 프로그래밍을 사용하면 효율적"
   ]
  },
  {
   "cell_type": "code",
   "execution_count": 1,
   "id": "e738b2b2",
   "metadata": {},
   "outputs": [
    {
     "name": "stdout",
     "output_type": "stream",
     "text": [
      "3\n"
     ]
    }
   ],
   "source": [
    "#피보나치 함수(Fibonacci Function)를 재귀함수로 표현\n",
    "\n",
    "def fibo(x):\n",
    "    if x==1 or x==2 :\n",
    "         return 1\n",
    "    return fibo(x-1)+fibo(x-2)\n",
    "\n",
    "print(fibo(4))"
   ]
  },
  {
   "cell_type": "markdown",
   "id": "8fcf50b4",
   "metadata": {},
   "source": [
    "#### 다이나믹 프로그래밍 조건\n",
    "- 1. 큰 문제를 작은 문제로 나눌 수 있다.\n",
    "- 2. 작은 문제에서 구한 정답은 그것을 포함하는 큰 문제에서도 동일하다"
   ]
  },
  {
   "cell_type": "markdown",
   "id": "7df59d8d",
   "metadata": {},
   "source": [
    "#### 메모이제이션 기법(캐싱)\n",
    "- 다이나믹 프로그래밍을 구현하는 방법 중 한 종류\n",
    "- 한번 구한 결과를 메모리 공간에 메모해두고 같은 식을 다시 호출하면 메모리 결과를 그대로 가져오는 기법을 의미\n",
    "- 파이썬에서는 한 번 구한 정보를 리스트에 저장해두고, 재귀적으로 수행하다가 같은 정보가 필요할 때는 이미 구한 정보를 그대로 리스트에서 가져옴\n",
    "- 리스트 말고도 dictionary 이용 가능(일부의 작은 문제의 해답만 필요한 경우)\n",
    "- 일시적으로 기록해 놓는 넓은 개념을 의미함"
   ]
  },
  {
   "cell_type": "code",
   "execution_count": 3,
   "id": "6aacd60c",
   "metadata": {},
   "outputs": [
    {
     "name": "stdout",
     "output_type": "stream",
     "text": [
      "218922995834555169026\n"
     ]
    }
   ],
   "source": [
    "#한 번 계산 결과를 메모이제이션(Memoization)하기 위한 리스트 초기화\n",
    "d=[0]*100\n",
    "\n",
    "#피보나치 함수를 재귀함수로 구현(탑다운 다이나믹 프로그래밍)\n",
    "def fibo(x):\n",
    "    #종료 조건(1 혹은 2일때 1을 반환)\n",
    "    if x==1 or x==2:\n",
    "        return 1\n",
    "    #이미 계산한 적 있는 문제라면 그대로 반환\n",
    "    if d[x]!=0:\n",
    "        return d[x]\n",
    "    #아직 계산하지 않은 문제라면 점화식에 따라서 피보나치 결과 반환\n",
    "    d[x] = fibo(x-1)+fibo(x-2)\n",
    "    return d[x]\n",
    "\n",
    "print(fibo(99))"
   ]
  },
  {
   "cell_type": "markdown",
   "id": "7869e9d8",
   "metadata": {},
   "source": [
    "### 다이나믹 프로그래밍 정리\n",
    "- 큰 문제를 작게 나누고, 같은 문제라면 한번씩만 풀어 문제를 효율적으로 해결하는 알고리즘 기법\n",
    "- 한번 해결했던 문제를 다시금 해결한다는 점이 특징, 그렇기 때문에 이미 해결된 부분 문제에 대한 답을 저장해놓고, 이 문제는 이미 해결된거니 다시 해결할 필요가 없다고 반환시킴\n",
    "- 재귀함수보다 반복문으로 해결하는 것이 더 성능이 좋음\n",
    "- 시간 복잡도 O(n)\n",
    "- 재귀 함수를 이용하여 다이나믹 프로그래밍 소스코드를 작성하는 방법을 큰 문제를 해결하기 위해 작은 문제를 호출한다고 해서 **탑다운 방식**\n",
    "- 단순히 반복문을 이용하여 소스코드를 작성하는 경우 작은 문제부터 차근차근 답을 도출한다고 하여 **보텀업 방식**"
   ]
  },
  {
   "cell_type": "code",
   "execution_count": 6,
   "id": "869d70fa",
   "metadata": {},
   "outputs": [
    {
     "name": "stdout",
     "output_type": "stream",
     "text": [
      "f(6) f(5) f(4) f(3) f(2) f(1) f(2) f(3) f(4) "
     ]
    },
    {
     "data": {
      "text/plain": [
       "8"
      ]
     },
     "execution_count": 6,
     "metadata": {},
     "output_type": "execute_result"
    }
   ],
   "source": [
    "#호출되는 함수 확인\n",
    "d=[0]*100\n",
    "\n",
    "def pibo(x):\n",
    "    print('f(' + str(x) + ')', end=' ')\n",
    "    if x==1 or x==2:\n",
    "        return 1\n",
    "    if d[x]!=0:\n",
    "        return d[x]\n",
    "    d[x] = pibo(x-1)+pibo(x-2)\n",
    "    return d[x]\n",
    "pibo(6)"
   ]
  },
  {
   "cell_type": "markdown",
   "id": "2aed2f94",
   "metadata": {},
   "source": [
    "#### 반복문 이용 : 보텀업 방식"
   ]
  },
  {
   "cell_type": "code",
   "execution_count": 8,
   "id": "148a4730",
   "metadata": {},
   "outputs": [
    {
     "name": "stdout",
     "output_type": "stream",
     "text": [
      "218922995834555169026\n"
     ]
    }
   ],
   "source": [
    "#앞서 계산된 결과를 저장하기 위한 DP 테이블 초기화\n",
    "d=[0]*100\n",
    "\n",
    "#첫 번째 피보나치 수와 두 번째 피보나치 수는 1\n",
    "d[1]=1\n",
    "d[2]=1\n",
    "n=99\n",
    "\n",
    "#피보나치 함수 반복문으로 구현\n",
    "for i in range(3,n+1):\n",
    "    d[i]=d[i-1]+d[i-2]\n",
    "\n",
    "print(d[n])"
   ]
  },
  {
   "cell_type": "markdown",
   "id": "42f1c744",
   "metadata": {},
   "source": [
    "### 실전 문제 2 : 1로 만들기 \n",
    "- 다이나믹 프로그래밍으로 안풂... / 재귀함수 이용"
   ]
  },
  {
   "cell_type": "code",
   "execution_count": 44,
   "id": "ecac2128",
   "metadata": {},
   "outputs": [
    {
     "name": "stdout",
     "output_type": "stream",
     "text": [
      "26\n",
      "3\n"
     ]
    }
   ],
   "source": [
    "num=int(input())\n",
    "cnt=0\n",
    "def option(num): #후보군\n",
    "    d=[0] * 4 # d[0] : num -1 , d[1] : num/5 , d[2] :num/3, d[3] : num/2\n",
    "    d[0] = num-1\n",
    "    if num%5==0:\n",
    "        d[1] = num/5\n",
    "    if num%3==0:\n",
    "        d[2] = num/3\n",
    "    if num%2==0:\n",
    "        d[3]==num/2\n",
    "    d = list(filter(lambda x:x!=0, d)) #0인건 제외 \n",
    "    return d\n",
    "while(num!=1):\n",
    "    global cnt\n",
    "    cnt+=1\n",
    "    num = min(option(num)) #min 할때 0이 안나오게 위에서 filter를 걸어줌\n",
    "    #print(num)\n",
    "print(cnt)"
   ]
  },
  {
   "cell_type": "markdown",
   "id": "cf9baf63",
   "metadata": {},
   "source": [
    "### 책 답안\n",
    "- 점화식 a_i =min(a_i-1,a_i/2,a_i/3,a_i/5)+1\n",
    "- 그리고 elif로 하면 안됨 (공배수가 존재하기 때문)\n",
    "- 15 같은 수는 3로 5번 나누는 것보다 5로 3번 나누는 것이 좋기 때문에 이 순서로 진행"
   ]
  },
  {
   "cell_type": "code",
   "execution_count": 45,
   "id": "a0bf794a",
   "metadata": {},
   "outputs": [
    {
     "name": "stdout",
     "output_type": "stream",
     "text": [
      "26\n",
      "3\n"
     ]
    }
   ],
   "source": [
    "x=int(input())\n",
    "\n",
    "#앞서 계산된 결과를 저장하기 위한 DP 테이블 초기화\n",
    "d=[0]*30001\n",
    "\n",
    "#다이나믹 프로그래밍(Dynamic Programming) 진행(보텀업)\n",
    "for i in range(2,x+1):\n",
    "    #현재의 수에서 1을 빼는 경우\n",
    "    d[i]=d[i-1]+1\n",
    "    #현재의 수가 2로 나누어 떨어지는 경우\n",
    "    if i%2 == 0:\n",
    "        d[i]=min(d[i], d[i//2]+1)\n",
    "    #현재의 수가 3으로 나누어 떨어지는 경우\n",
    "    if i%3==0:\n",
    "        d[i]=min(d[i],d[i//2]+1)\n",
    "    #현재의 수가 5로 나누어 떨어지는 경우\n",
    "    if i%5==0:\n",
    "        d[i]=min(d[i],d[i//5]+1)\n",
    "\n",
    "print(d[x])"
   ]
  },
  {
   "cell_type": "markdown",
   "id": "2559f67a",
   "metadata": {},
   "source": [
    "### 실전문제 3 : 개미전사 \n",
    "- 3칸은 멀어서 식량 얻을 수 있는 기회가 줄어들 것 같아서 무조건 한칸씩만 넘고 계산하는 걸로 짰는데 아닌 것 같다...뒤에 풀이는 계속 비교하면서 max를 유지하니까 3칸 머는것도 고려가 된 듯\n",
    "\n",
    "- 점화식 넘 어렵다"
   ]
  },
  {
   "cell_type": "code",
   "execution_count": 52,
   "id": "2deaac5c",
   "metadata": {},
   "outputs": [
    {
     "name": "stdout",
     "output_type": "stream",
     "text": [
      "4\n",
      "1 3 1 5\n",
      "8\n"
     ]
    }
   ],
   "source": [
    "N=int(input())\n",
    "arr=list(map(int, input().split()))\n",
    "for i in range(2,N):\n",
    "    arr[i]=arr[i-2]+arr[i]\n",
    "print(max(arr[N-2],arr[N-1]))"
   ]
  },
  {
   "cell_type": "markdown",
   "id": "7e39c297",
   "metadata": {},
   "source": [
    "### 답안\n",
    "- **점화식 : a_i = max(a_i-1,a_i-2+k_i)** \n",
    "- i번째 창고를 터는 경우와 안터는 경우의 최대 식량을 비교한 뒤, 최댓값으로 DP 테이블의 i번째 값을 업데이트 하면 됨\n",
    "- i번째 창고를 터는 경우, i번째 창고까지의 최대 식량\n",
    "  (i-2)번째 창고까지의 최대 식량 + i 번째 창고의 식량\n",
    "- i번째 창고를 안터는 경우, i번째까지 창고까지의 최대 식량\n",
    "  (i-1)번째 창고까지의 최대 식량\n",
    "\n",
    "- 위 2가지 값 중 최대값을 i번째 창고까지의 최대 식량으로 업데이트 하면됨\n",
    "- 즉, i번째 식량 창고에 대한 최적해를 구할 때, i-3번째 이하의 식량 창고에 대한 최적해는 고려할 필요가 없음(d[i-1]과 d[i-2]를 구하는 과정에서 이미 고려했기 때문"
   ]
  },
  {
   "cell_type": "code",
   "execution_count": 54,
   "id": "72f94ba7",
   "metadata": {},
   "outputs": [
    {
     "name": "stdout",
     "output_type": "stream",
     "text": [
      "4\n",
      "1 3 1 5\n",
      "8\n"
     ]
    }
   ],
   "source": [
    "N=int(input())\n",
    "arr=list(map(int, input().split()))\n",
    "d = [0]*N\n",
    "d[0] = arr[0]\n",
    "d[1] = max(arr[0], arr[1])\n",
    "for i in range(2,N):\n",
    "    d[i] = max(d[i-1], d[i-2]+arr[i])\n",
    "\n",
    "print(d[N-1])"
   ]
  },
  {
   "cell_type": "markdown",
   "id": "f2a70010",
   "metadata": {},
   "source": [
    "### 실전문제 4 : 바닥공사\n",
    " - 점화식 : **a_i = a_(i-1)+a_(i-2)*2**\n",
    " - 이 문제 역시 i번째 위치에 대한 최적의 해를 구할 때 왼쪽부터 (i-3)번째 이하의 위치에 대한 최적의 해에 대해서는 고려할 필요없음\n",
    " - 왜냐하면, 사용할 수 있는 덮개의 형태가 최대 2*2 크기의 직사각형이기 떄문"
   ]
  },
  {
   "cell_type": "code",
   "execution_count": 3,
   "id": "ee831837",
   "metadata": {},
   "outputs": [
    {
     "name": "stdout",
     "output_type": "stream",
     "text": [
      "3\n",
      "5\n"
     ]
    }
   ],
   "source": [
    "N=int(input())\n",
    "\n",
    "d=[0]*(N+1)\n",
    "d[1] = 1\n",
    "d[2] = 3\n",
    "\n",
    "for i in range(3,N+1):\n",
    "    d[i] = d[i-1] + d[i-2]*2\n",
    "\n",
    "print(d[N]%796796)\n"
   ]
  },
  {
   "cell_type": "markdown",
   "id": "5e86db8b",
   "metadata": {},
   "source": [
    "### 실전문제 5 : 효율적인 화폐 구성\n",
    " - a_i : 금액 i를 만들 수 있는 최소한의 화폐 개수 , K : 화폐의 단위\n",
    " - a_(i-k) 를 만드는 방법이 존재하는 경우, a_i = min(a_i, a_(i-k)+1)\n",
    " - a_(i-k)를 만드는 방법이 존재하지 않는 경우, a_i = 10001\n",
    " "
   ]
  },
  {
   "cell_type": "code",
   "execution_count": 16,
   "id": "0d11d2f4",
   "metadata": {},
   "outputs": [
    {
     "name": "stdout",
     "output_type": "stream",
     "text": [
      "2 15\n",
      "2\n",
      "3\n"
     ]
    }
   ],
   "source": [
    "N,M=map(int, input().split())\n",
    "arr= list(int(input()) for _ in range(N)) #화폐 단위 모아놓은 arr\n",
    "\n"
   ]
  },
  {
   "cell_type": "code",
   "execution_count": 17,
   "id": "95a17007",
   "metadata": {},
   "outputs": [
    {
     "name": "stdout",
     "output_type": "stream",
     "text": [
      "5\n"
     ]
    }
   ],
   "source": [
    "d=[10001] * (M+1)\n",
    "d[0]=0\n",
    "for k in arr:\n",
    "    d[k]=1\n",
    "    for i in range(1,M+1):\n",
    "        d[i] = min(d[i], d[i-k]+1)\n",
    "\n",
    "if d[M]!=10001:\n",
    "    print(d[M])\n",
    "else: print(-1)\n",
    "    \n"
   ]
  },
  {
   "cell_type": "markdown",
   "id": "788c28e7",
   "metadata": {},
   "source": [
    "### 백준 :  10844번 (쉬운 계단 수) , 11053번(가장 긴 증가하는 부분 수열) 문제 풀기"
   ]
  },
  {
   "cell_type": "markdown",
   "id": "0c95bc6d",
   "metadata": {},
   "source": [
    "#### 백준 : 10844번 (쉬운 계단 수) - 내가 생각한 거\n",
    "- 길이가 N인 계단 수가 총 몇 개있는지 구하기\n",
    "- ex) 45656 (인접한 모든 자리의 차이가 1)\n",
    "- a_i = 2 * (a_i-1)-(i-1) **틀렸음...**"
   ]
  },
  {
   "cell_type": "code",
   "execution_count": 43,
   "id": "f8c72675",
   "metadata": {},
   "outputs": [
    {
     "name": "stdout",
     "output_type": "stream",
     "text": [
      "5\n",
      "[0, 9, 17, 32, 61, 118]\n",
      "118\n"
     ]
    }
   ],
   "source": [
    "N=int(input())\n",
    "d = [0] *(N+1)\n",
    "d[1] = 9\n",
    "for i in range(2, N+1):\n",
    "    d[i] = 2*d[i-1]-(i-1)\n",
    "print(d)\n",
    "print(d[N] % 1000000000)"
   ]
  },
  {
   "cell_type": "markdown",
   "id": "6b48031f",
   "metadata": {},
   "source": [
    "- 0을 제외한 모든 숫자는 앞에 올 수 있음\n",
    "- 0 뒤엔 오직 1, 9 뒤엔 오직 8만 올 수 있음\n",
    "- 1~8 은 뒤에 올 수 있는 숫자가 두 종류\n",
    "- **dp[자리수][앞에 오는 수]= 경우의 수** 이차원 배열을 이용하자!!! "
   ]
  },
  {
   "cell_type": "code",
   "execution_count": 56,
   "id": "dce03767",
   "metadata": {},
   "outputs": [
    {
     "name": "stdout",
     "output_type": "stream",
     "text": [
      "4\n",
      "61\n"
     ]
    }
   ],
   "source": [
    "N=int(input())\n",
    "dp = [[0] * 10 for _ in range(N+1)] \n",
    "for i in range(1,10): #1 초기화\n",
    "    dp[1][i]=1\n",
    "    \n",
    "for i in range(2, N+1):\n",
    "    for j in range(10):\n",
    "        if j==0:\n",
    "            dp[i][0] = dp[i-1][1]\n",
    "        elif (j>=1 and j<=8):\n",
    "            dp[i][j] = dp[i-1][j-1] + dp[i-1][j+1]\n",
    "        elif j==9 :\n",
    "            dp[i][9] = dp[i-1][8]\n",
    "print(sum(dp[N])%1000000000)"
   ]
  },
  {
   "cell_type": "markdown",
   "id": "3e2cc5a1",
   "metadata": {},
   "source": [
    "#### 11053번( 가장 긴 증가하는 부분 수열)"
   ]
  },
  {
   "cell_type": "code",
   "execution_count": 104,
   "id": "bedb8f34",
   "metadata": {},
   "outputs": [
    {
     "name": "stdout",
     "output_type": "stream",
     "text": [
      "6\n",
      "10 20 10 30 20 50\n",
      "4\n"
     ]
    }
   ],
   "source": [
    "N=int(input())\n",
    "arr = list(map(int,input().split()))\n",
    "d = [1] * N #1로 초기화\n",
    "\n",
    "for i in range(N):\n",
    "    for j in range(i):\n",
    "        if arr[i]>arr[j]: #현재위치(i)보다 이전에 있는 원소(j)가 있는지 확인\n",
    "            d[i] =max(d[i],d[j]+1) #작다면, 현재 위치의 이전 숫자 중, dp 최댓값을 구하고 그 길이에 1을 더 해주면 됨\n",
    "print(max(d))"
   ]
  },
  {
   "cell_type": "code",
   "execution_count": null,
   "id": "dd73b5ec",
   "metadata": {},
   "outputs": [],
   "source": []
  }
 ],
 "metadata": {
  "kernelspec": {
   "display_name": "Python 3 (ipykernel)",
   "language": "python",
   "name": "python3"
  },
  "language_info": {
   "codemirror_mode": {
    "name": "ipython",
    "version": 3
   },
   "file_extension": ".py",
   "mimetype": "text/x-python",
   "name": "python",
   "nbconvert_exporter": "python",
   "pygments_lexer": "ipython3",
   "version": "3.9.12"
  }
 },
 "nbformat": 4,
 "nbformat_minor": 5
}
