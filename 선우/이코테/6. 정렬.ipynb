{
 "cells": [
  {
   "cell_type": "markdown",
   "id": "7dad5298",
   "metadata": {},
   "source": [
    "#### 선택 정렬\n",
    "- 매번 가장 작은 데이터를 선택하는 의미\n",
    "- 가장 작은 데이터를 앞으로 보내는 과정을 N-1번 반복하면 정렬 완료"
   ]
  },
  {
   "cell_type": "code",
   "execution_count": 8,
   "id": "37aa22cd",
   "metadata": {},
   "outputs": [],
   "source": [
    "array=[7,5,9,0,3,1,6,2,4,8]\n",
    "for i in range(len(array)):\n",
    "    min_index=i #가장 작은 원소의 인덱스\n",
    "    for j in range(i+1, len(array)):\n",
    "        if array[min_index]>array[j]:\n",
    "            min_index=j\n",
    "    array[i],array[min_index]=array[min_index], array[i]"
   ]
  },
  {
   "cell_type": "code",
   "execution_count": 9,
   "id": "e7b65250",
   "metadata": {},
   "outputs": [
    {
     "name": "stdout",
     "output_type": "stream",
     "text": [
      "[0, 1, 2, 3, 4, 5, 6, 7, 8, 9]\n"
     ]
    }
   ],
   "source": [
    "print(array)"
   ]
  },
  {
   "cell_type": "markdown",
   "id": "cefc758a",
   "metadata": {},
   "source": [
    "#### 삽입 정렬\n",
    "- 삽입 정렬은 필요할 때만 위치를 바꾸므로 **'데이터가 거의 정렬되어 있을때'** 훨씬 효과적\n",
    "- 삽입 정렬은 특정한 데이터가 적절한 위치에 들어가기 이전에, 그 앞까지의 데이터는 이미 정렬되어 있다고 가정\n",
    "- 정렬되어 있는 데이터 리스트에서 적절한 위치를 찾은 뒤에, 그 위치에 삽입된다는 점이 특징"
   ]
  },
  {
   "cell_type": "code",
   "execution_count": 10,
   "id": "4b903fbc",
   "metadata": {},
   "outputs": [
    {
     "name": "stdout",
     "output_type": "stream",
     "text": [
      "[0, 1, 2, 3, 4, 5, 6, 7, 8, 9]\n"
     ]
    }
   ],
   "source": [
    "array=[7,5,9,0,3,1,6,2,4,8]\n",
    "for i in range(1, len(array)):\n",
    "    for j in range(i, 0,-1): #인덱스 i부터 1까지 감소하며 반복하는 문법\n",
    "        if array[j]<array[j-1]:\n",
    "            array[j],array[j-1]= array[j-1], array[j]\n",
    "        else: #자기보다 작은 데이터를 만나면 그 위치에서 멈춤\n",
    "            break\n",
    "print(array)"
   ]
  },
  {
   "cell_type": "markdown",
   "id": "84598050",
   "metadata": {},
   "source": [
    "#### 퀵 정렬\n",
    "- 기준(피벗)을 설정한 후, 다음 큰 수와 작은 수를 교환한 후 리스트를 반으로 나누는 방식으로 동작\n",
    "- 피벗보다 처음으로 큰거, 끝에서 피벗보다 작은 수 꺼내 swap\n",
    "- 만약 찾은 값의 위치가 서로 엇갈린다면, **'작은 데이터'와 '피벗'의 위치** 서로 변경\n",
    "- 그렇게 피벗보다 작은 리스트/ 큰 리스트 분할\n",
    "- 재귀함수형태로 쉽게 구현 가능\n",
    "- 종료 조건은 현재 리시트의 데이터 개수가 1개 일때\n",
    "- 리스트의 가장 왼쪽 데이터를 피벗으로 삼을 때, '이미 데이터가 정렬되어 있는 경우'에는 매우 느리게 동작"
   ]
  },
  {
   "cell_type": "markdown",
   "id": "5979002a",
   "metadata": {},
   "source": [
    "#### 퀵 정렬 소스 코드"
   ]
  },
  {
   "cell_type": "code",
   "execution_count": 15,
   "id": "945e3d4c",
   "metadata": {},
   "outputs": [
    {
     "name": "stdout",
     "output_type": "stream",
     "text": [
      "[0, 1, 2, 3, 4, 5, 6, 7, 8, 9]\n"
     ]
    }
   ],
   "source": [
    "#직관적인 퀵 정렬 소스 코드\n",
    "\n",
    "array=[5,7,9,0,3,1,6,2,4,8]\n",
    "def quick_sort(array, start, end):\n",
    "    if start>=end:\n",
    "        return\n",
    "    pivot=start #피벗은 첫번째 원소\n",
    "    left=start+1\n",
    "    right=end\n",
    "    while left<=right:\n",
    "        #피벗보다 큰 데이터를 찾을 때까지 반복\n",
    "        while left<=end and array[left]<=array[pivot]:\n",
    "            left+=1\n",
    "        #피벗보다 작은 데이터를 찾을 때까지 반복\n",
    "        while right>start and array[right]>=array[pivot]:\n",
    "            right-=1\n",
    "        \n",
    "        if left>right: #엇갈렸다면 작은 데이터와 피벗을 교체\n",
    "            array[right],array[pivot]=array[pivot],array[right]\n",
    "        else: #엇갈리지 않았다면 작은 데이터와 큰 데이터를 교체\n",
    "            array[left],array[right] = array[right], array[left]\n",
    "            \n",
    "        #분할 이후 왼쪽 부분과 오른쪽 부분에서 각각 정렬 수행\n",
    "        quick_sort(array, start, right-1)\n",
    "        quick_sort(array,right+1, end)\n",
    "\n",
    "quick_sort(array,0,len(array)-1)\n",
    "print(array)"
   ]
  },
  {
   "cell_type": "code",
   "execution_count": 14,
   "id": "e4b8108f",
   "metadata": {},
   "outputs": [
    {
     "name": "stdout",
     "output_type": "stream",
     "text": [
      "left [0, 3, 1, 2, 4]\n",
      "right [7, 9, 6, 8]\n",
      "left []\n",
      "right [3, 1, 2, 4]\n",
      "left [1, 2]\n",
      "right [4]\n",
      "left []\n",
      "right [2]\n",
      "left [6]\n",
      "right [9, 8]\n",
      "left [8]\n",
      "right []\n",
      "[0, 1, 2, 3, 4, 5, 6, 7, 8, 9]\n"
     ]
    }
   ],
   "source": [
    "\n",
    "# 파이썬 장점을 살린 퀵 정렬 소스 코드\n",
    "\n",
    "array=[5,7,9,0,3,1,6,2,4,8]\n",
    "\n",
    "def quick_sort(array):\n",
    "    #리스트가 하나 이하의 원소만을 담고 있다면 종료\n",
    "    if len(array)<=1:\n",
    "        return array\n",
    "    \n",
    "    pivot=array[0] #피벗은 첫번째 원소\n",
    "    tail=array[1:] #피벗을 제외한 리스트\n",
    "    \n",
    "    left_side = [x for x in tail if x<=pivot] #분할된 왼쪽 부분\n",
    "    right_side=[x for x in tail if x>pivot]   #분할된 오른쪽 부분\n",
    "    print(\"left\",left_side)\n",
    "    print(\"right\",right_side)\n",
    "    \n",
    "    #분할 이후 왼쪽 부분과 오른쪽 부분에서 각각 정렬을 수행하고, 전체 리스트를 반환\n",
    "    return quick_sort(left_side) + [pivot] + quick_sort(right_side)\n",
    "\n",
    "\n",
    "print(quick_sort(array))"
   ]
  },
  {
   "cell_type": "markdown",
   "id": "22eddf23",
   "metadata": {},
   "source": [
    "#### 계수 정렬\n",
    "- 특정한 조건이 부합할 때만 사용할 수 있지만 매우 빠른 정렬 알고리즘\n",
    "- **데이터의 크기 범위**가 제한되어 정수 형태로 표현할 수 있을 때만 사용 가능\n",
    "- 비교 기반의 정렬 알고리즘이 아님\n",
    "- 동일한 값을 가지는 데이터가 여러개 등장할 때 적합"
   ]
  },
  {
   "cell_type": "markdown",
   "id": "418c9fe6",
   "metadata": {},
   "source": [
    "#### 계수 코드 정렬 소스 코드"
   ]
  },
  {
   "cell_type": "code",
   "execution_count": 16,
   "id": "7ee885af",
   "metadata": {},
   "outputs": [
    {
     "name": "stdout",
     "output_type": "stream",
     "text": [
      "0 0 1 1 2 2 3 4 5 5 6 7 8 9 9 "
     ]
    }
   ],
   "source": [
    "# 모든 원소의 값이 0보다 크거나 같다고 가정\n",
    "array=[7,5,9,0,3,1,6,2,9,1,4,8,0,5,2]\n",
    "\n",
    "#모든 범위를 포함하는 리스트 선언(모든 값은 0으로 초기화)\n",
    "count=[0] * (max(array)+1)\n",
    "\n",
    "for i in range(len(array)):\n",
    "    count[array[i]]+=1 #각 데이터에 해당하는 인덱스의 값 증가\n",
    "\n",
    "for i in range(len(count)): #리스트에 기록된 정렬 정보 확인\n",
    "    for j in range(count[i]):\n",
    "        print(i, end=' ') #띄어쓰기를 구분으로 등장한 횟수만큼 인덱스 출력"
   ]
  },
  {
   "cell_type": "markdown",
   "id": "52c98917",
   "metadata": {},
   "source": [
    "#### 파이썬의 정렬 라이브러리\n",
    "- sorted : 병합 정렬과 삽입 정렬 더한 하이브리드 방식을 기반 , 최악의 경우에도 O(nlogn)\n",
    "- 집합 자료형이나 딕셔너리 자료형을 입력받아도 반환되는 결과는 리스트 자료형"
   ]
  },
  {
   "cell_type": "code",
   "execution_count": 24,
   "id": "f59d1ffa",
   "metadata": {},
   "outputs": [
    {
     "name": "stdout",
     "output_type": "stream",
     "text": [
      "[0, 1, 2, 3, 4, 5, 6, 7, 8, 9]\n"
     ]
    }
   ],
   "source": [
    "array=[7,5,9,0,3,1,6,2,4,8]\n",
    "\n",
    "result = sorted(array)\n",
    "print(result)"
   ]
  },
  {
   "cell_type": "code",
   "execution_count": 19,
   "id": "f54485d2",
   "metadata": {},
   "outputs": [
    {
     "name": "stdout",
     "output_type": "stream",
     "text": [
      "None\n"
     ]
    }
   ],
   "source": [
    "#내부 원소를 바로 정렬할 수 있음\n",
    "aa=array.sort()\n",
    "print(aa)"
   ]
  },
  {
   "cell_type": "code",
   "execution_count": 26,
   "id": "3d028508",
   "metadata": {},
   "outputs": [
    {
     "name": "stdout",
     "output_type": "stream",
     "text": [
      "[0, 1, 2, 3, 4, 5, 6, 7, 8, 9]\n"
     ]
    }
   ],
   "source": [
    "array.sort()\n",
    "print(array)"
   ]
  },
  {
   "cell_type": "code",
   "execution_count": 28,
   "id": "6191a772",
   "metadata": {},
   "outputs": [
    {
     "name": "stdout",
     "output_type": "stream",
     "text": [
      "[('바나나', 2), ('당근', 3), ('사과', 5)]\n"
     ]
    }
   ],
   "source": [
    "# 정렬 라이브러리에서 key를 활용한 소스 코드, key 값으로는 하나의 함수가 들어가야함\n",
    "\n",
    "array=[('바나나',2),('사과',5),('당근',3)]\n",
    "def setting(data):\n",
    "    return data[1]\n",
    "result=sorted(array, key=setting)\n",
    "\n",
    "print(result)"
   ]
  },
  {
   "cell_type": "markdown",
   "id": "cb00638b",
   "metadata": {},
   "source": [
    "#### 단순히 정렬문제는 기본 정렬 라이브러리를 사용하고, 데이터의 범위가 한정되어 있으며 더 빠르게 동작할때는 계수 정렬 사용\n",
    "\n",
    "#### 정렬알고리즘 사용하는 경우 문제 유형 3가지\n",
    "- 1. **정렬 라이브러리로 풀 수 있는 문제**: 단순히 정렬 기법을 알고있는 물어보는 문제로 기본 정렬 라이브러리 사용\n",
    "- 2. **정렬 알고리즘의 원리에 대해서 물어보는 문제** : 선택 정렬, 삽입 정렬, 퀵 정렬 등의 원리를 알고 있어야 문제 풀 수 있음\n",
    "- 3. **더 빠른 정렬이 필요한 문제** : 퀵 정렬 기반의 정렬 기법으로는 풀 수 없으며 계수 정렬 등 다른 정렬 알고리즘을 이용하거나 문제에서 기존에 알려진\n",
    "    알고리즘의 구조적인 개선을 처리"
   ]
  },
  {
   "cell_type": "markdown",
   "id": "136d2d71",
   "metadata": {},
   "source": [
    "### 실전 문제 2 : 위에서 아래로"
   ]
  },
  {
   "cell_type": "code",
   "execution_count": 37,
   "id": "06637870",
   "metadata": {},
   "outputs": [
    {
     "name": "stdout",
     "output_type": "stream",
     "text": [
      "3\n",
      "15\n",
      "27\n",
      "12\n",
      "27 15 12\n"
     ]
    }
   ],
   "source": [
    "n=int(input())\n",
    "array=[]\n",
    "for _ in range(n):\n",
    "    array.append(int(input()))\n",
    "array.sort(reverse=True)\n",
    "print(*array)"
   ]
  },
  {
   "cell_type": "markdown",
   "id": "c80008f2",
   "metadata": {},
   "source": [
    "### 실전 문제 3 :  성적이 낮은 순서로 학생 출력하기"
   ]
  },
  {
   "cell_type": "code",
   "execution_count": 45,
   "id": "e076aea0",
   "metadata": {},
   "outputs": [
    {
     "name": "stdout",
     "output_type": "stream",
     "text": [
      "2\n",
      "홍길동 95\n",
      "이순신 77\n",
      "이순신 홍길동\n"
     ]
    }
   ],
   "source": [
    "N=int(input())\n",
    "array=[]\n",
    "result=[]\n",
    "for i in range(N):\n",
    "    array.append(list(input().split()))\n",
    "\n",
    "def setting(data):\n",
    "    return data[1]\n",
    "\n",
    "array.sort(key=setting) #성적 낮은 순으로 오름차순\n",
    "for i in range(N): #이름만 출력\n",
    "    result.append(array[i][0])\n",
    "\n",
    "print(*result)"
   ]
  },
  {
   "cell_type": "markdown",
   "id": "06931890",
   "metadata": {},
   "source": [
    "### 실전 문제 4 : 두 배열의 원소 교체"
   ]
  },
  {
   "cell_type": "code",
   "execution_count": 59,
   "id": "6fadf03e",
   "metadata": {},
   "outputs": [
    {
     "name": "stdout",
     "output_type": "stream",
     "text": [
      "5 3\n",
      "1 2 5 4 3\n",
      "5 5 6 6 5\n",
      "26\n"
     ]
    }
   ],
   "source": [
    "N,K = map(int,input().split()) \n",
    "A=list(map(int, input().split()))\n",
    "B=list(map(int, input().split()))\n",
    "B.sort(reverse=True) #큰 수부터 내림차순\n",
    "A.sort() #작은 수부터 오름차순\n",
    "\n",
    "for i in range(K):\n",
    "    if A[i]<B[i]:\n",
    "        A[i],B[i]=B[i],A[i] # A 가장 작은거랑 B 가장 큰거 swap\n",
    "print(sum(A))"
   ]
  },
  {
   "cell_type": "code",
   "execution_count": null,
   "id": "9889e17c",
   "metadata": {},
   "outputs": [],
   "source": []
  }
 ],
 "metadata": {
  "kernelspec": {
   "display_name": "Python 3 (ipykernel)",
   "language": "python",
   "name": "python3"
  },
  "language_info": {
   "codemirror_mode": {
    "name": "ipython",
    "version": 3
   },
   "file_extension": ".py",
   "mimetype": "text/x-python",
   "name": "python",
   "nbconvert_exporter": "python",
   "pygments_lexer": "ipython3",
   "version": "3.9.12"
  }
 },
 "nbformat": 4,
 "nbformat_minor": 5
}
