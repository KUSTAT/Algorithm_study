{
 "cells": [
  {
   "cell_type": "markdown",
   "id": "c136dc81",
   "metadata": {},
   "source": [
    "#### Q5. 볼링공 고르기"
   ]
  },
  {
   "cell_type": "code",
   "execution_count": 14,
   "id": "490db49a",
   "metadata": {},
   "outputs": [
    {
     "name": "stdout",
     "output_type": "stream",
     "text": [
      "8 5\n",
      "1 5 4 3 2 4 5 2\n",
      "25\n"
     ]
    }
   ],
   "source": [
    "#내 풀이\n",
    "from itertools import combinations\n",
    "N,M = map(int, input().split())\n",
    "arr = list(map(int, input().split()))\n",
    "a= list(combinations(arr,2))\n",
    "print(len([x for x in a if x[0]!=x[1]]))"
   ]
  },
  {
   "cell_type": "code",
   "execution_count": 17,
   "id": "d5539fc4",
   "metadata": {},
   "outputs": [
    {
     "name": "stdout",
     "output_type": "stream",
     "text": [
      "8 5\n",
      "1 5 4 3 2 4 5 2\n",
      "25\n"
     ]
    }
   ],
   "source": [
    "#교재 답안\n",
    "n,m= map(int, input().split())\n",
    "data = list(map(int, input().split()))\n",
    "\n",
    "#1부터 10까지 무게를 담을 수 있는 리스트\n",
    "array =[0]*11 #볼루공 무게는 1부터 10까지\n",
    "\n",
    "for x in data:\n",
    "    #각 무게에 해당하는 볼링공의 개수 카운트\n",
    "    array[x]+=1\n",
    "result=0\n",
    "\n",
    "#1부터 m까지의 각 무게에 대해 철\n",
    "for i in range(1,m+1):\n",
    "    n-=array[i] #무게가 i인 볼링공의 개수 (A가 선택할 수 있는 개수) 제외\n",
    "    result +=array[i]*n #B가 선택하는 경우의 수와 곱하기 \n",
    "   \n",
    "print(result)"
   ]
  },
  {
   "cell_type": "markdown",
   "id": "af4338ad",
   "metadata": {},
   "source": [
    "#### Q6. 무지의 먹방 라이브"
   ]
  },
  {
   "cell_type": "code",
   "execution_count": 18,
   "id": "91e0772c",
   "metadata": {},
   "outputs": [],
   "source": [
    "#실~~~~패!\n",
    "#네트워크 정상화 후 다시 방송을 이어갈 떄, 몇 번 음식부터 섭취해야하는지를 알고자함\n",
    "def solution(food_times, k): #k초후에 네트워크 장애\n",
    "    time=0\n",
    "    index=0\n",
    "    if sum(food_times)<=k: return -1\n",
    "    while time<=k:\n",
    "        if food_times[index%len(food_times)]!=0:  \n",
    "            food_times[index%len(food_times)]-=1\n",
    "            index+=1\n",
    "        else:\n",
    "            index+=1\n",
    "            continue\n",
    "        time+=1\n",
    "        \n",
    "    return index%len(food_times)\n",
    "        "
   ]
  },
  {
   "cell_type": "code",
   "execution_count": 19,
   "id": "4dceac9d",
   "metadata": {},
   "outputs": [],
   "source": [
    "import heapq\n",
    "\n",
    "def solution(food_times, k):\n",
    "    #전체 음식을 먹는 시간보다 k가 크거나 같다면 -1\n",
    "    if sum(food_times)<=k: return -1\n",
    "    \n",
    "    #시간이 작은 음식부터 빼야하므로 우선순위 큐를 이용\n",
    "    q=[]\n",
    "    \n",
    "    for i in range(len(food_times)):\n",
    "        #(음식 시간, 음식 번호) 형태로 우선 순위 큐에 삽입\n",
    "        heapq.heappush(q,(food_times[i], i+1))\n",
    "    sum_value = 0 #먹기 위해 사용한 시간\n",
    "    previous = 0 #직전에 다 먹은 음식 시간\n",
    "    length = len(food_times)\n",
    "    \n",
    "    #sum_value+(현재의 음식 시간 - 이전 음식 시간)*현재 음식 개수와 k 비교\n",
    "    while sum_value + ((q[0][0] - previous) * length) <=k:\n",
    "        now = heapq.heappop(q)[0]\n",
    "        sum_value+=(now-previous)*length\n",
    "        length-=1 #다 먹은 음식 제외\n",
    "        previous=now #이전 음식 시간 재설정\n",
    "        \n",
    "    \n",
    "    #남은 음식 중에서 몇 번째 음식인지 확인하여 출력\n",
    "    result = sorted(q, key=lambda x:x[1])\n",
    "    return result[(k-sum_value)%length][1]"
   ]
  },
  {
   "cell_type": "code",
   "execution_count": null,
   "id": "fadec137",
   "metadata": {},
   "outputs": [],
   "source": []
  }
 ],
 "metadata": {
  "kernelspec": {
   "display_name": "Python 3 (ipykernel)",
   "language": "python",
   "name": "python3"
  },
  "language_info": {
   "codemirror_mode": {
    "name": "ipython",
    "version": 3
   },
   "file_extension": ".py",
   "mimetype": "text/x-python",
   "name": "python",
   "nbconvert_exporter": "python",
   "pygments_lexer": "ipython3",
   "version": "3.9.12"
  }
 },
 "nbformat": 4,
 "nbformat_minor": 5
}
