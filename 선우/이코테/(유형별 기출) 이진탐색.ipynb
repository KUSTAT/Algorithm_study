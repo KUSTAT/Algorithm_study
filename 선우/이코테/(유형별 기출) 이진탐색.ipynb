{
 "cells": [
  {
   "cell_type": "markdown",
   "id": "40fd716c",
   "metadata": {},
   "source": [
    "### 27. 정렬된 배열에서 특정 수의 개수 구하기\n",
    "- 1. 계수 정렬 이용\n",
    "- 2. 이진 탐색 이용"
   ]
  },
  {
   "cell_type": "code",
   "execution_count": 83,
   "id": "26f3b48c",
   "metadata": {},
   "outputs": [
    {
     "name": "stdout",
     "output_type": "stream",
     "text": [
      "7 2 \n",
      "1 1 2 2 2 2 3\n",
      "4\n"
     ]
    }
   ],
   "source": [
    "N,M=map(int, input().split())\n",
    "arr = list(map(int, input().split()))\n",
    "### 계수 정렬 이용\n",
    "count_arr = [ 0 ] *1000001\n",
    "for var in arr:\n",
    "    count_arr[var]+=1\n",
    "\n",
    "if count_arr[M]!=0 :\n",
    "    print(count_arr[M])\n",
    "else: print(-1)"
   ]
  },
  {
   "cell_type": "code",
   "execution_count": 79,
   "id": "44105801",
   "metadata": {},
   "outputs": [
    {
     "name": "stdout",
     "output_type": "stream",
     "text": [
      "7 4\n",
      "1 1 2 2 2 2 3\n",
      "-1\n"
     ]
    }
   ],
   "source": [
    "#이진 탐색 이용\n",
    "N,M=map(int, input().split())\n",
    "arr = list(map(int, input().split()))\n",
    "def binary_search(arr, start, end,M):\n",
    "    cnt = 0\n",
    "    while start<=end:\n",
    "        mid = (start+end)//2\n",
    "        \n",
    "        if arr[mid] == M:\n",
    "            cnt+=1\n",
    "            arr.remove(M)\n",
    "        elif arr[mid] > M: end = mid-1\n",
    "        else: start = mid+1\n",
    "    return cnt\n",
    "result = binary_search(arr,0,N-1,M)\n",
    "if result ==0:\n",
    "    print(-1)\n",
    "else: print(result)"
   ]
  },
  {
   "cell_type": "markdown",
   "id": "0f644189",
   "metadata": {},
   "source": [
    "#### 이진 탐색으로 첫번째, 마지막 위치 구하기"
   ]
  },
  {
   "cell_type": "code",
   "execution_count": 84,
   "id": "daa6dcf1",
   "metadata": {},
   "outputs": [],
   "source": [
    "def binary_search_start(array, target, start, end):\n",
    "    while start<=end:\n",
    "        mid = (start+end)//2\n",
    "        if array[mid] == target:\n",
    "            if mid-1<=0 or array[mid-1]!=target:\n",
    "                return mid\n",
    "            else: end = mid-1\n",
    "        elif array[mid] >=target:\n",
    "            end = mid -1\n",
    "        else: start = mid+1\n",
    "    return -1"
   ]
  },
  {
   "cell_type": "code",
   "execution_count": 85,
   "id": "84c4791c",
   "metadata": {},
   "outputs": [],
   "source": [
    "def binary_search_end(array, target, start, end):\n",
    "    while start<=end:\n",
    "        mid = (start+end)//2\n",
    "        if array[mid] == target:\n",
    "            if mid+1>=len(array) or array[mid+1]!=target:\n",
    "                return mid\n",
    "            else: start = mid+1\n",
    "        elif array[mid] >=target:\n",
    "            end=mid-1\n",
    "        else: start = mid+1\n",
    "    return -1"
   ]
  },
  {
   "cell_type": "code",
   "execution_count": 86,
   "id": "a1086472",
   "metadata": {},
   "outputs": [
    {
     "name": "stdout",
     "output_type": "stream",
     "text": [
      "4\n"
     ]
    }
   ],
   "source": [
    "if binary_search_start(arr, M , 0, len(arr)-1) == -1 :\n",
    "        print(-1)\n",
    "else:\n",
    "    print(binary_search_end(arr, M, 0, len(arr)-1) - binary_search_start(arr, M, 0, len(arr)-1) + 1)"
   ]
  },
  {
   "cell_type": "markdown",
   "id": "d65d925f",
   "metadata": {},
   "source": [
    "### bisect 이진 탐색을 쉽게 구현하는 라이브러리\n",
    "- bisect_left(a,x) : 정렬된 순서를 유지하면서 리스트 a에 데이터 x를 삽입할 가장 왼쪽 인덱스를 찾는 메서드\n",
    "- bisect_right(a,x) : 정렬된 순서를 유지하도록 리스트 a에 데이터 x를 삽입할 가장 오른쪽 인덱스를 찾는 메서드"
   ]
  },
  {
   "cell_type": "code",
   "execution_count": 88,
   "id": "4da85ac3",
   "metadata": {},
   "outputs": [
    {
     "name": "stdout",
     "output_type": "stream",
     "text": [
      "7 2\n",
      "1 1 2 2 2 2 3\n",
      "4\n"
     ]
    }
   ],
   "source": [
    "from bisect import bisect_left, bisect_right\n",
    "\n",
    "N, x = map(int, input().split())\n",
    "array = list(map(int, input().split()))\n",
    "\n",
    "count = bisect_right(array, x) - bisect_left(array, x)\n",
    "if count == 0:\n",
    "    print(-1)\n",
    "else:\n",
    "    print(count)"
   ]
  },
  {
   "cell_type": "markdown",
   "id": "21da036f",
   "metadata": {},
   "source": [
    "### 28. 고정점 찾기"
   ]
  },
  {
   "cell_type": "code",
   "execution_count": 31,
   "id": "11ee579a",
   "metadata": {},
   "outputs": [
    {
     "name": "stdout",
     "output_type": "stream",
     "text": [
      "7\n",
      "-15 -4 2 8 9 13 15\n",
      "2\n"
     ]
    }
   ],
   "source": [
    "N = int(input())\n",
    "arr = list(map(int, input().split()))\n",
    "\n",
    "def binary_search(arr, start, end):\n",
    "    while start<=end:\n",
    "        mid = (start+end)//2\n",
    "        \n",
    "        if arr[mid] == mid: return mid\n",
    "        elif arr[mid]<mid: \n",
    "            start = mid+1\n",
    "        else: end= mid-1\n",
    "    return -1\n",
    "print(binary_search(arr, 0,N-1))"
   ]
  },
  {
   "cell_type": "markdown",
   "id": "b800cdaa",
   "metadata": {},
   "source": [
    "### 29. 공유기 설치 - 메모리 초과"
   ]
  },
  {
   "cell_type": "code",
   "execution_count": 65,
   "id": "725dd66e",
   "metadata": {},
   "outputs": [
    {
     "name": "stdout",
     "output_type": "stream",
     "text": [
      "5 3\n",
      "1\n",
      "2\n",
      "8\n",
      "4\n",
      "9\n",
      "3\n"
     ]
    }
   ],
   "source": [
    "#완전 탐색\n",
    "from itertools import combinations\n",
    "N,C =map(int, input().split())\n",
    "arr = sorted([int(input()) for _ in range(N)])\n",
    "option = list(combinations(arr,C))\n",
    "result=[]\n",
    "for i in range(len(option)):\n",
    "    result.append(min(abs(option[i][0] - option[i][1]) , abs(option[i][2] - option[i][1])))\n",
    "print(max(result))"
   ]
  },
  {
   "cell_type": "code",
   "execution_count": null,
   "id": "a04f1e49",
   "metadata": {},
   "outputs": [],
   "source": [
    "#이진 탐색"
   ]
  }
 ],
 "metadata": {
  "kernelspec": {
   "display_name": "Python 3 (ipykernel)",
   "language": "python",
   "name": "python3"
  },
  "language_info": {
   "codemirror_mode": {
    "name": "ipython",
    "version": 3
   },
   "file_extension": ".py",
   "mimetype": "text/x-python",
   "name": "python",
   "nbconvert_exporter": "python",
   "pygments_lexer": "ipython3",
   "version": "3.9.12"
  }
 },
 "nbformat": 4,
 "nbformat_minor": 5
}
