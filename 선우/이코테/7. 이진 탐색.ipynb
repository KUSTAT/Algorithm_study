{
 "cells": [
  {
   "cell_type": "markdown",
   "id": "e9fee20a",
   "metadata": {},
   "source": [
    "#### 순차 탐색\n",
    " - 리스트 안에 있는 특정한 데이터를 찾기 위해 앞에서부터 데이터를 하나씩 차례대로 확인하는 방법"
   ]
  },
  {
   "cell_type": "code",
   "execution_count": 5,
   "id": "84f9fb11",
   "metadata": {},
   "outputs": [
    {
     "name": "stdout",
     "output_type": "stream",
     "text": [
      "생성할 원소 개수를 입력한 다음 한 칸 띄고 찾을 문자열을 입력하세요\n",
      "5 Dongbin\n",
      "앞서 적은 원소 개수만큼 문자열을 입력하세요. 구분은 띄어쓰기 한 칸으로 합니다.\n",
      "Hanul Jonggu Dongbin Taeil Sangwook\n",
      "3\n"
     ]
    }
   ],
   "source": [
    "# 순차 탐색 소스코드 구현\n",
    "def sequential_search(n, target , array):\n",
    "    #각 원소를 하나씩 확인하며\n",
    "    for i in range(n):\n",
    "        #현재의 원소가 찾고자하는 원소와 동일한 경우\n",
    "        if array[i]==target:\n",
    "            return i+1 #현재의 위치 반환(인덱스는 0부터 시작하므로 1 더하기)\n",
    "\n",
    "print(\"생성할 원소 개수를 입력한 다음 한 칸 띄고 찾을 문자열을 입력하세요\")\n",
    "input_data=input().split()\n",
    "n=int(input_data[0]) #원소의 개수\n",
    "target=input_data[1]\n",
    "\n",
    "print(\"앞서 적은 원소 개수만큼 문자열을 입력하세요. 구분은 띄어쓰기 한 칸으로 합니다.\")\n",
    "array=input().split()\n",
    "\n",
    "#순차 탐색 수행 결과 출력\n",
    "print(sequential_search(n, target, array))"
   ]
  },
  {
   "cell_type": "code",
   "execution_count": 1,
   "id": "343cba17",
   "metadata": {},
   "outputs": [
    {
     "name": "stdout",
     "output_type": "stream",
     "text": [
      "1 2 3\n"
     ]
    }
   ],
   "source": [
    "array=input().split()"
   ]
  },
  {
   "cell_type": "markdown",
   "id": "e42125e6",
   "metadata": {},
   "source": [
    "### 이진 탐색 : 반으로 쪼개면서 탐색하기 (코테 단골)\n",
    "- 배열 내부의 데이터가 정렬되어 있어야만 사용할 수 있는 알고리즘\n",
    "- 찾으려는 데이터와 중간점 위치에 있는 데이터를 반복적으로 비교해서 원하는 데이터를 찾는 게 이진 탐색 과정\n",
    "- 절반씩 데이터를 줄어들도록 만든다는 점은 앞서 다룬 퀵 정렬과 공통점\n",
    "- 이진탐색을 구현하는 방법 2가지 : **재귀함수 이용** , **반복문 이용**\n",
    "- 탐색 범위가 큰 상황에서의 탐색 많이 나옴 : 시간 복잡도 O(logn)"
   ]
  },
  {
   "cell_type": "code",
   "execution_count": 14,
   "id": "4dbe1b27",
   "metadata": {},
   "outputs": [
    {
     "name": "stdout",
     "output_type": "stream",
     "text": [
      "10 7\n",
      "1 3 5 7 9 11 13 15 17 19\n",
      "4\n"
     ]
    }
   ],
   "source": [
    "# 이진 탐색 소스코드 구현 (재귀 함수)\n",
    "def binary_search(array, target, start, end):\n",
    "    if start> end:\n",
    "        return None\n",
    "    mid = (start+end)//2 #찾은 경우 중간점 인덱스 반환, 소수점 버림 몫\n",
    "    \n",
    "    if array[mid]==target:\n",
    "        return mid\n",
    "    \n",
    "    #중간점의 값보다 찾고자 하는 값이 작은 경우 왼쪽 확인\n",
    "    elif array[mid]>target:\n",
    "        return binary_search(array, target, start, mid-1)\n",
    "    \n",
    "    #중간점의 값보다 찾고자 하는 값이 큰 경우 오른쪽 확인\n",
    "    else:\n",
    "        return binary_search(array, target, mid+1, end)\n",
    "    \n",
    "#n(원소의 개수)와 target(찾고자 하는 문자열)을 입력받기\n",
    "n, target = list(map(int, input().split()))\n",
    "# 전체 원소 입력받기\n",
    "array= list(map(int, input().split()))\n",
    "\n",
    "#이진 탐색 수행 결과 출력\n",
    "result=binary_search(array, target, 0, n-1)\n",
    "if result == None :\n",
    "    print(\"원소가 존재하지 않습니다.\")\n",
    "else:\n",
    "    print(result+1)"
   ]
  },
  {
   "cell_type": "code",
   "execution_count": 16,
   "id": "8a810066",
   "metadata": {},
   "outputs": [
    {
     "name": "stdout",
     "output_type": "stream",
     "text": [
      "10 7\n",
      "1 3 5 7 9 11 13 15 17 19\n",
      "4\n"
     ]
    }
   ],
   "source": [
    "#이진 탐색 소스코드 구현(반복문)\n",
    "def binary_search(array, target, start, end):\n",
    "    while start<=end:\n",
    "        mid = (start+end)//2 #찾은 경우 중간점 인덱스 반환\n",
    "        \n",
    "        if array[mid]==target:\n",
    "            return mid\n",
    "        #중간점의 값보다 찾고자 하는 값이 작은 경우 왼쪽 확인\n",
    "        elif array[mid]>target:\n",
    "            end=mid-1\n",
    "        else: start=mid+1\n",
    "    return None\n",
    "\n",
    "#n(원소의 개수)와 target(찾고자 하는 문자열)을 입력받기\n",
    "n, target = list(map(int, input().split()))\n",
    "# 전체 원소 입력받기\n",
    "array= list(map(int, input().split()))\n",
    "\n",
    "#이진 탐색 수행 결과 출력\n",
    "result=binary_search(array, target, 0, n-1)\n",
    "if result == None :\n",
    "    print(\"원소가 존재하지 않습니다.\")\n",
    "else:\n",
    "    print(result+1)"
   ]
  },
  {
   "cell_type": "markdown",
   "id": "bfcfc950",
   "metadata": {},
   "source": [
    "#### 이진 탐색 트리\n",
    "- **왼쪽 자식 노드 < 부모 노드 < 오른쪽 자식 노드** "
   ]
  },
  {
   "cell_type": "markdown",
   "id": "6bc3d036",
   "metadata": {},
   "source": [
    "### 실전 문제 2. 부품 찾기"
   ]
  },
  {
   "cell_type": "code",
   "execution_count": 20,
   "id": "c8cd68db",
   "metadata": {},
   "outputs": [
    {
     "name": "stdout",
     "output_type": "stream",
     "text": [
      "5\n",
      "8 3 7 9 2\n",
      "3\n",
      "5 7 9\n",
      "no yes yes\n"
     ]
    }
   ],
   "source": [
    "N=int(input())\n",
    "N_list = list(map(int,input().split()))\n",
    "M=int(input())\n",
    "M_list = list(map(int,input().split()))\n",
    "\n",
    "def binary_search(array, target, start, end):\n",
    "    array.sort() #이진 탐색 정렬 가정\n",
    "    \n",
    "    while start<=end:\n",
    "        mid=(start+end)//2\n",
    "        if array[mid]==target:\n",
    "            return True\n",
    "        elif array[mid]>target:\n",
    "            end=mid-1\n",
    "        else: start=mid+1\n",
    "    return False\n",
    "\n",
    "result=[]\n",
    "for i in range(M):\n",
    "    if binary_search(N_list, M_list[i], 0 , N-1)==True:\n",
    "        result.append('yes')\n",
    "    else: result.append('no')\n",
    "\n",
    "print(*result)"
   ]
  },
  {
   "cell_type": "markdown",
   "id": "8ceba1ff",
   "metadata": {},
   "source": [
    "### 실전 문제 3. 떡볶이 떡 만들기"
   ]
  },
  {
   "cell_type": "code",
   "execution_count": 70,
   "id": "b55688c5",
   "metadata": {},
   "outputs": [
    {
     "name": "stdout",
     "output_type": "stream",
     "text": [
      "4 6\n",
      "19 15 10 17\n"
     ]
    }
   ],
   "source": [
    "N,M = map(int,input().split()) #N : 떡의 개수, M : 요청한 떡의 길이\n",
    "array=list(map(int, input().split()))\n",
    "\n",
    "def binary_search(array, target, start, end): #end는 max(array) 값   #절단 할 수 있는 후보 0~max(array)값    \n",
    "    while start<=end:\n",
    "        mid=(start+end)//2\n",
    "        compare=0\n",
    "        for i in range(len(array)):\n",
    "            if (array[i] > mid): #큰 경우에만 array에 더해서 잘라진 떡길이 sum\n",
    "                compare+=(array[i]-mid)\n",
    "        \n",
    "        if compare==target: #이렇게 하면 틀림\n",
    "            return mid\n",
    "        elif compare<target:\n",
    "            end=mid-1\n",
    "            print(\"case 2\")\n",
    "            print(start, mid, end)\n",
    "        else: \n",
    "            print(\"case 3\")\n",
    "            start=mid+1\n",
    "            print(start, mid, end)\n",
    "    \n",
    "    return mid\n"
   ]
  },
  {
   "cell_type": "code",
   "execution_count": 71,
   "id": "f2438692",
   "metadata": {},
   "outputs": [
    {
     "name": "stdout",
     "output_type": "stream",
     "text": [
      "case 3\n",
      "10 9 19\n",
      "case 3\n",
      "15 14 19\n",
      "case 2\n",
      "15 17 16\n"
     ]
    },
    {
     "data": {
      "text/plain": [
       "15"
      ]
     },
     "execution_count": 71,
     "metadata": {},
     "output_type": "execute_result"
    }
   ],
   "source": [
    "binary_search(array, M, 0 , max(array)) #M=6"
   ]
  },
  {
   "cell_type": "markdown",
   "id": "c88a302c",
   "metadata": {},
   "source": [
    "#### 질문.. \n",
    "- 5인 경우에도 15가 답이 되어나와야 하는데 적어도 M이라 해서 어느 부분에서 처리해줘야할지 모르겠음\n",
    "- 조건에 따라 case 2, case3에서 while 문을 빠져나오는 지 모르니 그 전에 mid값으로 return 해줘도 이상한 것같움..."
   ]
  },
  {
   "cell_type": "code",
   "execution_count": 72,
   "id": "8277e0d7",
   "metadata": {
    "scrolled": false
   },
   "outputs": [
    {
     "name": "stdout",
     "output_type": "stream",
     "text": [
      "case 3\n",
      "10 9 19\n",
      "case 3\n",
      "15 14 19\n",
      "case 2\n",
      "15 17 16\n",
      "case 3\n",
      "16 15 16\n",
      "case 2\n",
      "16 16 15\n"
     ]
    },
    {
     "data": {
      "text/plain": [
       "16"
      ]
     },
     "execution_count": 72,
     "metadata": {},
     "output_type": "execute_result"
    }
   ],
   "source": [
    "binary_search(array,5,0,max(array)) #질문 이래서 같을때로 자르면 안됨"
   ]
  },
  {
   "cell_type": "code",
   "execution_count": 74,
   "id": "65ece99d",
   "metadata": {},
   "outputs": [
    {
     "name": "stdout",
     "output_type": "stream",
     "text": [
      "4 6\n",
      "19 15 10 17\n"
     ]
    }
   ],
   "source": [
    "N,M = map(int,input().split()) #N : 떡의 개수, M : 요청한 떡의 길이\n",
    "array=list(map(int, input().split()))\n",
    "result=0\n",
    "\n",
    "def binary_search(array, target, start, end): #end는 max(array) 값   #절단 할 수 있는 후보 0~max(array)값    \n",
    "    while start<=end:\n",
    "        mid=(start+end)//2\n",
    "        compare=0\n",
    "        for i in range(len(array)):\n",
    "            if (array[i] > mid): #큰 경우에만 array에 더해서 잘라진 떡길이 sum\n",
    "                compare+=(array[i]-mid)\n",
    "        \n",
    "        if compare<target:\n",
    "            end=mid-1\n",
    "            print(\"case 2\")\n",
    "            print(start, mid, end)\n",
    "        else:\n",
    "            #떡의 길이 합이 필요한 떡의 길이보다 크거나 같을 때마다 결과값을 중간점으로 갱신\n",
    "            result=mid #덜 잘랐을때가 정답\n",
    "            print(\"case 3\")\n",
    "            start=mid+1\n",
    "            print(start, mid, end)\n",
    "    \n",
    "    return result\n"
   ]
  },
  {
   "cell_type": "code",
   "execution_count": 75,
   "id": "bdcf10e6",
   "metadata": {},
   "outputs": [
    {
     "name": "stdout",
     "output_type": "stream",
     "text": [
      "case 3\n",
      "10 9 19\n",
      "case 3\n",
      "15 14 19\n",
      "case 2\n",
      "15 17 16\n",
      "case 3\n",
      "16 15 16\n",
      "case 2\n",
      "16 16 15\n"
     ]
    },
    {
     "data": {
      "text/plain": [
       "15"
      ]
     },
     "execution_count": 75,
     "metadata": {},
     "output_type": "execute_result"
    }
   ],
   "source": [
    "binary_search(array,5,0,max(array))"
   ]
  },
  {
   "cell_type": "markdown",
   "id": "4b091e66",
   "metadata": {},
   "source": [
    "### 백준 1920번 수찾기"
   ]
  },
  {
   "cell_type": "code",
   "execution_count": 11,
   "id": "edb5349a",
   "metadata": {},
   "outputs": [
    {
     "name": "stdout",
     "output_type": "stream",
     "text": [
      "5\n",
      "4 1 5 2 3\n",
      "5\n",
      "1 3 7 9 5\n",
      "1\n",
      "1\n",
      "0\n",
      "0\n",
      "1\n"
     ]
    }
   ],
   "source": [
    "N=int(input())\n",
    "N_list=list(map(int, input().split()))\n",
    "M=int(input())\n",
    "M_list=list(map(int, input().split()))\n",
    "N_list.sort()\n",
    "\n",
    "def binary_search(array, target, start, end):\n",
    "    while start<=end:\n",
    "        mid=(start+end)//2\n",
    "        if array[mid]==target:\n",
    "            print(1)\n",
    "            return True\n",
    "        elif array[mid]>target:\n",
    "            end=mid-1\n",
    "        else: start=mid+1\n",
    "    \n",
    "    print(0)\n",
    "for i in range(M):\n",
    "    binary_search(N_list, M_list[i], 0, N-1)"
   ]
  },
  {
   "cell_type": "markdown",
   "id": "e776c9cb",
   "metadata": {},
   "source": [
    "### 백준 1654번 랜선 자르기"
   ]
  },
  {
   "cell_type": "code",
   "execution_count": 64,
   "id": "44449429",
   "metadata": {},
   "outputs": [
    {
     "name": "stdout",
     "output_type": "stream",
     "text": [
      "4 11\n",
      "802\n",
      "450\n",
      "537\n",
      "640\n"
     ]
    }
   ],
   "source": [
    "import sys\n",
    "\n",
    "K,N=map(int, input().split())\n",
    "array=[int(input()) for _ in range(K)]\n",
    "\n",
    "result=0\n",
    "def binary_search(array, target, start, end):\n",
    "    while start<=end:\n",
    "        mid=(start+end)//2\n",
    "        compare=0\n",
    "        for i in range(K):\n",
    "            compare+=(array[i]//mid)\n",
    "        \n",
    "        if compare<target:\n",
    "            end=mid-1\n",
    "        else: \n",
    "            result=mid\n",
    "            start=mid+1\n",
    "        \n",
    "    return result\n"
   ]
  },
  {
   "cell_type": "code",
   "execution_count": 66,
   "id": "42b8351b",
   "metadata": {},
   "outputs": [
    {
     "name": "stdout",
     "output_type": "stream",
     "text": [
      "200\n"
     ]
    }
   ],
   "source": [
    "print(binary_search(array, N,1, max(array)))"
   ]
  },
  {
   "cell_type": "code",
   "execution_count": null,
   "id": "4ca4e34c",
   "metadata": {},
   "outputs": [],
   "source": [
    "### 이때는 target==compare 이 케이스에서 찾으면 안되는 건가? N개를 만든다는 건 N개 이상 만드는 걸 포함하니까?  맞음.."
   ]
  },
  {
   "cell_type": "markdown",
   "id": "79951464",
   "metadata": {},
   "source": [
    "### 백준 1300번 K번째 수 - 포기"
   ]
  },
  {
   "cell_type": "code",
   "execution_count": 28,
   "id": "22fa5b2f",
   "metadata": {},
   "outputs": [
    {
     "name": "stdout",
     "output_type": "stream",
     "text": [
      "3\n",
      "7\n"
     ]
    }
   ],
   "source": [
    "N=int(input())\n",
    "K=int(input())\n",
    "array=[[0 for j in range(N)] for i in range(N)]\n",
    "for i in range(N):\n",
    "    for j in range(N):\n",
    "        array[i][j] = (i+1)*(j+1)\n",
    "\n",
    "array2=sum(array,[])\n",
    "array2.sort()\n",
    "array[K-1]"
   ]
  },
  {
   "cell_type": "code",
   "execution_count": null,
   "id": "74f82939",
   "metadata": {},
   "outputs": [],
   "source": []
  }
 ],
 "metadata": {
  "kernelspec": {
   "display_name": "Python 3 (ipykernel)",
   "language": "python",
   "name": "python3"
  },
  "language_info": {
   "codemirror_mode": {
    "name": "ipython",
    "version": 3
   },
   "file_extension": ".py",
   "mimetype": "text/x-python",
   "name": "python",
   "nbconvert_exporter": "python",
   "pygments_lexer": "ipython3",
   "version": "3.9.12"
  }
 },
 "nbformat": 4,
 "nbformat_minor": 5
}
