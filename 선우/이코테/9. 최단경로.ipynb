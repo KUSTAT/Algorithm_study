{
 "cells": [
  {
   "cell_type": "markdown",
   "id": "98321d6a",
   "metadata": {},
   "source": [
    "### 최단 경로 case\n",
    "1. 한 지점에서 다른 특정 지점까지의 최단 경로를 구해야 하는 경우 - **다익스트라 최단 경로 알고리즘**\n",
    "2. 모든 지점에서 다른 모든 지점까지의 최단 경로 - **플로이드 워셜**"
   ]
  },
  {
   "cell_type": "markdown",
   "id": "72c64060",
   "metadata": {},
   "source": [
    "### 다익스트라 최단 경로 알고리즘\n",
    "- 특정한 노드에서 출발하여 다른 노드로 가는 각각의 최단 경로를 구해주는 알고리즘\n",
    "- 기본적으로 그리디 알고리즘으로 분류\n",
    "- 가장 비용이 적은 노드를 선택해 반복"
   ]
  },
  {
   "cell_type": "markdown",
   "id": "bc368c79",
   "metadata": {},
   "source": [
    "#### 다익스트라 알고리즘 과정\n",
    "1. 출발 노드 설정\n",
    "2. 최단 거리 테이블을 초기화\n",
    "3. 방문하지 않은 노드 중에서 **최단 거리가 가장 짧은 노드**를 선택\n",
    "4. 해당 노드를 거쳐 다른 노드로 가는 비용을 계산하여 **최단 거리 테이블**을 갱신\n",
    "5. 3,4 반복\n",
    "\n",
    "- '각 노드에 대한 현재까지의 최단 거리'를 항상 1차원 리스트에 저장하며 리스트를 계속 갱신\n",
    "- 매번 현재 처리하고 있는 노드를 기준으로 주변 간선 확인\n",
    "- 한 단계당 하나의 노드에 대한 최단 거리를 찾을 수 있음"
   ]
  },
  {
   "cell_type": "code",
   "execution_count": 5,
   "id": "b22c8569",
   "metadata": {},
   "outputs": [
    {
     "name": "stdout",
     "output_type": "stream",
     "text": [
      "6 11\n",
      "1\n",
      "1 2 2\n",
      "1 3 5\n",
      "1 4 1\n",
      "2 3 3\n",
      "2 4 2\n",
      "3 2 3\n",
      "3 6 5\n",
      "4 3 3\n",
      "4 5 1\n",
      "5 3 1\n",
      "5 6 2\n",
      "0\n",
      "2\n",
      "3\n",
      "1\n",
      "2\n",
      "4\n"
     ]
    }
   ],
   "source": [
    "# 방법 1 : 구현하기 쉽지만 느리게 동작하는 코드\n",
    "#단계마다 '방문하지 않은 노드 중에서 최단 거리가 가장 짧은 노드를 선택'하기 위해 매 단계마다 1차원 리스트의 모든 원소를 확인(순차 탐색)\n",
    "\n",
    "INF = int(1e9) #무한을 의미하는 값으로 10억 설정\n",
    "\n",
    "#노드의 개수, 간선의 개수 입력\n",
    "n,m = map(int, input().split())\n",
    "#시작 노드 번호 입력\n",
    "start = int(input())\n",
    "#각 노드에 연결되어 있는 노드에 대한 정보를 담는 리스트 만들기\n",
    "graph =[[] for i in range(n+1)]\n",
    "#방문한 적이 있는지 체크하는 목적의 리스트 만들기\n",
    "visited = [False]*(n+1)\n",
    "#최단 거리 테이블을 모두 무한으로 초기화\n",
    "distance =[INF]*(n+1)\n",
    "\n",
    "#모든 간선 정보를 입력받기\n",
    "for _ in range(m):\n",
    "    a,b,c = map(int, input().split())\n",
    "    #a번 노드에서 b번 노드로 가는 비용이 c라는 의미\n",
    "    graph[a].append((b,c))\n",
    "\n",
    "#방문하지 않은 노드 중에서, 가장 최단 거리가 짧은 노드의 번호를 반환\n",
    "def get_smallest_node():\n",
    "    min_value = INF\n",
    "    index = 0 #가장 최단 거리가 짧은 노드(인덱스)\n",
    "    for i in range(1,n+1):\n",
    "        if distance[i]<min_value and not visited[i]:\n",
    "            min_value = distance[i]\n",
    "            index = i\n",
    "    return index\n",
    "\n",
    "def dijkstra(start):\n",
    "    #시작 노드에 대해서 초기화\n",
    "    distance[start]=0\n",
    "    visited[start]=True\n",
    "    for j in graph[start]:\n",
    "        distance[j[0]] = j[1]\n",
    "    #시작 노드를 제외한 전체 n-1개의 노드에서 반복\n",
    "    for j in range(n-1):\n",
    "        #현재 최단 거리가 가장 짧은 노드를 꺼내서, 방문처리\n",
    "        now = get_smallest_node()\n",
    "        visited[now]=True\n",
    "        #현재 노드와 연결된 다른 노드를 확인\n",
    "        for j in graph[now]:\n",
    "            cost = distance[now]+j[1]\n",
    "            #현재 노드를 거쳐서 다른 노드로 이동하는 거리가 더 짧은 경우\n",
    "            if cost < distance[j[0]]:\n",
    "                distance[j[0]] = cost\n",
    "    \n",
    "#다익스트라 알고리즘 수행\n",
    "dijkstra(start)\n",
    "\n",
    "\n",
    "#모든 노드로 가기 위한 최단 거리를 출력\n",
    "for i in range(1, n+1):\n",
    "    #도달할 수 없는 경우, 무한(INFINITY)이라고 출력\n",
    "    if distance[i] == INF:\n",
    "        print(\"INFINITY\")\n",
    "    #도달할 수 있는 경우 거리를 출력\n",
    "    else:\n",
    "        print(distance[i])\n",
    "                \n",
    "\n",
    "        \n",
    "            "
   ]
  },
  {
   "cell_type": "markdown",
   "id": "d96b724c",
   "metadata": {},
   "source": [
    "### 방법 2 : 개선된 다익스트라 알고리즘 - 힙 자료구조를 사용 \n",
    "#### 우선순위 큐 \n",
    "- 우선순위가 가장 높은 데이터를 가장 먼저 삭제한다는 점 특징\n",
    "- 모든 물건 데이터를 (가치, 물건)으로 묶어서 우선순위 큐 자료구조에 넣음 -> 이렇게 넣으면 항상 가치가 높은 물건이 먼저 나오게 됨\n",
    "- 파이썬 라이브러리는 기본적으로 최소 힙 구조 사용 \n",
    "- 다익스트라 최단 경로 알고리즘에서는 비용이 적은 노드를 우선하여 방문하므로 최소 힙 구조를 그대로 사용하면 됨\n",
    "- **단순히 우선순위 큐**를 이용해서 시작 노드로부터 '거리'가 짧은 노드 순서대로 큐에서 나올 수 있도록 다익스트라 알고리즘을 작성하면 됨\n",
    "- 우선 순위 큐는 각 원소를 거리가 짧은 순서대로 왼쪽부터 나열"
   ]
  },
  {
   "cell_type": "code",
   "execution_count": 7,
   "id": "6f322e81",
   "metadata": {},
   "outputs": [
    {
     "name": "stdout",
     "output_type": "stream",
     "text": [
      "6 11\n",
      "1\n",
      "1 2 2\n",
      "1 3 5\n",
      "1 4 1\n",
      "2 3 3\n",
      "2 4 2\n",
      "3 2 3\n",
      "3 6 5\n",
      "4 3 3\n",
      "4 5 1\n",
      "5 3 1\n",
      "5 6 2\n",
      "0\n",
      "2\n",
      "3\n",
      "1\n",
      "2\n",
      "4\n"
     ]
    }
   ],
   "source": [
    "#방법 2 : 개선된 다익스트라 알고리즘 - 힙 자료구조를 사용 \n",
    "# (거리, 노드)의 정보를 우선 순위 큐에 넣으면 됨 그러면 거리를 기준으로 우선순위 큐가 구성됨\n",
    "# 우선순위 큐에서 노드를 꺼낸 뒤에 해당 노드를 이미 처리한 적이 있다면 무시하면 되고, 아직 처리하지 않은 노드에 대해서만 처리하면 됨\n",
    "# 최단 거리가 가장 짧은 노드를 선택하는 과정을 다익스트라 최단 경로 함수 안에서 우선순위 큐를 이용하는 방식으로 대체\n",
    "\n",
    "\n",
    "import heapq\n",
    "INT = int(1e9) \n",
    "\n",
    "n,m =map(int, input().split())\n",
    "start = int(input())\n",
    "graph =[[] for i in range(n+1)]\n",
    "distance =[INF]*(n+1)\n",
    "\n",
    "for _ in range(m):\n",
    "    a,b,c = map(int, input().split()) #a번 노드에서 b번 노드로 가는 비용이 c라는 의미\n",
    "    graph[a].append((b,c))\n",
    "    \n",
    "def dijkstra(start):\n",
    "    q=[]\n",
    "    #시작 노드로 가기 위한 최단 경로는 0으로 설정하여 큐에 삽입\n",
    "    heapq.heappush(q, (0,start))\n",
    "    distance[start]=0\n",
    "    while q: #큐가 비어있지 않다면\n",
    "        #가장 최단 거리가 짧은 노드에 대한 정보 꺼내기\n",
    "        dist , now = heapq.heappop(q)\n",
    "        #현재 노드가 이미 처리된 적이 있는 노드라면 무시\n",
    "        if distance[now] < dist:\n",
    "            continue\n",
    "        #현재 노드와 연결된 다른 인접한 노드들을 확인\n",
    "        for i in graph[now]:\n",
    "            cost = dist+i[1]\n",
    "            #현재 노드를 거쳐서, 다른 노드로 이동하는 거리가 더 짧은 경우\n",
    "            if cost < distance[i[0]]:\n",
    "                distance[i[0]]=cost\n",
    "                heapq.heappush(q,(cost, i[0]))\n",
    "\n",
    "#다익스트라 알고리즘을 수행\n",
    "dijkstra(start)\n",
    "\n",
    "#모든 노드로 가기 위한 최단 거리를 출력\n",
    "for i in range(1,n+1):\n",
    "    #도달할 수 없는 경우, 무한으로 출력\n",
    "    if distance[i] == INF:\n",
    "        print(\"INFINITY\")\n",
    "    else: print(distance[i])"
   ]
  },
  {
   "cell_type": "markdown",
   "id": "a941e519",
   "metadata": {},
   "source": [
    "### 플로이드 워셜 알고리즘\n",
    "- 모든 지점에서 다른 모든 지점까지의 최단 경로를 모두 구해야 하는 경우\n",
    "-'거쳐가는 노드를 기준으로 알고리즘 수행은 동일' 하지만 매번 방문하지 않은 노드 중에서 최단 거리를 갖는 노드를 찾을 필요가 없다는 점이 다름\n",
    "- 다익스트라 알고리즘은 그리디 알고리즘인데, 플로이드 워셜 알고리즘은 다이나믹 프로그래밍이라는 특징 (점화식 이용)\n",
    "- 3중 반복문을 이용"
   ]
  },
  {
   "cell_type": "code",
   "execution_count": 10,
   "id": "f4d25ef5",
   "metadata": {},
   "outputs": [
    {
     "name": "stdout",
     "output_type": "stream",
     "text": [
      "4\n",
      "7\n",
      "1 2 4\n",
      "1 4 6\n",
      "2 1 3\n",
      "2 3 7\n",
      "3 1 5\n",
      "3 4 4\n",
      "4 3 2\n",
      "0 4 8 6 \n",
      "3 0 7 9 \n",
      "5 9 0 4 \n",
      "7 11 2 0 \n"
     ]
    }
   ],
   "source": [
    "INF = int(1e9)\n",
    "\n",
    "#노드의 개수 및 간선의 개수를 입력받기\n",
    "n = int(input())\n",
    "m=  int(input())\n",
    "#2차원 리스트를 만들고 모든 값을 무한으로 초기화 \n",
    "graph =[[INF]*(n+1) for _ in range(n+1)]\n",
    "\n",
    "#자기 자신에서 자기 자신으로 가는 비용은 0으로 초기화\n",
    "for a in range(1,n+1):\n",
    "    for b in range(1,n+1):\n",
    "        if a==b:\n",
    "            graph[a][b]=0\n",
    "            \n",
    "#각 간선에 대한 정보를 입력받아, 그 값으로 초기화\n",
    "for _ in range(m):\n",
    "    #A에서 B로 가는 비용을 C라고 설정\n",
    "    a,b,c = map(int, input().split())\n",
    "    graph[a][b]=c\n",
    "\n",
    "#점화식에 따라 플로이드 워셜 알고리즘을 수행\n",
    "for k in range(1,n+1):\n",
    "    for a in range(1,n+1):\n",
    "        for b in range(1,n+1):\n",
    "            graph[a][b] = min(graph[a][b] , graph[a][k]+graph[k][b])\n",
    "\n",
    "#수행된 결과를 출력\n",
    "for a in range(1,n+1):\n",
    "    for b in range(1,n+1):\n",
    "        #도달할 수 없는 경우 무한으로 출력\n",
    "        if graph[a][b]==INF:\n",
    "            print(\"INFINITY\", end=\" \")\n",
    "        else: print(graph[a][b], end=' ')\n",
    "    print()"
   ]
  },
  {
   "cell_type": "markdown",
   "id": "d7a07af4",
   "metadata": {},
   "source": [
    "### 2. 미래도시\n",
    "- 플로이드 워셜 알고리즘 문제"
   ]
  },
  {
   "cell_type": "code",
   "execution_count": 21,
   "id": "addec7a6",
   "metadata": {},
   "outputs": [
    {
     "name": "stdout",
     "output_type": "stream",
     "text": [
      "5 7\n",
      "1 2\n",
      "1 3\n",
      "1 4\n",
      "2 4\n",
      "3 4\n",
      "3 5\n",
      "4 5\n",
      "4 5\n",
      "3\n"
     ]
    }
   ],
   "source": [
    "#회사의 개수, 경로의 개수\n",
    "INF = int(1e9)\n",
    "N,M=map(int, input().split())\n",
    "graph =[[INF] * (N+1) for _ in range(N+1)]\n",
    "\n",
    "for a  in range(1,N+1):\n",
    "    for b in range(1,N+1):\n",
    "        if a==b:\n",
    "            graph[a][b]=0\n",
    "            \n",
    "            \n",
    "for _ in range(M):\n",
    "    a,b = map(int, input().split())\n",
    "    graph[a][b] = 1\n",
    "    graph[b][a] = 1\n",
    "\n",
    "X,K = map(int, input().split())\n",
    "for k in range(1,N+1):\n",
    "    for a in range(1,N+1):\n",
    "        for b in range(1,N+1):\n",
    "            graph[a][b] = min(graph[a][b], graph[a][k]+graph[k][b])\n",
    "\n",
    "#1번에서 k가는 최단 거리랑 k에서 x가는 걸 더해주면 됨\n",
    "if graph[1][K]==INF or graph[K][X] == INF:\n",
    "    print(-1)\n",
    "else:print(graph[1][K]+graph[K][X])"
   ]
  },
  {
   "cell_type": "markdown",
   "id": "d1846db0",
   "metadata": {},
   "source": [
    "### 3. 전보\n",
    "- 다익스트라 알고리즘"
   ]
  },
  {
   "cell_type": "code",
   "execution_count": 35,
   "id": "96722d1f",
   "metadata": {},
   "outputs": [
    {
     "name": "stdout",
     "output_type": "stream",
     "text": [
      "3 2 1\n",
      "1 2 4\n",
      "1 3 2\n",
      "2 4\n"
     ]
    }
   ],
   "source": [
    "INF = int(1e9)\n",
    "N,M,start = map(int, input().split()) #C:start\n",
    "# 각 노드에 연결되어있는 노드에 대한 정보를 담는 리스트\n",
    "graph =[[] for _ in range(N+1)]\n",
    "#최단 거리 테이블을 모두 무한으로 초기화\n",
    "distance = [INF] * (N+1)\n",
    "\n",
    "\n",
    "for i in range(M):\n",
    "    a,b,c = map(int, input().split())\n",
    "    graph[a].append((b,c))\n",
    "    \n",
    "def dijkstra(start):\n",
    "    q=[]\n",
    "    #시작노드로 가기 위한 최단 경로는 0으로 설정하여 큐에 삽입\n",
    "    heapq.heappush(q,(0,start))\n",
    "    distance[start] = 0\n",
    "    while q:\n",
    "        dist, now = heapq.heappop(q)\n",
    "        if dist> distance[now]:\n",
    "            continue\n",
    "        #현재 노드와 연결된 다른 인접한 노드들을 확인\n",
    "        for i in graph[now]:\n",
    "            cost = dist + i[1]\n",
    "            if cost < distance[i[0]]:\n",
    "                distance[i[0]] = cost\n",
    "                heapq.heappush(q,(cost, i[0]))\n",
    "    remove_set = {INF , 0}\n",
    "    result =[i for i in distance if i not in remove_set]\n",
    "    print( len(result), max(result))\n",
    "    \n",
    "                \n",
    "dijkstra(start)\n",
    "    "
   ]
  },
  {
   "cell_type": "code",
   "execution_count": null,
   "id": "9ba6d96a",
   "metadata": {},
   "outputs": [],
   "source": []
  }
 ],
 "metadata": {
  "kernelspec": {
   "display_name": "Python 3 (ipykernel)",
   "language": "python",
   "name": "python3"
  },
  "language_info": {
   "codemirror_mode": {
    "name": "ipython",
    "version": 3
   },
   "file_extension": ".py",
   "mimetype": "text/x-python",
   "name": "python",
   "nbconvert_exporter": "python",
   "pygments_lexer": "ipython3",
   "version": "3.9.12"
  }
 },
 "nbformat": 4,
 "nbformat_minor": 5
}
