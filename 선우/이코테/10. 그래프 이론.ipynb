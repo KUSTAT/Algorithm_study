{
 "cells": [
  {
   "cell_type": "markdown",
   "id": "9214e1d6",
   "metadata": {},
   "source": [
    "- 알고리즘 문제를 접했을 때 '서로 다른 개체(혹은 객체)가 연결되어 있다'는 이야기를 들으면 가장 먼저 그래프 알고리즘을 떠올려야함\n",
    "- 더불어 그래프 자료구조 중에서 **트리 자료구조**"
   ]
  },
  {
   "cell_type": "markdown",
   "id": "8284489e",
   "metadata": {},
   "source": [
    "### 서로소 집합 자료 구조\n",
    "- 서로소 부분 집합들로 나누어진 원소들의 데이터를 처리하기 위한 자료구조\n",
    "- union, find 이 2개의 연산으로 조작 가능\n",
    "- 서로소 집합 자료구조는 합집합과 찾기 연산으로 구성\n"
   ]
  },
  {
   "cell_type": "markdown",
   "id": "92895d98",
   "metadata": {},
   "source": [
    "#### 트리 자료구조를 이용해서 집합을 표현하는 서로소 집합 계산 알고리즘\n",
    "1. union(합집합) 연산을 확인하여, 서로 연결된 두 노드 A,B를 확인한다.\\\n",
    " 1-1 . A와 B의 루트 노드 A', B'를 각각 찾는다. \\\n",
    " 1-2 . A'를 B'의 부모노드로 설정한다. (B'가 A'를 가리키도록 한다.)\n",
    "2. 모든 union(합집합) 연산을 처리할때 1번 과정을 반복\n",
    "\\\n",
    "\\\n",
    "**서로소 집합 알고리즘으로 루트를 찾기 위해서는 재귀적으로 부모를 거슬러 올라가야함**\n"
   ]
  },
  {
   "cell_type": "markdown",
   "id": "e893f78d",
   "metadata": {},
   "source": [
    "- 이렇게 구현하면 답을 구할 수 는 있지만, find 함수가 비효율적으로 동작함\n",
    "- 최악의 경우, find 함수가 모든 노드를 다 확인하는 터라 시간 복잡도가 O(V)"
   ]
  },
  {
   "cell_type": "code",
   "execution_count": 8,
   "id": "bae1f5fb",
   "metadata": {},
   "outputs": [
    {
     "name": "stdout",
     "output_type": "stream",
     "text": [
      "6 4\n",
      "1 4\n",
      "2 3\n",
      "2 4\n",
      "5 6\n",
      "각 원소가 속한 집합: 1 1 1 1 5 5 \n",
      "부모 테이블: 1 1 2 1 5 5 "
     ]
    }
   ],
   "source": [
    "# 특정 원소가 속한 집합을 찾기\n",
    "def find_parent(parent, x):\n",
    "    #루트 노드가 아니라면, 루트 노드를 찾을 때까지 재귀적으로 호출\n",
    "    if parent[x]!=x:\n",
    "        return find_parent(parent, parent[x])\n",
    "    return x\n",
    "\n",
    "#두 원소가 속한 집합을 합치기\n",
    "def union_parent(parent,a,b):\n",
    "    a = find_parent(parent,a)\n",
    "    b = find_parent(parent,b)\n",
    "    if a<b:\n",
    "        parent[b]=a\n",
    "    else: parent[a] = b\n",
    "         \n",
    "#노드의 개수와 간선의 개수 입력받기\n",
    "v,e = map(int , input().split())\n",
    "parent =[0]*(v+1)\n",
    "\n",
    "#부모 테이블 상에서 , 부모를 자기 자신으로 초기화\n",
    "for i in range(1,v+1):\n",
    "    parent[i]=i\n",
    "\n",
    "#union 연산을 각각 수행\n",
    "for i in range(e):\n",
    "    a,b = map(int, input().split())\n",
    "    union_parent(parent,a,b)\n",
    "\n",
    "#각 원소가 속한 집합 출력\n",
    "print('각 원소가 속한 집합: ', end='')\n",
    "for i in range(1,v+1):\n",
    "    print(find_parent(parent,i), end=' ')\n",
    "\n",
    "print()\n",
    "\n",
    "#부모 테이블 내용 출력\n",
    "print('부모 테이블: ', end='')\n",
    "for i in range(1,v+1):\n",
    "    print(parent[i], end=' ')"
   ]
  },
  {
   "cell_type": "markdown",
   "id": "e58c904c",
   "metadata": {},
   "source": [
    "#### 이러한 find 함수는 아주 간단한 과정으로 최적화 가능\n",
    "#### 경로 압축 기법 적용\n",
    "- 경로 압축은 find 함수를 재귀적으로 호출한 뒤에 부모 테이블 값을 갱신하는 기법"
   ]
  },
  {
   "cell_type": "code",
   "execution_count": 12,
   "id": "c53dcae7",
   "metadata": {},
   "outputs": [
    {
     "name": "stdout",
     "output_type": "stream",
     "text": [
      "6 4\n",
      "1 4\n",
      "2 3\n",
      "2 4\n",
      "5 6\n",
      "각 원소가 속한 집합: 1 1 1 1 5 5 \n",
      "부모 테이블: 1 1 1 1 5 5 "
     ]
    }
   ],
   "source": [
    "#경로 압축 기법 소스 코드(이 부분만 바뀜)\n",
    "def find_parent(parent,x):\n",
    "    if parent[x]!=x:\n",
    "        parent[x] = find_parent(parent,parent[x])\n",
    "    return parent[x]\n",
    "\n",
    "#두 원소가 속한 집합을 합치기\n",
    "def union_parent(parent,a,b):\n",
    "    a = find_parent(parent,a)\n",
    "    b = find_parent(parent,b)\n",
    "    if a<b:\n",
    "        parent[b]=a\n",
    "    else: parent[a] = b\n",
    "         \n",
    "#노드의 개수와 간선의 개수 입력받기\n",
    "v,e = map(int , input().split())\n",
    "parent =[0]*(v+1)\n",
    "\n",
    "#부모 테이블 상에서 , 부모를 자기 자신으로 초기화\n",
    "for i in range(1,v+1):\n",
    "    parent[i]=i\n",
    "\n",
    "#union 연산을 각각 수행\n",
    "for i in range(e):\n",
    "    a,b = map(int, input().split())\n",
    "    union_parent(parent,a,b)\n",
    "\n",
    "#각 원소가 속한 집합 출력\n",
    "print('각 원소가 속한 집합: ', end='')\n",
    "for i in range(1,v+1):\n",
    "    print(find_parent(parent,i), end=' ')\n",
    "\n",
    "print()\n",
    "\n",
    "#부모 테이블 내용 출력\n",
    "print('부모 테이블: ', end='')\n",
    "for i in range(1,v+1):\n",
    "    print(parent[i], end=' ')"
   ]
  },
  {
   "cell_type": "markdown",
   "id": "3c705da8",
   "metadata": {},
   "source": [
    "### 서로소 집합을 활용한 사이클 판별\n",
    "- 서로소 집합은 **무방향 그래프**내에서 사이클을 판별할 때 사용할 수 있다는 특징\n",
    "- 간선을 하나씩 확인하면서 두 노드가 포함되어 있는 집합을 합치는 과정을 반복하는 것만으로도 사이클을 판별할 수 있다\n",
    "\n",
    "1. 각 간선을 확인하며 두 노드의 루트 노드를 확인한다. \\\n",
    "1-1. 루트 노드가 서로 다르다면 두 노드에 대하여 union 연산을 수행한다.\\\n",
    "1-2. 루트 노드가 서로 같다면 사이클이 발생한 것이다. \n",
    "\n",
    "2. 그래프에 포함되어 있는 모든 간선에 대하여 1번 과정을 반복한다.\n",
    "\n",
    "#### 사이클 판별 알고리즘은 그래프에 포함되어 있는 간선의 개수가 E개 일때, 모든 간선을 하나씩 확인하며, 매 간선에 대하여 union 및 find 함수를 호출하는 방식으로 동작"
   ]
  },
  {
   "cell_type": "code",
   "execution_count": 14,
   "id": "7d0f7323",
   "metadata": {},
   "outputs": [
    {
     "name": "stdout",
     "output_type": "stream",
     "text": [
      "3 3\n",
      "1 2\n",
      "1 3\n",
      "2 3\n",
      "사이클이 발생했습니다.\n"
     ]
    }
   ],
   "source": [
    "###서로소 집합을 활용한 사이클 판별 소스코드\n",
    "\n",
    "#특정 원소가 속한 집합을 찾기\n",
    "def find_parent(parent,x):\n",
    "    if parent[x]!=x:\n",
    "        #루트 노드가 아니라면, 루트 노드를 찾을 때까지 재귀적으로 호출\n",
    "        parent[x] = find_parent(parent, parent[x])\n",
    "    return parent[x]\n",
    "\n",
    "#두 언소가 속한 집합을 합치기\n",
    "def union_parent(parent,a,b):\n",
    "    a = find_parent(parent,a)\n",
    "    b = find_parent(parent,b)\n",
    "    if a<b:\n",
    "        parent[b]=a\n",
    "    else: parent[a]=b\n",
    "        \n",
    "        \n",
    "#노드의 개수와 간선의 개수 입력받기\n",
    "v,e = map(int, input().split())\n",
    "parent = [0]*(v+1) #부모 테이블 초기화\n",
    "\n",
    "#부모 테이블 상에서, 부모를 자기 자신으로 초기화\n",
    "for i in range(1,v+1):\n",
    "    parent[i]=i\n",
    "    \n",
    "cycle=False\n",
    "\n",
    "for i in range(e):\n",
    "    a,b =map(int, input().split())\n",
    "    #사이클이 발생한 경우 종료\n",
    "    if find_parent(parent,a) == find_parent(parent,b):\n",
    "        cycle=True\n",
    "        break\n",
    "    else:union_parent(parent,a,b)\n",
    "        \n",
    "        \n",
    "        \n",
    "if cycle: print(\"사이클이 발생했습니다.\")\n",
    "else: print('사이클이 발생하지 않았습니다. ')\n",
    "\n",
    "\n"
   ]
  },
  {
   "cell_type": "markdown",
   "id": "3824e757",
   "metadata": {},
   "source": [
    "#### 신장트리\n",
    "- 그래프 알고리즘 문제로 자주 출제되는 문제 유형\n",
    "- 신장 트리란 하나의 그래프가 있을 때 모든 노드를 포함하면서 사이클이 존재하지 않는 부분 그래프를 의미\n",
    "- 이때 모든 노드가 포함되어 서로 연결되면서 사이클이 존재하지 않는다는 조건이 트리의 성립 조건임!"
   ]
  },
  {
   "cell_type": "markdown",
   "id": "025c5456",
   "metadata": {},
   "source": [
    "### 크루스칼 알고리즘\n",
    "- 최소한의 비용으로 신장트리를 찾아야함! -> 최소 신장 트리 알고리즘이라고도 함\n",
    "- 가장 적은 비용으로 모든 노드를 연결할 수 있는 데 크루스칼 알고리즘은 그리디 알고리즘으로 분류\n",
    "\n",
    "1. 간선 데이터를 비용에 따라 오름차순으로 정렬\n",
    "2. 간선을 하나식 확인하며 현재의 간선이 사이클을 발생시키는지 확인\n",
    "2-1. 사이클이 발생하지 않는 경우, 최소 신장 트리에 포함\n",
    "2-2. 사이클이 발생하는 경우, 최소 신장 트리에 포함시키지 않는다.!\n",
    "3. 모든 간선에 대하여 2번 과정 반복\n",
    "\n"
   ]
  },
  {
   "cell_type": "code",
   "execution_count": 18,
   "id": "1e6108f7",
   "metadata": {},
   "outputs": [
    {
     "name": "stdout",
     "output_type": "stream",
     "text": [
      "7 9\n",
      "1 2 29\n",
      "1 5 75\n",
      "2 3 35\n",
      "2 6 34\n",
      "3 4 7\n",
      "4 6 23\n",
      "4 7 13\n",
      "5 6 53\n",
      "6 7 25\n",
      "159\n"
     ]
    }
   ],
   "source": [
    "#크루스칼 알고리즘 소스 코드\n",
    "def find_parent(parent,x):\n",
    "    #루트 노드가 아니라면, 루트 노드를 찾을 때까지 재귀적으로 호출\n",
    "    if parent[x]!=x:\n",
    "        parent[x] = find_parent(parent, parent[x])\n",
    "    return parent[x]\n",
    "\n",
    "\n",
    "#두 원소가 속한 집합을 합치기\n",
    "def union_parent(parent, a,b):\n",
    "    a = find_parent(parent,a)\n",
    "    b = find_parent(parent,b)\n",
    "    \n",
    "    if a<b:\n",
    "        parent[b]=a\n",
    "    else: parent[a]=b\n",
    "        \n",
    "    \n",
    "#노드의 개수와 간선(union 연산)의 개수 입력받기\n",
    "v,e = map(int, input().split())\n",
    "parent = [0]*(v+1) #부모 테이블 초기화\n",
    "\n",
    "#모든 간선을 담을 리스트와 최종 비용을 담을 변수\n",
    "edges =[]\n",
    "result =0\n",
    "\n",
    "#부모 테이블 상에서, 부모를 자기 자신으로 초기화\n",
    "for i in range(1,v+1):\n",
    "    parent[i] = i\n",
    "\n",
    "#모든 간선에 대한 정보를 입력받기\n",
    "for _ in range(e):\n",
    "    a,b,cost = map(int, input().split())\n",
    "    #비용 순으로 정렬하기 위해서 튜플의 첫 번재 원소를 비용으로 설정\n",
    "    edges.append((cost,a,b))\n",
    "    \n",
    "#간선을 비용순으로 정렬\n",
    "edges.sort()\n",
    "\n",
    "#간선을 하나씩 확인하며\n",
    "for edge in edges:\n",
    "    cost,a,b = edge\n",
    "    #사이클이 발생하지 않는 경우에만 집합에 포함\n",
    "    if find_parent(parent,a)!=find_parent(parent,b):\n",
    "        union_parent(parent,a,b)\n",
    "        result+=cost\n",
    "print(result)"
   ]
  },
  {
   "cell_type": "markdown",
   "id": "da6df5a3",
   "metadata": {},
   "source": [
    "### 실전 문제 2: 팀 결성"
   ]
  },
  {
   "cell_type": "code",
   "execution_count": 39,
   "id": "b15197bd",
   "metadata": {},
   "outputs": [
    {
     "name": "stdout",
     "output_type": "stream",
     "text": [
      "7 8\n",
      "0 1 3\n",
      "1 1 7\n",
      "0 7 6\n",
      "1 7 1\n",
      "0 3 7\n",
      "0 4 2\n",
      "0 1 1\n",
      "1 1 1\n",
      "NO\n",
      "NO\n",
      "YES\n"
     ]
    }
   ],
   "source": [
    "N,M = map(int, input().rstrip().split())\n",
    "\n",
    "def find_parent(parent, x):\n",
    "    if parent[x]!=x:\n",
    "        parent[x]=find_parent(parent,parent[x])\n",
    "    return parent[x]\n",
    "\n",
    "def union(parent,a,b):\n",
    "    root_a = find_parent(parent,a)\n",
    "    root_b = find_parent(parent,b)\n",
    "    if root_a > root_b:\n",
    "        parent[root_a] = root_b     \n",
    "    else: parent[root_b] = root_a\n",
    "        \n",
    "        \n",
    "        \n",
    "parent = [0]*(N+1)\n",
    "for i in range(1,N+1):\n",
    "    parent[i]=i\n",
    "\n",
    "\n",
    "result = []\n",
    "for i in range(M):\n",
    "    a,b,c = map(int, input().rstrip().split())\n",
    "    if a == 0: union(parent,b,c)\n",
    "    elif a==1: \n",
    "        if find_parent(parent,b) == find_parent(parent,c): result.append(\"YES\")\n",
    "        else: result.append(\"NO\")\n",
    "\n",
    "for var in result:\n",
    "    print(var)"
   ]
  },
  {
   "cell_type": "markdown",
   "id": "3b211a2d",
   "metadata": {},
   "source": [
    "### 실전문제 3: 도시 분할 계획"
   ]
  },
  {
   "cell_type": "code",
   "execution_count": 9,
   "id": "567abc91",
   "metadata": {},
   "outputs": [
    {
     "name": "stdout",
     "output_type": "stream",
     "text": [
      "7 12\n",
      "1 2 3\n",
      "1 3 2\n",
      "3 2 1\n",
      "2 5 2\n",
      "3 4 4\n",
      "7 3 6\n",
      "5 1 5\n",
      "1 6 2\n",
      "6 4 1\n",
      "6 5 3\n",
      "4 5 3\n",
      "6 7 4\n",
      "8\n"
     ]
    }
   ],
   "source": [
    "import sys\n",
    "input = sys.stdin.readline\n",
    "N,M = map(int, input().split())\n",
    "edges = []\n",
    "result = 0\n",
    "\n",
    "\n",
    "for i in range(M):\n",
    "    a,b,cost = map(int, input().split())\n",
    "    edges.append((cost,a,b))\n",
    "\n",
    "edges.sort()\n",
    "\n",
    "parent = [0] * (N+1)\n",
    "for i in range(1,N+1):\n",
    "    parent[i]=i\n",
    "    \n",
    "def find_parent(parent,x):\n",
    "    if parent[x]!=x:\n",
    "        parent[x] = find_parent(parent, parent[x])\n",
    "    return parent[x]\n",
    "\n",
    "def union(parent,a,b):\n",
    "    root_a = find_parent(parent,a)\n",
    "    root_b = find_parent(parent,b)\n",
    "    if root_a < root_b:\n",
    "        parent[root_b] = root_a\n",
    "    else: parent[root_a] = root_b\n",
    "max_cost = 0\n",
    "for edge in edges:\n",
    "    cost,a,b = edge\n",
    "    #사이클 존재하지 않을 때만\n",
    "    if find_parent(parent,a) !=find_parent(parent,b):\n",
    "        union(parent,a,b)\n",
    "        result += cost\n",
    "        max_cost = cost\n",
    "print(result - max_cost)"
   ]
  },
  {
   "cell_type": "markdown",
   "id": "63642c8a",
   "metadata": {},
   "source": [
    "#### 노드보다 edge수가 많으면 prim 알고리즘을 씀"
   ]
  },
  {
   "cell_type": "markdown",
   "id": "43a0ed2e",
   "metadata": {},
   "source": [
    "### 위상 정렬\n",
    "- 순서가 정해져 있는 일련의 작업을 차례대로 수행해야 할 때 사용할 수 있는 알고리즘\n",
    "- 방향 그래프의 모든 노드를 '방향성에 거스르지 않도록 순서대로 나열하는 것 \\\n",
    "ex) 선수 과목을 고려한 학습 순서 설정\n",
    "\n",
    "#### 진입 차수(indegree)\n",
    "- 진입 차수란 특정한 노드로 들어오는 간선의 개수"
   ]
  },
  {
   "cell_type": "markdown",
   "id": "98a64e55",
   "metadata": {},
   "source": [
    "#### 위상 정렬을 수행하는 구체적인 알고리즘 : 시간 복잡도 O(V+E)\n",
    "1. 진입차수가 0인 노드를 큐에 넣는다.\n",
    "2. 큐가 빌 대 까지 다음의 과정을 반복한다.\\\n",
    "2-1. 큐에서 원소를 꺼내 해당 노드에서 출발하는 간선을 그래프에서 제거한다 \\\n",
    "2-2. 새롭게 진입차수가 0이 된 노드를 큐에 넣는다.\n",
    "\n",
    "- 모든 원소를 방문하기 전에 큐가 빈다면 사이클이 존재한다고 판단할 수 있음\n",
    "- 다시 말해 큐에서 원소가 v번 추출되기 전에 큐가 비어버리면 사이클이 발생한 것 \\\n",
    "(사이틀이 존재하는 경웨 사이클에 포함되는 원소 중에서 어떠한 원소도 큐에 들어가지 못하기 때문)\n",
    "- 위상 정렬 문제에서는 사이클이 발생하지 않는다고 명시하는 경우가 더 많음"
   ]
  },
  {
   "cell_type": "code",
   "execution_count": 3,
   "id": "0c7bca7a",
   "metadata": {},
   "outputs": [
    {
     "name": "stdout",
     "output_type": "stream",
     "text": [
      "7 8\n",
      "1 2\n",
      "1 5\n",
      "2 3\n",
      "2 6\n",
      "3 4\n",
      "4 7\n",
      "5 6\n",
      "6 4\n",
      "1 2 5 3 6 4 7 "
     ]
    }
   ],
   "source": [
    "#위상 정렬 소스 코드\n",
    "from collections import deque\n",
    "\n",
    "#노드의 개수와 간선의 개수를 입력받기\n",
    "v,e = map(int, input().split())\n",
    "#모든 노드에 대한 진입 차수는 0으로 초기화\n",
    "indegree =[0]*(v+1)\n",
    "#각 노드에 연결된 간선 정보를 담기 위한 연결 리스트(그래프) 초기화\n",
    "graph =[[] for i in range(v+1)]\n",
    "\n",
    "#방향 그래프의 모든 간선 정보를 입력받기\n",
    "for _ in range(e):\n",
    "    a,b=map(int, input().split())\n",
    "    graph[a].append(b) #정점 A에서 B로 이동 가능\n",
    "    \n",
    "    #진입차수를 1증가\n",
    "    indegree[b]+=1\n",
    "\n",
    "#위상 정렬 함수\n",
    "def topology_sort():\n",
    "    result = [] #알고리즘 수행 결과를 담을 리스트\n",
    "    q = deque() #큐 기능을 위한 deque 라이브러리 사용\n",
    "    \n",
    "    #처음 시작할 대는 진입 차수가 0인 노드를 큐에 삽입\n",
    "    for i in range(1,v+1):\n",
    "        if indegree[i]==0:\n",
    "            q.append(i)\n",
    "            \n",
    "    #큐가 빌 때까지 반복\n",
    "    while q:\n",
    "        #큐에서 원소 꺼내기\n",
    "        now = q.popleft()\n",
    "        result.append(now)\n",
    "        #해당 원소와 연결된 노드들의 진입 차수에서 1빼기\n",
    "        for i in graph[now]:\n",
    "            indegree[i]-=1\n",
    "            #새롭게 진입차수가 0이 되는 노드를 큐에 삽입\n",
    "            if indegree[i] ==0:\n",
    "                q.append(i)\n",
    "                \n",
    "    #위상 정렬을 수행한 결과 출력\n",
    "    for i in result:\n",
    "        print(i, end=' ')\n",
    "\n",
    "topology_sort()"
   ]
  },
  {
   "cell_type": "code",
   "execution_count": 4,
   "id": "9b77ba65",
   "metadata": {},
   "outputs": [
    {
     "data": {
      "text/plain": [
       "[[], [2, 5], [3, 6], [4], [7], [6], [4], []]"
      ]
     },
     "execution_count": 4,
     "metadata": {},
     "output_type": "execute_result"
    }
   ],
   "source": [
    "graph"
   ]
  },
  {
   "cell_type": "markdown",
   "id": "f52e4b6d",
   "metadata": {},
   "source": [
    "### 실전문제 4"
   ]
  },
  {
   "cell_type": "code",
   "execution_count": 31,
   "id": "29fb2cfb",
   "metadata": {},
   "outputs": [
    {
     "name": "stdout",
     "output_type": "stream",
     "text": [
      "5\n",
      "10 -1\n",
      "10 1 -1\n",
      "4 1 -1\n",
      "4 3 1 -1\n",
      "3 3 -1\n",
      "10\n",
      "20\n",
      "14\n",
      "18\n",
      "17\n"
     ]
    }
   ],
   "source": [
    "from collections import deque\n",
    "N=int(input())\n",
    "graph =[[] for _ in range(N+1)] \n",
    "cost =[0]*(N+1)\n",
    "indegree =[0]*(N+1)\n",
    "for i in range(1,N+1):\n",
    "    a=list(map(int,input().split()))[:-1]\n",
    "    cost[i] = a[0]\n",
    "    indegree[i]=len(a[1:])\n",
    "    for j in a[1:]:\n",
    "        graph[j].append(i)\n",
    "        \n",
    "def topology_sort(cost, indegree):\n",
    "    result =copy.deepcopy(cost)\n",
    "    q=deque()\n",
    "    \n",
    "    for i in range(1,N+1):\n",
    "        if indegree[i]==0:\n",
    "            q.append(i)\n",
    "    while q:\n",
    "        now = q.popleft()\n",
    "        for i in graph[now]:\n",
    "            result[i] = max(result[i], result[now]+cost[i])\n",
    "            indegree[i]-=1\n",
    "            if indegree[i]==0: q.append(i)\n",
    "    for i in result[1:]:\n",
    "        print(i)\n",
    "        \n",
    "topology_sort(cost, indegree)"
   ]
  },
  {
   "cell_type": "markdown",
   "id": "8d2d90db",
   "metadata": {},
   "source": [
    "### 교재 해설"
   ]
  },
  {
   "cell_type": "code",
   "execution_count": 29,
   "id": "fc46ebaa",
   "metadata": {},
   "outputs": [
    {
     "name": "stdout",
     "output_type": "stream",
     "text": [
      "5\n",
      "10 -1\n",
      "10 1 -1\n",
      "4 1 -1\n",
      "4 3 1 -1\n",
      "3 3 -1\n",
      "10\n",
      "20\n",
      "14\n",
      "18\n",
      "17\n"
     ]
    }
   ],
   "source": [
    "from collections import deque\n",
    "import copy\n",
    "\n",
    "#노드의 개수 입력받기\n",
    "v = int(input())\n",
    "#모든 노드에 대한 진입차수는 0으로 초기화\n",
    "indegree = [0]*(v+1)\n",
    "#각 노드에 연결된 간선 정보를 담기 위한 연결 리스트(그래프) 초기화\n",
    "graph =[[] for i in range(v+1)]\n",
    "#각 강의 시간을 0으로 초기화\n",
    "time = [0]*(v+1)\n",
    "\n",
    "#방향 그래프의 모든 간선 정보를 입력받기\n",
    "for i in range(1,v+1):\n",
    "    data = list(map(int, input().split()))\n",
    "    time[i]=data[0]\n",
    "    for x in data[1:-1]:\n",
    "        indegree[i]+=1\n",
    "        graph[x].append(i)\n",
    "\n",
    "#위상 정렬 함수\n",
    "def topology_sort():\n",
    "    result = copy.deepcopy(time)\n",
    "    q = deque() #큐 기능을 위한 deque 라이브러리 사용\n",
    "    \n",
    "    #처음 시작할 때는 진입차수가 0인 노드를 큐에 삽입\n",
    "    for i in range(1,v+1):\n",
    "        if indegree[i]==0:\n",
    "            q.append(i)\n",
    "            \n",
    "    #큐가 빌 때 까지 반복\n",
    "    while q:\n",
    "        now = q.popleft()\n",
    "        #해당 원소와 연결된 노드들의 진입 차수에서 1빼기\n",
    "        for i in graph[now]:\n",
    "            result[i] = max(result[i], result[now]+time[i])\n",
    "            indegree[i]-=1\n",
    "            #새롭게 진입차수가 0이 되는 노드를 큐에 삽입\n",
    "            if indegree[i]==0:\n",
    "                q.append(i)\n",
    "    for i in range(1,v+1):\n",
    "        print(result[i])\n",
    "topology_sort()"
   ]
  },
  {
   "cell_type": "code",
   "execution_count": null,
   "id": "aed74879",
   "metadata": {},
   "outputs": [],
   "source": []
  }
 ],
 "metadata": {
  "kernelspec": {
   "display_name": "Python 3 (ipykernel)",
   "language": "python",
   "name": "python3"
  },
  "language_info": {
   "codemirror_mode": {
    "name": "ipython",
    "version": 3
   },
   "file_extension": ".py",
   "mimetype": "text/x-python",
   "name": "python",
   "nbconvert_exporter": "python",
   "pygments_lexer": "ipython3",
   "version": "3.9.12"
  }
 },
 "nbformat": 4,
 "nbformat_minor": 5
}
