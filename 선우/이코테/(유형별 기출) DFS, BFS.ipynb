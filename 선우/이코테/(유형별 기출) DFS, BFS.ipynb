{
 "cells": [
  {
   "cell_type": "markdown",
   "id": "ea17754e",
   "metadata": {},
   "source": [
    "### 15.특정 거리의 도시 찾기 \n",
    "- 최단 거리(간선 비용 같을 때) : BFS 이용 - 시간 초과"
   ]
  },
  {
   "cell_type": "code",
   "execution_count": 78,
   "id": "a6006d2a",
   "metadata": {},
   "outputs": [
    {
     "name": "stdout",
     "output_type": "stream",
     "text": [
      "4 4 1 1\n",
      "1 2\n",
      "1 3\n",
      "2 3\n",
      "2 4\n",
      "2 3\n"
     ]
    }
   ],
   "source": [
    "from collections import deque\n",
    "N,M,K,X= map(int, input().split())\n",
    "\n",
    "INF = 999999999\n",
    "graph = [[] for _ in range(N+1)] #연결되어 있는 리스트 넣기 \n",
    "distance = [INF] * (N+1)\n",
    "\n",
    "for i in range(M): #인접한 graph 정보\n",
    "    a,b = map(int, input().split())\n",
    "    graph[a].append(b) \n",
    "    \n",
    "def bfs(graph, start , end, distance):\n",
    "    queue = deque([start])\n",
    "    distance[start] = 0\n",
    "    while queue:\n",
    "        v=queue.popleft()\n",
    "        for i in graph[v]:\n",
    "            queue.append(i)\n",
    "            distance[i]=min(distance[v]+1, distance[i]) #최단거리 작은걸로 update\n",
    "            if i==end: return distance\n",
    "            else: pass\n",
    "\n",
    "for j in range(N): #end가 각 vertice\n",
    "    bfs(graph, X , j, distance )\n",
    "\n",
    "result = [i for i,value in enumerate(distance) if value == K] #인덱스만 저장\n",
    "if len(result)!=0:\n",
    "    print(*result)\n",
    "else: print(-1)"
   ]
  },
  {
   "cell_type": "code",
   "execution_count": 57,
   "id": "47255b2d",
   "metadata": {},
   "outputs": [
    {
     "name": "stdout",
     "output_type": "stream",
     "text": [
      "4 4 2 1\n",
      "1 2\n",
      "1 3\n",
      "2 3\n",
      "2 4\n",
      "4\n"
     ]
    }
   ],
   "source": [
    "from collections import deque\n",
    "N,M,K,X= map(int, input().split())\n",
    "\n",
    "INF = 999999999\n",
    "graph = [[] for _ in range(N+1)] #연결되어 있는 리스트 넣기 \n",
    "distance = [INF] * (N+1)\n",
    "visited = [False] * (N+1)\n",
    "\n",
    "for i in range(M): #인접한 graph 정보\n",
    "    a,b = map(int, input().split())\n",
    "    graph[a].append(b) \n",
    "    \n",
    "def bfs(graph, start, distance, K):\n",
    "    result = []\n",
    "    queue = deque([start])\n",
    "    distance[start] = 0\n",
    "    visited[start] = True #간 곳 표시\n",
    "    \n",
    "    while queue:\n",
    "        v = queue.popleft()\n",
    "        for i in graph[v]:\n",
    "            if not visited[i]:\n",
    "                queue.append(i)\n",
    "                visited[i]=True\n",
    "                distance[i] = distance[v]+1\n",
    "                if distance[i]==K:result.append(i)\n",
    "    \n",
    "    if len(result)==0: return [-1]\n",
    "    else: return result\n",
    "            \n",
    "result = bfs(graph, X, distance, K)                \n",
    "for var in result:\n",
    "    print(var)"
   ]
  },
  {
   "cell_type": "markdown",
   "id": "3f82837f",
   "metadata": {},
   "source": [
    "### 최종 답안\n",
    "- 처음에 distance만 가지고 비교 했다가 시간 초과\n",
    "- 마지막 sort안하고 답안 제출 안해서 틀림"
   ]
  },
  {
   "cell_type": "code",
   "execution_count": 3,
   "id": "345e928f",
   "metadata": {},
   "outputs": [
    {
     "name": "stdout",
     "output_type": "stream",
     "text": [
      "4 4 1 1\n",
      "1 2\n",
      "1 3\n",
      "2 3\n",
      "2 4\n",
      "2\n",
      "3\n"
     ]
    }
   ],
   "source": [
    "from collections import deque\n",
    "#import sys\n",
    "#input = sys.stdin.readline\n",
    "N,M,K,X= map(int, input().split())\n",
    "\n",
    "INF = 999999999\n",
    "graph = [[] for _ in range(N+1)] #연결되어 있는 리스트 넣기 \n",
    "distance = [INF] * (N+1)\n",
    "visited = [False] * (N+1) #distance만 가지고 하는 것보다 방문한 list도 만들어줘서 하면 더 빠름! 그냥 이걸로 비교하자! \n",
    "\n",
    "for i in range(M): #인접한 graph 정보\n",
    "    a,b = map(int, input().split())\n",
    "    graph[a].append(b) \n",
    "    \n",
    "def bfs(graph, start, distance, K):\n",
    "    result = []\n",
    "    queue = deque([start])\n",
    "    distance[start] = 0\n",
    "    visited[start] = True #간 곳 표시\n",
    "    \n",
    "    while queue:\n",
    "        v = queue.popleft()\n",
    "        for i in graph[v]:\n",
    "            if not visited[i]:\n",
    "                queue.append(i)\n",
    "                visited[i]= True\n",
    "                distance[i] = distance[v]+1\n",
    "                if distance[i]==K:result.append(i)\n",
    "    if len(result) == 0:\n",
    "        print(-1)\n",
    "    else:\n",
    "        result.sort() #sort 한 부분 때문에 틀렸었음....\n",
    "        for i in result:\n",
    "            print(i)\n",
    "bfs(graph, X, distance, K)"
   ]
  },
  {
   "cell_type": "markdown",
   "id": "b1d4663e",
   "metadata": {},
   "source": [
    "### 16. 연구소  - 백준 14502\n",
    "- bfs 이용 "
   ]
  },
  {
   "cell_type": "code",
   "execution_count": 75,
   "id": "488a538d",
   "metadata": {},
   "outputs": [
    {
     "name": "stdout",
     "output_type": "stream",
     "text": [
      "3\n"
     ]
    }
   ],
   "source": [
    "from collections import deque\n",
    "import copy\n",
    "import itertools\n",
    "\n",
    "N,M = map(int, input().split())\n",
    "graph = [list(map(int, input().split())) for _  in range(N)]\n",
    "#상하좌우\n",
    "dx = [-1,1,0,0]\n",
    "dy = [0,0,-1,1]\n",
    "\n",
    "def bfs(graph,x,y):\n",
    "    queue = deque()\n",
    "    queue.append((x,y))\n",
    "    \n",
    "    while queue:\n",
    "        x,y =queue.popleft()\n",
    "        for i in range(4):\n",
    "            nx=x+dx[i]\n",
    "            ny=y+dy[i]\n",
    "            if (nx>=0 and nx<N and ny>=0 and ny<M):\n",
    "                if graph[nx][ny]==0: #0인 케이스만 갈 수 있음\n",
    "                    graph[nx][ny]= 2\n",
    "                    queue.append((nx,ny))\n",
    "    \n",
    "    list_0 = [(i,j) for i in range(N) for j in range(M) if graph[i][j]==0]\n",
    "    return len(list_0) , graph\n",
    "\n",
    "\n",
    "wall_list = [(i,j) for i in range(N) for j in range(M) if graph[i][j]==0]\n",
    "select_wall = list(itertools.combinations(wall_list,3)) #세울 벽 선택\n",
    "list_2 = [(i,j) for i in range(N) for j in range(M) if graph[i][j]==2]\n",
    "result = []\n",
    "for wall in select_wall: #벽 세우기\n",
    "    new_graph = copy.deepcopy(graph)\n",
    "    for new_x, new_y in wall:\n",
    "        new_graph[new_x][new_y] = 1\n",
    "    for var in list_2:\n",
    "        length , new_graph = bfs(new_graph, var[0], var[1])\n",
    "    result.append(length)\n",
    "\n",
    "print(max(result))"
   ]
  },
  {
   "cell_type": "markdown",
   "id": "7bc95875",
   "metadata": {},
   "source": [
    "### 17. 경쟁적 전염 - 백준 18405"
   ]
  },
  {
   "cell_type": "code",
   "execution_count": 211,
   "id": "fe5981dd",
   "metadata": {},
   "outputs": [
    {
     "name": "stdout",
     "output_type": "stream",
     "text": [
      "3 3\n",
      "1 0 2\n",
      "0 0 0\n",
      "3 0 0\n",
      "2 3 2\n"
     ]
    },
    {
     "data": {
      "text/plain": [
       "3"
      ]
     },
     "execution_count": 211,
     "metadata": {},
     "output_type": "execute_result"
    }
   ],
   "source": [
    "from collections import deque\n",
    "import sys\n",
    "input =sys.stdin.readline\n",
    "\n",
    "N,K = map(int, input().split())\n",
    "graph = [list(map(int, input().split())) for _  in range(N)]\n",
    "S,X,Y = map(int, input().split())\n",
    "\n",
    "virus = [(i,j, graph[i][j],0) for i in range(N) for j in range(N) if graph[i][j]!=0] #바이러스 숫자가 작은 순으로 sort\n",
    "virus.sort(key=lambda x:x[2])\n",
    "\n",
    "#상하좌우\n",
    "dx = [-1,1,0,0]\n",
    "dy = [0,0,-1,1]\n",
    "\n",
    "def bfs(virus,S): \n",
    "    queue = deque(virus)\n",
    "    while queue:\n",
    "        x,y, num,time = queue.popleft() #num : virus 숫자\n",
    "        if time == S:\n",
    "            break\n",
    "            \n",
    "        for i in range(4):\n",
    "            nx = x+dx[i]\n",
    "            ny = y+dy[i]\n",
    "            if (nx>=0 and nx<N and ny>=0 and ny<N):\n",
    "                if graph[nx][ny]==0:\n",
    "                    graph[nx][ny] = num \n",
    "                    queue.append(( nx,ny, num, time+1 ))\n",
    "    \n",
    "    return graph[X-1][Y-1]\n",
    "\n",
    "  \n",
    "print(bfs(virus, S))     \n",
    "    "
   ]
  },
  {
   "cell_type": "markdown",
   "id": "e87925d9",
   "metadata": {},
   "source": [
    "### 18. 괄호 변환"
   ]
  },
  {
   "cell_type": "code",
   "execution_count": 2,
   "id": "51b220d1",
   "metadata": {},
   "outputs": [],
   "source": [
    "#균형 잡힌 문자열 확인\n",
    "def isbalanced(s):\n",
    "    if s.count('(')==s.count(')'):return True\n",
    "    else: return False\n",
    "\n",
    "#올바른 괄호\n",
    "def iscorrect(s):\n",
    "    stack = []\n",
    "    for c in s:\n",
    "        if c=='(': stack.append(c)\n",
    "        else: #c==')'인 경우\n",
    "            if stack: stack.pop()\n",
    "            else: return False\n",
    "        \n",
    "    return len(stack)==0\n",
    "\n",
    "def solution(p):\n",
    "    ans=''\n",
    "    u=''\n",
    "    v=''\n",
    "    if len(p)==0 or iscorrect(p)==True: return p\n",
    "    for i in range(2, len(p)+1,2):\n",
    "        if isbalanced(p[0:i]):\n",
    "            u=p[0:i]\n",
    "            v=p[i:len(p)]\n",
    "            break\n",
    "            \n",
    "    if iscorrect(u):\n",
    "        ans=u+solution(v)\n",
    "    else: #올바른 괄호 문자열이 아니라면\n",
    "        ans+='('+solution(v)+')'\n",
    "        for j in u[1:-1]:\n",
    "            if j==')': ans+='('\n",
    "            else: ans+=')'\n",
    "    return ans\n",
    "        \n",
    "\n"
   ]
  },
  {
   "cell_type": "code",
   "execution_count": 3,
   "id": "8087fc09",
   "metadata": {},
   "outputs": [],
   "source": [
    "#### 답지 해설\n",
    "#균형 잡힌 괄호 문자열의 인덱스 반환\n",
    "def balanced_index(p):\n",
    "    count = 0 #왼쪽 괄호의 개수\n",
    "    for i in range(len(p)):\n",
    "        if p[i]=='(':\n",
    "            count+=1\n",
    "        else: count-=1\n",
    "        if count == 0:\n",
    "            return i\n",
    "\n",
    "#올바른 괄호 문자열인지 판단\n",
    "def check_proper(p):\n",
    "    count = 0 #왼쪽 괄호의 개수\n",
    "    for i in p:\n",
    "        if i=='(':\n",
    "            count+=1\n",
    "        else:\n",
    "            if count == 0: #쌍이 맞지 않는 경우에 False 반환\n",
    "                return False\n",
    "            count-=1\n",
    "    return True \n",
    "\n",
    "def solution(p):\n",
    "    answer = ''\n",
    "    if p=='':\n",
    "        return answer\n",
    "    \n",
    "    index = balanced_index(p)\n",
    "    u=p[:index+1]\n",
    "    v=p[index+1:]\n",
    "    \n",
    "    #\"올바른 괄호 문자열\"이면, v에 대해 함수를 수행한 결과를 붙여 반환\n",
    "    if check_proper(u):\n",
    "        answer = u+solution(v)\n",
    "        \n",
    "    #\"올바른 괄호 문자열\"이 아니라면 아래의 과정을 수행\n",
    "    else: \n",
    "        answer ='('\n",
    "        answer+=solution(v)\n",
    "        answer+=')'\n",
    "        u=list(u[1:-1])\n",
    "        for i in range(len(u)):\n",
    "            if u[i] == '(':\n",
    "                u[i] =')'\n",
    "            else:\n",
    "                u[i]='('\n",
    "        answer+=\"\".join(u)\n",
    "    return answer\n",
    "        "
   ]
  },
  {
   "cell_type": "code",
   "execution_count": null,
   "id": "6fa04f98",
   "metadata": {},
   "outputs": [],
   "source": []
  }
 ],
 "metadata": {
  "kernelspec": {
   "display_name": "Python 3 (ipykernel)",
   "language": "python",
   "name": "python3"
  },
  "language_info": {
   "codemirror_mode": {
    "name": "ipython",
    "version": 3
   },
   "file_extension": ".py",
   "mimetype": "text/x-python",
   "name": "python",
   "nbconvert_exporter": "python",
   "pygments_lexer": "ipython3",
   "version": "3.9.12"
  }
 },
 "nbformat": 4,
 "nbformat_minor": 5
}
