{
 "cells": [
  {
   "cell_type": "markdown",
   "id": "95d4e904",
   "metadata": {},
   "source": [
    "### 7. 럭키 스트레이트"
   ]
  },
  {
   "cell_type": "code",
   "execution_count": 24,
   "id": "fa7d50fc",
   "metadata": {},
   "outputs": [
    {
     "name": "stdout",
     "output_type": "stream",
     "text": [
      "123402\n",
      "LUCKY\n"
     ]
    }
   ],
   "source": [
    "N = input()\n",
    "index = len(N)//2 \n",
    "sum_left = 0\n",
    "sum_right = 0\n",
    "for i in range(index):\n",
    "    sum_left+=int(N[i])\n",
    "for j in range(index,len(N)):\n",
    "    sum_right += int(N[j])\n",
    "if sum_left == sum_right:\n",
    "    print(\"LUCKY\")\n",
    "else: print(\"READY\")"
   ]
  },
  {
   "cell_type": "markdown",
   "id": "44772f25",
   "metadata": {},
   "source": [
    "### 8. 문자열 재정렬"
   ]
  },
  {
   "cell_type": "code",
   "execution_count": 14,
   "id": "1f255fde",
   "metadata": {
    "scrolled": true
   },
   "outputs": [
    {
     "name": "stdout",
     "output_type": "stream",
     "text": [
      "AJKDLSI412K4JSJ9D\n",
      "ADDIJJJKKLSS20\n"
     ]
    }
   ],
   "source": [
    "import re\n",
    "S = input()\n",
    "list1 = list(filter(str.isalpha,S))\n",
    "list1.sort()\n",
    "a=str(''.join(list1))\n",
    "numbers = re.findall(r'\\d',S)\n",
    "b=sum(list(map(int, numbers)))\n",
    "print(a+str(b))"
   ]
  },
  {
   "cell_type": "markdown",
   "id": "de75e17d",
   "metadata": {},
   "source": [
    "### 9.문자열 압축"
   ]
  },
  {
   "cell_type": "code",
   "execution_count": 218,
   "id": "5add16ca",
   "metadata": {},
   "outputs": [],
   "source": [
    "def solution(s):\n",
    "    if len(s)==1:\n",
    "        return 1\n",
    "    result = []\n",
    "    answer = 0\n",
    "    for j in range(1, len(s)):\n",
    "        result.append(new_s(s,j))\n",
    "    answer = min(result)\n",
    "    return answer\n",
    "\n",
    "def new_s(s, j): #j는 몇칸씩 쪼갤 건지를 나타내는 인수\n",
    "    chunks = [s[i:i+j] for i in range(0, len(s), j) ] #문자열 쪼갠 것 \n",
    "    chunks.append('*') #달라질 때 업데이트를 해서 마지막은 무조건 다르게 나오게 하나 추가해줌\n",
    "    new_s = ''\n",
    "    cnt=1\n",
    "\n",
    "    for i in range(0,len(chunks)-1):\n",
    "        if chunks[i] == chunks[i+1]:\n",
    "            cnt+=1\n",
    "        \n",
    "        else: #달라질때 업데이트 (cnt 다 셌으니)\n",
    "            if cnt>1:\n",
    "                new_s = new_s + str(cnt)+chunks[i]\n",
    "            \n",
    "            else: new_s = new_s + chunks[i] #cnt가 1인 case는 그냥 붙여줌\n",
    "            cnt=1 #숫자로 압축했으니 다시 초기화\n",
    "        \n",
    "        \n",
    "    return len(new_s)"
   ]
  },
  {
   "cell_type": "code",
   "execution_count": 222,
   "id": "15cdcd4c",
   "metadata": {},
   "outputs": [
    {
     "data": {
      "text/plain": [
       "17"
      ]
     },
     "execution_count": 222,
     "metadata": {},
     "output_type": "execute_result"
    }
   ],
   "source": [
    "solution('xababcdcdababcdcd')"
   ]
  },
  {
   "cell_type": "code",
   "execution_count": 223,
   "id": "8a618b0d",
   "metadata": {},
   "outputs": [],
   "source": [
    "def solution(s):\n",
    "    if len(s) == 1:\n",
    "        return 1\n",
    "    \n",
    "    result = []\n",
    "    for j in range(1, len(s)):\n",
    "        chunks = [s[i:i+j] for i in range(0, len(s), j) ] #문자열 쪼갠 것 \n",
    "        chunks.append('*') #달라질 때 업데이트를 해서 마지막은 무조건 다르게 나오게 하나 추가해줌\n",
    "        new_s = ''\n",
    "        cnt=1\n",
    "        for i in range(0,len(chunks)-1):\n",
    "            if chunks[i] == chunks[i+1]:\n",
    "                cnt+=1\n",
    "            \n",
    "            else: #달라질때 업데이트 (cnt 다 셌으니)\n",
    "                if cnt>1: new_s = new_s + str(cnt)+chunks[i]\n",
    "                else: new_s = new_s + chunks[i] #cnt가 1인 case는 그냥 붙여줌\n",
    "                \n",
    "                cnt=1 #숫자로 압축했으니 다시 초기화\n",
    "        result.append(len(new_s))\n",
    "    \n",
    "    return min(result)"
   ]
  },
  {
   "cell_type": "code",
   "execution_count": 228,
   "id": "bfc3b736",
   "metadata": {},
   "outputs": [
    {
     "data": {
      "text/plain": [
       "14"
      ]
     },
     "execution_count": 228,
     "metadata": {},
     "output_type": "execute_result"
    }
   ],
   "source": [
    "solution('abcabcabcabcdededededede')"
   ]
  },
  {
   "cell_type": "markdown",
   "id": "a5956403",
   "metadata": {},
   "source": [
    "### 프로그래머스 똑똑이 풀이"
   ]
  },
  {
   "cell_type": "code",
   "execution_count": 1,
   "id": "01b0d1e6",
   "metadata": {},
   "outputs": [],
   "source": [
    "def compress(text, tok_len):\n",
    "    words = [text[i:i+tok_len] for i in range(0, len(text), tok_len)]\n",
    "    res = []\n",
    "    cur_word = words[0]\n",
    "    cur_cnt = 1\n",
    "    for a, b in zip(words, words[1:] + ['']):\n",
    "        if a == b:\n",
    "            cur_cnt += 1\n",
    "        else:\n",
    "            res.append([cur_word, cur_cnt])\n",
    "            cur_word = b\n",
    "            cur_cnt = 1\n",
    "    return sum(len(word) + (len(str(cnt)) if cnt > 1 else 0) for word, cnt in res)\n",
    "\n",
    "def solution(text):\n",
    "    return min(compress(text, tok_len) for tok_len in list(range(1, int(len(text)/2) + 1)) + [len(text)])\n"
   ]
  },
  {
   "cell_type": "code",
   "execution_count": 2,
   "id": "291e60fc",
   "metadata": {},
   "outputs": [
    {
     "name": "stdout",
     "output_type": "stream",
     "text": [
      "a a\n",
      "b a\n",
      "a a\n",
      "b b\n",
      "a b\n",
      "b b\n",
      "a b\n",
      "b a\n",
      "a a\n",
      "b c\n",
      "a c\n",
      "b c\n",
      "a c\n",
      "b c\n",
      "a c\n",
      "b \n",
      "a aa\n",
      "b bb\n",
      "a bb\n",
      "b ac\n",
      "a ac\n",
      "b cc\n",
      "a cc\n",
      "b \n",
      "a aab\n",
      "b bac\n",
      "a bac\n",
      "b cc\n",
      "a cc\n",
      "b \n",
      "a aabb\n",
      "b accc\n",
      "a accc\n",
      "b \n",
      "a aabbaccc\n",
      "b \n"
     ]
    },
    {
     "data": {
      "text/plain": [
       "7"
      ]
     },
     "execution_count": 2,
     "metadata": {},
     "output_type": "execute_result"
    }
   ],
   "source": [
    "solution(\"aabbaccc\")"
   ]
  },
  {
   "cell_type": "code",
   "execution_count": null,
   "id": "6bfd5159",
   "metadata": {},
   "outputs": [],
   "source": []
  }
 ],
 "metadata": {
  "kernelspec": {
   "display_name": "Python 3 (ipykernel)",
   "language": "python",
   "name": "python3"
  },
  "language_info": {
   "codemirror_mode": {
    "name": "ipython",
    "version": 3
   },
   "file_extension": ".py",
   "mimetype": "text/x-python",
   "name": "python",
   "nbconvert_exporter": "python",
   "pygments_lexer": "ipython3",
   "version": "3.9.12"
  }
 },
 "nbformat": 4,
 "nbformat_minor": 5
}
