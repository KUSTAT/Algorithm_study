{
 "cells": [
  {
   "cell_type": "markdown",
   "id": "95d4e904",
   "metadata": {},
   "source": [
    "### 7. 럭키 스트레이트"
   ]
  },
  {
   "cell_type": "code",
   "execution_count": 24,
   "id": "fa7d50fc",
   "metadata": {},
   "outputs": [
    {
     "name": "stdout",
     "output_type": "stream",
     "text": [
      "123402\n",
      "LUCKY\n"
     ]
    }
   ],
   "source": [
    "N = input()\n",
    "index = len(N)//2 \n",
    "sum_left = 0\n",
    "sum_right = 0\n",
    "for i in range(index):\n",
    "    sum_left+=int(N[i])\n",
    "for j in range(index,len(N)):\n",
    "    sum_right += int(N[j])\n",
    "if sum_left == sum_right:\n",
    "    print(\"LUCKY\")\n",
    "else: print(\"READY\")"
   ]
  },
  {
   "cell_type": "markdown",
   "id": "44772f25",
   "metadata": {},
   "source": [
    "### 8. 문자열 재정렬"
   ]
  },
  {
   "cell_type": "code",
   "execution_count": 14,
   "id": "1f255fde",
   "metadata": {
    "scrolled": true
   },
   "outputs": [
    {
     "name": "stdout",
     "output_type": "stream",
     "text": [
      "AJKDLSI412K4JSJ9D\n",
      "ADDIJJJKKLSS20\n"
     ]
    }
   ],
   "source": [
    "import re\n",
    "S = input()\n",
    "list1 = list(filter(str.isalpha,S))\n",
    "list1.sort()\n",
    "a=str(''.join(list1))\n",
    "numbers = re.findall(r'\\d',S)\n",
    "b=sum(list(map(int, numbers)))\n",
    "print(a+str(b))"
   ]
  },
  {
   "cell_type": "markdown",
   "id": "de75e17d",
   "metadata": {},
   "source": [
    "### 9. 문자열 압축"
   ]
  },
  {
   "cell_type": "code",
   "execution_count": 218,
   "id": "5add16ca",
   "metadata": {},
   "outputs": [],
   "source": [
    "def solution(s):\n",
    "    if len(s)==1:\n",
    "        return 1\n",
    "    result = []\n",
    "    answer = 0\n",
    "    for j in range(1, len(s)):\n",
    "        result.append(new_s(s,j))\n",
    "    answer = min(result)\n",
    "    return answer\n",
    "\n",
    "def new_s(s, j): #j는 몇칸씩 쪼갤 건지를 나타내는 인수\n",
    "    chunks = [s[i:i+j] for i in range(0, len(s), j) ] #문자열 쪼갠 것 \n",
    "    chunks.append('*') #달라질 때 업데이트를 해서 마지막은 무조건 다르게 나오게 하나 추가해줌\n",
    "    new_s = ''\n",
    "    cnt=1\n",
    "\n",
    "    for i in range(0,len(chunks)-1):\n",
    "        if chunks[i] == chunks[i+1]:\n",
    "            cnt+=1\n",
    "        \n",
    "        else: #달라질때 업데이트 (cnt 다 셌으니)\n",
    "            if cnt>1:\n",
    "                new_s = new_s + str(cnt)+chunks[i]\n",
    "            \n",
    "            else: new_s = new_s + chunks[i] #cnt가 1인 case는 그냥 붙여줌\n",
    "            cnt=1 #숫자로 압축했으니 다시 초기화\n",
    "        \n",
    "        \n",
    "    return len(new_s)"
   ]
  },
  {
   "cell_type": "code",
   "execution_count": 222,
   "id": "15cdcd4c",
   "metadata": {},
   "outputs": [
    {
     "data": {
      "text/plain": [
       "17"
      ]
     },
     "execution_count": 222,
     "metadata": {},
     "output_type": "execute_result"
    }
   ],
   "source": [
    "solution('xababcdcdababcdcd')"
   ]
  },
  {
   "cell_type": "code",
   "execution_count": 223,
   "id": "8a618b0d",
   "metadata": {},
   "outputs": [],
   "source": [
    "def solution(s):\n",
    "    if len(s) == 1:\n",
    "        return 1\n",
    "    \n",
    "    result = []\n",
    "    for j in range(1, len(s)):\n",
    "        chunks = [s[i:i+j] for i in range(0, len(s), j) ] #문자열 쪼갠 것 \n",
    "        chunks.append('*') #달라질 때 업데이트를 해서 마지막은 무조건 다르게 나오게 하나 추가해줌\n",
    "        new_s = ''\n",
    "        cnt=1\n",
    "        for i in range(0,len(chunks)-1):\n",
    "            if chunks[i] == chunks[i+1]:\n",
    "                cnt+=1\n",
    "            \n",
    "            else: #달라질때 업데이트 (cnt 다 셌으니)\n",
    "                if cnt>1: new_s = new_s + str(cnt)+chunks[i]\n",
    "                else: new_s = new_s + chunks[i] #cnt가 1인 case는 그냥 붙여줌\n",
    "                \n",
    "                cnt=1 #숫자로 압축했으니 다시 초기화\n",
    "        result.append(len(new_s))\n",
    "    \n",
    "    return min(result)"
   ]
  },
  {
   "cell_type": "code",
   "execution_count": 228,
   "id": "bfc3b736",
   "metadata": {},
   "outputs": [
    {
     "data": {
      "text/plain": [
       "14"
      ]
     },
     "execution_count": 228,
     "metadata": {},
     "output_type": "execute_result"
    }
   ],
   "source": [
    "solution('abcabcabcabcdededededede')"
   ]
  },
  {
   "cell_type": "markdown",
   "id": "a5956403",
   "metadata": {},
   "source": [
    "### 프로그래머스 똑똑이 풀이"
   ]
  },
  {
   "cell_type": "code",
   "execution_count": 1,
   "id": "01b0d1e6",
   "metadata": {},
   "outputs": [],
   "source": [
    "def compress(text, tok_len):\n",
    "    words = [text[i:i+tok_len] for i in range(0, len(text), tok_len)]\n",
    "    res = []\n",
    "    cur_word = words[0]\n",
    "    cur_cnt = 1\n",
    "    for a, b in zip(words, words[1:] + ['']):\n",
    "        if a == b:\n",
    "            cur_cnt += 1\n",
    "        else:\n",
    "            res.append([cur_word, cur_cnt])\n",
    "            cur_word = b\n",
    "            cur_cnt = 1\n",
    "    return sum(len(word) + (len(str(cnt)) if cnt > 1 else 0) for word, cnt in res)\n",
    "\n",
    "def solution(text):\n",
    "    return min(compress(text, tok_len) for tok_len in list(range(1, int(len(text)/2) + 1)) + [len(text)])\n"
   ]
  },
  {
   "cell_type": "code",
   "execution_count": 2,
   "id": "291e60fc",
   "metadata": {},
   "outputs": [
    {
     "name": "stdout",
     "output_type": "stream",
     "text": [
      "a a\n",
      "b a\n",
      "a a\n",
      "b b\n",
      "a b\n",
      "b b\n",
      "a b\n",
      "b a\n",
      "a a\n",
      "b c\n",
      "a c\n",
      "b c\n",
      "a c\n",
      "b c\n",
      "a c\n",
      "b \n",
      "a aa\n",
      "b bb\n",
      "a bb\n",
      "b ac\n",
      "a ac\n",
      "b cc\n",
      "a cc\n",
      "b \n",
      "a aab\n",
      "b bac\n",
      "a bac\n",
      "b cc\n",
      "a cc\n",
      "b \n",
      "a aabb\n",
      "b accc\n",
      "a accc\n",
      "b \n",
      "a aabbaccc\n",
      "b \n"
     ]
    },
    {
     "data": {
      "text/plain": [
       "7"
      ]
     },
     "execution_count": 2,
     "metadata": {},
     "output_type": "execute_result"
    }
   ],
   "source": [
    "solution(\"aabbaccc\")"
   ]
  },
  {
   "cell_type": "markdown",
   "id": "46745d9a",
   "metadata": {},
   "source": [
    "### 10. 자물쇠와 열쇠 \n",
    "- **자물쇠 리스트의 크기를 3배 이상으로 변경**  \n",
    "  열쇠는 자물쇠 리스트이 영역을 벗어나도 괜찮기 때문에,\n",
    "  완전 탐색을 수월하게 진행하기 위해, 자물쇠 리스트의 크기를 확장함\n",
    "  \n",
    "- **열쇠를 회전한 뒤, 자물쇠 리스트의 왼쪽 위부터 순서대로 탐색을 시작** \\\n",
    "  오른쪽으로 한 칸씩 이동하며, 마지막 칸까지 확인한 이후엔 아래 칸으로 이동 \n",
    "  탐색을 진행하며, 열쇠 리스트가 확장된 자물쇠 중간의 홈을 채울 수 있는지 확인   자물쇠 리스트에 열쇠 리스트의 값을 더했을 때, 확장된 자물쇠 중간의 모든 값이 1인지를 확인 \n",
    "  \n",
    "  현재 열쇠로 자물쇠 리스트 탐색을 끝냈다면, 열쇠를 회전한 뒤, 다시 탐색\n",
    "  \n",
    "- **이때, 2차원 리스트를 90도 회전하는 함수와 자물쇠의 중간 부분이 모두 1인지 확인하는 함수를 별도로 사용함**\n",
    "  \n",
    "  "
   ]
  },
  {
   "cell_type": "code",
   "execution_count": 1,
   "id": "6ed32b80",
   "metadata": {},
   "outputs": [],
   "source": [
    "#2차원 리스트 90도 회전(은근 사용되므로 외우면 좋음!)\n",
    "def rotate_a_matrix_by_90_degree(a):\n",
    "    n=len(a) #행 길이 계산\n",
    "    m=len(a[0]) #열 길이 계산 \n",
    "    result = [[0]*n for _ in range(m)] #결과 리스트\n",
    "    for i in range(n):\n",
    "        for j in range(m):\n",
    "            result[j][n-i-1] = a[i][j]\n",
    "    return result"
   ]
  },
  {
   "cell_type": "code",
   "execution_count": 2,
   "id": "c55b5109",
   "metadata": {},
   "outputs": [],
   "source": [
    "#w자물쇠의 중간이 모두 1인지 확인\n",
    "def check(new_lock):\n",
    "    lock_length = len(new_lock)//3\n",
    "    for i in range(lock_length, lock_length*2):\n",
    "        for j in range(lock_length, lock_length*2):\n",
    "            if new_lock[i][j]!=1:\n",
    "                return False\n",
    "    return True"
   ]
  },
  {
   "cell_type": "code",
   "execution_count": 3,
   "id": "e0f7c5d4",
   "metadata": {},
   "outputs": [],
   "source": [
    "def solution(key, lock):\n",
    "    n=len(lock)\n",
    "    m=len(key)\n",
    "    \n",
    "    #자물쇠의 크기를 기존의 3배고 변환\n",
    "    new_lock = [[0]*(n*3) for _ in range(n*3)]\n",
    "    #새로운 자물쇠의 중앙 부분의 기존의 자물쇠 넣기\n",
    "    for i in range(n):\n",
    "        for j in range(n):\n",
    "            new_lock[i+n][j+n] = lock[i][j]\n",
    "    \n",
    "    #4가지 방향에 대해서 확인\n",
    "    for rotation in range(4):\n",
    "        key = rotate_a_matrix_by_90_degree(key) #열쇠 회전\n",
    "        for x in range(n*2):\n",
    "            for y in range(n*2):\n",
    "                #자물쇠에 열쇠를 끼워넣기\n",
    "                for i in range(m):\n",
    "                    for j in range(m):\n",
    "                        print(new_lock)\n",
    "                        new_lock[x+i][y+j]+=key[i][j]\n",
    "                        print(new_lock)\n",
    "                        \n",
    "                #새로운 자물쇠에 열쇠가 정확히 들어맞는지 검사\n",
    "                if check(new_lock) == True:\n",
    "                    return True\n",
    "                #자물쇠에서 열쇠를 다시 빼기\n",
    "                for i in range(m):\n",
    "                    for j in range(m):\n",
    "                        new_lock[x+i][y+j]-=key[i][j]\n",
    "    return False"
   ]
  },
  {
   "cell_type": "markdown",
   "id": "1872ade6",
   "metadata": {},
   "source": [
    "### 뱀\n",
    "- 특정 위치에서 동, 남, 서, 북 위치로 이동하는 기능을 구현해야함!(direction 필요)\n",
    "- 더불어 뱀의 머리가 뱀의 몸에 닿는 경우에도 종료해야하므로, 매 시점마다 뱀이 존재하는 위치를 항상 2차원 리스트로 기록해놔야함!"
   ]
  },
  {
   "cell_type": "code",
   "execution_count": 38,
   "id": "d6d2eda0",
   "metadata": {},
   "outputs": [
    {
     "name": "stdout",
     "output_type": "stream",
     "text": [
      "6\n",
      "3\n",
      "3 4\n",
      "2 5\n",
      "5 3\n",
      "3\n",
      "3 D\n",
      "15 L\n",
      "17 D\n",
      "9\n"
     ]
    }
   ],
   "source": [
    "n = int(input())\n",
    "k = int(input())\n",
    "graph = [[0] * (n+1) for _ in range(n+1)] # 맵 정보\n",
    "\n",
    "# 맵 정보 (사과가 있는 곳은 1로 표시)\n",
    "for _ in range(k):\n",
    "    a, b = map(int, input().split())\n",
    "    graph[a][b] = 1\n",
    "\n",
    "info = [] # 방향 회전 정보\n",
    "\n",
    "# 방향 회전 정보 입력\n",
    "l = int(input())\n",
    "for _ in range(l):\n",
    "    x, c = map(str, input().split())\n",
    "    info.append((int(x), c))\n",
    "\n",
    "# 처음에는 오른쪽을 보고 있으므로 (동, 남, 서, 북)\n",
    "dx = [0, 1, 0, -1]\n",
    "dy = [1, 0, -1, 0]\n",
    "\n",
    "def turn(direction, c):\n",
    "    if c == 'L':\n",
    "        direction = (direction-1)%4\n",
    "    else:\n",
    "        direction = (direction+1)%4\n",
    "\n",
    "    return direction\n",
    "\n",
    "def simulate():\n",
    "    x, y = 1, 1 # 뱀의 머리 위치\n",
    "    graph[x][y] = 2 # 뱀이 존재하는 위치는 2로 표시\n",
    "    direction = 0 # 처음에는 동쪽을 보고 있음\n",
    "    time = 0 # 시작한 뒤에 지난 '초' 시간\n",
    "    index = 0 # 다음에 회전할 정보\n",
    "    q = [(x, y)] # 뱀이 차지하고 있는 위치 정보\n",
    "    while True:\n",
    "        nx = x + dx[direction]\n",
    "        ny = y + dy[direction]\n",
    "        \n",
    "        # 맵 범위 안에 있고, 뱀의 몸통이 없는 위치라면\n",
    "        if 1<=nx and nx<=n and 1<=ny and ny<=n and graph[nx][ny] != 2:\n",
    "            \n",
    "            # 사과가 없다면 이동 후에 꼬리 제거\n",
    "            if graph[nx][ny] == 0:\n",
    "                graph[nx][ny] = 2\n",
    "                q.append((nx, ny))\n",
    "                px, py = q.pop(0)\n",
    "                graph[px][py] = 0\n",
    "            \n",
    "            # 사과가 있다면 이동 후에 꼬리 그대로 두기\n",
    "            if graph[nx][ny] == 1:\n",
    "                graph[nx][ny] = 2\n",
    "                q.append((nx, ny))\n",
    "        \n",
    "        # 벽이나 뱀의 몸통과 부딪혔다면\n",
    "        else:\n",
    "            time += 1\n",
    "            break\n",
    "        x, y = nx, ny # 다음 위치로 머리를 이동\n",
    "        time += 1\n",
    "        \n",
    "        # 회전할 시간인 경우 회전\n",
    "        if index < l and time == info[index][0]:\n",
    "            direction = turn(direction, info[index][1])\n",
    "            index += 1\n",
    "\n",
    "    return time\n",
    "\n",
    "print(simulate())"
   ]
  },
  {
   "cell_type": "code",
   "execution_count": null,
   "id": "cce5efa6",
   "metadata": {},
   "outputs": [],
   "source": []
  }
 ],
 "metadata": {
  "kernelspec": {
   "display_name": "Python 3 (ipykernel)",
   "language": "python",
   "name": "python3"
  },
  "language_info": {
   "codemirror_mode": {
    "name": "ipython",
    "version": 3
   },
   "file_extension": ".py",
   "mimetype": "text/x-python",
   "name": "python",
   "nbconvert_exporter": "python",
   "pygments_lexer": "ipython3",
   "version": "3.9.12"
  }
 },
 "nbformat": 4,
 "nbformat_minor": 5
}
