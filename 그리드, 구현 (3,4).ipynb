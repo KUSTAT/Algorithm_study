{
 "cells": [
  {
   "cell_type": "markdown",
   "id": "f32a7c58",
   "metadata": {},
   "source": [
    "# 3장. 그리드"
   ]
  },
  {
   "cell_type": "markdown",
   "id": "7ff1ae9f",
   "metadata": {},
   "source": [
    "### 예제 3-1"
   ]
  },
  {
   "cell_type": "code",
   "execution_count": 10,
   "id": "9b3c517f",
   "metadata": {},
   "outputs": [
    {
     "name": "stdout",
     "output_type": "stream",
     "text": [
      "6\n"
     ]
    }
   ],
   "source": [
    "money=1260\n",
    "cnt=0\n",
    "coin=[500,100,50,10]\n",
    "for i in range(4):\n",
    "    cnt += money // coin[i]\n",
    "    money = money% coin[i]\n",
    "print(cnt)"
   ]
  },
  {
   "cell_type": "markdown",
   "id": "42e49bb0",
   "metadata": {},
   "source": [
    "### 2. 큰 수의 법칙"
   ]
  },
  {
   "cell_type": "code",
   "execution_count": 2,
   "id": "2fca1b9b",
   "metadata": {},
   "outputs": [
    {
     "name": "stdout",
     "output_type": "stream",
     "text": [
      "5 7 2\n",
      "3 4 3 4 3\n",
      "28\n"
     ]
    }
   ],
   "source": [
    "import sys\n",
    "N,M,K=map(int, input().split())\n",
    "array=list(map(int, input().split()))\n",
    "array2 = sorted(array)\n",
    "num = M//(K+1) #(k+1)개의 묶음 갯수\n",
    "num_remainder= M % (K+1) #(K+1) 묶음 하고 나머지\n",
    "print((array2[len(array)-1]* K +array2[len(array)-2])*num + array2[len(array)-1] * num_remainder)\n",
    "\n"
   ]
  },
  {
   "cell_type": "markdown",
   "id": "e6420610",
   "metadata": {},
   "source": [
    "### 3. 숫자 카드 게임"
   ]
  },
  {
   "cell_type": "code",
   "execution_count": 1,
   "id": "a83ede46",
   "metadata": {},
   "outputs": [
    {
     "name": "stdout",
     "output_type": "stream",
     "text": [
      "2 4\n",
      "7 3 1 8\n",
      "3 3 3 4\n",
      "3\n"
     ]
    }
   ],
   "source": [
    "N,M=map(int, input().split()) #N : 행의 수, M : 열의 수\n",
    "array=[]\n",
    "min_array=[]\n",
    "for i in range(N):\n",
    "    temp=list(map(int, input().split()))\n",
    "    array.append(temp)\n",
    "    min_array.append(min(temp)) #각 행마다의 min\n",
    "    \n",
    "print(max(min_array)) #min 중에 max\n"
   ]
  },
  {
   "cell_type": "markdown",
   "id": "e388086c",
   "metadata": {},
   "source": [
    "### 4. 1이 될 때까지"
   ]
  },
  {
   "cell_type": "code",
   "execution_count": 1,
   "id": "108723a6",
   "metadata": {},
   "outputs": [
    {
     "name": "stdout",
     "output_type": "stream",
     "text": [
      "25 5\n",
      "2\n"
     ]
    }
   ],
   "source": [
    "N,K=map(int, input().split())\n",
    "cnt=0\n",
    "while(N!=1):\n",
    "    if(N % K == 0): #N 이 K로 나눠질때는 이 항목을 선택\n",
    "        N = N // K \n",
    "        cnt+=1\n",
    "    else: \n",
    "        N-=1\n",
    "        cnt+=1\n",
    "\n",
    "print(cnt)"
   ]
  },
  {
   "cell_type": "markdown",
   "id": "7726ef52",
   "metadata": {},
   "source": [
    "# 4장. 구현"
   ]
  },
  {
   "cell_type": "markdown",
   "id": "1ee66bcb",
   "metadata": {},
   "source": [
    "### 예제 4.1 상하좌우"
   ]
  },
  {
   "cell_type": "code",
   "execution_count": 2,
   "id": "67e623c6",
   "metadata": {},
   "outputs": [
    {
     "name": "stdout",
     "output_type": "stream",
     "text": [
      "5\n",
      "R R R U D D\n",
      "3 4\n"
     ]
    }
   ],
   "source": [
    "n=int(input())\n",
    "plans=input().split()\n",
    "x,y=1,1\n",
    "dx=[0,0,-1,1]\n",
    "dy=[-1,1,0,0]\n",
    "\n",
    "plans_type=['L','R','U','D']\n",
    "nx,ny=0,0\n",
    "\n",
    "for plan in plans:\n",
    "    for i in range(4):\n",
    "        if plan==plans_type[i]:\n",
    "            nx=x+dx[i]\n",
    "            ny=y+dy[i]\n",
    "            \n",
    "        if (nx<1 or ny<1 or nx>n or nx>n): continue  # 이 case 에는 이동 X , coninue 는 바로 안의 for문 다음 루프로 넘어\n",
    "        \n",
    "        x,y=nx,ny  # 이동 실행\n",
    "\n",
    "print(x,y)"
   ]
  },
  {
   "cell_type": "markdown",
   "id": "b696e3c1",
   "metadata": {},
   "source": [
    "### 예제 4.2 시각"
   ]
  },
  {
   "cell_type": "code",
   "execution_count": 2,
   "id": "59fbe667",
   "metadata": {},
   "outputs": [
    {
     "name": "stdout",
     "output_type": "stream",
     "text": [
      "5\n",
      "11475\n"
     ]
    }
   ],
   "source": [
    "N=int(input())\n",
    "cnt=0\n",
    "\n",
    "for i in range(N+1):\n",
    "    for j in range(60):\n",
    "        for k in range(60):\n",
    "            clock=str(i)+str(j)+str(k)\n",
    "            if '3' in clock:\n",
    "                #print(clock)\n",
    "                cnt+=1\n",
    "\n",
    "print(cnt)"
   ]
  },
  {
   "cell_type": "markdown",
   "id": "bb82e362",
   "metadata": {},
   "source": [
    "### 2. 왕실의 나이트"
   ]
  },
  {
   "cell_type": "code",
   "execution_count": 3,
   "id": "2f698ff7",
   "metadata": {},
   "outputs": [
    {
     "name": "stdout",
     "output_type": "stream",
     "text": [
      "c2\n",
      "6\n"
     ]
    }
   ],
   "source": [
    "pos=input()\n",
    "col_dict={'a':1,'b':2,'c':3,'d':4,'e':5,'f':6,'g':7,'h':8}\n",
    "x,y =int(pos[1]), col_dict[pos[0]] #현재 위치\n",
    "move_types=[[-1,2],[1,2],[-1,-2],[1,-2],[-2,1],[-2,-1],[2,-1],[2,1]]\n",
    "cnt=0\n",
    "\n",
    "for move in move_types:\n",
    "    nx=x+move[0]\n",
    "    ny=y+move[1]\n",
    "    if (nx<1 or ny<1 or nx>8 or ny>8) : continue\n",
    "    \n",
    "    cnt+=1\n",
    "\n",
    "print(cnt)"
   ]
  },
  {
   "cell_type": "markdown",
   "id": "eaaa8731",
   "metadata": {},
   "source": [
    "### 3. 게임 개발"
   ]
  },
  {
   "cell_type": "code",
   "execution_count": 2,
   "id": "ba335380",
   "metadata": {},
   "outputs": [
    {
     "name": "stdout",
     "output_type": "stream",
     "text": [
      "4 4\n",
      "1 1 0\n",
      "1 1 1 1\n",
      "1 0 0 1\n",
      "1 1 0 1\n",
      "1 1 1 1\n",
      "1 2\n",
      "2 2\n",
      "3\n"
     ]
    }
   ],
   "source": [
    "N,M=map(int, input().split())\n",
    "x,y,d = map(int, input().split())\n",
    "\n",
    "#가본곳 check matrix\n",
    "dir_matrix=[]\n",
    "map_matrix=[]\n",
    "for i in range(N):\n",
    "    map_matrix.append(list(map(int, input().split())))\n",
    "    dir_matrix.append([0]*M)\n",
    "\n",
    "dx=[-1,0,1,0]\n",
    "dy=[0,1,0,-1]\n",
    "nx,ny=0,0\n",
    "cnt=1\n",
    "dir_matrix[x][y]=1 # 현재 좌표 check\n",
    "turn_num=0\n",
    "\n",
    "while(x<N and x>=0 and y<M and y>=0):\n",
    "    d=(d-1)%4 #왼쪽으로 회전\n",
    "    nx=x+dx[d]\n",
    "    ny=y+dy[y]\n",
    "    if(dir_matrix[nx][ny]==0 and map_matrix[nx][ny]==0):\n",
    "        x,y=nx,ny #이동\n",
    "        dir_matrix[nx][ny]=1 #가본 곳 check\n",
    "        turn_num=0 #이동했으니 turn_num 리셋\n",
    "        cnt+=1\n",
    "        print(x,y)\n",
    "        continue\n",
    "    else: \n",
    "        turn_num+=1\n",
    "    \n",
    "    #4방향이 모두 가본칸 또는 모두 바다인경우 \n",
    "    if (turn_num == 4 ):\n",
    "        #현재 방향에서 뒤로 가기\n",
    "        nx=x+dx[(d+2)%4]\n",
    "        ny=y+dy[(d+2)%4]\n",
    "        if (map_matrix[nx][ny]==0 and dir_matrix[nx][ny]==0 ): # 육지고 안가본 곳이여야 뒤로 갈 수 있음\n",
    "            x,y=nx,ny\n",
    "            turn_num=0\n",
    "            cnt+=1 #난 뒤로 갔으니 cnt 추가되야한다고 생각 왜 코드에는 없을까\n",
    "            print(x,y)\n",
    "        else:\n",
    "            turn_num=0 #게임 종료 , turn_num 리셋\n",
    "            break\n",
    "print(cnt)\n",
    "    \n",
    "\n",
    "        \n",
    "    \n",
    "    \n",
    "    \n",
    "    \n",
    "    \n",
    "    \n",
    "    \n",
    "    \n",
    "    \n",
    "\n"
   ]
  },
  {
   "cell_type": "code",
   "execution_count": null,
   "id": "ec27f94a",
   "metadata": {},
   "outputs": [],
   "source": []
  }
 ],
 "metadata": {
  "kernelspec": {
   "display_name": "Python 3 (ipykernel)",
   "language": "python",
   "name": "python3"
  },
  "language_info": {
   "codemirror_mode": {
    "name": "ipython",
    "version": 3
   },
   "file_extension": ".py",
   "mimetype": "text/x-python",
   "name": "python",
   "nbconvert_exporter": "python",
   "pygments_lexer": "ipython3",
   "version": "3.9.12"
  }
 },
 "nbformat": 4,
 "nbformat_minor": 5
}
